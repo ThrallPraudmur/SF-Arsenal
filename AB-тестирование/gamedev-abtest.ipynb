{
 "cells": [
  {
   "cell_type": "markdown",
   "id": "4f79275a",
   "metadata": {},
   "source": [
    "Данные  \n",
    "\n",
    "Игра содержит особое событие – ивент, для прохождения которого пользователи могут тратить деньги. Группа дизайнеров решила поменять **вид окошка покупки ивентовых продуктов.** Чтобы оценить результат нововведения, провели АБ тест, разделив пользователей на две группы: контрольную и тестовую (с окошком нового типа). \n",
    "\n",
    "Задача  \n",
    "Исследовать какая из АБ групп лучше себя показала.\n",
    "Результаты предоставить в понятной для широкой аудитории форме, сопроводив по необходимости графиками/дашбордами/числами.\n",
    "Колонки\n",
    "1. AbGroup – имя АБ группы: Control/Test\n",
    "2. user_id – id пользователя\n",
    "3. time_stamp – день события\n",
    "4. install_date – день установки приложения пользователем\n",
    "5. event_name – техническое название события (InAppPurchase - в случае покупки за деньги, ResourceSpend в случае покупки за игровую валюту)\n",
    "6. platform – платформа google / itunes\n",
    "7. network_name – пользователь установил игру по переходу с рекламы (Paid) или нет (Organic)\n",
    "8. country_name – страна пользователя\n",
    "9. InGameTime – сколько всего пользователь провел в игре секунд\n",
    "10. LastCompletedLevel – номер последнего пройденного уровня\n",
    "11. avg_energy_amount – сколько в среднем энергии было у пользователя за день\n",
    "12. revenue_on_event – ревеню, потраченное на покупку ивентовых продуктов\n",
    "13. revenue_on_other_activities – ревеню, потраченное на остальные продукты, включая золото\n",
    "14. **gold_on_event – золото, потраченное на ивентный прогресс**\n",
    "15. **gold_on_other_activities – золото, потраченное на другие продукты**"
   ]
  },
  {
   "cell_type": "code",
   "execution_count": 1,
   "id": "e30c38e0",
   "metadata": {},
   "outputs": [],
   "source": [
    "import pandas as pd\n",
    "import numpy as np\n",
    "import seaborn as sns\n",
    "import matplotlib.pyplot as plt"
   ]
  },
  {
   "cell_type": "code",
   "execution_count": 43,
   "id": "dcec380f",
   "metadata": {},
   "outputs": [
    {
     "data": {
      "text/html": [
       "<div>\n",
       "<style scoped>\n",
       "    .dataframe tbody tr th:only-of-type {\n",
       "        vertical-align: middle;\n",
       "    }\n",
       "\n",
       "    .dataframe tbody tr th {\n",
       "        vertical-align: top;\n",
       "    }\n",
       "\n",
       "    .dataframe thead th {\n",
       "        text-align: right;\n",
       "    }\n",
       "</style>\n",
       "<table border=\"1\" class=\"dataframe\">\n",
       "  <thead>\n",
       "    <tr style=\"text-align: right;\">\n",
       "      <th></th>\n",
       "      <th>AbGroup</th>\n",
       "      <th>user_id</th>\n",
       "      <th>time_stamp</th>\n",
       "      <th>install_date</th>\n",
       "      <th>event_name</th>\n",
       "      <th>platform</th>\n",
       "      <th>network_name</th>\n",
       "      <th>country_name</th>\n",
       "      <th>InGameTime</th>\n",
       "      <th>LastCompletedLevel</th>\n",
       "      <th>avg_energy_amount</th>\n",
       "      <th>revenue_on_event</th>\n",
       "      <th>revenue_on_other_activities</th>\n",
       "      <th>gold_on_event</th>\n",
       "      <th>gold_on_other_activities</th>\n",
       "    </tr>\n",
       "  </thead>\n",
       "  <tbody>\n",
       "    <tr>\n",
       "      <th>184434</th>\n",
       "      <td>Control</td>\n",
       "      <td>223565d88f13cdbd2888b5260a455a1994109288</td>\n",
       "      <td>2020-03-04</td>\n",
       "      <td>2020-02-29</td>\n",
       "      <td>ResourceSpend</td>\n",
       "      <td>itunes</td>\n",
       "      <td>Organic</td>\n",
       "      <td>United Kingdom of Great Britain and Northern I...</td>\n",
       "      <td>9046</td>\n",
       "      <td>16</td>\n",
       "      <td>70.0</td>\n",
       "      <td>0.0</td>\n",
       "      <td>0.0</td>\n",
       "      <td>NaN</td>\n",
       "      <td>NaN</td>\n",
       "    </tr>\n",
       "    <tr>\n",
       "      <th>105707</th>\n",
       "      <td>Control</td>\n",
       "      <td>b19cb9ea123206f12147ef15df682eab91b602c7</td>\n",
       "      <td>2020-02-26</td>\n",
       "      <td>2018-11-20</td>\n",
       "      <td>ResourceSpend</td>\n",
       "      <td>itunes</td>\n",
       "      <td>Organic</td>\n",
       "      <td>France</td>\n",
       "      <td>444934</td>\n",
       "      <td>1134</td>\n",
       "      <td>29.0</td>\n",
       "      <td>0.0</td>\n",
       "      <td>0.0</td>\n",
       "      <td>NaN</td>\n",
       "      <td>NaN</td>\n",
       "    </tr>\n",
       "    <tr>\n",
       "      <th>263271</th>\n",
       "      <td>Test</td>\n",
       "      <td>e1b5e4612228d2bfd06a368e560f73ba2f89885e</td>\n",
       "      <td>2020-02-16</td>\n",
       "      <td>2020-02-16</td>\n",
       "      <td>ResourceSpend</td>\n",
       "      <td>itunes</td>\n",
       "      <td>Organic</td>\n",
       "      <td>United Kingdom of Great Britain and Northern I...</td>\n",
       "      <td>9405</td>\n",
       "      <td>13</td>\n",
       "      <td>73.0</td>\n",
       "      <td>0.0</td>\n",
       "      <td>0.0</td>\n",
       "      <td>NaN</td>\n",
       "      <td>NaN</td>\n",
       "    </tr>\n",
       "  </tbody>\n",
       "</table>\n",
       "</div>"
      ],
      "text/plain": [
       "        AbGroup                                   user_id  time_stamp  \\\n",
       "184434  Control  223565d88f13cdbd2888b5260a455a1994109288  2020-03-04   \n",
       "105707  Control  b19cb9ea123206f12147ef15df682eab91b602c7  2020-02-26   \n",
       "263271     Test  e1b5e4612228d2bfd06a368e560f73ba2f89885e  2020-02-16   \n",
       "\n",
       "       install_date     event_name platform network_name  \\\n",
       "184434   2020-02-29  ResourceSpend   itunes      Organic   \n",
       "105707   2018-11-20  ResourceSpend   itunes      Organic   \n",
       "263271   2020-02-16  ResourceSpend   itunes      Organic   \n",
       "\n",
       "                                             country_name  InGameTime  \\\n",
       "184434  United Kingdom of Great Britain and Northern I...        9046   \n",
       "105707                                             France      444934   \n",
       "263271  United Kingdom of Great Britain and Northern I...        9405   \n",
       "\n",
       "        LastCompletedLevel  avg_energy_amount  revenue_on_event  \\\n",
       "184434                  16               70.0               0.0   \n",
       "105707                1134               29.0               0.0   \n",
       "263271                  13               73.0               0.0   \n",
       "\n",
       "        revenue_on_other_activities  gold_on_event  gold_on_other_activities  \n",
       "184434                          0.0            NaN                       NaN  \n",
       "105707                          0.0            NaN                       NaN  \n",
       "263271                          0.0            NaN                       NaN  "
      ]
     },
     "execution_count": 43,
     "metadata": {},
     "output_type": "execute_result"
    }
   ],
   "source": [
    "df = pd.read_csv('test_task_product_analyst_2021_20210427.csv')\n",
    "df.sample(3)"
   ]
  },
  {
   "cell_type": "code",
   "execution_count": 4,
   "id": "af6d8d05",
   "metadata": {},
   "outputs": [
    {
     "name": "stdout",
     "output_type": "stream",
     "text": [
      "<class 'pandas.core.frame.DataFrame'>\n",
      "RangeIndex: 696840 entries, 0 to 696839\n",
      "Data columns (total 15 columns):\n",
      " #   Column                       Non-Null Count   Dtype  \n",
      "---  ------                       --------------   -----  \n",
      " 0   AbGroup                      696840 non-null  object \n",
      " 1   user_id                      696840 non-null  object \n",
      " 2   time_stamp                   696840 non-null  object \n",
      " 3   install_date                 696840 non-null  object \n",
      " 4   event_name                   696840 non-null  object \n",
      " 5   platform                     696840 non-null  object \n",
      " 6   network_name                 696840 non-null  object \n",
      " 7   country_name                 696840 non-null  object \n",
      " 8   InGameTime                   696840 non-null  int64  \n",
      " 9   LastCompletedLevel           696840 non-null  int64  \n",
      " 10  avg_energy_amount            696840 non-null  float64\n",
      " 11  revenue_on_event             696840 non-null  float64\n",
      " 12  revenue_on_other_activities  696840 non-null  float64\n",
      " 13  gold_on_event                45412 non-null   float64\n",
      " 14  gold_on_other_activities     168193 non-null  float64\n",
      "dtypes: float64(5), int64(2), object(8)\n",
      "memory usage: 79.7+ MB\n"
     ]
    }
   ],
   "source": [
    "df.info()"
   ]
  },
  {
   "cell_type": "code",
   "execution_count": 5,
   "id": "056f409b",
   "metadata": {},
   "outputs": [
    {
     "data": {
      "text/plain": [
       "Control    558070\n",
       "Test       138770\n",
       "Name: AbGroup, dtype: int64"
      ]
     },
     "execution_count": 5,
     "metadata": {},
     "output_type": "execute_result"
    }
   ],
   "source": [
    "df['AbGroup'].value_counts()"
   ]
  },
  {
   "cell_type": "code",
   "execution_count": 6,
   "id": "a5fbade5",
   "metadata": {},
   "outputs": [
    {
     "data": {
      "text/plain": [
       "Control    0.800858\n",
       "Test       0.199142\n",
       "Name: AbGroup, dtype: float64"
      ]
     },
     "execution_count": 6,
     "metadata": {},
     "output_type": "execute_result"
    }
   ],
   "source": [
    "df['AbGroup'].value_counts(normalize=True)"
   ]
  },
  {
   "cell_type": "markdown",
   "id": "db7a62ad",
   "metadata": {},
   "source": [
    "Новую идею боятся сразу проверять на большой выборке пользователей."
   ]
  },
  {
   "cell_type": "code",
   "execution_count": 10,
   "id": "7fc26c08",
   "metadata": {},
   "outputs": [
    {
     "data": {
      "text/html": [
       "<div>\n",
       "<style scoped>\n",
       "    .dataframe tbody tr th:only-of-type {\n",
       "        vertical-align: middle;\n",
       "    }\n",
       "\n",
       "    .dataframe tbody tr th {\n",
       "        vertical-align: top;\n",
       "    }\n",
       "\n",
       "    .dataframe thead tr th {\n",
       "        text-align: left;\n",
       "    }\n",
       "\n",
       "    .dataframe thead tr:last-of-type th {\n",
       "        text-align: right;\n",
       "    }\n",
       "</style>\n",
       "<table border=\"1\" class=\"dataframe\">\n",
       "  <thead>\n",
       "    <tr>\n",
       "      <th></th>\n",
       "      <th colspan=\"2\" halign=\"left\">user_id</th>\n",
       "    </tr>\n",
       "    <tr>\n",
       "      <th></th>\n",
       "      <th>count</th>\n",
       "      <th>nunique</th>\n",
       "    </tr>\n",
       "    <tr>\n",
       "      <th>AbGroup</th>\n",
       "      <th></th>\n",
       "      <th></th>\n",
       "    </tr>\n",
       "  </thead>\n",
       "  <tbody>\n",
       "    <tr>\n",
       "      <th>Control</th>\n",
       "      <td>558070</td>\n",
       "      <td>89034</td>\n",
       "    </tr>\n",
       "    <tr>\n",
       "      <th>Test</th>\n",
       "      <td>138770</td>\n",
       "      <td>22278</td>\n",
       "    </tr>\n",
       "  </tbody>\n",
       "</table>\n",
       "</div>"
      ],
      "text/plain": [
       "        user_id        \n",
       "          count nunique\n",
       "AbGroup                \n",
       "Control  558070   89034\n",
       "Test     138770   22278"
      ]
     },
     "execution_count": 10,
     "metadata": {},
     "output_type": "execute_result"
    }
   ],
   "source": [
    "df.groupby('AbGroup').agg({'user_id': ['count', 'nunique']})"
   ]
  },
  {
   "cell_type": "code",
   "execution_count": 11,
   "id": "f9a51094",
   "metadata": {},
   "outputs": [
    {
     "data": {
      "text/html": [
       "<div>\n",
       "<style scoped>\n",
       "    .dataframe tbody tr th:only-of-type {\n",
       "        vertical-align: middle;\n",
       "    }\n",
       "\n",
       "    .dataframe tbody tr th {\n",
       "        vertical-align: top;\n",
       "    }\n",
       "\n",
       "    .dataframe thead th {\n",
       "        text-align: right;\n",
       "    }\n",
       "</style>\n",
       "<table border=\"1\" class=\"dataframe\">\n",
       "  <thead>\n",
       "    <tr style=\"text-align: right;\">\n",
       "      <th></th>\n",
       "      <th>count</th>\n",
       "      <th>nunique</th>\n",
       "    </tr>\n",
       "    <tr>\n",
       "      <th>AbGroup</th>\n",
       "      <th></th>\n",
       "      <th></th>\n",
       "    </tr>\n",
       "  </thead>\n",
       "  <tbody>\n",
       "    <tr>\n",
       "      <th>Control</th>\n",
       "      <td>558070</td>\n",
       "      <td>89034</td>\n",
       "    </tr>\n",
       "    <tr>\n",
       "      <th>Test</th>\n",
       "      <td>138770</td>\n",
       "      <td>22278</td>\n",
       "    </tr>\n",
       "  </tbody>\n",
       "</table>\n",
       "</div>"
      ],
      "text/plain": [
       "          count  nunique\n",
       "AbGroup                 \n",
       "Control  558070    89034\n",
       "Test     138770    22278"
      ]
     },
     "execution_count": 11,
     "metadata": {},
     "output_type": "execute_result"
    }
   ],
   "source": [
    "df.groupby('AbGroup')['user_id'].agg(['count', 'nunique'])"
   ]
  },
  {
   "cell_type": "code",
   "execution_count": 12,
   "id": "313778d8",
   "metadata": {},
   "outputs": [
    {
     "data": {
      "text/html": [
       "<div>\n",
       "<style scoped>\n",
       "    .dataframe tbody tr th:only-of-type {\n",
       "        vertical-align: middle;\n",
       "    }\n",
       "\n",
       "    .dataframe tbody tr th {\n",
       "        vertical-align: top;\n",
       "    }\n",
       "\n",
       "    .dataframe thead th {\n",
       "        text-align: right;\n",
       "    }\n",
       "</style>\n",
       "<table border=\"1\" class=\"dataframe\">\n",
       "  <thead>\n",
       "    <tr style=\"text-align: right;\">\n",
       "      <th></th>\n",
       "      <th>AbGroup</th>\n",
       "      <th>user_id</th>\n",
       "      <th>time_stamp</th>\n",
       "      <th>install_date</th>\n",
       "      <th>event_name</th>\n",
       "      <th>platform</th>\n",
       "      <th>network_name</th>\n",
       "      <th>country_name</th>\n",
       "      <th>InGameTime</th>\n",
       "      <th>LastCompletedLevel</th>\n",
       "      <th>avg_energy_amount</th>\n",
       "      <th>revenue_on_event</th>\n",
       "      <th>revenue_on_other_activities</th>\n",
       "      <th>gold_on_event</th>\n",
       "      <th>gold_on_other_activities</th>\n",
       "    </tr>\n",
       "  </thead>\n",
       "  <tbody>\n",
       "    <tr>\n",
       "      <th>0</th>\n",
       "      <td>Control</td>\n",
       "      <td>d60ebcaecff2dc1d360a8a41271e6fd8a902c107</td>\n",
       "      <td>2020-02-10</td>\n",
       "      <td>2019-11-10</td>\n",
       "      <td>ResourceSpend</td>\n",
       "      <td>itunes</td>\n",
       "      <td>Organic</td>\n",
       "      <td>United Kingdom of Great Britain and Northern I...</td>\n",
       "      <td>276180</td>\n",
       "      <td>345</td>\n",
       "      <td>54.0</td>\n",
       "      <td>0.0</td>\n",
       "      <td>0.0</td>\n",
       "      <td>NaN</td>\n",
       "      <td>NaN</td>\n",
       "    </tr>\n",
       "    <tr>\n",
       "      <th>1</th>\n",
       "      <td>Test</td>\n",
       "      <td>f6e385b0ab43d5aea9cfcc408aa84029a4ea5fdb</td>\n",
       "      <td>2020-03-04</td>\n",
       "      <td>2019-11-05</td>\n",
       "      <td>ResourceSpend</td>\n",
       "      <td>itunes</td>\n",
       "      <td>Paid</td>\n",
       "      <td>United States of America</td>\n",
       "      <td>166095</td>\n",
       "      <td>199</td>\n",
       "      <td>50.0</td>\n",
       "      <td>0.0</td>\n",
       "      <td>0.0</td>\n",
       "      <td>NaN</td>\n",
       "      <td>NaN</td>\n",
       "    </tr>\n",
       "    <tr>\n",
       "      <th>2</th>\n",
       "      <td>Control</td>\n",
       "      <td>a4c80c8524e2c11cc238553d7b02da01ce2aad66</td>\n",
       "      <td>2020-02-26</td>\n",
       "      <td>2020-01-02</td>\n",
       "      <td>ResourceSpend</td>\n",
       "      <td>itunes</td>\n",
       "      <td>Paid</td>\n",
       "      <td>Canada</td>\n",
       "      <td>240986</td>\n",
       "      <td>84</td>\n",
       "      <td>39.0</td>\n",
       "      <td>0.0</td>\n",
       "      <td>0.0</td>\n",
       "      <td>NaN</td>\n",
       "      <td>NaN</td>\n",
       "    </tr>\n",
       "    <tr>\n",
       "      <th>3</th>\n",
       "      <td>Control</td>\n",
       "      <td>7ea2e4599ae33760c307e254839317bd5b17a63c</td>\n",
       "      <td>2020-02-21</td>\n",
       "      <td>2020-01-13</td>\n",
       "      <td>ResourceSpend</td>\n",
       "      <td>itunes</td>\n",
       "      <td>Organic</td>\n",
       "      <td>France</td>\n",
       "      <td>989822</td>\n",
       "      <td>1176</td>\n",
       "      <td>21.0</td>\n",
       "      <td>0.0</td>\n",
       "      <td>0.0</td>\n",
       "      <td>NaN</td>\n",
       "      <td>NaN</td>\n",
       "    </tr>\n",
       "    <tr>\n",
       "      <th>4</th>\n",
       "      <td>Control</td>\n",
       "      <td>6495168982929360dc6d84bf0766d8963a7ddc41</td>\n",
       "      <td>2020-02-18</td>\n",
       "      <td>2020-02-05</td>\n",
       "      <td>ResourceSpend</td>\n",
       "      <td>itunes</td>\n",
       "      <td>Paid</td>\n",
       "      <td>Spain</td>\n",
       "      <td>52106</td>\n",
       "      <td>66</td>\n",
       "      <td>43.0</td>\n",
       "      <td>0.0</td>\n",
       "      <td>0.0</td>\n",
       "      <td>500.0</td>\n",
       "      <td>NaN</td>\n",
       "    </tr>\n",
       "  </tbody>\n",
       "</table>\n",
       "</div>"
      ],
      "text/plain": [
       "   AbGroup                                   user_id  time_stamp install_date  \\\n",
       "0  Control  d60ebcaecff2dc1d360a8a41271e6fd8a902c107  2020-02-10   2019-11-10   \n",
       "1     Test  f6e385b0ab43d5aea9cfcc408aa84029a4ea5fdb  2020-03-04   2019-11-05   \n",
       "2  Control  a4c80c8524e2c11cc238553d7b02da01ce2aad66  2020-02-26   2020-01-02   \n",
       "3  Control  7ea2e4599ae33760c307e254839317bd5b17a63c  2020-02-21   2020-01-13   \n",
       "4  Control  6495168982929360dc6d84bf0766d8963a7ddc41  2020-02-18   2020-02-05   \n",
       "\n",
       "      event_name platform network_name  \\\n",
       "0  ResourceSpend   itunes      Organic   \n",
       "1  ResourceSpend   itunes         Paid   \n",
       "2  ResourceSpend   itunes         Paid   \n",
       "3  ResourceSpend   itunes      Organic   \n",
       "4  ResourceSpend   itunes         Paid   \n",
       "\n",
       "                                        country_name  InGameTime  \\\n",
       "0  United Kingdom of Great Britain and Northern I...      276180   \n",
       "1                           United States of America      166095   \n",
       "2                                             Canada      240986   \n",
       "3                                             France      989822   \n",
       "4                                              Spain       52106   \n",
       "\n",
       "   LastCompletedLevel  avg_energy_amount  revenue_on_event  \\\n",
       "0                 345               54.0               0.0   \n",
       "1                 199               50.0               0.0   \n",
       "2                  84               39.0               0.0   \n",
       "3                1176               21.0               0.0   \n",
       "4                  66               43.0               0.0   \n",
       "\n",
       "   revenue_on_other_activities  gold_on_event  gold_on_other_activities  \n",
       "0                          0.0            NaN                       NaN  \n",
       "1                          0.0            NaN                       NaN  \n",
       "2                          0.0            NaN                       NaN  \n",
       "3                          0.0            NaN                       NaN  \n",
       "4                          0.0          500.0                       NaN  "
      ]
     },
     "execution_count": 12,
     "metadata": {},
     "output_type": "execute_result"
    }
   ],
   "source": [
    "df.head()"
   ]
  },
  {
   "cell_type": "code",
   "execution_count": 13,
   "id": "200f92ce",
   "metadata": {},
   "outputs": [],
   "source": [
    "df['time_stamp'] = pd.to_datetime(df['time_stamp'], format = '%Y-%m-%d')"
   ]
  },
  {
   "cell_type": "code",
   "execution_count": 15,
   "id": "9687b2aa",
   "metadata": {},
   "outputs": [
    {
     "data": {
      "text/plain": [
       "<AxesSubplot:xlabel='time_stamp'>"
      ]
     },
     "execution_count": 15,
     "metadata": {},
     "output_type": "execute_result"
    },
    {
     "data": {
      "image/png": "[encoded data removed]",
      "text/plain": [
       "<Figure size 432x288 with 1 Axes>"
      ]
     },
     "metadata": {
      "needs_background": "light"
     },
     "output_type": "display_data"
    }
   ],
   "source": [
    "df.groupby('time_stamp')['user_id'].count().plot()"
   ]
  },
  {
   "cell_type": "code",
   "execution_count": 16,
   "id": "5ea673a2",
   "metadata": {},
   "outputs": [
    {
     "data": {
      "text/plain": [
       "<AxesSubplot:xlabel='time_stamp'>"
      ]
     },
     "execution_count": 16,
     "metadata": {},
     "output_type": "execute_result"
    },
    {
     "data": {
      "image/png": "[encoded data removed]",
      "text/plain": [
       "<Figure size 432x288 with 1 Axes>"
      ]
     },
     "metadata": {
      "needs_background": "light"
     },
     "output_type": "display_data"
    }
   ],
   "source": [
    "df.groupby('time_stamp')['user_id'].nunique().plot()"
   ]
  },
  {
   "cell_type": "markdown",
   "id": "7ef9a9fa",
   "metadata": {},
   "source": [
    "* Данж для этого события только раз в сутки на игрока\n",
    "* Данные о platform, network_name, country_name даны, **чтобы проверить сбалансированность train и test**\n",
    "* **revenue_on_other_activities** - это побочный эффект. Мы можем оценивать нововведение не только по его прямому назначению, но мы должны также смотреть на побочные эффекты (плохие или хорошие), которые оно создаёт"
   ]
  },
  {
   "cell_type": "code",
   "execution_count": 17,
   "id": "859ab22f",
   "metadata": {},
   "outputs": [
    {
     "data": {
      "text/plain": [
       "0.0    696840\n",
       "Name: revenue_on_event, dtype: int64"
      ]
     },
     "execution_count": 17,
     "metadata": {},
     "output_type": "execute_result"
    }
   ],
   "source": [
    "df['revenue_on_event'].value_counts()"
   ]
  },
  {
   "cell_type": "code",
   "execution_count": 18,
   "id": "40c10ef1",
   "metadata": {},
   "outputs": [
    {
     "data": {
      "text/plain": [
       "count    696840.0\n",
       "mean          0.0\n",
       "std           0.0\n",
       "min           0.0\n",
       "25%           0.0\n",
       "50%           0.0\n",
       "75%           0.0\n",
       "max           0.0\n",
       "Name: revenue_on_event, dtype: float64"
      ]
     },
     "execution_count": 18,
     "metadata": {},
     "output_type": "execute_result"
    }
   ],
   "source": [
    "df['revenue_on_event'].describe()"
   ]
  },
  {
   "cell_type": "code",
   "execution_count": 20,
   "id": "f1f07d66",
   "metadata": {},
   "outputs": [
    {
     "data": {
      "text/plain": [
       "0.0    696840\n",
       "Name: revenue_on_other_activities, dtype: int64"
      ]
     },
     "execution_count": 20,
     "metadata": {},
     "output_type": "execute_result"
    }
   ],
   "source": [
    "df['revenue_on_other_activities'].value_counts()"
   ]
  },
  {
   "cell_type": "code",
   "execution_count": 21,
   "id": "82fcc567",
   "metadata": {},
   "outputs": [
    {
     "data": {
      "text/plain": [
       "count     45412.000000\n",
       "mean       1992.865322\n",
       "std        3895.541280\n",
       "min         500.000000\n",
       "25%         500.000000\n",
       "50%        1000.000000\n",
       "75%        2400.000000\n",
       "max      189600.000000\n",
       "Name: gold_on_event, dtype: float64"
      ]
     },
     "execution_count": 21,
     "metadata": {},
     "output_type": "execute_result"
    }
   ],
   "source": [
    "df['gold_on_event'].describe()"
   ]
  },
  {
   "cell_type": "code",
   "execution_count": 22,
   "id": "745a5cfc",
   "metadata": {},
   "outputs": [
    {
     "data": {
      "text/plain": [
       "count    168193.000000\n",
       "mean        936.481899\n",
       "std        3522.989145\n",
       "min         100.000000\n",
       "25%         500.000000\n",
       "50%         600.000000\n",
       "75%        1000.000000\n",
       "max      755950.000000\n",
       "Name: gold_on_other_activities, dtype: float64"
      ]
     },
     "execution_count": 22,
     "metadata": {},
     "output_type": "execute_result"
    }
   ],
   "source": [
    "df['gold_on_other_activities'].describe()"
   ]
  },
  {
   "cell_type": "code",
   "execution_count": 40,
   "id": "257861cc",
   "metadata": {},
   "outputs": [
    {
     "data": {
      "image/png": "[encoded data removed]",
      "text/plain": [
       "<Figure size 432x288 with 1 Axes>"
      ]
     },
     "metadata": {
      "needs_background": "light"
     },
     "output_type": "display_data"
    }
   ],
   "source": [
    "sns.distplot(df['gold_on_event'], kde=False, bins=100)\n",
    "plt.show()"
   ]
  },
  {
   "cell_type": "markdown",
   "id": "9d101d02",
   "metadata": {},
   "source": [
    "Распределение с жирным хвостом. </br>\n",
    "Статистика в классическом виде на жирном хвосте практически бесполезна. Сравнивать средние при таком распределении - плохая идея в принципе."
   ]
  },
  {
   "cell_type": "code",
   "execution_count": 45,
   "id": "ce1d6878",
   "metadata": {},
   "outputs": [],
   "source": [
    "df['gold_on_event_flag'] = (df['gold_on_event'] > 0) * 1\n",
    "df['gold_on_other_activities_flag'] = (df['gold_on_other_activities'] > 0) * 1"
   ]
  },
  {
   "cell_type": "markdown",
   "id": "42cf0232",
   "metadata": {},
   "source": [
    "Когда мы работаем с бинарной переменной, мы можем посмотреть на конверсию, не боясь распределения с жирным хвостом."
   ]
  },
  {
   "cell_type": "code",
   "execution_count": 11,
   "id": "38aa67bc",
   "metadata": {},
   "outputs": [
    {
     "data": {
      "text/html": [
       "<div>\n",
       "<style scoped>\n",
       "    .dataframe tbody tr th:only-of-type {\n",
       "        vertical-align: middle;\n",
       "    }\n",
       "\n",
       "    .dataframe tbody tr th {\n",
       "        vertical-align: top;\n",
       "    }\n",
       "\n",
       "    .dataframe thead th {\n",
       "        text-align: right;\n",
       "    }\n",
       "</style>\n",
       "<table border=\"1\" class=\"dataframe\">\n",
       "  <thead>\n",
       "    <tr style=\"text-align: right;\">\n",
       "      <th></th>\n",
       "      <th>count</th>\n",
       "      <th>mean</th>\n",
       "    </tr>\n",
       "    <tr>\n",
       "      <th>AbGroup</th>\n",
       "      <th></th>\n",
       "      <th></th>\n",
       "    </tr>\n",
       "  </thead>\n",
       "  <tbody>\n",
       "    <tr>\n",
       "      <th>Control</th>\n",
       "      <td>558070</td>\n",
       "      <td>0.06523</td>\n",
       "    </tr>\n",
       "    <tr>\n",
       "      <th>Test</th>\n",
       "      <td>138770</td>\n",
       "      <td>0.06492</td>\n",
       "    </tr>\n",
       "  </tbody>\n",
       "</table>\n",
       "</div>"
      ],
      "text/plain": [
       "          count     mean\n",
       "AbGroup                 \n",
       "Control  558070  0.06523\n",
       "Test     138770  0.06492"
      ]
     },
     "execution_count": 11,
     "metadata": {},
     "output_type": "execute_result"
    }
   ],
   "source": [
    "df.groupby(['AbGroup'])['gold_on_event_flag'].agg(['count', 'mean'])"
   ]
  },
  {
   "cell_type": "code",
   "execution_count": 22,
   "id": "0e2ac46e",
   "metadata": {},
   "outputs": [
    {
     "data": {
      "text/html": [
       "<div>\n",
       "<style scoped>\n",
       "    .dataframe tbody tr th:only-of-type {\n",
       "        vertical-align: middle;\n",
       "    }\n",
       "\n",
       "    .dataframe tbody tr th {\n",
       "        vertical-align: top;\n",
       "    }\n",
       "\n",
       "    .dataframe thead tr th {\n",
       "        text-align: left;\n",
       "    }\n",
       "\n",
       "    .dataframe thead tr:last-of-type th {\n",
       "        text-align: right;\n",
       "    }\n",
       "</style>\n",
       "<table border=\"1\" class=\"dataframe\">\n",
       "  <thead>\n",
       "    <tr>\n",
       "      <th></th>\n",
       "      <th colspan=\"2\" halign=\"left\">gold_on_event_flag</th>\n",
       "      <th colspan=\"2\" halign=\"left\">gold_on_event</th>\n",
       "    </tr>\n",
       "    <tr>\n",
       "      <th></th>\n",
       "      <th>count</th>\n",
       "      <th>mean</th>\n",
       "      <th>mean</th>\n",
       "      <th>median</th>\n",
       "    </tr>\n",
       "    <tr>\n",
       "      <th>AbGroup</th>\n",
       "      <th></th>\n",
       "      <th></th>\n",
       "      <th></th>\n",
       "      <th></th>\n",
       "    </tr>\n",
       "  </thead>\n",
       "  <tbody>\n",
       "    <tr>\n",
       "      <th>Control</th>\n",
       "      <td>558070</td>\n",
       "      <td>0.06523</td>\n",
       "      <td>1965.211658</td>\n",
       "      <td>1000.0</td>\n",
       "    </tr>\n",
       "    <tr>\n",
       "      <th>Test</th>\n",
       "      <td>138770</td>\n",
       "      <td>0.06492</td>\n",
       "      <td>2104.606505</td>\n",
       "      <td>1500.0</td>\n",
       "    </tr>\n",
       "  </tbody>\n",
       "</table>\n",
       "</div>"
      ],
      "text/plain": [
       "        gold_on_event_flag          gold_on_event        \n",
       "                     count     mean          mean  median\n",
       "AbGroup                                                  \n",
       "Control             558070  0.06523   1965.211658  1000.0\n",
       "Test                138770  0.06492   2104.606505  1500.0"
      ]
     },
     "execution_count": 22,
     "metadata": {},
     "output_type": "execute_result"
    }
   ],
   "source": [
    "(df.groupby(['AbGroup'])\n",
    "[['gold_on_event_flag', 'gold_on_event']].\n",
    "agg({'gold_on_event_flag': ['count', 'mean'],\n",
    "     'gold_on_event': ['mean', 'median']}))"
   ]
  },
  {
   "cell_type": "markdown",
   "id": "74c3b397",
   "metadata": {},
   "source": [
    "Мы можем сделать анализ на Пользователя."
   ]
  },
  {
   "cell_type": "code",
   "execution_count": 26,
   "id": "67489941",
   "metadata": {},
   "outputs": [
    {
     "data": {
      "text/html": [
       "<div>\n",
       "<style scoped>\n",
       "    .dataframe tbody tr th:only-of-type {\n",
       "        vertical-align: middle;\n",
       "    }\n",
       "\n",
       "    .dataframe tbody tr th {\n",
       "        vertical-align: top;\n",
       "    }\n",
       "\n",
       "    .dataframe thead th {\n",
       "        text-align: right;\n",
       "    }\n",
       "</style>\n",
       "<table border=\"1\" class=\"dataframe\">\n",
       "  <thead>\n",
       "    <tr style=\"text-align: right;\">\n",
       "      <th></th>\n",
       "      <th>user_id</th>\n",
       "      <th>AbGroup</th>\n",
       "    </tr>\n",
       "  </thead>\n",
       "  <tbody>\n",
       "    <tr>\n",
       "      <th>202</th>\n",
       "      <td>007a61c7cc84aa559280c6d222aa3e15cb5e0114</td>\n",
       "      <td>2</td>\n",
       "    </tr>\n",
       "    <tr>\n",
       "      <th>208</th>\n",
       "      <td>007c891d5eb34c1398966a836d74a123452384de</td>\n",
       "      <td>2</td>\n",
       "    </tr>\n",
       "    <tr>\n",
       "      <th>895</th>\n",
       "      <td>02125379d8faf43debf755edfb32758ea5d789d8</td>\n",
       "      <td>2</td>\n",
       "    </tr>\n",
       "    <tr>\n",
       "      <th>1097</th>\n",
       "      <td>028e3fc09324ac6df71fccf432dabe44e476956c</td>\n",
       "      <td>2</td>\n",
       "    </tr>\n",
       "    <tr>\n",
       "      <th>1107</th>\n",
       "      <td>02977b73d35305fc135ea01bfcc9e1aa334d480a</td>\n",
       "      <td>2</td>\n",
       "    </tr>\n",
       "    <tr>\n",
       "      <th>...</th>\n",
       "      <td>...</td>\n",
       "      <td>...</td>\n",
       "    </tr>\n",
       "    <tr>\n",
       "      <th>110097</th>\n",
       "      <td>fe08c305b0317eecc6b5cf3cc5362fc912afdc0b</td>\n",
       "      <td>2</td>\n",
       "    </tr>\n",
       "    <tr>\n",
       "      <th>110362</th>\n",
       "      <td>fea60891a7ef95c7b95a0b1e58cb9d755684b3de</td>\n",
       "      <td>2</td>\n",
       "    </tr>\n",
       "    <tr>\n",
       "      <th>110480</th>\n",
       "      <td>fef449646b98d04def88b9ddb45e7c43bd9a278a</td>\n",
       "      <td>2</td>\n",
       "    </tr>\n",
       "    <tr>\n",
       "      <th>110515</th>\n",
       "      <td>ff079e7288b379b4e47650da302a5cc23e8c7ad3</td>\n",
       "      <td>2</td>\n",
       "    </tr>\n",
       "    <tr>\n",
       "      <th>110746</th>\n",
       "      <td>ff816e78735bba9ef1d63f46e4614754e2aaeff6</td>\n",
       "      <td>2</td>\n",
       "    </tr>\n",
       "  </tbody>\n",
       "</table>\n",
       "<p>352 rows × 2 columns</p>\n",
       "</div>"
      ],
      "text/plain": [
       "                                         user_id  AbGroup\n",
       "202     007a61c7cc84aa559280c6d222aa3e15cb5e0114        2\n",
       "208     007c891d5eb34c1398966a836d74a123452384de        2\n",
       "895     02125379d8faf43debf755edfb32758ea5d789d8        2\n",
       "1097    028e3fc09324ac6df71fccf432dabe44e476956c        2\n",
       "1107    02977b73d35305fc135ea01bfcc9e1aa334d480a        2\n",
       "...                                          ...      ...\n",
       "110097  fe08c305b0317eecc6b5cf3cc5362fc912afdc0b        2\n",
       "110362  fea60891a7ef95c7b95a0b1e58cb9d755684b3de        2\n",
       "110480  fef449646b98d04def88b9ddb45e7c43bd9a278a        2\n",
       "110515  ff079e7288b379b4e47650da302a5cc23e8c7ad3        2\n",
       "110746  ff816e78735bba9ef1d63f46e4614754e2aaeff6        2\n",
       "\n",
       "[352 rows x 2 columns]"
      ]
     },
     "execution_count": 26,
     "metadata": {},
     "output_type": "execute_result"
    }
   ],
   "source": [
    "#ДЛЯ КАЖДОГО ПОЛЬЗОВАТЕЛЯ ПОСЧИТАЛИ УНИКАЛЬНОЕ КОЛИЧЕСТВО ЗНАЧЕНИЯ В ПОЛЕ AbGroup\n",
    "t = df.groupby(['user_id'])['AbGroup'].nunique().reset_index()\n",
    "t[t['AbGroup'] > 1]"
   ]
  },
  {
   "cell_type": "code",
   "execution_count": 29,
   "id": "6a3ad717",
   "metadata": {},
   "outputs": [
    {
     "data": {
      "text/html": [
       "<div>\n",
       "<style scoped>\n",
       "    .dataframe tbody tr th:only-of-type {\n",
       "        vertical-align: middle;\n",
       "    }\n",
       "\n",
       "    .dataframe tbody tr th {\n",
       "        vertical-align: top;\n",
       "    }\n",
       "\n",
       "    .dataframe thead tr th {\n",
       "        text-align: left;\n",
       "    }\n",
       "\n",
       "    .dataframe thead tr:last-of-type th {\n",
       "        text-align: right;\n",
       "    }\n",
       "</style>\n",
       "<table border=\"1\" class=\"dataframe\">\n",
       "  <thead>\n",
       "    <tr>\n",
       "      <th></th>\n",
       "      <th></th>\n",
       "      <th colspan=\"2\" halign=\"left\">gold_on_event_flag</th>\n",
       "      <th colspan=\"2\" halign=\"left\">gold_on_event</th>\n",
       "    </tr>\n",
       "    <tr>\n",
       "      <th></th>\n",
       "      <th></th>\n",
       "      <th>count</th>\n",
       "      <th>mean</th>\n",
       "      <th>mean</th>\n",
       "      <th>median</th>\n",
       "    </tr>\n",
       "    <tr>\n",
       "      <th>user_id</th>\n",
       "      <th>AbGroup</th>\n",
       "      <th></th>\n",
       "      <th></th>\n",
       "      <th></th>\n",
       "      <th></th>\n",
       "    </tr>\n",
       "  </thead>\n",
       "  <tbody>\n",
       "    <tr>\n",
       "      <th>00000d6d79ec151d74c5b0c0705d9d9fe252fe83</th>\n",
       "      <th>Control</th>\n",
       "      <td>2</td>\n",
       "      <td>0.000000</td>\n",
       "      <td>NaN</td>\n",
       "      <td>NaN</td>\n",
       "    </tr>\n",
       "    <tr>\n",
       "      <th>000133682d2dcd90c1a9c8ca5e34a294f31af64f</th>\n",
       "      <th>Control</th>\n",
       "      <td>19</td>\n",
       "      <td>0.105263</td>\n",
       "      <td>1250.0</td>\n",
       "      <td>1250.0</td>\n",
       "    </tr>\n",
       "    <tr>\n",
       "      <th>0001f13b0535b174bc7e36a1846c31c7a091c4b0</th>\n",
       "      <th>Control</th>\n",
       "      <td>11</td>\n",
       "      <td>0.000000</td>\n",
       "      <td>NaN</td>\n",
       "      <td>NaN</td>\n",
       "    </tr>\n",
       "    <tr>\n",
       "      <th>00021d57aced59fbfaf63ba620afada82fc06ca8</th>\n",
       "      <th>Test</th>\n",
       "      <td>13</td>\n",
       "      <td>0.000000</td>\n",
       "      <td>NaN</td>\n",
       "      <td>NaN</td>\n",
       "    </tr>\n",
       "    <tr>\n",
       "      <th>00027b7d34e10c17bfd4f76aa626403a2c5d1044</th>\n",
       "      <th>Test</th>\n",
       "      <td>7</td>\n",
       "      <td>0.000000</td>\n",
       "      <td>NaN</td>\n",
       "      <td>NaN</td>\n",
       "    </tr>\n",
       "    <tr>\n",
       "      <th>...</th>\n",
       "      <th>...</th>\n",
       "      <td>...</td>\n",
       "      <td>...</td>\n",
       "      <td>...</td>\n",
       "      <td>...</td>\n",
       "    </tr>\n",
       "    <tr>\n",
       "      <th>fffea25b3877c861a4ebaa00e8fb9c5b96672e00</th>\n",
       "      <th>Control</th>\n",
       "      <td>1</td>\n",
       "      <td>0.000000</td>\n",
       "      <td>NaN</td>\n",
       "      <td>NaN</td>\n",
       "    </tr>\n",
       "    <tr>\n",
       "      <th>fffeb6c54253ef0e7b0c4f38eb81a9dd9aebcb14</th>\n",
       "      <th>Control</th>\n",
       "      <td>5</td>\n",
       "      <td>0.000000</td>\n",
       "      <td>NaN</td>\n",
       "      <td>NaN</td>\n",
       "    </tr>\n",
       "    <tr>\n",
       "      <th>ffff1964e1cb3bb0fc17c9ed440e3a6b6e6adf99</th>\n",
       "      <th>Control</th>\n",
       "      <td>6</td>\n",
       "      <td>0.000000</td>\n",
       "      <td>NaN</td>\n",
       "      <td>NaN</td>\n",
       "    </tr>\n",
       "    <tr>\n",
       "      <th>ffff86c1dc72ba25d61ad8c92e9a5b3d6e2f5547</th>\n",
       "      <th>Control</th>\n",
       "      <td>5</td>\n",
       "      <td>0.000000</td>\n",
       "      <td>NaN</td>\n",
       "      <td>NaN</td>\n",
       "    </tr>\n",
       "    <tr>\n",
       "      <th>ffffb50d0170ef0bc2eda7d20211b2c963c61e2a</th>\n",
       "      <th>Control</th>\n",
       "      <td>24</td>\n",
       "      <td>0.000000</td>\n",
       "      <td>NaN</td>\n",
       "      <td>NaN</td>\n",
       "    </tr>\n",
       "  </tbody>\n",
       "</table>\n",
       "<p>111312 rows × 4 columns</p>\n",
       "</div>"
      ],
      "text/plain": [
       "                                                 gold_on_event_flag            \\\n",
       "                                                              count      mean   \n",
       "user_id                                  AbGroup                                \n",
       "00000d6d79ec151d74c5b0c0705d9d9fe252fe83 Control                  2  0.000000   \n",
       "000133682d2dcd90c1a9c8ca5e34a294f31af64f Control                 19  0.105263   \n",
       "0001f13b0535b174bc7e36a1846c31c7a091c4b0 Control                 11  0.000000   \n",
       "00021d57aced59fbfaf63ba620afada82fc06ca8 Test                    13  0.000000   \n",
       "00027b7d34e10c17bfd4f76aa626403a2c5d1044 Test                     7  0.000000   \n",
       "...                                                             ...       ...   \n",
       "fffea25b3877c861a4ebaa00e8fb9c5b96672e00 Control                  1  0.000000   \n",
       "fffeb6c54253ef0e7b0c4f38eb81a9dd9aebcb14 Control                  5  0.000000   \n",
       "ffff1964e1cb3bb0fc17c9ed440e3a6b6e6adf99 Control                  6  0.000000   \n",
       "ffff86c1dc72ba25d61ad8c92e9a5b3d6e2f5547 Control                  5  0.000000   \n",
       "ffffb50d0170ef0bc2eda7d20211b2c963c61e2a Control                 24  0.000000   \n",
       "\n",
       "                                                 gold_on_event          \n",
       "                                                          mean  median  \n",
       "user_id                                  AbGroup                        \n",
       "00000d6d79ec151d74c5b0c0705d9d9fe252fe83 Control           NaN     NaN  \n",
       "000133682d2dcd90c1a9c8ca5e34a294f31af64f Control        1250.0  1250.0  \n",
       "0001f13b0535b174bc7e36a1846c31c7a091c4b0 Control           NaN     NaN  \n",
       "00021d57aced59fbfaf63ba620afada82fc06ca8 Test              NaN     NaN  \n",
       "00027b7d34e10c17bfd4f76aa626403a2c5d1044 Test              NaN     NaN  \n",
       "...                                                        ...     ...  \n",
       "fffea25b3877c861a4ebaa00e8fb9c5b96672e00 Control           NaN     NaN  \n",
       "fffeb6c54253ef0e7b0c4f38eb81a9dd9aebcb14 Control           NaN     NaN  \n",
       "ffff1964e1cb3bb0fc17c9ed440e3a6b6e6adf99 Control           NaN     NaN  \n",
       "ffff86c1dc72ba25d61ad8c92e9a5b3d6e2f5547 Control           NaN     NaN  \n",
       "ffffb50d0170ef0bc2eda7d20211b2c963c61e2a Control           NaN     NaN  \n",
       "\n",
       "[111312 rows x 4 columns]"
      ]
     },
     "execution_count": 29,
     "metadata": {},
     "output_type": "execute_result"
    }
   ],
   "source": [
    "(df.groupby(['user_id', 'AbGroup'])\n",
    "[['gold_on_event_flag', 'gold_on_event']]\n",
    ".agg({'gold_on_event_flag': ['count', 'mean'],\n",
    "      'gold_on_event': ['mean', 'median']}))"
   ]
  },
  {
   "cell_type": "code",
   "execution_count": 46,
   "id": "a96cdcfe",
   "metadata": {},
   "outputs": [
    {
     "data": {
      "text/plain": [
       "Index([                ('user_id', ''),                 ('AbGroup', ''),\n",
       "       ('gold_on_event_flag', 'count'),  ('gold_on_event_flag', 'mean'),\n",
       "             ('gold_on_event', 'mean'),     ('gold_on_event', 'median')],\n",
       "      dtype='object')"
      ]
     },
     "execution_count": 46,
     "metadata": {},
     "output_type": "execute_result"
    }
   ],
   "source": [
    "t = (df.groupby(['user_id', 'AbGroup'])\n",
    "[['gold_on_event_flag', 'gold_on_event']]\n",
    ".agg({'gold_on_event_flag': ['count', 'mean'],\n",
    "      'gold_on_event': ['mean', 'median']})\n",
    ".reset_index())\n",
    "\n",
    "t.columns.to_flat_index()"
   ]
  },
  {
   "cell_type": "code",
   "execution_count": 38,
   "id": "41f59068",
   "metadata": {},
   "outputs": [
    {
     "data": {
      "text/plain": [
       "['user_id_',\n",
       " 'AbGroup_',\n",
       " 'gold_on_event_flag_count',\n",
       " 'gold_on_event_flag_mean',\n",
       " 'gold_on_event_mean',\n",
       " 'gold_on_event_median']"
      ]
     },
     "execution_count": 38,
     "metadata": {},
     "output_type": "execute_result"
    }
   ],
   "source": [
    "['_'.join(elem) for elem in t.columns.to_flat_index()]"
   ]
  },
  {
   "cell_type": "code",
   "execution_count": 47,
   "id": "80e96a9e",
   "metadata": {},
   "outputs": [
    {
     "data": {
      "text/html": [
       "<div>\n",
       "<style scoped>\n",
       "    .dataframe tbody tr th:only-of-type {\n",
       "        vertical-align: middle;\n",
       "    }\n",
       "\n",
       "    .dataframe tbody tr th {\n",
       "        vertical-align: top;\n",
       "    }\n",
       "\n",
       "    .dataframe thead th {\n",
       "        text-align: right;\n",
       "    }\n",
       "</style>\n",
       "<table border=\"1\" class=\"dataframe\">\n",
       "  <thead>\n",
       "    <tr style=\"text-align: right;\">\n",
       "      <th></th>\n",
       "      <th>user_id_</th>\n",
       "      <th>AbGroup_</th>\n",
       "      <th>gold_on_event_flag_count</th>\n",
       "      <th>gold_on_event_flag_mean</th>\n",
       "      <th>gold_on_event_mean</th>\n",
       "      <th>gold_on_event_median</th>\n",
       "    </tr>\n",
       "  </thead>\n",
       "  <tbody>\n",
       "    <tr>\n",
       "      <th>0</th>\n",
       "      <td>00000d6d79ec151d74c5b0c0705d9d9fe252fe83</td>\n",
       "      <td>Control</td>\n",
       "      <td>2</td>\n",
       "      <td>0.000000</td>\n",
       "      <td>NaN</td>\n",
       "      <td>NaN</td>\n",
       "    </tr>\n",
       "    <tr>\n",
       "      <th>1</th>\n",
       "      <td>000133682d2dcd90c1a9c8ca5e34a294f31af64f</td>\n",
       "      <td>Control</td>\n",
       "      <td>19</td>\n",
       "      <td>0.105263</td>\n",
       "      <td>1250.0</td>\n",
       "      <td>1250.0</td>\n",
       "    </tr>\n",
       "    <tr>\n",
       "      <th>2</th>\n",
       "      <td>0001f13b0535b174bc7e36a1846c31c7a091c4b0</td>\n",
       "      <td>Control</td>\n",
       "      <td>11</td>\n",
       "      <td>0.000000</td>\n",
       "      <td>NaN</td>\n",
       "      <td>NaN</td>\n",
       "    </tr>\n",
       "    <tr>\n",
       "      <th>3</th>\n",
       "      <td>00021d57aced59fbfaf63ba620afada82fc06ca8</td>\n",
       "      <td>Test</td>\n",
       "      <td>13</td>\n",
       "      <td>0.000000</td>\n",
       "      <td>NaN</td>\n",
       "      <td>NaN</td>\n",
       "    </tr>\n",
       "    <tr>\n",
       "      <th>4</th>\n",
       "      <td>00027b7d34e10c17bfd4f76aa626403a2c5d1044</td>\n",
       "      <td>Test</td>\n",
       "      <td>7</td>\n",
       "      <td>0.000000</td>\n",
       "      <td>NaN</td>\n",
       "      <td>NaN</td>\n",
       "    </tr>\n",
       "  </tbody>\n",
       "</table>\n",
       "</div>"
      ],
      "text/plain": [
       "                                   user_id_ AbGroup_  \\\n",
       "0  00000d6d79ec151d74c5b0c0705d9d9fe252fe83  Control   \n",
       "1  000133682d2dcd90c1a9c8ca5e34a294f31af64f  Control   \n",
       "2  0001f13b0535b174bc7e36a1846c31c7a091c4b0  Control   \n",
       "3  00021d57aced59fbfaf63ba620afada82fc06ca8     Test   \n",
       "4  00027b7d34e10c17bfd4f76aa626403a2c5d1044     Test   \n",
       "\n",
       "   gold_on_event_flag_count  gold_on_event_flag_mean  gold_on_event_mean  \\\n",
       "0                         2                 0.000000                 NaN   \n",
       "1                        19                 0.105263              1250.0   \n",
       "2                        11                 0.000000                 NaN   \n",
       "3                        13                 0.000000                 NaN   \n",
       "4                         7                 0.000000                 NaN   \n",
       "\n",
       "   gold_on_event_median  \n",
       "0                   NaN  \n",
       "1                1250.0  \n",
       "2                   NaN  \n",
       "3                   NaN  \n",
       "4                   NaN  "
      ]
     },
     "execution_count": 47,
     "metadata": {},
     "output_type": "execute_result"
    }
   ],
   "source": [
    "#ПОБЕДА НАД МУЛЬТИИНДЕКСОМ\n",
    "t.columns = ['_'.join(elem) for elem in t.columns.to_flat_index()]\n",
    "t.head()"
   ]
  },
  {
   "cell_type": "code",
   "execution_count": 53,
   "id": "d39c8bac",
   "metadata": {},
   "outputs": [],
   "source": [
    "t['user_id'] = 1 #ИДЕНТИФИКАТОР ПОЛЬЗОВАТЕЛЯ"
   ]
  },
  {
   "cell_type": "code",
   "execution_count": 54,
   "id": "f398b24a",
   "metadata": {},
   "outputs": [
    {
     "data": {
      "text/html": [
       "<div>\n",
       "<style scoped>\n",
       "    .dataframe tbody tr th:only-of-type {\n",
       "        vertical-align: middle;\n",
       "    }\n",
       "\n",
       "    .dataframe tbody tr th {\n",
       "        vertical-align: top;\n",
       "    }\n",
       "\n",
       "    .dataframe thead tr th {\n",
       "        text-align: left;\n",
       "    }\n",
       "\n",
       "    .dataframe thead tr:last-of-type th {\n",
       "        text-align: right;\n",
       "    }\n",
       "</style>\n",
       "<table border=\"1\" class=\"dataframe\">\n",
       "  <thead>\n",
       "    <tr>\n",
       "      <th></th>\n",
       "      <th colspan=\"2\" halign=\"left\">gold_on_event_flag_count</th>\n",
       "      <th colspan=\"2\" halign=\"left\">gold_on_event_flag_mean</th>\n",
       "      <th colspan=\"2\" halign=\"left\">gold_on_event_mean</th>\n",
       "      <th colspan=\"2\" halign=\"left\">gold_on_event_median</th>\n",
       "      <th colspan=\"2\" halign=\"left\">user_id</th>\n",
       "    </tr>\n",
       "    <tr>\n",
       "      <th></th>\n",
       "      <th>count</th>\n",
       "      <th>mean</th>\n",
       "      <th>count</th>\n",
       "      <th>mean</th>\n",
       "      <th>count</th>\n",
       "      <th>mean</th>\n",
       "      <th>count</th>\n",
       "      <th>mean</th>\n",
       "      <th>count</th>\n",
       "      <th>mean</th>\n",
       "    </tr>\n",
       "    <tr>\n",
       "      <th>AbGroup_</th>\n",
       "      <th></th>\n",
       "      <th></th>\n",
       "      <th></th>\n",
       "      <th></th>\n",
       "      <th></th>\n",
       "      <th></th>\n",
       "      <th></th>\n",
       "      <th></th>\n",
       "      <th></th>\n",
       "      <th></th>\n",
       "    </tr>\n",
       "  </thead>\n",
       "  <tbody>\n",
       "    <tr>\n",
       "      <th>Control</th>\n",
       "      <td>89034</td>\n",
       "      <td>6.268055</td>\n",
       "      <td>89034</td>\n",
       "      <td>0.031600</td>\n",
       "      <td>10685</td>\n",
       "      <td>2119.778819</td>\n",
       "      <td>10685</td>\n",
       "      <td>2002.976135</td>\n",
       "      <td>89034</td>\n",
       "      <td>1.0</td>\n",
       "    </tr>\n",
       "    <tr>\n",
       "      <th>Test</th>\n",
       "      <td>22278</td>\n",
       "      <td>6.229015</td>\n",
       "      <td>22278</td>\n",
       "      <td>0.030891</td>\n",
       "      <td>2603</td>\n",
       "      <td>2417.938571</td>\n",
       "      <td>2603</td>\n",
       "      <td>2296.811371</td>\n",
       "      <td>22278</td>\n",
       "      <td>1.0</td>\n",
       "    </tr>\n",
       "  </tbody>\n",
       "</table>\n",
       "</div>"
      ],
      "text/plain": [
       "         gold_on_event_flag_count           gold_on_event_flag_mean            \\\n",
       "                            count      mean                   count      mean   \n",
       "AbGroup_                                                                        \n",
       "Control                     89034  6.268055                   89034  0.031600   \n",
       "Test                        22278  6.229015                   22278  0.030891   \n",
       "\n",
       "         gold_on_event_mean              gold_on_event_median               \\\n",
       "                      count         mean                count         mean   \n",
       "AbGroup_                                                                     \n",
       "Control               10685  2119.778819                10685  2002.976135   \n",
       "Test                   2603  2417.938571                 2603  2296.811371   \n",
       "\n",
       "         user_id       \n",
       "           count mean  \n",
       "AbGroup_               \n",
       "Control    89034  1.0  \n",
       "Test       22278  1.0  "
      ]
     },
     "execution_count": 54,
     "metadata": {},
     "output_type": "execute_result"
    }
   ],
   "source": [
    "#MEAN ПО ВСЕМ ПОЛЯМ = СРЕДНИЕ ПОКАЗАТЕЛИ НА ПОЛЬЗОВАТЕЛЯ\n",
    "t.groupby('AbGroup_').agg(['count', 'mean'])"
   ]
  },
  {
   "cell_type": "markdown",
   "id": "731fe0bb",
   "metadata": {},
   "source": [
    "Медиана для распределения с жирным хвостом = более адекватная метрика. </br>\n",
    "Мы не можем проводить стандартный статистические тесты с медианой. Но мы можем сделать бутстрап."
   ]
  },
  {
   "cell_type": "code",
   "execution_count": 55,
   "id": "2eee5eb9",
   "metadata": {},
   "outputs": [
    {
     "data": {
      "text/plain": [
       "Control    558070\n",
       "Test       138770\n",
       "Name: AbGroup, dtype: int64"
      ]
     },
     "execution_count": 55,
     "metadata": {},
     "output_type": "execute_result"
    }
   ],
   "source": [
    "df['AbGroup'].value_counts()"
   ]
  },
  {
   "cell_type": "code",
   "execution_count": 56,
   "id": "7942fc72",
   "metadata": {},
   "outputs": [],
   "source": [
    "group_size = df['AbGroup'].value_counts().values"
   ]
  },
  {
   "cell_type": "code",
   "execution_count": 57,
   "id": "802af111",
   "metadata": {},
   "outputs": [
    {
     "data": {
      "text/html": [
       "<div>\n",
       "<style scoped>\n",
       "    .dataframe tbody tr th:only-of-type {\n",
       "        vertical-align: middle;\n",
       "    }\n",
       "\n",
       "    .dataframe tbody tr th {\n",
       "        vertical-align: top;\n",
       "    }\n",
       "\n",
       "    .dataframe thead tr th {\n",
       "        text-align: left;\n",
       "    }\n",
       "\n",
       "    .dataframe thead tr:last-of-type th {\n",
       "        text-align: right;\n",
       "    }\n",
       "</style>\n",
       "<table border=\"1\" class=\"dataframe\">\n",
       "  <thead>\n",
       "    <tr>\n",
       "      <th></th>\n",
       "      <th colspan=\"2\" halign=\"left\">gold_on_event_flag</th>\n",
       "      <th colspan=\"2\" halign=\"left\">gold_on_event</th>\n",
       "    </tr>\n",
       "    <tr>\n",
       "      <th></th>\n",
       "      <th>count</th>\n",
       "      <th>mean</th>\n",
       "      <th>mean</th>\n",
       "      <th>median</th>\n",
       "    </tr>\n",
       "    <tr>\n",
       "      <th>AbGroup</th>\n",
       "      <th></th>\n",
       "      <th></th>\n",
       "      <th></th>\n",
       "      <th></th>\n",
       "    </tr>\n",
       "  </thead>\n",
       "  <tbody>\n",
       "    <tr>\n",
       "      <th>Control</th>\n",
       "      <td>558070</td>\n",
       "      <td>0.06523</td>\n",
       "      <td>1965.211658</td>\n",
       "      <td>1000.0</td>\n",
       "    </tr>\n",
       "    <tr>\n",
       "      <th>Test</th>\n",
       "      <td>138770</td>\n",
       "      <td>0.06492</td>\n",
       "      <td>2104.606505</td>\n",
       "      <td>1500.0</td>\n",
       "    </tr>\n",
       "  </tbody>\n",
       "</table>\n",
       "</div>"
      ],
      "text/plain": [
       "        gold_on_event_flag          gold_on_event        \n",
       "                     count     mean          mean  median\n",
       "AbGroup                                                  \n",
       "Control             558070  0.06523   1965.211658  1000.0\n",
       "Test                138770  0.06492   2104.606505  1500.0"
      ]
     },
     "execution_count": 57,
     "metadata": {},
     "output_type": "execute_result"
    }
   ],
   "source": [
    "(df.groupby(['AbGroup'])\n",
    "[['gold_on_event_flag', 'gold_on_event']].\n",
    "agg({'gold_on_event_flag': ['count', 'mean'],\n",
    "     'gold_on_event': ['mean', 'median']}))"
   ]
  },
  {
   "cell_type": "code",
   "execution_count": 58,
   "id": "ab0d46b5",
   "metadata": {},
   "outputs": [],
   "source": [
    "from tqdm.notebook import tqdm #progress bar"
   ]
  },
  {
   "cell_type": "code",
   "execution_count": 60,
   "id": "a9cc1548",
   "metadata": {},
   "outputs": [
    {
     "data": {
      "application/vnd.jupyter.widget-view+json": {
       "model_id": "575b1c3c5b3d4d46949f8495cdf7adf8",
       "version_major": 2,
       "version_minor": 0
      },
      "text/plain": [
       "  0%|          | 0/1000 [00:00<?, ?it/s]"
      ]
     },
     "metadata": {},
     "output_type": "display_data"
    }
   ],
   "source": [
    "n = 1000 #экспериментов (обычно 10000 делается, в зависимости от вычислительной мощности)\n",
    "result = [] #для сложения результатов эксперимента\n",
    "base_diff = 500 #разница между медианами\n",
    "for _ in tqdm(range(n)): #i не нужен\n",
    "    a = df.sample(group_size[0], replace=True)['gold_on_event'].median()\n",
    "    b = df.sample(group_size[1], replace=True)['gold_on_event'].median()\n",
    "    result.append(np.abs(a-b) >= base_diff)"
   ]
  },
  {
   "cell_type": "markdown",
   "id": "13bbefe6",
   "metadata": {},
   "source": [
    "* Проведя эксперимент в реальном мире мы получили разницу в base_diff = 500\n",
    "* Необходимо проверить, какова вероятность получить такой результат (base_diff) при отсутствии каких-либо различий между этими двум группами\n",
    "* Сымитировать отсутствие различие можно \"забыв\" о наличии признака AbGroup\n",
    "* Берём перемешанные выборки такого же размера, как на эксперименте\n",
    "* Проверям, что модуль разницы между медианами больше или равен базовой разнице\n",
    "* Нулевая гипотеза = различий нет"
   ]
  },
  {
   "cell_type": "code",
   "execution_count": 61,
   "id": "f0e14ad9",
   "metadata": {},
   "outputs": [
    {
     "data": {
      "text/plain": [
       "0.13"
      ]
     },
     "execution_count": 61,
     "metadata": {},
     "output_type": "execute_result"
    }
   ],
   "source": [
    "np.mean(result) #вероятность получить такой результат случайным образом"
   ]
  },
  {
   "cell_type": "code",
   "execution_count": 62,
   "id": "8767b123",
   "metadata": {},
   "outputs": [
    {
     "data": {
      "application/vnd.jupyter.widget-view+json": {
       "model_id": "21ff8968e06f4c3b9b1f79131f281467",
       "version_major": 2,
       "version_minor": 0
      },
      "text/plain": [
       "  0%|          | 0/10000 [00:00<?, ?it/s]"
      ]
     },
     "metadata": {},
     "output_type": "display_data"
    }
   ],
   "source": [
    "#1000/1000 [10:09<00:00, 1.59it/s]\n",
    "n = 10000 #экспериментов (обычно 10000 делается, в зависимости от вычислительной мощности)\n",
    "result = [] #для сложения результатов эксперимента\n",
    "base_diff = 500 #разница между медианами\n",
    "for _ in tqdm(range(n)): #i не нужен\n",
    "    a = df.sample(group_size[0], replace=True)['gold_on_event'].median()\n",
    "    b = df.sample(group_size[1], replace=True)['gold_on_event'].median()\n",
    "    result.append(np.abs(a-b) >= base_diff)"
   ]
  },
  {
   "cell_type": "code",
   "execution_count": 63,
   "id": "0e756c7d",
   "metadata": {},
   "outputs": [
    {
     "data": {
      "text/plain": [
       "0.1173"
      ]
     },
     "execution_count": 63,
     "metadata": {},
     "output_type": "execute_result"
    }
   ],
   "source": [
    "np.mean(result)"
   ]
  },
  {
   "cell_type": "code",
   "execution_count": 65,
   "id": "8dc7b118",
   "metadata": {},
   "outputs": [
    {
     "data": {
      "text/html": [
       "<div>\n",
       "<style scoped>\n",
       "    .dataframe tbody tr th:only-of-type {\n",
       "        vertical-align: middle;\n",
       "    }\n",
       "\n",
       "    .dataframe tbody tr th {\n",
       "        vertical-align: top;\n",
       "    }\n",
       "\n",
       "    .dataframe thead tr th {\n",
       "        text-align: left;\n",
       "    }\n",
       "\n",
       "    .dataframe thead tr:last-of-type th {\n",
       "        text-align: right;\n",
       "    }\n",
       "</style>\n",
       "<table border=\"1\" class=\"dataframe\">\n",
       "  <thead>\n",
       "    <tr>\n",
       "      <th></th>\n",
       "      <th colspan=\"2\" halign=\"left\">gold_on_event_nona</th>\n",
       "    </tr>\n",
       "    <tr>\n",
       "      <th></th>\n",
       "      <th>mean</th>\n",
       "      <th>median</th>\n",
       "    </tr>\n",
       "    <tr>\n",
       "      <th>AbGroup</th>\n",
       "      <th></th>\n",
       "      <th></th>\n",
       "    </tr>\n",
       "  </thead>\n",
       "  <tbody>\n",
       "    <tr>\n",
       "      <th>Control</th>\n",
       "      <td>128.191087</td>\n",
       "      <td>0.0</td>\n",
       "    </tr>\n",
       "    <tr>\n",
       "      <th>Test</th>\n",
       "      <td>136.631837</td>\n",
       "      <td>0.0</td>\n",
       "    </tr>\n",
       "  </tbody>\n",
       "</table>\n",
       "</div>"
      ],
      "text/plain": [
       "        gold_on_event_nona       \n",
       "                      mean median\n",
       "AbGroup                          \n",
       "Control         128.191087    0.0\n",
       "Test            136.631837    0.0"
      ]
     },
     "execution_count": 65,
     "metadata": {},
     "output_type": "execute_result"
    }
   ],
   "source": [
    "#РАССЧИТАЕМ МЕТРИКИ ДЛЯ ВСЕХ ПОЛЬЗОВАТЕЛЕЙ, А НЕ ДЛЯ PAYING USERS\n",
    "df['gold_on_event_nona'] = df['gold_on_event'].fillna(0)\n",
    "\n",
    "(df.groupby(['AbGroup'])\n",
    "[['gold_on_event_nona']]\n",
    ".agg(['mean', 'median']))"
   ]
  },
  {
   "cell_type": "code",
   "execution_count": 66,
   "id": "976cfe72",
   "metadata": {},
   "outputs": [
    {
     "data": {
      "application/vnd.jupyter.widget-view+json": {
       "model_id": "a571eaa3dbf342e489cad163f8feb496",
       "version_major": 2,
       "version_minor": 0
      },
      "text/plain": [
       "  0%|          | 0/1000 [00:00<?, ?it/s]"
      ]
     },
     "metadata": {},
     "output_type": "display_data"
    }
   ],
   "source": [
    "n = 1000 \n",
    "result = [] #для сложения результатов эксперимента\n",
    "base_diff = 136.631837 - 128.191087 #разница между медианами\n",
    "for _ in tqdm(range(n)): #i не нужен\n",
    "    a = df.sample(group_size[0], replace=True)['gold_on_event_nona'].mean()\n",
    "    b = df.sample(group_size[1], replace=True)['gold_on_event_nona'].mean()\n",
    "    result.append(np.abs(a-b) >= base_diff)"
   ]
  },
  {
   "cell_type": "code",
   "execution_count": 67,
   "id": "c981f189",
   "metadata": {},
   "outputs": [
    {
     "data": {
      "text/plain": [
       "0.017"
      ]
     },
     "execution_count": 67,
     "metadata": {},
     "output_type": "execute_result"
    }
   ],
   "source": [
    "np.mean(result)"
   ]
  },
  {
   "cell_type": "markdown",
   "id": "09926e83",
   "metadata": {},
   "source": [
    "Выросло количество платящих."
   ]
  }
 ],
 "metadata": {
  "kernelspec": {
   "display_name": "Python 3 (ipykernel)",
   "language": "python",
   "name": "python3"
  },
  "language_info": {
   "codemirror_mode": {
    "name": "ipython",
    "version": 3
   },
   "file_extension": ".py",
   "mimetype": "text/x-python",
   "name": "python",
   "nbconvert_exporter": "python",
   "pygments_lexer": "ipython3",
   "version": "3.9.13"
  }
 },
 "nbformat": 4,
 "nbformat_minor": 5
}
