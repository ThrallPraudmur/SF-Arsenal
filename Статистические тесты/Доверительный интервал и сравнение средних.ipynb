{
 "cells": [
  {
   "cell_type": "markdown",
   "id": "d10a534f",
   "metadata": {},
   "source": [
    "## Доверительный интервал и сравнение средних"
   ]
  },
  {
   "cell_type": "markdown",
   "id": "300e757b",
   "metadata": {},
   "source": [
    "### Доверительный интервал"
   ]
  },
  {
   "cell_type": "code",
   "execution_count": 3,
   "id": "66dafbdb",
   "metadata": {},
   "outputs": [],
   "source": [
    "values = np.array([1, 5, 2, 7, 1, 9, 3, 8, 5, 9])"
   ]
  },
  {
   "cell_type": "code",
   "execution_count": 4,
   "id": "70837cec",
   "metadata": {},
   "outputs": [
    {
     "data": {
      "text/plain": [
       "3.0"
      ]
     },
     "execution_count": 4,
     "metadata": {},
     "output_type": "execute_result"
    }
   ],
   "source": [
    "np.std(values)"
   ]
  },
  {
   "cell_type": "code",
   "execution_count": 13,
   "id": "4d77a24c",
   "metadata": {},
   "outputs": [],
   "source": [
    "# X_mean +- 1.96*se для 95% доверительного интервала\n",
    "# X_mean +- 2.58*se для 99% доверительного интервала\n",
    "X_mean = 10\n",
    "sd = 5\n",
    "n = 100\n",
    "\n",
    "se = sd / 100**0.5\n",
    "X_1 = X_mean - 2.58 * se\n",
    "X_2 = X_mean + 2.58 * se"
   ]
  },
  {
   "cell_type": "code",
   "execution_count": 14,
   "id": "61abad33",
   "metadata": {},
   "outputs": [
    {
     "name": "stdout",
     "output_type": "stream",
     "text": [
      "8.71 11.29\n"
     ]
    }
   ],
   "source": [
    "print(X_1, X_2)"
   ]
  },
  {
   "cell_type": "code",
   "execution_count": 15,
   "id": "40fbadf4",
   "metadata": {},
   "outputs": [],
   "source": [
    "X_mean = 18.5\n",
    "sd = 4\n",
    "n = 64\n",
    "\n",
    "se = sd / n**0.5\n",
    "X_1 = X_mean - 1.96 * se\n",
    "X_2 = X_mean + 1.96 * se"
   ]
  },
  {
   "cell_type": "code",
   "execution_count": 16,
   "id": "2d19cb2b",
   "metadata": {},
   "outputs": [
    {
     "name": "stdout",
     "output_type": "stream",
     "text": [
      "17.52 19.48\n"
     ]
    }
   ],
   "source": [
    "print(X_1, X_2)"
   ]
  },
  {
   "cell_type": "code",
   "execution_count": 17,
   "id": "2ba7927a",
   "metadata": {},
   "outputs": [],
   "source": [
    "#Выборка: X_mean = 136\n",
    "#99% доверительный интерал [X_mean - 2.58 * se; X_mean - 2.58 * se]"
   ]
  },
  {
   "cell_type": "code",
   "execution_count": 18,
   "id": "3b1e7377",
   "metadata": {},
   "outputs": [
    {
     "data": {
      "text/plain": [
       "4.0"
      ]
     },
     "execution_count": 18,
     "metadata": {},
     "output_type": "execute_result"
    }
   ],
   "source": [
    "#Ген. совокупность: М = 115\n",
    "#Выборка: X_mean = 118, sd = 9, n = 144\n",
    "M = 115\n",
    "X_mean = 118\n",
    "sd = 9\n",
    "n = 144\n",
    "\n",
    "se = sd / n**0.5\n",
    "Z_score = (X_mean - M) / se\n",
    "\n",
    "Z_score #Значение b на калькуляторе, где standard deviation = 1 (ед. изм = ст. отклонения)"
   ]
  },
  {
   "cell_type": "markdown",
   "id": "e2af7264",
   "metadata": {},
   "source": [
    "### Сравнение двух средних"
   ]
  },
  {
   "cell_type": "code",
   "execution_count": 2,
   "id": "f3ab87cb",
   "metadata": {},
   "outputs": [],
   "source": [
    "# X_mean +- 1.96*se для 95% доверительного интервала\n",
    "# Однако в случае t-распределения 95% наблюдений могут лежать в более широком диапазоне\n",
    "t = 2.093 # по таблице для А=0.95"
   ]
  },
  {
   "cell_type": "code",
   "execution_count": 3,
   "id": "26e36a45",
   "metadata": {},
   "outputs": [],
   "source": [
    "X_mean = 89.9\n",
    "sd = 11.3\n",
    "n = 20"
   ]
  },
  {
   "cell_type": "code",
   "execution_count": 4,
   "id": "2fd8121d",
   "metadata": {},
   "outputs": [
    {
     "name": "stdout",
     "output_type": "stream",
     "text": [
      "84.61149798709502 95.18850201290499\n"
     ]
    }
   ],
   "source": [
    "se = sd / n**0.5\n",
    "X_1 = X_mean - t * se\n",
    "X_2 = X_mean + t * se\n",
    "print(X_1, X_2)"
   ]
  },
  {
   "cell_type": "code",
   "execution_count": 7,
   "id": "d71109b6",
   "metadata": {},
   "outputs": [],
   "source": [
    "#Средний возраст мужчин\n",
    "X_1 = 45\n",
    "sd_1 = 9\n",
    "n_1 = 100\n",
    "#Средний возраст женщин\n",
    "X_2 = 34\n",
    "sd_2 = 10\n",
    "n_2 = 100"
   ]
  },
  {
   "cell_type": "code",
   "execution_count": 8,
   "id": "947e08e7",
   "metadata": {},
   "outputs": [],
   "source": [
    "se = (sd_1**2 / n_1 + sd_2**2 / n_2)**0.5"
   ]
  },
  {
   "cell_type": "code",
   "execution_count": 10,
   "id": "626e632e",
   "metadata": {},
   "outputs": [
    {
     "data": {
      "text/plain": [
       "8.176235608718828"
      ]
     },
     "execution_count": 10,
     "metadata": {},
     "output_type": "execute_result"
    }
   ],
   "source": [
    "t = (X_1 - X_2) / se\n",
    "t"
   ]
  },
  {
   "cell_type": "markdown",
   "id": "1aa043e6",
   "metadata": {},
   "source": [
    "### One-way ANOVA, однофакторный дисперсионный анализ"
   ]
  },
  {
   "cell_type": "code",
   "execution_count": 1,
   "id": "0c900a7a",
   "metadata": {},
   "outputs": [
    {
     "name": "stderr",
     "output_type": "stream",
     "text": [
      "/home/gkuznetsov@prominn.local/.local/lib/python3.7/site-packages/pandas/compat/_optional.py:138: UserWarning: Pandas requires version '2.7.0' or newer of 'numexpr' (version '2.6.9' currently installed).\n",
      "  warnings.warn(msg, UserWarning)\n"
     ]
    },
    {
     "data": {
      "text/html": [
       "<div>\n",
       "<style scoped>\n",
       "    .dataframe tbody tr th:only-of-type {\n",
       "        vertical-align: middle;\n",
       "    }\n",
       "\n",
       "    .dataframe tbody tr th {\n",
       "        vertical-align: top;\n",
       "    }\n",
       "\n",
       "    .dataframe thead th {\n",
       "        text-align: right;\n",
       "    }\n",
       "</style>\n",
       "<table border=\"1\" class=\"dataframe\">\n",
       "  <thead>\n",
       "    <tr style=\"text-align: right;\">\n",
       "      <th></th>\n",
       "      <th>expr</th>\n",
       "      <th>Therapy</th>\n",
       "    </tr>\n",
       "  </thead>\n",
       "  <tbody>\n",
       "    <tr>\n",
       "      <th>0</th>\n",
       "      <td>100</td>\n",
       "      <td>A</td>\n",
       "    </tr>\n",
       "    <tr>\n",
       "      <th>1</th>\n",
       "      <td>96</td>\n",
       "      <td>A</td>\n",
       "    </tr>\n",
       "    <tr>\n",
       "      <th>2</th>\n",
       "      <td>101</td>\n",
       "      <td>A</td>\n",
       "    </tr>\n",
       "    <tr>\n",
       "      <th>3</th>\n",
       "      <td>95</td>\n",
       "      <td>A</td>\n",
       "    </tr>\n",
       "    <tr>\n",
       "      <th>4</th>\n",
       "      <td>103</td>\n",
       "      <td>A</td>\n",
       "    </tr>\n",
       "  </tbody>\n",
       "</table>\n",
       "</div>"
      ],
      "text/plain": [
       "   expr Therapy\n",
       "0   100       A\n",
       "1    96       A\n",
       "2   101       A\n",
       "3    95       A\n",
       "4   103       A"
      ]
     },
     "execution_count": 1,
     "metadata": {},
     "output_type": "execute_result"
    }
   ],
   "source": [
    "import pandas as pd\n",
    "therapy_df = pd.read_csv('genetherapy.csv')\n",
    "therapy_df.head()"
   ]
  },
  {
   "cell_type": "code",
   "execution_count": 6,
   "id": "32798309",
   "metadata": {},
   "outputs": [
    {
     "data": {
      "text/html": [
       "<div>\n",
       "<style scoped>\n",
       "    .dataframe tbody tr th:only-of-type {\n",
       "        vertical-align: middle;\n",
       "    }\n",
       "\n",
       "    .dataframe tbody tr th {\n",
       "        vertical-align: top;\n",
       "    }\n",
       "\n",
       "    .dataframe thead th {\n",
       "        text-align: right;\n",
       "    }\n",
       "</style>\n",
       "<table border=\"1\" class=\"dataframe\">\n",
       "  <thead>\n",
       "    <tr style=\"text-align: right;\">\n",
       "      <th></th>\n",
       "      <th>expr</th>\n",
       "    </tr>\n",
       "    <tr>\n",
       "      <th>Therapy</th>\n",
       "      <th></th>\n",
       "    </tr>\n",
       "  </thead>\n",
       "  <tbody>\n",
       "    <tr>\n",
       "      <th>A</th>\n",
       "      <td>15</td>\n",
       "    </tr>\n",
       "    <tr>\n",
       "      <th>B</th>\n",
       "      <td>15</td>\n",
       "    </tr>\n",
       "    <tr>\n",
       "      <th>C</th>\n",
       "      <td>15</td>\n",
       "    </tr>\n",
       "    <tr>\n",
       "      <th>D</th>\n",
       "      <td>15</td>\n",
       "    </tr>\n",
       "  </tbody>\n",
       "</table>\n",
       "</div>"
      ],
      "text/plain": [
       "         expr\n",
       "Therapy      \n",
       "A          15\n",
       "B          15\n",
       "C          15\n",
       "D          15"
      ]
     },
     "execution_count": 6,
     "metadata": {},
     "output_type": "execute_result"
    }
   ],
   "source": [
    "therapy_df.groupby('Therapy').count()"
   ]
  },
  {
   "cell_type": "code",
   "execution_count": 2,
   "id": "197de561",
   "metadata": {},
   "outputs": [],
   "source": [
    "# expr = независимая переменная, уровень экспрессии гена\n",
    "# Therapy = зависимая переменная, тип терапии\n",
    "from scipy.stats import f_oneway"
   ]
  },
  {
   "cell_type": "markdown",
   "id": "e1519c93",
   "metadata": {},
   "source": [
    "HO = 'В генеральной совокупности средний уровень экспрессии генов будет абсолютно одинаковый при использовании всех четырёх видов терпапии' </br>\n",
    "H1 = 'Как минимум два средних значимо различаются между собой'"
   ]
  },
  {
   "cell_type": "code",
   "execution_count": 8,
   "id": "8531e1da",
   "metadata": {},
   "outputs": [
    {
     "data": {
      "text/plain": [
       "F_onewayResult(statistic=8.03730248114399, pvalue=0.00015249722895229536)"
      ]
     },
     "execution_count": 8,
     "metadata": {},
     "output_type": "execute_result"
    }
   ],
   "source": [
    "therapy_df[therapy_df.Therapy == 'A'].expr\n",
    "therapy_df[therapy_df.Therapy == 'B'].expr\n",
    "therapy_df[therapy_df.Therapy == 'C'].expr\n",
    "therapy_df[therapy_df.Therapy == 'D'].expr\n",
    "\n",
    "f_oneway(therapy_df[therapy_df.Therapy == 'A'].expr, therapy_df[therapy_df.Therapy == 'B'].expr,\n",
    "         therapy_df[therapy_df.Therapy == 'C'].expr, therapy_df[therapy_df.Therapy == 'D'].expr)"
   ]
  },
  {
   "cell_type": "code",
   "execution_count": 15,
   "id": "fb188ee5",
   "metadata": {},
   "outputs": [
    {
     "data": {
      "image/png": "[encoded data removed]",
      "text/plain": [
       "<Figure size 640x480 with 1 Axes>"
      ]
     },
     "metadata": {},
     "output_type": "display_data"
    }
   ],
   "source": [
    "import matplotlib.pyplot as plt\n",
    "import seaborn as sns\n",
    "sns.boxplot(data = therapy_df, x = 'Therapy', y = 'expr')\n",
    "\n",
    "plt.grid()\n",
    "plt.show()"
   ]
  },
  {
   "cell_type": "markdown",
   "id": "cd141911",
   "metadata": {},
   "source": [
    "Если доверительные интервалы не включают среднее значение друг друга, то такие различия будут значимы. </br>"
   ]
  },
  {
   "cell_type": "markdown",
   "id": "89065529",
   "metadata": {},
   "source": [
    "### Критерий Тьюки"
   ]
  },
  {
   "cell_type": "code",
   "execution_count": 20,
   "id": "5441344c",
   "metadata": {},
   "outputs": [],
   "source": [
    "import numpy as np\n",
    "from statsmodels.stats.multicomp import pairwise_tukeyhsd"
   ]
  },
  {
   "cell_type": "code",
   "execution_count": 23,
   "id": "a36654a6",
   "metadata": {},
   "outputs": [
    {
     "name": "stdout",
     "output_type": "stream",
     "text": [
      " Multiple Comparison of Means - Tukey HSD, FWER=0.05 \n",
      "=====================================================\n",
      "group1 group2 meandiff p-adj   lower    upper  reject\n",
      "-----------------------------------------------------\n",
      "     A      B  -0.9333 0.9514  -5.5959  3.7292  False\n",
      "     A      C  -5.3333 0.0189  -9.9959 -0.6708   True\n",
      "     A      D     -7.4 0.0005 -12.0626 -2.7374   True\n",
      "     B      C     -4.4  0.071  -9.0626  0.2626  False\n",
      "     B      D  -6.4667 0.0029 -11.1292 -1.8041   True\n",
      "     C      D  -2.0667 0.6458  -6.7292  2.5959  False\n",
      "-----------------------------------------------------\n"
     ]
    }
   ],
   "source": [
    "print(pairwise_tukeyhsd(therapy_df.expr, therapy_df.Therapy, alpha=0.05))"
   ]
  },
  {
   "cell_type": "markdown",
   "id": "ee734a96",
   "metadata": {},
   "source": [
    "### Поправка Бонферрони"
   ]
  },
  {
   "cell_type": "code",
   "execution_count": 25,
   "id": "a186048f",
   "metadata": {},
   "outputs": [],
   "source": [
    "import math"
   ]
  },
  {
   "cell_type": "code",
   "execution_count": 27,
   "id": "d2ecbbfd",
   "metadata": {},
   "outputs": [
    {
     "data": {
      "text/plain": [
       "3.0"
      ]
     },
     "execution_count": 27,
     "metadata": {},
     "output_type": "execute_result"
    }
   ],
   "source": [
    "#C k по n, для попарного сравнения\n",
    "math.factorial(3) / math.factorial(2) / math.factorial(3-2)"
   ]
  },
  {
   "cell_type": "code",
   "execution_count": 28,
   "id": "2f579e05",
   "metadata": {},
   "outputs": [
    {
     "data": {
      "text/plain": [
       "0.016666666666666666"
      ]
     },
     "execution_count": 28,
     "metadata": {},
     "output_type": "execute_result"
    }
   ],
   "source": [
    "p = 0.05\n",
    "p / 3"
   ]
  },
  {
   "cell_type": "markdown",
   "id": "0ec74edc",
   "metadata": {},
   "source": [
    "### Многофакторный ANOVA"
   ]
  },
  {
   "cell_type": "code",
   "execution_count": 16,
   "id": "e33f5557",
   "metadata": {},
   "outputs": [],
   "source": [
    "import pandas as pd\n",
    "import seaborn as sns\n",
    "import matplotlib.pyplot as plt\n",
    "import pingouin as pg\n",
    "sns.set_style('darkgrid')"
   ]
  },
  {
   "cell_type": "code",
   "execution_count": 2,
   "id": "5b49f602",
   "metadata": {},
   "outputs": [
    {
     "data": {
      "text/html": [
       "<div>\n",
       "<style scoped>\n",
       "    .dataframe tbody tr th:only-of-type {\n",
       "        vertical-align: middle;\n",
       "    }\n",
       "\n",
       "    .dataframe tbody tr th {\n",
       "        vertical-align: top;\n",
       "    }\n",
       "\n",
       "    .dataframe thead th {\n",
       "        text-align: right;\n",
       "    }\n",
       "</style>\n",
       "<table border=\"1\" class=\"dataframe\">\n",
       "  <thead>\n",
       "    <tr style=\"text-align: right;\">\n",
       "      <th></th>\n",
       "      <th>expr</th>\n",
       "      <th>age</th>\n",
       "      <th>dose</th>\n",
       "    </tr>\n",
       "  </thead>\n",
       "  <tbody>\n",
       "    <tr>\n",
       "      <th>0</th>\n",
       "      <td>107.351478</td>\n",
       "      <td>1</td>\n",
       "      <td>D1</td>\n",
       "    </tr>\n",
       "    <tr>\n",
       "      <th>1</th>\n",
       "      <td>104.504438</td>\n",
       "      <td>1</td>\n",
       "      <td>D1</td>\n",
       "    </tr>\n",
       "    <tr>\n",
       "      <th>2</th>\n",
       "      <td>103.435134</td>\n",
       "      <td>1</td>\n",
       "      <td>D1</td>\n",
       "    </tr>\n",
       "  </tbody>\n",
       "</table>\n",
       "</div>"
      ],
      "text/plain": [
       "         expr  age dose\n",
       "0  107.351478    1   D1\n",
       "1  104.504438    1   D1\n",
       "2  103.435134    1   D1"
      ]
     },
     "execution_count": 2,
     "metadata": {},
     "output_type": "execute_result"
    }
   ],
   "source": [
    "ghen_df = pd.read_csv('atherosclerosis.csv')\n",
    "ghen_df.head(3)"
   ]
  },
  {
   "cell_type": "code",
   "execution_count": 13,
   "id": "90a647b2",
   "metadata": {},
   "outputs": [
    {
     "data": {
      "image/png": "[encoded data removed]",
      "text/plain": [
       "<Figure size 640x480 with 1 Axes>"
      ]
     },
     "metadata": {},
     "output_type": "display_data"
    }
   ],
   "source": [
    "sns.boxplot(data = ghen_df, x = ghen_df.dose, y = ghen_df.expr, hue = ghen_df.age)\n",
    "plt.grid(True)\n",
    "plt.show()"
   ]
  },
  {
   "cell_type": "code",
   "execution_count": 17,
   "id": "c7b05877",
   "metadata": {},
   "outputs": [
    {
     "data": {
      "text/html": [
       "<div>\n",
       "<style scoped>\n",
       "    .dataframe tbody tr th:only-of-type {\n",
       "        vertical-align: middle;\n",
       "    }\n",
       "\n",
       "    .dataframe tbody tr th {\n",
       "        vertical-align: top;\n",
       "    }\n",
       "\n",
       "    .dataframe thead th {\n",
       "        text-align: right;\n",
       "    }\n",
       "</style>\n",
       "<table border=\"1\" class=\"dataframe\">\n",
       "  <thead>\n",
       "    <tr style=\"text-align: right;\">\n",
       "      <th></th>\n",
       "      <th>Source</th>\n",
       "      <th>SS</th>\n",
       "      <th>DF</th>\n",
       "      <th>MS</th>\n",
       "      <th>F</th>\n",
       "      <th>p-unc</th>\n",
       "      <th>np2</th>\n",
       "    </tr>\n",
       "  </thead>\n",
       "  <tbody>\n",
       "    <tr>\n",
       "      <th>0</th>\n",
       "      <td>age</td>\n",
       "      <td>197.452754</td>\n",
       "      <td>1</td>\n",
       "      <td>197.452754</td>\n",
       "      <td>7.449841</td>\n",
       "      <td>0.008313</td>\n",
       "      <td>0.110450</td>\n",
       "    </tr>\n",
       "    <tr>\n",
       "      <th>1</th>\n",
       "      <td>dose</td>\n",
       "      <td>16.912241</td>\n",
       "      <td>1</td>\n",
       "      <td>16.912241</td>\n",
       "      <td>0.638094</td>\n",
       "      <td>0.427552</td>\n",
       "      <td>0.010523</td>\n",
       "    </tr>\n",
       "    <tr>\n",
       "      <th>2</th>\n",
       "      <td>age * dose</td>\n",
       "      <td>0.927077</td>\n",
       "      <td>1</td>\n",
       "      <td>0.927077</td>\n",
       "      <td>0.034978</td>\n",
       "      <td>0.852272</td>\n",
       "      <td>0.000583</td>\n",
       "    </tr>\n",
       "    <tr>\n",
       "      <th>3</th>\n",
       "      <td>Residual</td>\n",
       "      <td>1590.257424</td>\n",
       "      <td>60</td>\n",
       "      <td>26.504290</td>\n",
       "      <td>NaN</td>\n",
       "      <td>NaN</td>\n",
       "      <td>NaN</td>\n",
       "    </tr>\n",
       "  </tbody>\n",
       "</table>\n",
       "</div>"
      ],
      "text/plain": [
       "       Source           SS  DF          MS         F     p-unc       np2\n",
       "0         age   197.452754   1  197.452754  7.449841  0.008313  0.110450\n",
       "1        dose    16.912241   1   16.912241  0.638094  0.427552  0.010523\n",
       "2  age * dose     0.927077   1    0.927077  0.034978  0.852272  0.000583\n",
       "3    Residual  1590.257424  60   26.504290       NaN       NaN       NaN"
      ]
     },
     "execution_count": 17,
     "metadata": {},
     "output_type": "execute_result"
    }
   ],
   "source": [
    "pg.anova(dv = 'expr', between = ['age', 'dose'], data = ghen_df)"
   ]
  },
  {
   "cell_type": "code",
   "execution_count": 18,
   "id": "9814deb3",
   "metadata": {},
   "outputs": [
    {
     "data": {
      "text/html": [
       "<div>\n",
       "<style scoped>\n",
       "    .dataframe tbody tr th:only-of-type {\n",
       "        vertical-align: middle;\n",
       "    }\n",
       "\n",
       "    .dataframe tbody tr th {\n",
       "        vertical-align: top;\n",
       "    }\n",
       "\n",
       "    .dataframe thead th {\n",
       "        text-align: right;\n",
       "    }\n",
       "</style>\n",
       "<table border=\"1\" class=\"dataframe\">\n",
       "  <thead>\n",
       "    <tr style=\"text-align: right;\">\n",
       "      <th></th>\n",
       "      <th>Source</th>\n",
       "      <th>SS</th>\n",
       "      <th>DF</th>\n",
       "      <th>MS</th>\n",
       "      <th>F</th>\n",
       "      <th>p-unc</th>\n",
       "      <th>np2</th>\n",
       "    </tr>\n",
       "  </thead>\n",
       "  <tbody>\n",
       "    <tr>\n",
       "      <th>0</th>\n",
       "      <td>age</td>\n",
       "      <td>197.452754</td>\n",
       "      <td>1</td>\n",
       "      <td>197.452754</td>\n",
       "      <td>7.449841</td>\n",
       "      <td>0.008313</td>\n",
       "      <td>0.110450</td>\n",
       "    </tr>\n",
       "    <tr>\n",
       "      <th>1</th>\n",
       "      <td>dose</td>\n",
       "      <td>16.912241</td>\n",
       "      <td>1</td>\n",
       "      <td>16.912241</td>\n",
       "      <td>0.638094</td>\n",
       "      <td>0.427552</td>\n",
       "      <td>0.010523</td>\n",
       "    </tr>\n",
       "    <tr>\n",
       "      <th>2</th>\n",
       "      <td>age * dose</td>\n",
       "      <td>0.927077</td>\n",
       "      <td>1</td>\n",
       "      <td>0.927077</td>\n",
       "      <td>0.034978</td>\n",
       "      <td>0.852272</td>\n",
       "      <td>0.000583</td>\n",
       "    </tr>\n",
       "    <tr>\n",
       "      <th>3</th>\n",
       "      <td>Residual</td>\n",
       "      <td>1590.257424</td>\n",
       "      <td>60</td>\n",
       "      <td>26.504290</td>\n",
       "      <td>NaN</td>\n",
       "      <td>NaN</td>\n",
       "      <td>NaN</td>\n",
       "    </tr>\n",
       "  </tbody>\n",
       "</table>\n",
       "</div>"
      ],
      "text/plain": [
       "       Source           SS  DF          MS         F     p-unc       np2\n",
       "0         age   197.452754   1  197.452754  7.449841  0.008313  0.110450\n",
       "1        dose    16.912241   1   16.912241  0.638094  0.427552  0.010523\n",
       "2  age * dose     0.927077   1    0.927077  0.034978  0.852272  0.000583\n",
       "3    Residual  1590.257424  60   26.504290       NaN       NaN       NaN"
      ]
     },
     "execution_count": 18,
     "metadata": {},
     "output_type": "execute_result"
    }
   ],
   "source": [
    "pg.anova(dv = 'expr', between = ['age', 'dose'], data = ghen_df, detailed = True)"
   ]
  },
  {
   "cell_type": "markdown",
   "id": "673e977b",
   "metadata": {},
   "source": [
    "### Взаимодействие факторов в ANOVA"
   ]
  },
  {
   "cell_type": "code",
   "execution_count": 19,
   "id": "005c3296",
   "metadata": {},
   "outputs": [
    {
     "data": {
      "text/html": [
       "<div>\n",
       "<style scoped>\n",
       "    .dataframe tbody tr th:only-of-type {\n",
       "        vertical-align: middle;\n",
       "    }\n",
       "\n",
       "    .dataframe tbody tr th {\n",
       "        vertical-align: top;\n",
       "    }\n",
       "\n",
       "    .dataframe thead th {\n",
       "        text-align: right;\n",
       "    }\n",
       "</style>\n",
       "<table border=\"1\" class=\"dataframe\">\n",
       "  <thead>\n",
       "    <tr style=\"text-align: right;\">\n",
       "      <th></th>\n",
       "      <th>var4</th>\n",
       "      <th>hormone</th>\n",
       "      <th>sex</th>\n",
       "    </tr>\n",
       "  </thead>\n",
       "  <tbody>\n",
       "    <tr>\n",
       "      <th>0</th>\n",
       "      <td>17.859039</td>\n",
       "      <td>1</td>\n",
       "      <td>1</td>\n",
       "    </tr>\n",
       "    <tr>\n",
       "      <th>1</th>\n",
       "      <td>20.842343</td>\n",
       "      <td>1</td>\n",
       "      <td>1</td>\n",
       "    </tr>\n",
       "    <tr>\n",
       "      <th>2</th>\n",
       "      <td>19.318099</td>\n",
       "      <td>1</td>\n",
       "      <td>1</td>\n",
       "    </tr>\n",
       "  </tbody>\n",
       "</table>\n",
       "</div>"
      ],
      "text/plain": [
       "        var4  hormone  sex\n",
       "0  17.859039        1    1\n",
       "1  20.842343        1    1\n",
       "2  19.318099        1    1"
      ]
     },
     "execution_count": 19,
     "metadata": {},
     "output_type": "execute_result"
    }
   ],
   "source": [
    "birds_df = pd.read_csv('birds.csv')\n",
    "birds_df.head(3)"
   ]
  },
  {
   "cell_type": "code",
   "execution_count": 20,
   "id": "eae2ed30",
   "metadata": {},
   "outputs": [
    {
     "data": {
      "text/html": [
       "<div>\n",
       "<style scoped>\n",
       "    .dataframe tbody tr th:only-of-type {\n",
       "        vertical-align: middle;\n",
       "    }\n",
       "\n",
       "    .dataframe tbody tr th {\n",
       "        vertical-align: top;\n",
       "    }\n",
       "\n",
       "    .dataframe thead th {\n",
       "        text-align: right;\n",
       "    }\n",
       "</style>\n",
       "<table border=\"1\" class=\"dataframe\">\n",
       "  <thead>\n",
       "    <tr style=\"text-align: right;\">\n",
       "      <th></th>\n",
       "      <th>Source</th>\n",
       "      <th>SS</th>\n",
       "      <th>DF</th>\n",
       "      <th>MS</th>\n",
       "      <th>F</th>\n",
       "      <th>p-unc</th>\n",
       "      <th>np2</th>\n",
       "    </tr>\n",
       "  </thead>\n",
       "  <tbody>\n",
       "    <tr>\n",
       "      <th>0</th>\n",
       "      <td>hormone</td>\n",
       "      <td>0.847472</td>\n",
       "      <td>1</td>\n",
       "      <td>0.847472</td>\n",
       "      <td>0.086528</td>\n",
       "      <td>0.769653</td>\n",
       "      <td>0.001440</td>\n",
       "    </tr>\n",
       "    <tr>\n",
       "      <th>1</th>\n",
       "      <td>sex</td>\n",
       "      <td>0.119762</td>\n",
       "      <td>1</td>\n",
       "      <td>0.119762</td>\n",
       "      <td>0.012228</td>\n",
       "      <td>0.912318</td>\n",
       "      <td>0.000204</td>\n",
       "    </tr>\n",
       "    <tr>\n",
       "      <th>2</th>\n",
       "      <td>hormone * sex</td>\n",
       "      <td>89.483384</td>\n",
       "      <td>1</td>\n",
       "      <td>89.483384</td>\n",
       "      <td>9.136390</td>\n",
       "      <td>0.003682</td>\n",
       "      <td>0.132150</td>\n",
       "    </tr>\n",
       "    <tr>\n",
       "      <th>3</th>\n",
       "      <td>Residual</td>\n",
       "      <td>587.650394</td>\n",
       "      <td>60</td>\n",
       "      <td>9.794173</td>\n",
       "      <td>NaN</td>\n",
       "      <td>NaN</td>\n",
       "      <td>NaN</td>\n",
       "    </tr>\n",
       "  </tbody>\n",
       "</table>\n",
       "</div>"
      ],
      "text/plain": [
       "          Source          SS  DF         MS         F     p-unc       np2\n",
       "0        hormone    0.847472   1   0.847472  0.086528  0.769653  0.001440\n",
       "1            sex    0.119762   1   0.119762  0.012228  0.912318  0.000204\n",
       "2  hormone * sex   89.483384   1  89.483384  9.136390  0.003682  0.132150\n",
       "3       Residual  587.650394  60   9.794173       NaN       NaN       NaN"
      ]
     },
     "execution_count": 20,
     "metadata": {},
     "output_type": "execute_result"
    }
   ],
   "source": [
    "pg.anova(dv = 'var4', between = ['hormone', 'sex'], data = birds_df)"
   ]
  },
  {
   "cell_type": "markdown",
   "id": "64a53714",
   "metadata": {},
   "source": [
    "Независимые переменные = Инъекция (отсутствие или наличие) и Пол. </br>\n",
    "Зависимая переменная = Концентрация кальция. </br>\n",
    "Ни фактор инъекции, ни фактор пола не оказали значимого влияния на зависимую переменную. Изменчивость, которая обуславливается этими факторами, очень не велика. </br>\n",
    "**Но** взаимодействие этих факторов оказало довольно значимое влияние."
   ]
  },
  {
   "cell_type": "code",
   "execution_count": 25,
   "id": "a7deaf60",
   "metadata": {},
   "outputs": [
    {
     "data": {
      "image/png": "[encoded data removed]",
      "text/plain": [
       "<Figure size 640x480 with 1 Axes>"
      ]
     },
     "metadata": {},
     "output_type": "display_data"
    }
   ],
   "source": [
    "sns.pointplot(x = 'hormone', y = 'var4', hue= 'sex' , dodge = 0.1, capsize = .1, data = birds_df)\n",
    "plt.show()"
   ]
  },
  {
   "cell_type": "markdown",
   "id": "911bc15a",
   "metadata": {},
   "source": [
    "Сам факт инъекции **по разному** повлиял на концентрацию кальция в плазме в зависимости от пола."
   ]
  },
  {
   "cell_type": "markdown",
   "id": "b6338131",
   "metadata": {},
   "source": [
    "## Корреляция и регрессия"
   ]
  },
  {
   "cell_type": "markdown",
   "id": "5f8e4cd7",
   "metadata": {},
   "source": [
    "### Понятие корреляции"
   ]
  },
  {
   "cell_type": "code",
   "execution_count": 2,
   "id": "f0ee78b6",
   "metadata": {},
   "outputs": [
    {
     "name": "stderr",
     "output_type": "stream",
     "text": [
      "/home/gkuznetsov@prominn.local/.local/lib/python3.7/site-packages/pandas/compat/_optional.py:138: UserWarning: Pandas requires version '2.7.0' or newer of 'numexpr' (version '2.6.9' currently installed).\n",
      "  warnings.warn(msg, UserWarning)\n"
     ]
    },
    {
     "data": {
      "text/html": [
       "<div>\n",
       "<style scoped>\n",
       "    .dataframe tbody tr th:only-of-type {\n",
       "        vertical-align: middle;\n",
       "    }\n",
       "\n",
       "    .dataframe tbody tr th {\n",
       "        vertical-align: top;\n",
       "    }\n",
       "\n",
       "    .dataframe thead th {\n",
       "        text-align: right;\n",
       "    }\n",
       "</style>\n",
       "<table border=\"1\" class=\"dataframe\">\n",
       "  <thead>\n",
       "    <tr style=\"text-align: right;\">\n",
       "      <th></th>\n",
       "      <th>X</th>\n",
       "      <th>Y</th>\n",
       "    </tr>\n",
       "  </thead>\n",
       "  <tbody>\n",
       "    <tr>\n",
       "      <th>0</th>\n",
       "      <td>4</td>\n",
       "      <td>2</td>\n",
       "    </tr>\n",
       "    <tr>\n",
       "      <th>1</th>\n",
       "      <td>5</td>\n",
       "      <td>1</td>\n",
       "    </tr>\n",
       "    <tr>\n",
       "      <th>2</th>\n",
       "      <td>2</td>\n",
       "      <td>4</td>\n",
       "    </tr>\n",
       "  </tbody>\n",
       "</table>\n",
       "</div>"
      ],
      "text/plain": [
       "   X  Y\n",
       "0  4  2\n",
       "1  5  1\n",
       "2  2  4"
      ]
     },
     "execution_count": 2,
     "metadata": {},
     "output_type": "execute_result"
    }
   ],
   "source": [
    "import pandas as pd\n",
    "data = pd.DataFrame({'X': [4, 5, 2, 3, 1],\n",
    "                    'Y': [2, 1, 4, 3, 5]})\n",
    "\n",
    "data.head(3)"
   ]
  },
  {
   "cell_type": "code",
   "execution_count": 3,
   "id": "7d3fbee7",
   "metadata": {},
   "outputs": [
    {
     "data": {
      "text/html": [
       "<div>\n",
       "<style scoped>\n",
       "    .dataframe tbody tr th:only-of-type {\n",
       "        vertical-align: middle;\n",
       "    }\n",
       "\n",
       "    .dataframe tbody tr th {\n",
       "        vertical-align: top;\n",
       "    }\n",
       "\n",
       "    .dataframe thead th {\n",
       "        text-align: right;\n",
       "    }\n",
       "</style>\n",
       "<table border=\"1\" class=\"dataframe\">\n",
       "  <thead>\n",
       "    <tr style=\"text-align: right;\">\n",
       "      <th></th>\n",
       "      <th>X</th>\n",
       "      <th>Y</th>\n",
       "    </tr>\n",
       "  </thead>\n",
       "  <tbody>\n",
       "    <tr>\n",
       "      <th>X</th>\n",
       "      <td>1.0</td>\n",
       "      <td>-1.0</td>\n",
       "    </tr>\n",
       "    <tr>\n",
       "      <th>Y</th>\n",
       "      <td>-1.0</td>\n",
       "      <td>1.0</td>\n",
       "    </tr>\n",
       "  </tbody>\n",
       "</table>\n",
       "</div>"
      ],
      "text/plain": [
       "     X    Y\n",
       "X  1.0 -1.0\n",
       "Y -1.0  1.0"
      ]
     },
     "execution_count": 3,
     "metadata": {},
     "output_type": "execute_result"
    }
   ],
   "source": [
    "data.corr()"
   ]
  },
  {
   "cell_type": "markdown",
   "id": "afb5ffd2",
   "metadata": {},
   "source": [
    "### Применение регрессионного анализа и интерпретация результатов"
   ]
  },
  {
   "cell_type": "code",
   "execution_count": 2,
   "id": "d1b97be6",
   "metadata": {},
   "outputs": [
    {
     "data": {
      "text/html": [
       "<div>\n",
       "<style scoped>\n",
       "    .dataframe tbody tr th:only-of-type {\n",
       "        vertical-align: middle;\n",
       "    }\n",
       "\n",
       "    .dataframe tbody tr th {\n",
       "        vertical-align: top;\n",
       "    }\n",
       "\n",
       "    .dataframe thead th {\n",
       "        text-align: right;\n",
       "    }\n",
       "</style>\n",
       "<table border=\"1\" class=\"dataframe\">\n",
       "  <thead>\n",
       "    <tr style=\"text-align: right;\">\n",
       "      <th></th>\n",
       "      <th>state</th>\n",
       "      <th>metro_res</th>\n",
       "      <th>white</th>\n",
       "      <th>hs_grad</th>\n",
       "      <th>poverty</th>\n",
       "      <th>female_house</th>\n",
       "    </tr>\n",
       "  </thead>\n",
       "  <tbody>\n",
       "    <tr>\n",
       "      <th>0</th>\n",
       "      <td>Alabama</td>\n",
       "      <td>55.4</td>\n",
       "      <td>71.3</td>\n",
       "      <td>79.9</td>\n",
       "      <td>14.6</td>\n",
       "      <td>14.2</td>\n",
       "    </tr>\n",
       "    <tr>\n",
       "      <th>1</th>\n",
       "      <td>Alaska</td>\n",
       "      <td>65.6</td>\n",
       "      <td>70.8</td>\n",
       "      <td>90.6</td>\n",
       "      <td>8.3</td>\n",
       "      <td>10.8</td>\n",
       "    </tr>\n",
       "    <tr>\n",
       "      <th>2</th>\n",
       "      <td>Arizona</td>\n",
       "      <td>88.2</td>\n",
       "      <td>87.7</td>\n",
       "      <td>83.8</td>\n",
       "      <td>13.3</td>\n",
       "      <td>11.1</td>\n",
       "    </tr>\n",
       "  </tbody>\n",
       "</table>\n",
       "</div>"
      ],
      "text/plain": [
       "     state  metro_res  white  hs_grad  poverty  female_house\n",
       "0  Alabama       55.4   71.3     79.9     14.6          14.2\n",
       "1   Alaska       65.6   70.8     90.6      8.3          10.8\n",
       "2  Arizona       88.2   87.7     83.8     13.3          11.1"
      ]
     },
     "execution_count": 2,
     "metadata": {},
     "output_type": "execute_result"
    }
   ],
   "source": [
    "states_df = pd.read_csv('./states.csv')\n",
    "states_df.head(3)"
   ]
  },
  {
   "cell_type": "markdown",
   "id": "83415bea",
   "metadata": {},
   "source": [
    "Описание признаков:\n",
    "* metro_res = какой процент штата живёт в столичной области\n",
    "* white = процент белокожего населения\n",
    "* hs_grad = процент людей, имеющих среднее образование\n",
    "* poverty = процент людей в бедности\n",
    "* female_house = процент семей, где женщина является домохозяйкой\n",
    "\n",
    "Исследуем, как связаны **бедность** и **уровень образования**"
   ]
  },
  {
   "cell_type": "code",
   "execution_count": 7,
   "id": "a13867f4",
   "metadata": {},
   "outputs": [
    {
     "data": {
      "image/png": "[encoded data removed]",
      "text/plain": [
       "<Figure size 640x480 with 1 Axes>"
      ]
     },
     "metadata": {},
     "output_type": "display_data"
    }
   ],
   "source": [
    "import seaborn as sns\n",
    "import matplotlib.pyplot as plt\n",
    "\n",
    "sns.set_style('darkgrid')\n",
    "sns.scatterplot(data = states_df, x = 'hs_grad', y = 'poverty')\n",
    "plt.show()"
   ]
  },
  {
   "cell_type": "code",
   "execution_count": 8,
   "id": "1c0b9f19",
   "metadata": {},
   "outputs": [
    {
     "data": {
      "text/html": [
       "<div>\n",
       "<style scoped>\n",
       "    .dataframe tbody tr th:only-of-type {\n",
       "        vertical-align: middle;\n",
       "    }\n",
       "\n",
       "    .dataframe tbody tr th {\n",
       "        vertical-align: top;\n",
       "    }\n",
       "\n",
       "    .dataframe thead th {\n",
       "        text-align: right;\n",
       "    }\n",
       "</style>\n",
       "<table border=\"1\" class=\"dataframe\">\n",
       "  <thead>\n",
       "    <tr style=\"text-align: right;\">\n",
       "      <th></th>\n",
       "      <th>metro_res</th>\n",
       "      <th>white</th>\n",
       "      <th>hs_grad</th>\n",
       "      <th>poverty</th>\n",
       "      <th>female_house</th>\n",
       "    </tr>\n",
       "  </thead>\n",
       "  <tbody>\n",
       "    <tr>\n",
       "      <th>count</th>\n",
       "      <td>51.000000</td>\n",
       "      <td>51.000000</td>\n",
       "      <td>51.000000</td>\n",
       "      <td>51.000000</td>\n",
       "      <td>51.000000</td>\n",
       "    </tr>\n",
       "    <tr>\n",
       "      <th>mean</th>\n",
       "      <td>72.249020</td>\n",
       "      <td>81.719608</td>\n",
       "      <td>86.011765</td>\n",
       "      <td>11.349020</td>\n",
       "      <td>11.633333</td>\n",
       "    </tr>\n",
       "    <tr>\n",
       "      <th>std</th>\n",
       "      <td>15.275894</td>\n",
       "      <td>13.897223</td>\n",
       "      <td>3.725998</td>\n",
       "      <td>3.099185</td>\n",
       "      <td>2.356155</td>\n",
       "    </tr>\n",
       "    <tr>\n",
       "      <th>min</th>\n",
       "      <td>38.200000</td>\n",
       "      <td>25.900000</td>\n",
       "      <td>77.200000</td>\n",
       "      <td>5.600000</td>\n",
       "      <td>7.800000</td>\n",
       "    </tr>\n",
       "    <tr>\n",
       "      <th>25%</th>\n",
       "      <td>60.800000</td>\n",
       "      <td>76.800000</td>\n",
       "      <td>83.300000</td>\n",
       "      <td>9.250000</td>\n",
       "      <td>9.550000</td>\n",
       "    </tr>\n",
       "    <tr>\n",
       "      <th>50%</th>\n",
       "      <td>71.600000</td>\n",
       "      <td>85.400000</td>\n",
       "      <td>86.900000</td>\n",
       "      <td>10.600000</td>\n",
       "      <td>11.800000</td>\n",
       "    </tr>\n",
       "    <tr>\n",
       "      <th>75%</th>\n",
       "      <td>86.800000</td>\n",
       "      <td>90.250000</td>\n",
       "      <td>88.700000</td>\n",
       "      <td>13.400000</td>\n",
       "      <td>12.650000</td>\n",
       "    </tr>\n",
       "    <tr>\n",
       "      <th>max</th>\n",
       "      <td>100.000000</td>\n",
       "      <td>97.100000</td>\n",
       "      <td>92.100000</td>\n",
       "      <td>18.000000</td>\n",
       "      <td>18.900000</td>\n",
       "    </tr>\n",
       "  </tbody>\n",
       "</table>\n",
       "</div>"
      ],
      "text/plain": [
       "        metro_res      white    hs_grad    poverty  female_house\n",
       "count   51.000000  51.000000  51.000000  51.000000     51.000000\n",
       "mean    72.249020  81.719608  86.011765  11.349020     11.633333\n",
       "std     15.275894  13.897223   3.725998   3.099185      2.356155\n",
       "min     38.200000  25.900000  77.200000   5.600000      7.800000\n",
       "25%     60.800000  76.800000  83.300000   9.250000      9.550000\n",
       "50%     71.600000  85.400000  86.900000  10.600000     11.800000\n",
       "75%     86.800000  90.250000  88.700000  13.400000     12.650000\n",
       "max    100.000000  97.100000  92.100000  18.000000     18.900000"
      ]
     },
     "execution_count": 8,
     "metadata": {},
     "output_type": "execute_result"
    }
   ],
   "source": [
    "states_df.describe()"
   ]
  },
  {
   "cell_type": "code",
   "execution_count": 9,
   "id": "88e14ffd",
   "metadata": {},
   "outputs": [
    {
     "data": {
      "image/png": "[encoded data removed]",
      "text/plain": [
       "<Figure size 640x480 with 1 Axes>"
      ]
     },
     "metadata": {},
     "output_type": "display_data"
    }
   ],
   "source": [
    "# hs_grad: mean = 86.011765, std = 3.725998\n",
    "# poverty: mean = 11.349020, std = 3.099185\n",
    "\n",
    "sns.regplot(data = states_df, x = 'hs_grad', y = 'poverty') #ci = None - откл. довер. интервал\n",
    "plt.show()"
   ]
  },
  {
   "cell_type": "code",
   "execution_count": 15,
   "id": "36b1de8c",
   "metadata": {},
   "outputs": [
    {
     "data": {
      "text/plain": [
       "(-0.6212167177940104,\n",
       " 64.78096577010207,\n",
       " -0.7468582531582504,\n",
       " 3.1088298103184433e-10,\n",
       " 0.0790164710017928)"
      ]
     },
     "execution_count": 15,
     "metadata": {},
     "output_type": "execute_result"
    }
   ],
   "source": [
    "from scipy.stats import linregress\n",
    "\n",
    "slope, intercept, r_value, p_value, se = linregress(x = states_df['hs_grad'], y = states_df['poverty'])\n",
    "slope, intercept, r_value, p_value, se #slope =  w1"
   ]
  },
  {
   "cell_type": "code",
   "execution_count": 17,
   "id": "adda14bd",
   "metadata": {},
   "outputs": [
    {
     "name": "stdout",
     "output_type": "stream",
     "text": [
      "Отклоняем нулевую гипотезу\n"
     ]
    }
   ],
   "source": [
    "H0 = 'w1 = 0'\n",
    "if p_value < 0.05:\n",
    "    print('Отклоняем нулевую гипотезу')"
   ]
  },
  {
   "cell_type": "code",
   "execution_count": 18,
   "id": "1341e71e",
   "metadata": {},
   "outputs": [
    {
     "data": {
      "text/plain": [
       "0.5577972503105932"
      ]
     },
     "execution_count": 18,
     "metadata": {},
     "output_type": "execute_result"
    }
   ],
   "source": [
    "R_squared = r_value**2\n",
    "R_squared"
   ]
  },
  {
   "cell_type": "code",
   "execution_count": 20,
   "id": "136a5ed9",
   "metadata": {},
   "outputs": [
    {
     "data": {
      "text/plain": [
       "26.265529266873422"
      ]
     },
     "execution_count": 20,
     "metadata": {},
     "output_type": "execute_result"
    }
   ],
   "source": [
    "#ПРЕДСКАЗАНИЕ\n",
    "w1 = slope\n",
    "w0 = intercept\n",
    "#x = states_df['hs_grad']\n",
    "x = 62\n",
    "\n",
    "y_pred = w0 + w1*x\n",
    "y_pred"
   ]
  },
  {
   "cell_type": "code",
   "execution_count": 26,
   "id": "d24767ca",
   "metadata": {},
   "outputs": [
    {
     "data": {
      "text/plain": [
       "const           66.476525\n",
       "metro_res       -0.056323\n",
       "white           -0.048144\n",
       "hs_grad         -0.554713\n",
       "female_house     0.050543\n",
       "dtype: float64"
      ]
     },
     "execution_count": 26,
     "metadata": {},
     "output_type": "execute_result"
    }
   ],
   "source": [
    "import statsmodels.api as sm\n",
    "\n",
    "Y = states_df['poverty']\n",
    "X = states_df[['metro_res', 'white', 'hs_grad', 'female_house']]\n",
    "X = sm.add_constant(X)\n",
    "\n",
    "model = sm.OLS(Y, X)\n",
    "results = model.fit()\n",
    "results.params"
   ]
  },
  {
   "cell_type": "code",
   "execution_count": 32,
   "id": "a0abf21a",
   "metadata": {},
   "outputs": [
    {
     "data": {
      "text/html": [
       "<table class=\"simpletable\">\n",
       "<caption>OLS Regression Results</caption>\n",
       "<tr>\n",
       "  <th>Dep. Variable:</th>         <td>poverty</td>     <th>  R-squared:         </th> <td>   0.642</td>\n",
       "</tr>\n",
       "<tr>\n",
       "  <th>Model:</th>                   <td>OLS</td>       <th>  Adj. R-squared:    </th> <td>   0.610</td>\n",
       "</tr>\n",
       "<tr>\n",
       "  <th>Method:</th>             <td>Least Squares</td>  <th>  F-statistic:       </th> <td>   20.58</td>\n",
       "</tr>\n",
       "<tr>\n",
       "  <th>Date:</th>             <td>Wed, 06 Sep 2023</td> <th>  Prob (F-statistic):</th> <td>8.88e-10</td>\n",
       "</tr>\n",
       "<tr>\n",
       "  <th>Time:</th>                 <td>13:34:26</td>     <th>  Log-Likelihood:    </th> <td> -103.39</td>\n",
       "</tr>\n",
       "<tr>\n",
       "  <th>No. Observations:</th>      <td>    51</td>      <th>  AIC:               </th> <td>   216.8</td>\n",
       "</tr>\n",
       "<tr>\n",
       "  <th>Df Residuals:</th>          <td>    46</td>      <th>  BIC:               </th> <td>   226.4</td>\n",
       "</tr>\n",
       "<tr>\n",
       "  <th>Df Model:</th>              <td>     4</td>      <th>                     </th>     <td> </td>   \n",
       "</tr>\n",
       "<tr>\n",
       "  <th>Covariance Type:</th>      <td>nonrobust</td>    <th>                     </th>     <td> </td>   \n",
       "</tr>\n",
       "</table>\n",
       "<table class=\"simpletable\">\n",
       "<tr>\n",
       "        <td></td>          <th>coef</th>     <th>std err</th>      <th>t</th>      <th>P>|t|</th>  <th>[0.025</th>    <th>0.975]</th>  \n",
       "</tr>\n",
       "<tr>\n",
       "  <th>const</th>        <td>   66.4765</td> <td>   12.590</td> <td>    5.280</td> <td> 0.000</td> <td>   41.134</td> <td>   91.819</td>\n",
       "</tr>\n",
       "<tr>\n",
       "  <th>metro_res</th>    <td>   -0.0563</td> <td>    0.020</td> <td>   -2.881</td> <td> 0.006</td> <td>   -0.096</td> <td>   -0.017</td>\n",
       "</tr>\n",
       "<tr>\n",
       "  <th>white</th>        <td>   -0.0481</td> <td>    0.033</td> <td>   -1.456</td> <td> 0.152</td> <td>   -0.115</td> <td>    0.018</td>\n",
       "</tr>\n",
       "<tr>\n",
       "  <th>hs_grad</th>      <td>   -0.5547</td> <td>    0.105</td> <td>   -5.288</td> <td> 0.000</td> <td>   -0.766</td> <td>   -0.344</td>\n",
       "</tr>\n",
       "<tr>\n",
       "  <th>female_house</th> <td>    0.0505</td> <td>    0.243</td> <td>    0.208</td> <td> 0.836</td> <td>   -0.439</td> <td>    0.540</td>\n",
       "</tr>\n",
       "</table>\n",
       "<table class=\"simpletable\">\n",
       "<tr>\n",
       "  <th>Omnibus:</th>       <td> 3.254</td> <th>  Durbin-Watson:     </th> <td>   1.891</td>\n",
       "</tr>\n",
       "<tr>\n",
       "  <th>Prob(Omnibus):</th> <td> 0.197</td> <th>  Jarque-Bera (JB):  </th> <td>   3.043</td>\n",
       "</tr>\n",
       "<tr>\n",
       "  <th>Skew:</th>          <td> 0.585</td> <th>  Prob(JB):          </th> <td>   0.218</td>\n",
       "</tr>\n",
       "<tr>\n",
       "  <th>Kurtosis:</th>      <td> 2.750</td> <th>  Cond. No.          </th> <td>6.50e+03</td>\n",
       "</tr>\n",
       "</table><br/><br/>Notes:<br/>[1] Standard Errors assume that the covariance matrix of the errors is correctly specified.<br/>[2] The condition number is large, 6.5e+03. This might indicate that there are<br/>strong multicollinearity or other numerical problems."
      ],
      "text/plain": [
       "<class 'statsmodels.iolib.summary.Summary'>\n",
       "\"\"\"\n",
       "                            OLS Regression Results                            \n",
       "==============================================================================\n",
       "Dep. Variable:                poverty   R-squared:                       0.642\n",
       "Model:                            OLS   Adj. R-squared:                  0.610\n",
       "Method:                 Least Squares   F-statistic:                     20.58\n",
       "Date:                Wed, 06 Sep 2023   Prob (F-statistic):           8.88e-10\n",
       "Time:                        13:34:26   Log-Likelihood:                -103.39\n",
       "No. Observations:                  51   AIC:                             216.8\n",
       "Df Residuals:                      46   BIC:                             226.4\n",
       "Df Model:                           4                                         \n",
       "Covariance Type:            nonrobust                                         \n",
       "================================================================================\n",
       "                   coef    std err          t      P>|t|      [0.025      0.975]\n",
       "--------------------------------------------------------------------------------\n",
       "const           66.4765     12.590      5.280      0.000      41.134      91.819\n",
       "metro_res       -0.0563      0.020     -2.881      0.006      -0.096      -0.017\n",
       "white           -0.0481      0.033     -1.456      0.152      -0.115       0.018\n",
       "hs_grad         -0.5547      0.105     -5.288      0.000      -0.766      -0.344\n",
       "female_house     0.0505      0.243      0.208      0.836      -0.439       0.540\n",
       "==============================================================================\n",
       "Omnibus:                        3.254   Durbin-Watson:                   1.891\n",
       "Prob(Omnibus):                  0.197   Jarque-Bera (JB):                3.043\n",
       "Skew:                           0.585   Prob(JB):                        0.218\n",
       "Kurtosis:                       2.750   Cond. No.                     6.50e+03\n",
       "==============================================================================\n",
       "\n",
       "Notes:\n",
       "[1] Standard Errors assume that the covariance matrix of the errors is correctly specified.\n",
       "[2] The condition number is large, 6.5e+03. This might indicate that there are\n",
       "strong multicollinearity or other numerical problems.\n",
       "\"\"\""
      ]
     },
     "execution_count": 32,
     "metadata": {},
     "output_type": "execute_result"
    }
   ],
   "source": [
    "results.summary()"
   ]
  },
  {
   "cell_type": "markdown",
   "id": "df242f1e",
   "metadata": {},
   "source": [
    "**Практика**"
   ]
  },
  {
   "cell_type": "code",
   "execution_count": 36,
   "id": "275ee8ce",
   "metadata": {},
   "outputs": [
    {
     "data": {
      "text/plain": [
       "13.013123359580051"
      ]
     },
     "execution_count": 36,
     "metadata": {},
     "output_type": "execute_result"
    }
   ],
   "source": [
    "w_intercept = 7.68\n",
    "w_costs = 3.66\n",
    "w_promotion = 7.62\n",
    "w_books = 0.82\n",
    "\n",
    "costs = 10\n",
    "books = 8\n",
    "receipts = 150\n",
    "\n",
    "#receipts = 7.68 + costs*3.66 + promotion*7.62 + books*0.82\n",
    "promotion = (150 - 7.68 - 10*3.66 - 8*0.82) / 7.62\n",
    "promotion"
   ]
  },
  {
   "cell_type": "markdown",
   "id": "196a01af",
   "metadata": {},
   "source": [
    "### Выбор наилучшей модели"
   ]
  },
  {
   "cell_type": "code",
   "execution_count": 38,
   "id": "b09bcd1d",
   "metadata": {},
   "outputs": [
    {
     "data": {
      "image/png": "[encoded data removed]",
      "text/plain": [
       "<Figure size 1250x1250 with 30 Axes>"
      ]
     },
     "metadata": {},
     "output_type": "display_data"
    }
   ],
   "source": [
    "sns.pairplot(data = states_df)\n",
    "\n",
    "plt.show()"
   ]
  },
  {
   "cell_type": "code",
   "execution_count": 39,
   "id": "0f626f09",
   "metadata": {},
   "outputs": [
    {
     "data": {
      "image/png": "[encoded data removed]",
      "text/plain": [
       "<Figure size 640x480 with 2 Axes>"
      ]
     },
     "metadata": {},
     "output_type": "display_data"
    }
   ],
   "source": [
    "sns.heatmap(states_df.corr(), annot = True)\n",
    "\n",
    "plt.show()"
   ]
  },
  {
   "cell_type": "markdown",
   "id": "3c3e3b9c",
   "metadata": {},
   "source": [
    "**Практика**"
   ]
  },
  {
   "cell_type": "code",
   "execution_count": 40,
   "id": "11bcf22e",
   "metadata": {},
   "outputs": [
    {
     "data": {
      "text/plain": [
       "10.400000000000006"
      ]
     },
     "execution_count": 40,
     "metadata": {},
     "output_type": "execute_result"
    }
   ],
   "source": [
    "intercept = 68.7\n",
    "w_white = -0.06\n",
    "w_metro_res = -0.05\n",
    "w_hs_grad = -0.57\n",
    "\n",
    "white = 50\n",
    "hs_grad = 90\n",
    "metro_res = 80\n",
    "\n",
    "poverty = intercept + w_white*white + w_metro_res*metro_res + w_hs_grad*hs_grad\n",
    "poverty"
   ]
  }
 ],
 "metadata": {
  "kernelspec": {
   "display_name": "Python 3",
   "language": "python",
   "name": "python3"
  },
  "language_info": {
   "codemirror_mode": {
    "name": "ipython",
    "version": 3
   },
   "file_extension": ".py",
   "mimetype": "text/x-python",
   "name": "python",
   "nbconvert_exporter": "python",
   "pygments_lexer": "ipython3",
   "version": "3.7.3"
  }
 },
 "nbformat": 4,
 "nbformat_minor": 5
}
