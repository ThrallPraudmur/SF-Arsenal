{
 "cells": [
  {
   "cell_type": "markdown",
   "id": "300e757b",
   "metadata": {},
   "source": [
    "### Доверительный интервал"
   ]
  },
  {
   "cell_type": "code",
   "execution_count": 3,
   "id": "66dafbdb",
   "metadata": {},
   "outputs": [],
   "source": [
    "values = np.array([1, 5, 2, 7, 1, 9, 3, 8, 5, 9])"
   ]
  },
  {
   "cell_type": "code",
   "execution_count": 4,
   "id": "70837cec",
   "metadata": {},
   "outputs": [
    {
     "data": {
      "text/plain": [
       "3.0"
      ]
     },
     "execution_count": 4,
     "metadata": {},
     "output_type": "execute_result"
    }
   ],
   "source": [
    "np.std(values)"
   ]
  },
  {
   "cell_type": "code",
   "execution_count": 13,
   "id": "4d77a24c",
   "metadata": {},
   "outputs": [],
   "source": [
    "# X_mean +- 1.96*se для 95% доверительного интервала\n",
    "# X_mean +- 2.58*se для 99% доверительного интервала\n",
    "X_mean = 10\n",
    "sd = 5\n",
    "n = 100\n",
    "\n",
    "se = sd / 100**0.5\n",
    "X_1 = X_mean - 2.58 * se\n",
    "X_2 = X_mean + 2.58 * se"
   ]
  },
  {
   "cell_type": "code",
   "execution_count": 14,
   "id": "61abad33",
   "metadata": {},
   "outputs": [
    {
     "name": "stdout",
     "output_type": "stream",
     "text": [
      "8.71 11.29\n"
     ]
    }
   ],
   "source": [
    "print(X_1, X_2)"
   ]
  },
  {
   "cell_type": "code",
   "execution_count": 15,
   "id": "40fbadf4",
   "metadata": {},
   "outputs": [],
   "source": [
    "X_mean = 18.5\n",
    "sd = 4\n",
    "n = 64\n",
    "\n",
    "se = sd / n**0.5\n",
    "X_1 = X_mean - 1.96 * se\n",
    "X_2 = X_mean + 1.96 * se"
   ]
  },
  {
   "cell_type": "code",
   "execution_count": 16,
   "id": "2d19cb2b",
   "metadata": {},
   "outputs": [
    {
     "name": "stdout",
     "output_type": "stream",
     "text": [
      "17.52 19.48\n"
     ]
    }
   ],
   "source": [
    "print(X_1, X_2)"
   ]
  },
  {
   "cell_type": "code",
   "execution_count": 17,
   "id": "2ba7927a",
   "metadata": {},
   "outputs": [],
   "source": [
    "#Выборка: X_mean = 136\n",
    "#99% доверительный интерал [X_mean - 2.58 * se; X_mean - 2.58 * se]"
   ]
  },
  {
   "cell_type": "code",
   "execution_count": 18,
   "id": "3b1e7377",
   "metadata": {},
   "outputs": [
    {
     "data": {
      "text/plain": [
       "4.0"
      ]
     },
     "execution_count": 18,
     "metadata": {},
     "output_type": "execute_result"
    }
   ],
   "source": [
    "#Ген. совокупность: М = 115\n",
    "#Выборка: X_mean = 118, sd = 9, n = 144\n",
    "M = 115\n",
    "X_mean = 118\n",
    "sd = 9\n",
    "n = 144\n",
    "\n",
    "se = sd / n**0.5\n",
    "Z_score = (X_mean - M) / se\n",
    "\n",
    "Z_score #Значение b на калькуляторе, где standard deviation = 1 (ед. изм = ст. отклонения)"
   ]
  },
  {
   "cell_type": "markdown",
   "id": "e2af7264",
   "metadata": {},
   "source": [
    "### Сравнение двух средних"
   ]
  },
  {
   "cell_type": "code",
   "execution_count": 2,
   "id": "f3ab87cb",
   "metadata": {},
   "outputs": [],
   "source": [
    "# X_mean +- 1.96*se для 95% доверительного интервала\n",
    "# Однако в случае t-распределения 95% наблюдений могут лежать в более широком диапазоне\n",
    "t = 2.093 # по таблице для А=0.95"
   ]
  },
  {
   "cell_type": "code",
   "execution_count": 3,
   "id": "26e36a45",
   "metadata": {},
   "outputs": [],
   "source": [
    "X_mean = 89.9\n",
    "sd = 11.3\n",
    "n = 20"
   ]
  },
  {
   "cell_type": "code",
   "execution_count": 4,
   "id": "2fd8121d",
   "metadata": {},
   "outputs": [
    {
     "name": "stdout",
     "output_type": "stream",
     "text": [
      "84.61149798709502 95.18850201290499\n"
     ]
    }
   ],
   "source": [
    "se = sd / n**0.5\n",
    "X_1 = X_mean - t * se\n",
    "X_2 = X_mean + t * se\n",
    "print(X_1, X_2)"
   ]
  },
  {
   "cell_type": "code",
   "execution_count": 7,
   "id": "d71109b6",
   "metadata": {},
   "outputs": [],
   "source": [
    "#Средний возраст мужчин\n",
    "X_1 = 45\n",
    "sd_1 = 9\n",
    "n_1 = 100\n",
    "#Средний возраст женщин\n",
    "X_2 = 34\n",
    "sd_2 = 10\n",
    "n_2 = 100"
   ]
  },
  {
   "cell_type": "code",
   "execution_count": 8,
   "id": "947e08e7",
   "metadata": {},
   "outputs": [],
   "source": [
    "se = (sd_1**2 / n_1 + sd_2**2 / n_2)**0.5"
   ]
  },
  {
   "cell_type": "code",
   "execution_count": 10,
   "id": "626e632e",
   "metadata": {},
   "outputs": [
    {
     "data": {
      "text/plain": [
       "8.176235608718828"
      ]
     },
     "execution_count": 10,
     "metadata": {},
     "output_type": "execute_result"
    }
   ],
   "source": [
    "t = (X_1 - X_2) / se\n",
    "t"
   ]
  },
  {
   "cell_type": "markdown",
   "id": "1aa043e6",
   "metadata": {},
   "source": [
    "### One-way ANOVA, однофакторный дисперсионный анализ"
   ]
  },
  {
   "cell_type": "code",
   "execution_count": 1,
   "id": "0c900a7a",
   "metadata": {},
   "outputs": [
    {
     "name": "stderr",
     "output_type": "stream",
     "text": [
      "/home/gkuznetsov@prominn.local/.local/lib/python3.7/site-packages/pandas/compat/_optional.py:138: UserWarning: Pandas requires version '2.7.0' or newer of 'numexpr' (version '2.6.9' currently installed).\n",
      "  warnings.warn(msg, UserWarning)\n"
     ]
    },
    {
     "data": {
      "text/html": [
       "<div>\n",
       "<style scoped>\n",
       "    .dataframe tbody tr th:only-of-type {\n",
       "        vertical-align: middle;\n",
       "    }\n",
       "\n",
       "    .dataframe tbody tr th {\n",
       "        vertical-align: top;\n",
       "    }\n",
       "\n",
       "    .dataframe thead th {\n",
       "        text-align: right;\n",
       "    }\n",
       "</style>\n",
       "<table border=\"1\" class=\"dataframe\">\n",
       "  <thead>\n",
       "    <tr style=\"text-align: right;\">\n",
       "      <th></th>\n",
       "      <th>expr</th>\n",
       "      <th>Therapy</th>\n",
       "    </tr>\n",
       "  </thead>\n",
       "  <tbody>\n",
       "    <tr>\n",
       "      <th>0</th>\n",
       "      <td>100</td>\n",
       "      <td>A</td>\n",
       "    </tr>\n",
       "    <tr>\n",
       "      <th>1</th>\n",
       "      <td>96</td>\n",
       "      <td>A</td>\n",
       "    </tr>\n",
       "    <tr>\n",
       "      <th>2</th>\n",
       "      <td>101</td>\n",
       "      <td>A</td>\n",
       "    </tr>\n",
       "    <tr>\n",
       "      <th>3</th>\n",
       "      <td>95</td>\n",
       "      <td>A</td>\n",
       "    </tr>\n",
       "    <tr>\n",
       "      <th>4</th>\n",
       "      <td>103</td>\n",
       "      <td>A</td>\n",
       "    </tr>\n",
       "  </tbody>\n",
       "</table>\n",
       "</div>"
      ],
      "text/plain": [
       "   expr Therapy\n",
       "0   100       A\n",
       "1    96       A\n",
       "2   101       A\n",
       "3    95       A\n",
       "4   103       A"
      ]
     },
     "execution_count": 1,
     "metadata": {},
     "output_type": "execute_result"
    }
   ],
   "source": [
    "import pandas as pd\n",
    "therapy_df = pd.read_csv('genetherapy.csv')\n",
    "therapy_df.head()"
   ]
  },
  {
   "cell_type": "code",
   "execution_count": 6,
   "id": "32798309",
   "metadata": {},
   "outputs": [
    {
     "data": {
      "text/html": [
       "<div>\n",
       "<style scoped>\n",
       "    .dataframe tbody tr th:only-of-type {\n",
       "        vertical-align: middle;\n",
       "    }\n",
       "\n",
       "    .dataframe tbody tr th {\n",
       "        vertical-align: top;\n",
       "    }\n",
       "\n",
       "    .dataframe thead th {\n",
       "        text-align: right;\n",
       "    }\n",
       "</style>\n",
       "<table border=\"1\" class=\"dataframe\">\n",
       "  <thead>\n",
       "    <tr style=\"text-align: right;\">\n",
       "      <th></th>\n",
       "      <th>expr</th>\n",
       "    </tr>\n",
       "    <tr>\n",
       "      <th>Therapy</th>\n",
       "      <th></th>\n",
       "    </tr>\n",
       "  </thead>\n",
       "  <tbody>\n",
       "    <tr>\n",
       "      <th>A</th>\n",
       "      <td>15</td>\n",
       "    </tr>\n",
       "    <tr>\n",
       "      <th>B</th>\n",
       "      <td>15</td>\n",
       "    </tr>\n",
       "    <tr>\n",
       "      <th>C</th>\n",
       "      <td>15</td>\n",
       "    </tr>\n",
       "    <tr>\n",
       "      <th>D</th>\n",
       "      <td>15</td>\n",
       "    </tr>\n",
       "  </tbody>\n",
       "</table>\n",
       "</div>"
      ],
      "text/plain": [
       "         expr\n",
       "Therapy      \n",
       "A          15\n",
       "B          15\n",
       "C          15\n",
       "D          15"
      ]
     },
     "execution_count": 6,
     "metadata": {},
     "output_type": "execute_result"
    }
   ],
   "source": [
    "therapy_df.groupby('Therapy').count()"
   ]
  },
  {
   "cell_type": "code",
   "execution_count": 2,
   "id": "197de561",
   "metadata": {},
   "outputs": [],
   "source": [
    "# expr = независимая переменная, уровень экспрессии гена\n",
    "# Therapy = зависимая переменная, тип терапии\n",
    "from scipy.stats import f_oneway"
   ]
  },
  {
   "cell_type": "markdown",
   "id": "e1519c93",
   "metadata": {},
   "source": [
    "HO = 'В генеральной совокупности средний уровень экспрессии генов будет абсолютно одинаковый при использовании всех четырёх видов терпапии' </br>\n",
    "H1 = 'Как минимум два средних значимо различаются между собой'"
   ]
  },
  {
   "cell_type": "code",
   "execution_count": 8,
   "id": "8531e1da",
   "metadata": {},
   "outputs": [
    {
     "data": {
      "text/plain": [
       "F_onewayResult(statistic=8.03730248114399, pvalue=0.00015249722895229536)"
      ]
     },
     "execution_count": 8,
     "metadata": {},
     "output_type": "execute_result"
    }
   ],
   "source": [
    "therapy_df[therapy_df.Therapy == 'A'].expr\n",
    "therapy_df[therapy_df.Therapy == 'B'].expr\n",
    "therapy_df[therapy_df.Therapy == 'C'].expr\n",
    "therapy_df[therapy_df.Therapy == 'D'].expr\n",
    "\n",
    "f_oneway(therapy_df[therapy_df.Therapy == 'A'].expr, therapy_df[therapy_df.Therapy == 'B'].expr,\n",
    "         therapy_df[therapy_df.Therapy == 'C'].expr, therapy_df[therapy_df.Therapy == 'D'].expr)"
   ]
  },
  {
   "cell_type": "code",
   "execution_count": 15,
   "id": "fb188ee5",
   "metadata": {},
   "outputs": [
    {
     "data": {
      "image/png": "[encoded data removed]",
      "text/plain": [
       "<Figure size 640x480 with 1 Axes>"
      ]
     },
     "metadata": {},
     "output_type": "display_data"
    }
   ],
   "source": [
    "import matplotlib.pyplot as plt\n",
    "import seaborn as sns\n",
    "sns.boxplot(data = therapy_df, x = 'Therapy', y = 'expr')\n",
    "\n",
    "plt.grid()\n",
    "plt.show()"
   ]
  },
  {
   "cell_type": "markdown",
   "id": "cd141911",
   "metadata": {},
   "source": [
    "Если доверительные интервалы не включают среднее значение друг друга, то такие различия будут значимы. </br>"
   ]
  },
  {
   "cell_type": "markdown",
   "id": "89065529",
   "metadata": {},
   "source": [
    "### Критерий Тьюки"
   ]
  },
  {
   "cell_type": "code",
   "execution_count": 20,
   "id": "5441344c",
   "metadata": {},
   "outputs": [],
   "source": [
    "import numpy as np\n",
    "from statsmodels.stats.multicomp import pairwise_tukeyhsd"
   ]
  },
  {
   "cell_type": "code",
   "execution_count": 23,
   "id": "a36654a6",
   "metadata": {},
   "outputs": [
    {
     "name": "stdout",
     "output_type": "stream",
     "text": [
      " Multiple Comparison of Means - Tukey HSD, FWER=0.05 \n",
      "=====================================================\n",
      "group1 group2 meandiff p-adj   lower    upper  reject\n",
      "-----------------------------------------------------\n",
      "     A      B  -0.9333 0.9514  -5.5959  3.7292  False\n",
      "     A      C  -5.3333 0.0189  -9.9959 -0.6708   True\n",
      "     A      D     -7.4 0.0005 -12.0626 -2.7374   True\n",
      "     B      C     -4.4  0.071  -9.0626  0.2626  False\n",
      "     B      D  -6.4667 0.0029 -11.1292 -1.8041   True\n",
      "     C      D  -2.0667 0.6458  -6.7292  2.5959  False\n",
      "-----------------------------------------------------\n"
     ]
    }
   ],
   "source": [
    "print(pairwise_tukeyhsd(therapy_df.expr, therapy_df.Therapy, alpha=0.05))"
   ]
  },
  {
   "cell_type": "markdown",
   "id": "ee734a96",
   "metadata": {},
   "source": [
    "### Поправка Бонферрони"
   ]
  },
  {
   "cell_type": "code",
   "execution_count": 25,
   "id": "a186048f",
   "metadata": {},
   "outputs": [],
   "source": [
    "import math"
   ]
  },
  {
   "cell_type": "code",
   "execution_count": 27,
   "id": "d2ecbbfd",
   "metadata": {},
   "outputs": [
    {
     "data": {
      "text/plain": [
       "3.0"
      ]
     },
     "execution_count": 27,
     "metadata": {},
     "output_type": "execute_result"
    }
   ],
   "source": [
    "#C k по n, для попарного сравнения\n",
    "math.factorial(3) / math.factorial(2) / math.factorial(3-2)"
   ]
  },
  {
   "cell_type": "code",
   "execution_count": 28,
   "id": "2f579e05",
   "metadata": {},
   "outputs": [
    {
     "data": {
      "text/plain": [
       "0.016666666666666666"
      ]
     },
     "execution_count": 28,
     "metadata": {},
     "output_type": "execute_result"
    }
   ],
   "source": [
    "p = 0.05\n",
    "p / 3"
   ]
  },
  {
   "cell_type": "markdown",
   "id": "c3622630",
   "metadata": {},
   "source": [
    "### Многофакторный ANOVA"
   ]
  },
  {
   "cell_type": "code",
   "execution_count": 16,
   "id": "f1378a34",
   "metadata": {},
   "outputs": [],
   "source": [
    "import pandas as pd\n",
    "import seaborn as sns\n",
    "import matplotlib.pyplot as plt\n",
    "import pingouin as pg\n",
    "sns.set_style('darkgrid')"
   ]
  },
  {
   "cell_type": "code",
   "execution_count": 2,
   "id": "5b49f602",
   "metadata": {},
   "outputs": [
    {
     "data": {
      "text/html": [
       "<div>\n",
       "<style scoped>\n",
       "    .dataframe tbody tr th:only-of-type {\n",
       "        vertical-align: middle;\n",
       "    }\n",
       "\n",
       "    .dataframe tbody tr th {\n",
       "        vertical-align: top;\n",
       "    }\n",
       "\n",
       "    .dataframe thead th {\n",
       "        text-align: right;\n",
       "    }\n",
       "</style>\n",
       "<table border=\"1\" class=\"dataframe\">\n",
       "  <thead>\n",
       "    <tr style=\"text-align: right;\">\n",
       "      <th></th>\n",
       "      <th>expr</th>\n",
       "      <th>age</th>\n",
       "      <th>dose</th>\n",
       "    </tr>\n",
       "  </thead>\n",
       "  <tbody>\n",
       "    <tr>\n",
       "      <th>0</th>\n",
       "      <td>107.351478</td>\n",
       "      <td>1</td>\n",
       "      <td>D1</td>\n",
       "    </tr>\n",
       "    <tr>\n",
       "      <th>1</th>\n",
       "      <td>104.504438</td>\n",
       "      <td>1</td>\n",
       "      <td>D1</td>\n",
       "    </tr>\n",
       "    <tr>\n",
       "      <th>2</th>\n",
       "      <td>103.435134</td>\n",
       "      <td>1</td>\n",
       "      <td>D1</td>\n",
       "    </tr>\n",
       "  </tbody>\n",
       "</table>\n",
       "</div>"
      ],
      "text/plain": [
       "         expr  age dose\n",
       "0  107.351478    1   D1\n",
       "1  104.504438    1   D1\n",
       "2  103.435134    1   D1"
      ]
     },
     "execution_count": 2,
     "metadata": {},
     "output_type": "execute_result"
    }
   ],
   "source": [
    "ghen_df = pd.read_csv('atherosclerosis.csv')\n",
    "ghen_df.head(3)"
   ]
  },
  {
   "cell_type": "code",
   "execution_count": 13,
   "id": "8a727c76",
   "metadata": {},
   "outputs": [
    {
     "data": {
      "image/png": "[encoded data removed]",
      "text/plain": [
       "<Figure size 640x480 with 1 Axes>"
      ]
     },
     "metadata": {},
     "output_type": "display_data"
    }
   ],
   "source": [
    "sns.boxplot(data = ghen_df, x = ghen_df.dose, y = ghen_df.expr, hue = ghen_df.age)\n",
    "plt.grid(True)\n",
    "plt.show()"
   ]
  },
  {
   "cell_type": "code",
   "execution_count": 17,
   "id": "a19c4c5d",
   "metadata": {},
   "outputs": [
    {
     "data": {
      "text/html": [
       "<div>\n",
       "<style scoped>\n",
       "    .dataframe tbody tr th:only-of-type {\n",
       "        vertical-align: middle;\n",
       "    }\n",
       "\n",
       "    .dataframe tbody tr th {\n",
       "        vertical-align: top;\n",
       "    }\n",
       "\n",
       "    .dataframe thead th {\n",
       "        text-align: right;\n",
       "    }\n",
       "</style>\n",
       "<table border=\"1\" class=\"dataframe\">\n",
       "  <thead>\n",
       "    <tr style=\"text-align: right;\">\n",
       "      <th></th>\n",
       "      <th>Source</th>\n",
       "      <th>SS</th>\n",
       "      <th>DF</th>\n",
       "      <th>MS</th>\n",
       "      <th>F</th>\n",
       "      <th>p-unc</th>\n",
       "      <th>np2</th>\n",
       "    </tr>\n",
       "  </thead>\n",
       "  <tbody>\n",
       "    <tr>\n",
       "      <th>0</th>\n",
       "      <td>age</td>\n",
       "      <td>197.452754</td>\n",
       "      <td>1</td>\n",
       "      <td>197.452754</td>\n",
       "      <td>7.449841</td>\n",
       "      <td>0.008313</td>\n",
       "      <td>0.110450</td>\n",
       "    </tr>\n",
       "    <tr>\n",
       "      <th>1</th>\n",
       "      <td>dose</td>\n",
       "      <td>16.912241</td>\n",
       "      <td>1</td>\n",
       "      <td>16.912241</td>\n",
       "      <td>0.638094</td>\n",
       "      <td>0.427552</td>\n",
       "      <td>0.010523</td>\n",
       "    </tr>\n",
       "    <tr>\n",
       "      <th>2</th>\n",
       "      <td>age * dose</td>\n",
       "      <td>0.927077</td>\n",
       "      <td>1</td>\n",
       "      <td>0.927077</td>\n",
       "      <td>0.034978</td>\n",
       "      <td>0.852272</td>\n",
       "      <td>0.000583</td>\n",
       "    </tr>\n",
       "    <tr>\n",
       "      <th>3</th>\n",
       "      <td>Residual</td>\n",
       "      <td>1590.257424</td>\n",
       "      <td>60</td>\n",
       "      <td>26.504290</td>\n",
       "      <td>NaN</td>\n",
       "      <td>NaN</td>\n",
       "      <td>NaN</td>\n",
       "    </tr>\n",
       "  </tbody>\n",
       "</table>\n",
       "</div>"
      ],
      "text/plain": [
       "       Source           SS  DF          MS         F     p-unc       np2\n",
       "0         age   197.452754   1  197.452754  7.449841  0.008313  0.110450\n",
       "1        dose    16.912241   1   16.912241  0.638094  0.427552  0.010523\n",
       "2  age * dose     0.927077   1    0.927077  0.034978  0.852272  0.000583\n",
       "3    Residual  1590.257424  60   26.504290       NaN       NaN       NaN"
      ]
     },
     "execution_count": 17,
     "metadata": {},
     "output_type": "execute_result"
    }
   ],
   "source": [
    "pg.anova(dv = 'expr', between = ['age', 'dose'], data = ghen_df)"
   ]
  },
  {
   "cell_type": "code",
   "execution_count": 18,
   "id": "bd61b73b",
   "metadata": {},
   "outputs": [
    {
     "data": {
      "text/html": [
       "<div>\n",
       "<style scoped>\n",
       "    .dataframe tbody tr th:only-of-type {\n",
       "        vertical-align: middle;\n",
       "    }\n",
       "\n",
       "    .dataframe tbody tr th {\n",
       "        vertical-align: top;\n",
       "    }\n",
       "\n",
       "    .dataframe thead th {\n",
       "        text-align: right;\n",
       "    }\n",
       "</style>\n",
       "<table border=\"1\" class=\"dataframe\">\n",
       "  <thead>\n",
       "    <tr style=\"text-align: right;\">\n",
       "      <th></th>\n",
       "      <th>Source</th>\n",
       "      <th>SS</th>\n",
       "      <th>DF</th>\n",
       "      <th>MS</th>\n",
       "      <th>F</th>\n",
       "      <th>p-unc</th>\n",
       "      <th>np2</th>\n",
       "    </tr>\n",
       "  </thead>\n",
       "  <tbody>\n",
       "    <tr>\n",
       "      <th>0</th>\n",
       "      <td>age</td>\n",
       "      <td>197.452754</td>\n",
       "      <td>1</td>\n",
       "      <td>197.452754</td>\n",
       "      <td>7.449841</td>\n",
       "      <td>0.008313</td>\n",
       "      <td>0.110450</td>\n",
       "    </tr>\n",
       "    <tr>\n",
       "      <th>1</th>\n",
       "      <td>dose</td>\n",
       "      <td>16.912241</td>\n",
       "      <td>1</td>\n",
       "      <td>16.912241</td>\n",
       "      <td>0.638094</td>\n",
       "      <td>0.427552</td>\n",
       "      <td>0.010523</td>\n",
       "    </tr>\n",
       "    <tr>\n",
       "      <th>2</th>\n",
       "      <td>age * dose</td>\n",
       "      <td>0.927077</td>\n",
       "      <td>1</td>\n",
       "      <td>0.927077</td>\n",
       "      <td>0.034978</td>\n",
       "      <td>0.852272</td>\n",
       "      <td>0.000583</td>\n",
       "    </tr>\n",
       "    <tr>\n",
       "      <th>3</th>\n",
       "      <td>Residual</td>\n",
       "      <td>1590.257424</td>\n",
       "      <td>60</td>\n",
       "      <td>26.504290</td>\n",
       "      <td>NaN</td>\n",
       "      <td>NaN</td>\n",
       "      <td>NaN</td>\n",
       "    </tr>\n",
       "  </tbody>\n",
       "</table>\n",
       "</div>"
      ],
      "text/plain": [
       "       Source           SS  DF          MS         F     p-unc       np2\n",
       "0         age   197.452754   1  197.452754  7.449841  0.008313  0.110450\n",
       "1        dose    16.912241   1   16.912241  0.638094  0.427552  0.010523\n",
       "2  age * dose     0.927077   1    0.927077  0.034978  0.852272  0.000583\n",
       "3    Residual  1590.257424  60   26.504290       NaN       NaN       NaN"
      ]
     },
     "execution_count": 18,
     "metadata": {},
     "output_type": "execute_result"
    }
   ],
   "source": [
    "pg.anova(dv = 'expr', between = ['age', 'dose'], data = ghen_df, detailed = True)"
   ]
  },
  {
   "cell_type": "markdown",
   "id": "96b1d7de",
   "metadata": {},
   "source": [
    "### Взаимодействие факторов в ANOVA"
   ]
  },
  {
   "cell_type": "code",
   "execution_count": 19,
   "id": "1e82cd2f",
   "metadata": {},
   "outputs": [
    {
     "data": {
      "text/html": [
       "<div>\n",
       "<style scoped>\n",
       "    .dataframe tbody tr th:only-of-type {\n",
       "        vertical-align: middle;\n",
       "    }\n",
       "\n",
       "    .dataframe tbody tr th {\n",
       "        vertical-align: top;\n",
       "    }\n",
       "\n",
       "    .dataframe thead th {\n",
       "        text-align: right;\n",
       "    }\n",
       "</style>\n",
       "<table border=\"1\" class=\"dataframe\">\n",
       "  <thead>\n",
       "    <tr style=\"text-align: right;\">\n",
       "      <th></th>\n",
       "      <th>var4</th>\n",
       "      <th>hormone</th>\n",
       "      <th>sex</th>\n",
       "    </tr>\n",
       "  </thead>\n",
       "  <tbody>\n",
       "    <tr>\n",
       "      <th>0</th>\n",
       "      <td>17.859039</td>\n",
       "      <td>1</td>\n",
       "      <td>1</td>\n",
       "    </tr>\n",
       "    <tr>\n",
       "      <th>1</th>\n",
       "      <td>20.842343</td>\n",
       "      <td>1</td>\n",
       "      <td>1</td>\n",
       "    </tr>\n",
       "    <tr>\n",
       "      <th>2</th>\n",
       "      <td>19.318099</td>\n",
       "      <td>1</td>\n",
       "      <td>1</td>\n",
       "    </tr>\n",
       "  </tbody>\n",
       "</table>\n",
       "</div>"
      ],
      "text/plain": [
       "        var4  hormone  sex\n",
       "0  17.859039        1    1\n",
       "1  20.842343        1    1\n",
       "2  19.318099        1    1"
      ]
     },
     "execution_count": 19,
     "metadata": {},
     "output_type": "execute_result"
    }
   ],
   "source": [
    "birds_df = pd.read_csv('birds.csv')\n",
    "birds_df.head(3)"
   ]
  },
  {
   "cell_type": "code",
   "execution_count": 20,
   "id": "2b3d3bda",
   "metadata": {},
   "outputs": [
    {
     "data": {
      "text/html": [
       "<div>\n",
       "<style scoped>\n",
       "    .dataframe tbody tr th:only-of-type {\n",
       "        vertical-align: middle;\n",
       "    }\n",
       "\n",
       "    .dataframe tbody tr th {\n",
       "        vertical-align: top;\n",
       "    }\n",
       "\n",
       "    .dataframe thead th {\n",
       "        text-align: right;\n",
       "    }\n",
       "</style>\n",
       "<table border=\"1\" class=\"dataframe\">\n",
       "  <thead>\n",
       "    <tr style=\"text-align: right;\">\n",
       "      <th></th>\n",
       "      <th>Source</th>\n",
       "      <th>SS</th>\n",
       "      <th>DF</th>\n",
       "      <th>MS</th>\n",
       "      <th>F</th>\n",
       "      <th>p-unc</th>\n",
       "      <th>np2</th>\n",
       "    </tr>\n",
       "  </thead>\n",
       "  <tbody>\n",
       "    <tr>\n",
       "      <th>0</th>\n",
       "      <td>hormone</td>\n",
       "      <td>0.847472</td>\n",
       "      <td>1</td>\n",
       "      <td>0.847472</td>\n",
       "      <td>0.086528</td>\n",
       "      <td>0.769653</td>\n",
       "      <td>0.001440</td>\n",
       "    </tr>\n",
       "    <tr>\n",
       "      <th>1</th>\n",
       "      <td>sex</td>\n",
       "      <td>0.119762</td>\n",
       "      <td>1</td>\n",
       "      <td>0.119762</td>\n",
       "      <td>0.012228</td>\n",
       "      <td>0.912318</td>\n",
       "      <td>0.000204</td>\n",
       "    </tr>\n",
       "    <tr>\n",
       "      <th>2</th>\n",
       "      <td>hormone * sex</td>\n",
       "      <td>89.483384</td>\n",
       "      <td>1</td>\n",
       "      <td>89.483384</td>\n",
       "      <td>9.136390</td>\n",
       "      <td>0.003682</td>\n",
       "      <td>0.132150</td>\n",
       "    </tr>\n",
       "    <tr>\n",
       "      <th>3</th>\n",
       "      <td>Residual</td>\n",
       "      <td>587.650394</td>\n",
       "      <td>60</td>\n",
       "      <td>9.794173</td>\n",
       "      <td>NaN</td>\n",
       "      <td>NaN</td>\n",
       "      <td>NaN</td>\n",
       "    </tr>\n",
       "  </tbody>\n",
       "</table>\n",
       "</div>"
      ],
      "text/plain": [
       "          Source          SS  DF         MS         F     p-unc       np2\n",
       "0        hormone    0.847472   1   0.847472  0.086528  0.769653  0.001440\n",
       "1            sex    0.119762   1   0.119762  0.012228  0.912318  0.000204\n",
       "2  hormone * sex   89.483384   1  89.483384  9.136390  0.003682  0.132150\n",
       "3       Residual  587.650394  60   9.794173       NaN       NaN       NaN"
      ]
     },
     "execution_count": 20,
     "metadata": {},
     "output_type": "execute_result"
    }
   ],
   "source": [
    "pg.anova(dv = 'var4', between = ['hormone', 'sex'], data = birds_df)"
   ]
  },
  {
   "cell_type": "markdown",
   "id": "633e2879",
   "metadata": {},
   "source": [
    "Независимые переменные = Инъекция (отсутствие или наличие) и Пол. </br>\n",
    "Зависимая переменная = Концентрация кальция. </br>\n",
    "Ни фактор инъекции, ни фактор пола не оказали значимого влияния на зависимую переменную. Изменчивость, которая обуславливается этими факторами, очень не велика. </br>\n",
    "**Но** взаимодействие этих факторов оказало довольно значимое влияние."
   ]
  },
  {
   "cell_type": "code",
   "execution_count": 25,
   "id": "7d5534e1",
   "metadata": {},
   "outputs": [
    {
     "data": {
      "image/png": "[encoded data removed]",
      "text/plain": [
       "<Figure size 640x480 with 1 Axes>"
      ]
     },
     "metadata": {},
     "output_type": "display_data"
    }
   ],
   "source": [
    "sns.pointplot(x = 'hormone', y = 'var4', hue= 'sex' , dodge = 0.1, capsize = .1, data = birds_df)\n",
    "plt.show()"
   ]
  },
  {
   "cell_type": "markdown",
   "id": "969bf2c2",
   "metadata": {},
   "source": [
    "Сам факт инъекции **по разному** повлиял на концентрацию кальция в плазме в зависимости от пола."
   ]
  }
 ],
 "metadata": {
  "kernelspec": {
   "display_name": "Python 3",
   "language": "python",
   "name": "python3"
  },
  "language_info": {
   "codemirror_mode": {
    "name": "ipython",
    "version": 3
   },
   "file_extension": ".py",
   "mimetype": "text/x-python",
   "name": "python",
   "nbconvert_exporter": "python",
   "pygments_lexer": "ipython3",
   "version": "3.7.3"
  }
 },
 "nbformat": 4,
 "nbformat_minor": 5
}
