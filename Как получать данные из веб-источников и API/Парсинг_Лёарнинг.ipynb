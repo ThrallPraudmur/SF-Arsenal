{
  "nbformat": 4,
  "nbformat_minor": 0,
  "metadata": {
    "colab": {
      "provenance": [],
      "collapsed_sections": [
        "HrF7jWWnDvt1",
        "s7ea5lW261_H"
      ],
      "authorship_tag": "ABX9TyOPBLehgKxWBQl4bWbffEcq",
      "include_colab_link": true
    },
    "kernelspec": {
      "name": "python3",
      "display_name": "Python 3"
    },
    "language_info": {
      "name": "python"
    }
  },
  "cells": [
    {
      "cell_type": "markdown",
      "metadata": {
        "id": "view-in-github",
        "colab_type": "text"
      },
      "source": [
        "<a href=\"https://colab.research.google.com/github/ThrallPraudmur/SF-Arsenal/blob/main/%D0%9A%D0%B0%D0%BA%20%D0%BF%D0%BE%D0%BB%D1%83%D1%87%D0%B0%D1%82%D1%8C%20%D0%B4%D0%B0%D0%BD%D0%BD%D1%8B%D0%B5%20%D0%B8%D0%B7%20%D0%B2%D0%B5%D0%B1-%D0%B8%D1%81%D1%82%D0%BE%D1%87%D0%BD%D0%B8%D0%BA%D0%BE%D0%B2%20%D0%B8%20API/%D0%9F%D0%B0%D1%80%D1%81%D0%B8%D0%BD%D0%B3_%D0%9B%D1%91%D0%B0%D1%80%D0%BD%D0%B8%D0%BD%D0%B3.ipynb\" target=\"_parent\"><img src=\"https://colab.research.google.com/assets/colab-badge.svg\" alt=\"Open In Colab\"/></a>"
      ]
    },
    {
      "cell_type": "markdown",
      "source": [
        "## Библиотека REQUESTS\n",
        "\n",
        "Код | Описание\n",
        "--- | ---\n",
        "200 | Мы успешно подключились и получили ответ от сайта\n",
        "200-300 | Успешно\n",
        "300-400 | Перенаправление на другую страницу сайта\n",
        "400-500 | Ошибка на стороне клиента\n",
        "404 | Страница не найдена\n",
        "500-600 | Ошибка на стороне сервера"
      ],
      "metadata": {
        "id": "HrF7jWWnDvt1"
      }
    },
    {
      "cell_type": "code",
      "execution_count": null,
      "metadata": {
        "colab": {
          "base_uri": "https://localhost:8080/"
        },
        "id": "le79mPLa08lI",
        "outputId": "6aff849a-b84d-4e20-b1c3-67858a05c977"
      },
      "outputs": [
        {
          "output_type": "execute_result",
          "data": {
            "text/plain": [
              "200"
            ]
          },
          "metadata": {},
          "execution_count": 1
        }
      ],
      "source": [
        "import requests\n",
        "response = requests.get('https://www.google.com/')\n",
        "response.status_code"
      ]
    },
    {
      "cell_type": "code",
      "source": [
        "response.content #СОДЕРЖИМОЕ СТРАНИЦЫ\n",
        "response.text #HTML CODE, МОЖНО СОХРАНИТЬ КАК HTML ФАЙЛ\n",
        "response.headers"
      ],
      "metadata": {
        "colab": {
          "base_uri": "https://localhost:8080/"
        },
        "id": "CFfLDNgd1Ce9",
        "outputId": "a99e28af-f279-4642-e650-07097fd4c5fa"
      },
      "execution_count": null,
      "outputs": [
        {
          "output_type": "execute_result",
          "data": {
            "text/plain": [
              "{'Date': 'Fri, 12 Jan 2024 08:11:07 GMT', 'Expires': '-1', 'Cache-Control': 'private, max-age=0', 'Content-Type': 'text/html; charset=ISO-8859-1', 'Content-Security-Policy-Report-Only': \"object-src 'none';base-uri 'self';script-src 'nonce-cbXeuMq_LKAlIiDc8MJ7GA' 'strict-dynamic' 'report-sample' 'unsafe-eval' 'unsafe-inline' https: http:;report-uri https://csp.withgoogle.com/csp/gws/other-hp\", 'P3P': 'CP=\"This is not a P3P policy! See g.co/p3phelp for more info.\"', 'Content-Encoding': 'gzip', 'Server': 'gws', 'X-XSS-Protection': '0', 'X-Frame-Options': 'SAMEORIGIN', 'Set-Cookie': '1P_JAR=2024-01-12-08; expires=Sun, 11-Feb-2024 08:11:07 GMT; path=/; domain=.google.com; Secure, AEC=Ae3NU9OqPzor0F0ffSuK_k5BGpHGGCTXkgMndQaX6VlzTCi17DRRzl6D05w; expires=Wed, 10-Jul-2024 08:11:07 GMT; path=/; domain=.google.com; Secure; HttpOnly; SameSite=lax, NID=511=g8YF2ELARcx6dPBb2h2gemFzLpqfVZHisqonOlm6DheQpyffbKNNJPYUSrlUW_KnWhsr0pAcTSxASN_d92iH4g2l_LWdL5adPQdV3FXas2goOcvZ8B8-cWTGHlWMPZPJWAZMYYFdDchCUTDNsvvfVUDjR3nxNY_I3Df-vXez9OU; expires=Sat, 13-Jul-2024 08:11:07 GMT; path=/; domain=.google.com; HttpOnly', 'Transfer-Encoding': 'chunked'}"
            ]
          },
          "metadata": {},
          "execution_count": 3
        }
      ]
    },
    {
      "cell_type": "markdown",
      "source": [
        "Обратим внимание на ссылку `https://www.google.com/search?q=emmy+mayers ...` </br>\n",
        "В `q=` передаётся объект поиска"
      ],
      "metadata": {
        "id": "rPL1UutVx-uF"
      }
    },
    {
      "cell_type": "code",
      "source": [
        "params = {'q': 'emmy mayers'}\n",
        "response = requests.get('https://www.google.com/search', params = params)\n",
        "response.status_code"
      ],
      "metadata": {
        "colab": {
          "base_uri": "https://localhost:8080/"
        },
        "id": "EWHP9BRr3iUF",
        "outputId": "8553d96d-fc88-47fe-fec9-e72186581165"
      },
      "execution_count": null,
      "outputs": [
        {
          "output_type": "execute_result",
          "data": {
            "text/plain": [
              "200"
            ]
          },
          "metadata": {},
          "execution_count": 6
        }
      ]
    },
    {
      "cell_type": "markdown",
      "source": [
        "Сайт OpenWeather предоставляет API для обращения к данным:\n",
        "```\n",
        "https://api.openweathermap.org/data/2.5/weather?q={city name}&appid={API key}\n",
        "```\n",
        "Под маску `q = {city name} & appid = {API key}` пропишем params"
      ],
      "metadata": {
        "id": "RtjE7eIozNs5"
      }
    },
    {
      "cell_type": "code",
      "source": [
        "api_token = '6f741eaf0da872d92b48f8e92df7b943' #API KEY\n",
        "api_call = 'https://api.openweathermap.org/data/2.5/weather'\n",
        "\n",
        "params = {'q': 'Лондон', 'appid': api_token}\n",
        "response = requests.get(api_call, params)\n",
        "response.status_code"
      ],
      "metadata": {
        "id": "NgeotrI08oyY",
        "colab": {
          "base_uri": "https://localhost:8080/"
        },
        "outputId": "0b922bcf-134b-4f8d-f130-3ddc3f506f63"
      },
      "execution_count": null,
      "outputs": [
        {
          "output_type": "execute_result",
          "data": {
            "text/plain": [
              "200"
            ]
          },
          "metadata": {},
          "execution_count": 7
        }
      ]
    },
    {
      "cell_type": "markdown",
      "source": [
        "Корректный ответ запроса **response** можно использовать как True-значение в опреторе `if response` в том же цикле, допустим, или при обработке исключений. </br>\n",
        "Ответ запроса лучше вернуть в виде словаря с помощью `.json()` </br>\n",
        "С помощью параметра `units = metric` представим информацию о погоде в Цельсиях"
      ],
      "metadata": {
        "id": "vjCq2C2s1BV5"
      }
    },
    {
      "cell_type": "code",
      "source": [
        "params = {'q': 'Лондон', 'appid': api_token, 'units': 'metric'}\n",
        "\n",
        "response = requests.get(api_call, params)\n",
        "response.json()['weather'][0]['main']"
      ],
      "metadata": {
        "id": "r60_VBNKBIHU",
        "colab": {
          "base_uri": "https://localhost:8080/",
          "height": 35
        },
        "outputId": "b97af4ce-ecf6-4fbc-c3d7-c15e27f540a0"
      },
      "execution_count": null,
      "outputs": [
        {
          "output_type": "execute_result",
          "data": {
            "text/plain": [
              "'Clouds'"
            ],
            "application/vnd.google.colaboratory.intrinsic+json": {
              "type": "string"
            }
          },
          "metadata": {},
          "execution_count": 33
        }
      ]
    },
    {
      "cell_type": "markdown",
      "source": [
        "Если мы передаём серверу данные в виде json-словаря, то необходимо указать\n",
        "```python\n",
        "'Content-Type': 'application/json'\n",
        "```"
      ],
      "metadata": {
        "id": "xdOmQYbT5rp-"
      }
    },
    {
      "cell_type": "markdown",
      "source": [
        "## Передача своих заголовков"
      ],
      "metadata": {
        "id": "s7ea5lW261_H"
      }
    },
    {
      "cell_type": "code",
      "source": [
        "response = requests.get('https://httpbin.org/headers')\n",
        "response.json()['headers']['User-Agent']"
      ],
      "metadata": {
        "colab": {
          "base_uri": "https://localhost:8080/",
          "height": 35
        },
        "id": "m8YVoBYh8zHn",
        "outputId": "112b0aae-b516-4f5e-d026-b0053b5f0622"
      },
      "execution_count": null,
      "outputs": [
        {
          "output_type": "execute_result",
          "data": {
            "text/plain": [
              "'python-requests/2.31.0'"
            ],
            "application/vnd.google.colaboratory.intrinsic+json": {
              "type": "string"
            }
          },
          "metadata": {},
          "execution_count": 16
        }
      ]
    },
    {
      "cell_type": "markdown",
      "source": [
        "Сайт видит, что запрос идёт не от браузера и зачастую его блокирует\n",
        "```python\n",
        "'User-Agent': 'python-requests/2.31.0'\n",
        "```\n",
        "Для успешного запроса достаточно будет строки\n",
        "```python\n",
        "'User-Agent': 'Mozilla/5.0 (Windows NT 10.0; Win64; x64) AppleWebKit/537.36 (KHTML, like Gecko) Chrome/117.0.0.0 Safari/537.36'\n",
        "```"
      ],
      "metadata": {
        "id": "7vdCQszf9VOa"
      }
    },
    {
      "cell_type": "code",
      "source": [
        "headers = {\n",
        "    \"Accept\": \"application/json\",\n",
        "    \"Accept-Language\": \"ru-RU,ru;q=0.9,en-US;q=0.8,en;q=0.7\",\n",
        "    \"Host\": \"httpbin.org\",\n",
        "    \"Referer\": \"https://httpbin.org/\",\n",
        "    \"Sec-Ch-Ua\": \"\\\"Google Chrome\\\";v=\\\"117\\\", \\\"Not;A=Brand\\\";v=\\\"8\\\", \\\"Chromium\\\";v=\\\"117\\\"\",\n",
        "    \"Sec-Ch-Ua-Mobile\": \"?0\",\n",
        "    \"Sec-Ch-Ua-Platform\": \"\\\"Windows\\\"\",\n",
        "    \"Sec-Fetch-Dest\": \"empty\",\n",
        "    \"Sec-Fetch-Mode\": \"cors\",\n",
        "    \"Sec-Fetch-Site\": \"same-origin\",\n",
        "    \"User-Agent\": \"Mozilla/5.0 (Windows NT 10.0; Win64; x64) AppleWebKit/537.36 (KHTML, like Gecko) Chrome/117.0.0.0 Safari/537.36\",\n",
        "    \"X-Amzn-Trace-Id\": \"Root=1-6555f198-71e7d39e51f128144aa69ccf\"\n",
        "  }\n",
        "\n",
        "#ЗАМАСКИРУЕМ СЕБЯ\n",
        "response = requests.get('https://httpbin.org/headers', headers = headers)\n",
        "response.json()['headers']['User-Agent'] #тестируем запросы на этом сайте"
      ],
      "metadata": {
        "colab": {
          "base_uri": "https://localhost:8080/",
          "height": 35
        },
        "id": "iIDYvSqkr4Lu",
        "outputId": "6c0c1f6a-f16d-45e4-d39b-02572ae28fde"
      },
      "execution_count": null,
      "outputs": [
        {
          "output_type": "execute_result",
          "data": {
            "text/plain": [
              "'Mozilla/5.0 (Windows NT 10.0; Win64; x64) AppleWebKit/537.36 (KHTML, like Gecko) Chrome/117.0.0.0 Safari/537.36'"
            ],
            "application/vnd.google.colaboratory.intrinsic+json": {
              "type": "string"
            }
          },
          "metadata": {},
          "execution_count": 18
        }
      ]
    },
    {
      "cell_type": "markdown",
      "source": [
        "POST-запросы используются при заполнении формы на сайте"
      ],
      "metadata": {
        "id": "wHSsas5TAdzc"
      }
    },
    {
      "cell_type": "code",
      "source": [
        "data = {'custname': 'Олень', 'custtel': 'Северный'}\n",
        "response = requests.post('https://httpbin.org/post', headers = headers, data = data)\n",
        "response.json()['form']"
      ],
      "metadata": {
        "id": "z-zjgZYtr4U7",
        "colab": {
          "base_uri": "https://localhost:8080/"
        },
        "outputId": "13839a58-c859-490d-b589-70cfa35d7985"
      },
      "execution_count": null,
      "outputs": [
        {
          "output_type": "execute_result",
          "data": {
            "text/plain": [
              "{'custname': 'Олень', 'custtel': 'Северный'}"
            ]
          },
          "metadata": {},
          "execution_count": 43
        }
      ]
    },
    {
      "cell_type": "markdown",
      "source": [
        "## Библиотека BEAUTIFUL SOUP"
      ],
      "metadata": {
        "id": "7v0XACdZ-37T"
      }
    },
    {
      "cell_type": "code",
      "source": [
        "%%capture\n",
        "!pip install beautifulsoup4\n",
        "!pip install lxml\n",
        "\n",
        "from bs4 import BeautifulSoup"
      ],
      "metadata": {
        "id": "WrS7ii-cy2ix"
      },
      "execution_count": null,
      "outputs": []
    },
    {
      "cell_type": "code",
      "source": [
        "url = 'https://scrapingclub.com/exercise/list_basic/&page=1'\n",
        "response = requests.get(url)\n",
        "\n",
        "#ПРИВЕДЁМ ФАЙЛ К ЧИТАЕМОМУ ВИДУ\n",
        "soup = BeautifulSoup(response.text, 'lxml') # + АНАЛИЗАТОР HTML КОДА\n",
        "data = soup.find('div', class_ = 'w-full rounded border') # ИЩЕМ ПЕРВЫЙ ВСТРЕЧНЫЙ ТЕГ DIV В КЛАССЕ W-FULL ROUNDED BORDER"
      ],
      "metadata": {
        "id": "VXMZ8DTMy2Sv"
      },
      "execution_count": null,
      "outputs": []
    },
    {
      "cell_type": "markdown",
      "source": [
        "С помощью анализатора HTML-кода `'lxml'` и метода `.find()` получим в читаемом виде содержимое тега div с ценой и наименованием товара, но первого встречного:\n",
        "```html\n",
        "<div class=\"w-full rounded border\">\n",
        "<a href=\"/exercise/list_basic_detail/90008-E/\">\n",
        "<img alt=\"\" class=\"card-img-top img-fluid\" src=\"/static/img/90008-E.jpg\"/>\n",
        "</a>\n",
        "<div class=\"p-4\">\n",
        "<h4>\n",
        "<a href=\"/exercise/list_basic_detail/90008-E/\">Short Dress</a>\n",
        "</h4>\n",
        "<h5>$24.99</h5>\n",
        "</div>\n",
        "</div>\n",
        "```\n",
        "Название товара находится в теге h4, тогда как цена находится в теге h5\n",
        "```python\n",
        "name = data.find('h4')\n",
        "```\n",
        "Код | Результат\n",
        "--- | ---\n",
        "name.text | \\nShort Dress\\n\n",
        "name.text.replace('\\n', '') | Short Dress\n",
        "\n",
        "```python\n",
        "price = data.find('h5').text\n",
        "price\n",
        "$24.99\n",
        "```\n",
        "Ссылка находится в теге a, коих два, поэтому поиск лучше осуществить по классу\n",
        "```python\n",
        "class_ = 'card-img-top img-fluid'\n",
        "```\n",
        "Вытащать её из открывашки можно с помощью метода `.get()`\n",
        "```python\n",
        "url_img = data.find('img', class_ = 'card-img-top img-fluid').get('src')\n",
        "url_img\n",
        "/static/img/90008-E.jpg\n",
        "```\n",
        "Ссылку на картинку необходимо будет дополнить, так как картинки хранятся в папке static. </b>\n",
        "Методом `.find_all()` можно собрать все теги div, в которых прописан какой-то класс:\n",
        "```python\n",
        "data = soup.find_all('div', class_ = 'w-full rounded border')\n",
        "len(data)\n",
        "10\n",
        "```\n",
        "Описание товара становится доступным после нажатия на название товара, где можно ознакомиться с более подробной информацией. Сама ссылка указана в атрибуте href тега а. </br>\n",
        "Сам тег а указывает на наличие гиперссылки\n",
        "```python\n",
        "list_cards_url = []\n",
        "\n",
        "#ОТКРЫВАЕМ НА КАЖДОЙ ИЗ СЕМИ СТРАНИЦ КАРТОЧКУ И ЗАПОЛНЯЕМ\n",
        "for count in range(1, 8):\n",
        "  sleep(3) #ждём 3 секунды\n",
        "  url = f'https://scrapingclub.com/exercise/list_basic/&page={count}'\n",
        "  response = requests.get(url, headers = headers)\n",
        "  soup = BeautifulSoup(response.text, 'lxml')\n",
        "  data = soup.find_all('div', class_ = 'w-full rounded border')\n",
        "\n",
        "  for elem in data:\n",
        "    card_url = 'https://scrapingclub.com' + elem.find('a').get('href')\n",
        "    list_cards_url.append(card_url)\n",
        "```\n",
        "Ознакомимся в каком виде данные получается при открытии карточки:\n",
        "```python\n",
        "response = requests.get('https://scrapingclub.com/exercise/list_basic_detail/90008-E/', headers = headers)\n",
        "soup = BeautifulSoup(response.text, 'lxml')\n",
        "data = soup.find('div', class_ = 'p-6')\n",
        "```\n",
        "Получаем ответ:\n",
        "```html\n",
        "<div class=\"p-6\">\n",
        "<h3 class=\"card-title\">Short Dress</h3>\n",
        "<h4 class=\"my-4 card-price\">$24.99</h4>\n",
        "<p class=\"card-description\">Short dress in woven fabric. Round neckline and opening at back of neck with a button. Yoke at back with concealed pleats, long sleeves, and narrow cuffs with ties. Side pockets. 100% polyester. Machine wash cold.</p>\n",
        "</div>\n",
        "```\n",
        "Описание товара находится в теге p класса card-description. Поиск можно осуществить как по тегу, так и по классу, в случае их уникальности."
      ],
      "metadata": {
        "id": "DTPo-ecZNzm_"
      }
    },
    {
      "cell_type": "code",
      "source": [
        "%%time\n",
        "import pandas as pd\n",
        "from time import sleep\n",
        "\n",
        "headers = {\n",
        "    \"User-Agent\": \"Mozilla/5.0 (Windows NT 10.0; Win64; x64) AppleWebKit/537.36 (KHTML, like Gecko) Chrome/117.0.0.0 Safari/537.36\"\n",
        "  }\n",
        "\n",
        "df = pd.DataFrame(columns = ['NAME', 'PRICE', 'DESCRIPTION'])\n",
        "\n",
        "list_cards_url = []\n",
        "\n",
        "#ОТКРЫВАЕМ НА КАЖДОЙ ИЗ СЕМИ СТРАНИЦ КАРТОЧКУ И ЗАПОЛНЯЕМ СПИСОК ССЫЛКАМИ НА КАРТОЧКИ\n",
        "for count in range(1, 8):\n",
        "  url = f'https://scrapingclub.com/exercise/list_basic/&page={count}'\n",
        "  response = requests.get(url, headers = headers)\n",
        "  soup = BeautifulSoup(response.text, 'lxml')\n",
        "  data = soup.find_all('div', class_ = 'w-full rounded border')\n",
        "\n",
        "  for elem in data:\n",
        "    card_url = 'https://scrapingclub.com' + elem.find('a').get('href') #ссылка указана в теге а в атрибуте href\n",
        "    list_cards_url.append(card_url)\n",
        "\n",
        "for card_url in list_cards_url:\n",
        "  response = requests.get(card_url, headers = headers)\n",
        "  sleep(3)\n",
        "  soup = BeautifulSoup(response.text, 'lxml')\n",
        "  data = soup.find('div', class_ = 'p-6')\n",
        "  df.loc[len(df)] = [data.find('h3', class_ = 'card-title').text, data.find('h4', class_ = 'card-price').text, data.find('p', class_ = 'card-description').text]\n",
        "\n",
        "df"
      ],
      "metadata": {
        "colab": {
          "base_uri": "https://localhost:8080/",
          "height": 458
        },
        "id": "A8vToa12aNbk",
        "outputId": "8f158fb1-525f-4103-f333-480ac6979e1c"
      },
      "execution_count": null,
      "outputs": [
        {
          "output_type": "stream",
          "name": "stdout",
          "text": [
            "CPU times: user 10.5 s, sys: 166 ms, total: 10.7 s\n",
            "Wall time: 3min 54s\n"
          ]
        },
        {
          "output_type": "execute_result",
          "data": {
            "text/plain": [
              "                      NAME   PRICE  \\\n",
              "0              Short Dress  $24.99   \n",
              "1         Patterned Slacks  $29.99   \n",
              "2      Short Chiffon Dress  $49.99   \n",
              "3   Off-the-shoulder Dress  $59.99   \n",
              "4               V-neck Top  $24.99   \n",
              "..                     ...     ...   \n",
              "65     Short Chiffon Dress  $49.99   \n",
              "66              V-neck Top  $24.99   \n",
              "67              V-neck Top  $24.99   \n",
              "68        Short Lace Dress  $59.99   \n",
              "69            Fitted Dress  $34.99   \n",
              "\n",
              "                                          DESCRIPTION  \n",
              "0   Short dress in woven fabric. Round neckline an...  \n",
              "1   Ankle-length slacks in patterned stretch cotto...  \n",
              "2   Short V-neck dress in plumeti chiffon. Gathers...  \n",
              "3   Short, fitted off-the-shoulder dress in stretc...  \n",
              "4   Top in woven fabric with V-neck front and back...  \n",
              "..                                                ...  \n",
              "65  Short V-neck dress in plumeti chiffon. Gathers...  \n",
              "66  Top in woven fabric with V-neck front and back...  \n",
              "67  Top in woven fabric with V-neck front and back...  \n",
              "68  Short, straight-cut dress in lace. Opening at ...  \n",
              "69  Fitted dress in thick jersey with a V-neck, lo...  \n",
              "\n",
              "[70 rows x 3 columns]"
            ],
            "text/html": [
              "\n",
              "  <div id=\"df-57094a9d-fd47-4c51-9b8d-ff2ec24c1f6f\" class=\"colab-df-container\">\n",
              "    <div>\n",
              "<style scoped>\n",
              "    .dataframe tbody tr th:only-of-type {\n",
              "        vertical-align: middle;\n",
              "    }\n",
              "\n",
              "    .dataframe tbody tr th {\n",
              "        vertical-align: top;\n",
              "    }\n",
              "\n",
              "    .dataframe thead th {\n",
              "        text-align: right;\n",
              "    }\n",
              "</style>\n",
              "<table border=\"1\" class=\"dataframe\">\n",
              "  <thead>\n",
              "    <tr style=\"text-align: right;\">\n",
              "      <th></th>\n",
              "      <th>NAME</th>\n",
              "      <th>PRICE</th>\n",
              "      <th>DESCRIPTION</th>\n",
              "    </tr>\n",
              "  </thead>\n",
              "  <tbody>\n",
              "    <tr>\n",
              "      <th>0</th>\n",
              "      <td>Short Dress</td>\n",
              "      <td>$24.99</td>\n",
              "      <td>Short dress in woven fabric. Round neckline an...</td>\n",
              "    </tr>\n",
              "    <tr>\n",
              "      <th>1</th>\n",
              "      <td>Patterned Slacks</td>\n",
              "      <td>$29.99</td>\n",
              "      <td>Ankle-length slacks in patterned stretch cotto...</td>\n",
              "    </tr>\n",
              "    <tr>\n",
              "      <th>2</th>\n",
              "      <td>Short Chiffon Dress</td>\n",
              "      <td>$49.99</td>\n",
              "      <td>Short V-neck dress in plumeti chiffon. Gathers...</td>\n",
              "    </tr>\n",
              "    <tr>\n",
              "      <th>3</th>\n",
              "      <td>Off-the-shoulder Dress</td>\n",
              "      <td>$59.99</td>\n",
              "      <td>Short, fitted off-the-shoulder dress in stretc...</td>\n",
              "    </tr>\n",
              "    <tr>\n",
              "      <th>4</th>\n",
              "      <td>V-neck Top</td>\n",
              "      <td>$24.99</td>\n",
              "      <td>Top in woven fabric with V-neck front and back...</td>\n",
              "    </tr>\n",
              "    <tr>\n",
              "      <th>...</th>\n",
              "      <td>...</td>\n",
              "      <td>...</td>\n",
              "      <td>...</td>\n",
              "    </tr>\n",
              "    <tr>\n",
              "      <th>65</th>\n",
              "      <td>Short Chiffon Dress</td>\n",
              "      <td>$49.99</td>\n",
              "      <td>Short V-neck dress in plumeti chiffon. Gathers...</td>\n",
              "    </tr>\n",
              "    <tr>\n",
              "      <th>66</th>\n",
              "      <td>V-neck Top</td>\n",
              "      <td>$24.99</td>\n",
              "      <td>Top in woven fabric with V-neck front and back...</td>\n",
              "    </tr>\n",
              "    <tr>\n",
              "      <th>67</th>\n",
              "      <td>V-neck Top</td>\n",
              "      <td>$24.99</td>\n",
              "      <td>Top in woven fabric with V-neck front and back...</td>\n",
              "    </tr>\n",
              "    <tr>\n",
              "      <th>68</th>\n",
              "      <td>Short Lace Dress</td>\n",
              "      <td>$59.99</td>\n",
              "      <td>Short, straight-cut dress in lace. Opening at ...</td>\n",
              "    </tr>\n",
              "    <tr>\n",
              "      <th>69</th>\n",
              "      <td>Fitted Dress</td>\n",
              "      <td>$34.99</td>\n",
              "      <td>Fitted dress in thick jersey with a V-neck, lo...</td>\n",
              "    </tr>\n",
              "  </tbody>\n",
              "</table>\n",
              "<p>70 rows × 3 columns</p>\n",
              "</div>\n",
              "    <div class=\"colab-df-buttons\">\n",
              "\n",
              "  <div class=\"colab-df-container\">\n",
              "    <button class=\"colab-df-convert\" onclick=\"convertToInteractive('df-57094a9d-fd47-4c51-9b8d-ff2ec24c1f6f')\"\n",
              "            title=\"Convert this dataframe to an interactive table.\"\n",
              "            style=\"display:none;\">\n",
              "\n",
              "  <svg xmlns=\"http://www.w3.org/2000/svg\" height=\"24px\" viewBox=\"0 -960 960 960\">\n",
              "    <path d=\"M120-120v-720h720v720H120Zm60-500h600v-160H180v160Zm220 220h160v-160H400v160Zm0 220h160v-160H400v160ZM180-400h160v-160H180v160Zm440 0h160v-160H620v160ZM180-180h160v-160H180v160Zm440 0h160v-160H620v160Z\"/>\n",
              "  </svg>\n",
              "    </button>\n",
              "\n",
              "  <style>\n",
              "    .colab-df-container {\n",
              "      display:flex;\n",
              "      gap: 12px;\n",
              "    }\n",
              "\n",
              "    .colab-df-convert {\n",
              "      background-color: #E8F0FE;\n",
              "      border: none;\n",
              "      border-radius: 50%;\n",
              "      cursor: pointer;\n",
              "      display: none;\n",
              "      fill: #1967D2;\n",
              "      height: 32px;\n",
              "      padding: 0 0 0 0;\n",
              "      width: 32px;\n",
              "    }\n",
              "\n",
              "    .colab-df-convert:hover {\n",
              "      background-color: #E2EBFA;\n",
              "      box-shadow: 0px 1px 2px rgba(60, 64, 67, 0.3), 0px 1px 3px 1px rgba(60, 64, 67, 0.15);\n",
              "      fill: #174EA6;\n",
              "    }\n",
              "\n",
              "    .colab-df-buttons div {\n",
              "      margin-bottom: 4px;\n",
              "    }\n",
              "\n",
              "    [theme=dark] .colab-df-convert {\n",
              "      background-color: #3B4455;\n",
              "      fill: #D2E3FC;\n",
              "    }\n",
              "\n",
              "    [theme=dark] .colab-df-convert:hover {\n",
              "      background-color: #434B5C;\n",
              "      box-shadow: 0px 1px 3px 1px rgba(0, 0, 0, 0.15);\n",
              "      filter: drop-shadow(0px 1px 2px rgba(0, 0, 0, 0.3));\n",
              "      fill: #FFFFFF;\n",
              "    }\n",
              "  </style>\n",
              "\n",
              "    <script>\n",
              "      const buttonEl =\n",
              "        document.querySelector('#df-57094a9d-fd47-4c51-9b8d-ff2ec24c1f6f button.colab-df-convert');\n",
              "      buttonEl.style.display =\n",
              "        google.colab.kernel.accessAllowed ? 'block' : 'none';\n",
              "\n",
              "      async function convertToInteractive(key) {\n",
              "        const element = document.querySelector('#df-57094a9d-fd47-4c51-9b8d-ff2ec24c1f6f');\n",
              "        const dataTable =\n",
              "          await google.colab.kernel.invokeFunction('convertToInteractive',\n",
              "                                                    [key], {});\n",
              "        if (!dataTable) return;\n",
              "\n",
              "        const docLinkHtml = 'Like what you see? Visit the ' +\n",
              "          '<a target=\"_blank\" href=https://colab.research.google.com/notebooks/data_table.ipynb>data table notebook</a>'\n",
              "          + ' to learn more about interactive tables.';\n",
              "        element.innerHTML = '';\n",
              "        dataTable['output_type'] = 'display_data';\n",
              "        await google.colab.output.renderOutput(dataTable, element);\n",
              "        const docLink = document.createElement('div');\n",
              "        docLink.innerHTML = docLinkHtml;\n",
              "        element.appendChild(docLink);\n",
              "      }\n",
              "    </script>\n",
              "  </div>\n",
              "\n",
              "\n",
              "<div id=\"df-f73b9268-4aa6-46db-a7c4-ccd8d37c2dc1\">\n",
              "  <button class=\"colab-df-quickchart\" onclick=\"quickchart('df-f73b9268-4aa6-46db-a7c4-ccd8d37c2dc1')\"\n",
              "            title=\"Suggest charts\"\n",
              "            style=\"display:none;\">\n",
              "\n",
              "<svg xmlns=\"http://www.w3.org/2000/svg\" height=\"24px\"viewBox=\"0 0 24 24\"\n",
              "     width=\"24px\">\n",
              "    <g>\n",
              "        <path d=\"M19 3H5c-1.1 0-2 .9-2 2v14c0 1.1.9 2 2 2h14c1.1 0 2-.9 2-2V5c0-1.1-.9-2-2-2zM9 17H7v-7h2v7zm4 0h-2V7h2v10zm4 0h-2v-4h2v4z\"/>\n",
              "    </g>\n",
              "</svg>\n",
              "  </button>\n",
              "\n",
              "<style>\n",
              "  .colab-df-quickchart {\n",
              "      --bg-color: #E8F0FE;\n",
              "      --fill-color: #1967D2;\n",
              "      --hover-bg-color: #E2EBFA;\n",
              "      --hover-fill-color: #174EA6;\n",
              "      --disabled-fill-color: #AAA;\n",
              "      --disabled-bg-color: #DDD;\n",
              "  }\n",
              "\n",
              "  [theme=dark] .colab-df-quickchart {\n",
              "      --bg-color: #3B4455;\n",
              "      --fill-color: #D2E3FC;\n",
              "      --hover-bg-color: #434B5C;\n",
              "      --hover-fill-color: #FFFFFF;\n",
              "      --disabled-bg-color: #3B4455;\n",
              "      --disabled-fill-color: #666;\n",
              "  }\n",
              "\n",
              "  .colab-df-quickchart {\n",
              "    background-color: var(--bg-color);\n",
              "    border: none;\n",
              "    border-radius: 50%;\n",
              "    cursor: pointer;\n",
              "    display: none;\n",
              "    fill: var(--fill-color);\n",
              "    height: 32px;\n",
              "    padding: 0;\n",
              "    width: 32px;\n",
              "  }\n",
              "\n",
              "  .colab-df-quickchart:hover {\n",
              "    background-color: var(--hover-bg-color);\n",
              "    box-shadow: 0 1px 2px rgba(60, 64, 67, 0.3), 0 1px 3px 1px rgba(60, 64, 67, 0.15);\n",
              "    fill: var(--button-hover-fill-color);\n",
              "  }\n",
              "\n",
              "  .colab-df-quickchart-complete:disabled,\n",
              "  .colab-df-quickchart-complete:disabled:hover {\n",
              "    background-color: var(--disabled-bg-color);\n",
              "    fill: var(--disabled-fill-color);\n",
              "    box-shadow: none;\n",
              "  }\n",
              "\n",
              "  .colab-df-spinner {\n",
              "    border: 2px solid var(--fill-color);\n",
              "    border-color: transparent;\n",
              "    border-bottom-color: var(--fill-color);\n",
              "    animation:\n",
              "      spin 1s steps(1) infinite;\n",
              "  }\n",
              "\n",
              "  @keyframes spin {\n",
              "    0% {\n",
              "      border-color: transparent;\n",
              "      border-bottom-color: var(--fill-color);\n",
              "      border-left-color: var(--fill-color);\n",
              "    }\n",
              "    20% {\n",
              "      border-color: transparent;\n",
              "      border-left-color: var(--fill-color);\n",
              "      border-top-color: var(--fill-color);\n",
              "    }\n",
              "    30% {\n",
              "      border-color: transparent;\n",
              "      border-left-color: var(--fill-color);\n",
              "      border-top-color: var(--fill-color);\n",
              "      border-right-color: var(--fill-color);\n",
              "    }\n",
              "    40% {\n",
              "      border-color: transparent;\n",
              "      border-right-color: var(--fill-color);\n",
              "      border-top-color: var(--fill-color);\n",
              "    }\n",
              "    60% {\n",
              "      border-color: transparent;\n",
              "      border-right-color: var(--fill-color);\n",
              "    }\n",
              "    80% {\n",
              "      border-color: transparent;\n",
              "      border-right-color: var(--fill-color);\n",
              "      border-bottom-color: var(--fill-color);\n",
              "    }\n",
              "    90% {\n",
              "      border-color: transparent;\n",
              "      border-bottom-color: var(--fill-color);\n",
              "    }\n",
              "  }\n",
              "</style>\n",
              "\n",
              "  <script>\n",
              "    async function quickchart(key) {\n",
              "      const quickchartButtonEl =\n",
              "        document.querySelector('#' + key + ' button');\n",
              "      quickchartButtonEl.disabled = true;  // To prevent multiple clicks.\n",
              "      quickchartButtonEl.classList.add('colab-df-spinner');\n",
              "      try {\n",
              "        const charts = await google.colab.kernel.invokeFunction(\n",
              "            'suggestCharts', [key], {});\n",
              "      } catch (error) {\n",
              "        console.error('Error during call to suggestCharts:', error);\n",
              "      }\n",
              "      quickchartButtonEl.classList.remove('colab-df-spinner');\n",
              "      quickchartButtonEl.classList.add('colab-df-quickchart-complete');\n",
              "    }\n",
              "    (() => {\n",
              "      let quickchartButtonEl =\n",
              "        document.querySelector('#df-f73b9268-4aa6-46db-a7c4-ccd8d37c2dc1 button');\n",
              "      quickchartButtonEl.style.display =\n",
              "        google.colab.kernel.accessAllowed ? 'block' : 'none';\n",
              "    })();\n",
              "  </script>\n",
              "</div>\n",
              "    </div>\n",
              "  </div>\n"
            ]
          },
          "metadata": {},
          "execution_count": 77
        }
      ]
    },
    {
      "cell_type": "code",
      "source": [
        "#СОЗДАНИЕ ОБЪЕКТА ГЕНЕРАТОР\n",
        "def get_url():\n",
        "  for count in range(1, 8):\n",
        "    sleep(1) #ждём 3 секунды\n",
        "    url = f'https://scrapingclub.com/exercise/list_basic/&page={count}'\n",
        "    response = requests.get(url, headers = headers)\n",
        "    soup = BeautifulSoup(response.text, 'lxml')\n",
        "    data = soup.find_all('div', class_ = 'w-full rounded border')\n",
        "\n",
        "    for elem in data:\n",
        "      card_url = 'https://scrapingclub.com' + elem.find('a').get('href') #ссылка указана в теге а в атрибуте href\n",
        "      yield card_url\n",
        "\n",
        "df = pd.DataFrame(columns = ['NAME', 'PRICE', 'DESCRIPTION'])\n",
        "\n",
        "for card_url in get_url():\n",
        "  response = requests.get(card_url, headers = headers)\n",
        "  sleep(3)\n",
        "  soup = BeautifulSoup(response.text, 'lxml')\n",
        "  data = soup.find('div', class_ = 'p-6')\n",
        "  df.loc[len(df)] = [data.find('h3', class_ = 'card-title').text, data.find('h4', class_ = 'card-price').text, data.find('p', class_ = 'card-description').text]\n",
        "\n",
        "df.to_excel('df.xlsx', startrow=0, startcol=0, index=False)"
      ],
      "metadata": {
        "id": "bL57YoeMm9bJ",
        "colab": {
          "base_uri": "https://localhost:8080/",
          "height": 424
        },
        "outputId": "232a5d35-5958-4e09-af1b-da0610d411e6"
      },
      "execution_count": null,
      "outputs": [
        {
          "output_type": "execute_result",
          "data": {
            "text/plain": [
              "                      NAME   PRICE  \\\n",
              "0              Short Dress  $24.99   \n",
              "1         Patterned Slacks  $29.99   \n",
              "2      Short Chiffon Dress  $49.99   \n",
              "3   Off-the-shoulder Dress  $59.99   \n",
              "4               V-neck Top  $24.99   \n",
              "..                     ...     ...   \n",
              "65     Short Chiffon Dress  $49.99   \n",
              "66              V-neck Top  $24.99   \n",
              "67              V-neck Top  $24.99   \n",
              "68        Short Lace Dress  $59.99   \n",
              "69            Fitted Dress  $34.99   \n",
              "\n",
              "                                          DESCRIPTION  \n",
              "0   Short dress in woven fabric. Round neckline an...  \n",
              "1   Ankle-length slacks in patterned stretch cotto...  \n",
              "2   Short V-neck dress in plumeti chiffon. Gathers...  \n",
              "3   Short, fitted off-the-shoulder dress in stretc...  \n",
              "4   Top in woven fabric with V-neck front and back...  \n",
              "..                                                ...  \n",
              "65  Short V-neck dress in plumeti chiffon. Gathers...  \n",
              "66  Top in woven fabric with V-neck front and back...  \n",
              "67  Top in woven fabric with V-neck front and back...  \n",
              "68  Short, straight-cut dress in lace. Opening at ...  \n",
              "69  Fitted dress in thick jersey with a V-neck, lo...  \n",
              "\n",
              "[70 rows x 3 columns]"
            ],
            "text/html": [
              "\n",
              "  <div id=\"df-f7dc23fc-e067-49a6-bc6f-e65d0efe181d\" class=\"colab-df-container\">\n",
              "    <div>\n",
              "<style scoped>\n",
              "    .dataframe tbody tr th:only-of-type {\n",
              "        vertical-align: middle;\n",
              "    }\n",
              "\n",
              "    .dataframe tbody tr th {\n",
              "        vertical-align: top;\n",
              "    }\n",
              "\n",
              "    .dataframe thead th {\n",
              "        text-align: right;\n",
              "    }\n",
              "</style>\n",
              "<table border=\"1\" class=\"dataframe\">\n",
              "  <thead>\n",
              "    <tr style=\"text-align: right;\">\n",
              "      <th></th>\n",
              "      <th>NAME</th>\n",
              "      <th>PRICE</th>\n",
              "      <th>DESCRIPTION</th>\n",
              "    </tr>\n",
              "  </thead>\n",
              "  <tbody>\n",
              "    <tr>\n",
              "      <th>0</th>\n",
              "      <td>Short Dress</td>\n",
              "      <td>$24.99</td>\n",
              "      <td>Short dress in woven fabric. Round neckline an...</td>\n",
              "    </tr>\n",
              "    <tr>\n",
              "      <th>1</th>\n",
              "      <td>Patterned Slacks</td>\n",
              "      <td>$29.99</td>\n",
              "      <td>Ankle-length slacks in patterned stretch cotto...</td>\n",
              "    </tr>\n",
              "    <tr>\n",
              "      <th>2</th>\n",
              "      <td>Short Chiffon Dress</td>\n",
              "      <td>$49.99</td>\n",
              "      <td>Short V-neck dress in plumeti chiffon. Gathers...</td>\n",
              "    </tr>\n",
              "    <tr>\n",
              "      <th>3</th>\n",
              "      <td>Off-the-shoulder Dress</td>\n",
              "      <td>$59.99</td>\n",
              "      <td>Short, fitted off-the-shoulder dress in stretc...</td>\n",
              "    </tr>\n",
              "    <tr>\n",
              "      <th>4</th>\n",
              "      <td>V-neck Top</td>\n",
              "      <td>$24.99</td>\n",
              "      <td>Top in woven fabric with V-neck front and back...</td>\n",
              "    </tr>\n",
              "    <tr>\n",
              "      <th>...</th>\n",
              "      <td>...</td>\n",
              "      <td>...</td>\n",
              "      <td>...</td>\n",
              "    </tr>\n",
              "    <tr>\n",
              "      <th>65</th>\n",
              "      <td>Short Chiffon Dress</td>\n",
              "      <td>$49.99</td>\n",
              "      <td>Short V-neck dress in plumeti chiffon. Gathers...</td>\n",
              "    </tr>\n",
              "    <tr>\n",
              "      <th>66</th>\n",
              "      <td>V-neck Top</td>\n",
              "      <td>$24.99</td>\n",
              "      <td>Top in woven fabric with V-neck front and back...</td>\n",
              "    </tr>\n",
              "    <tr>\n",
              "      <th>67</th>\n",
              "      <td>V-neck Top</td>\n",
              "      <td>$24.99</td>\n",
              "      <td>Top in woven fabric with V-neck front and back...</td>\n",
              "    </tr>\n",
              "    <tr>\n",
              "      <th>68</th>\n",
              "      <td>Short Lace Dress</td>\n",
              "      <td>$59.99</td>\n",
              "      <td>Short, straight-cut dress in lace. Opening at ...</td>\n",
              "    </tr>\n",
              "    <tr>\n",
              "      <th>69</th>\n",
              "      <td>Fitted Dress</td>\n",
              "      <td>$34.99</td>\n",
              "      <td>Fitted dress in thick jersey with a V-neck, lo...</td>\n",
              "    </tr>\n",
              "  </tbody>\n",
              "</table>\n",
              "<p>70 rows × 3 columns</p>\n",
              "</div>\n",
              "    <div class=\"colab-df-buttons\">\n",
              "\n",
              "  <div class=\"colab-df-container\">\n",
              "    <button class=\"colab-df-convert\" onclick=\"convertToInteractive('df-f7dc23fc-e067-49a6-bc6f-e65d0efe181d')\"\n",
              "            title=\"Convert this dataframe to an interactive table.\"\n",
              "            style=\"display:none;\">\n",
              "\n",
              "  <svg xmlns=\"http://www.w3.org/2000/svg\" height=\"24px\" viewBox=\"0 -960 960 960\">\n",
              "    <path d=\"M120-120v-720h720v720H120Zm60-500h600v-160H180v160Zm220 220h160v-160H400v160Zm0 220h160v-160H400v160ZM180-400h160v-160H180v160Zm440 0h160v-160H620v160ZM180-180h160v-160H180v160Zm440 0h160v-160H620v160Z\"/>\n",
              "  </svg>\n",
              "    </button>\n",
              "\n",
              "  <style>\n",
              "    .colab-df-container {\n",
              "      display:flex;\n",
              "      gap: 12px;\n",
              "    }\n",
              "\n",
              "    .colab-df-convert {\n",
              "      background-color: #E8F0FE;\n",
              "      border: none;\n",
              "      border-radius: 50%;\n",
              "      cursor: pointer;\n",
              "      display: none;\n",
              "      fill: #1967D2;\n",
              "      height: 32px;\n",
              "      padding: 0 0 0 0;\n",
              "      width: 32px;\n",
              "    }\n",
              "\n",
              "    .colab-df-convert:hover {\n",
              "      background-color: #E2EBFA;\n",
              "      box-shadow: 0px 1px 2px rgba(60, 64, 67, 0.3), 0px 1px 3px 1px rgba(60, 64, 67, 0.15);\n",
              "      fill: #174EA6;\n",
              "    }\n",
              "\n",
              "    .colab-df-buttons div {\n",
              "      margin-bottom: 4px;\n",
              "    }\n",
              "\n",
              "    [theme=dark] .colab-df-convert {\n",
              "      background-color: #3B4455;\n",
              "      fill: #D2E3FC;\n",
              "    }\n",
              "\n",
              "    [theme=dark] .colab-df-convert:hover {\n",
              "      background-color: #434B5C;\n",
              "      box-shadow: 0px 1px 3px 1px rgba(0, 0, 0, 0.15);\n",
              "      filter: drop-shadow(0px 1px 2px rgba(0, 0, 0, 0.3));\n",
              "      fill: #FFFFFF;\n",
              "    }\n",
              "  </style>\n",
              "\n",
              "    <script>\n",
              "      const buttonEl =\n",
              "        document.querySelector('#df-f7dc23fc-e067-49a6-bc6f-e65d0efe181d button.colab-df-convert');\n",
              "      buttonEl.style.display =\n",
              "        google.colab.kernel.accessAllowed ? 'block' : 'none';\n",
              "\n",
              "      async function convertToInteractive(key) {\n",
              "        const element = document.querySelector('#df-f7dc23fc-e067-49a6-bc6f-e65d0efe181d');\n",
              "        const dataTable =\n",
              "          await google.colab.kernel.invokeFunction('convertToInteractive',\n",
              "                                                    [key], {});\n",
              "        if (!dataTable) return;\n",
              "\n",
              "        const docLinkHtml = 'Like what you see? Visit the ' +\n",
              "          '<a target=\"_blank\" href=https://colab.research.google.com/notebooks/data_table.ipynb>data table notebook</a>'\n",
              "          + ' to learn more about interactive tables.';\n",
              "        element.innerHTML = '';\n",
              "        dataTable['output_type'] = 'display_data';\n",
              "        await google.colab.output.renderOutput(dataTable, element);\n",
              "        const docLink = document.createElement('div');\n",
              "        docLink.innerHTML = docLinkHtml;\n",
              "        element.appendChild(docLink);\n",
              "      }\n",
              "    </script>\n",
              "  </div>\n",
              "\n",
              "\n",
              "<div id=\"df-18b086d1-b112-43e2-88b0-deb5e2b83f6a\">\n",
              "  <button class=\"colab-df-quickchart\" onclick=\"quickchart('df-18b086d1-b112-43e2-88b0-deb5e2b83f6a')\"\n",
              "            title=\"Suggest charts\"\n",
              "            style=\"display:none;\">\n",
              "\n",
              "<svg xmlns=\"http://www.w3.org/2000/svg\" height=\"24px\"viewBox=\"0 0 24 24\"\n",
              "     width=\"24px\">\n",
              "    <g>\n",
              "        <path d=\"M19 3H5c-1.1 0-2 .9-2 2v14c0 1.1.9 2 2 2h14c1.1 0 2-.9 2-2V5c0-1.1-.9-2-2-2zM9 17H7v-7h2v7zm4 0h-2V7h2v10zm4 0h-2v-4h2v4z\"/>\n",
              "    </g>\n",
              "</svg>\n",
              "  </button>\n",
              "\n",
              "<style>\n",
              "  .colab-df-quickchart {\n",
              "      --bg-color: #E8F0FE;\n",
              "      --fill-color: #1967D2;\n",
              "      --hover-bg-color: #E2EBFA;\n",
              "      --hover-fill-color: #174EA6;\n",
              "      --disabled-fill-color: #AAA;\n",
              "      --disabled-bg-color: #DDD;\n",
              "  }\n",
              "\n",
              "  [theme=dark] .colab-df-quickchart {\n",
              "      --bg-color: #3B4455;\n",
              "      --fill-color: #D2E3FC;\n",
              "      --hover-bg-color: #434B5C;\n",
              "      --hover-fill-color: #FFFFFF;\n",
              "      --disabled-bg-color: #3B4455;\n",
              "      --disabled-fill-color: #666;\n",
              "  }\n",
              "\n",
              "  .colab-df-quickchart {\n",
              "    background-color: var(--bg-color);\n",
              "    border: none;\n",
              "    border-radius: 50%;\n",
              "    cursor: pointer;\n",
              "    display: none;\n",
              "    fill: var(--fill-color);\n",
              "    height: 32px;\n",
              "    padding: 0;\n",
              "    width: 32px;\n",
              "  }\n",
              "\n",
              "  .colab-df-quickchart:hover {\n",
              "    background-color: var(--hover-bg-color);\n",
              "    box-shadow: 0 1px 2px rgba(60, 64, 67, 0.3), 0 1px 3px 1px rgba(60, 64, 67, 0.15);\n",
              "    fill: var(--button-hover-fill-color);\n",
              "  }\n",
              "\n",
              "  .colab-df-quickchart-complete:disabled,\n",
              "  .colab-df-quickchart-complete:disabled:hover {\n",
              "    background-color: var(--disabled-bg-color);\n",
              "    fill: var(--disabled-fill-color);\n",
              "    box-shadow: none;\n",
              "  }\n",
              "\n",
              "  .colab-df-spinner {\n",
              "    border: 2px solid var(--fill-color);\n",
              "    border-color: transparent;\n",
              "    border-bottom-color: var(--fill-color);\n",
              "    animation:\n",
              "      spin 1s steps(1) infinite;\n",
              "  }\n",
              "\n",
              "  @keyframes spin {\n",
              "    0% {\n",
              "      border-color: transparent;\n",
              "      border-bottom-color: var(--fill-color);\n",
              "      border-left-color: var(--fill-color);\n",
              "    }\n",
              "    20% {\n",
              "      border-color: transparent;\n",
              "      border-left-color: var(--fill-color);\n",
              "      border-top-color: var(--fill-color);\n",
              "    }\n",
              "    30% {\n",
              "      border-color: transparent;\n",
              "      border-left-color: var(--fill-color);\n",
              "      border-top-color: var(--fill-color);\n",
              "      border-right-color: var(--fill-color);\n",
              "    }\n",
              "    40% {\n",
              "      border-color: transparent;\n",
              "      border-right-color: var(--fill-color);\n",
              "      border-top-color: var(--fill-color);\n",
              "    }\n",
              "    60% {\n",
              "      border-color: transparent;\n",
              "      border-right-color: var(--fill-color);\n",
              "    }\n",
              "    80% {\n",
              "      border-color: transparent;\n",
              "      border-right-color: var(--fill-color);\n",
              "      border-bottom-color: var(--fill-color);\n",
              "    }\n",
              "    90% {\n",
              "      border-color: transparent;\n",
              "      border-bottom-color: var(--fill-color);\n",
              "    }\n",
              "  }\n",
              "</style>\n",
              "\n",
              "  <script>\n",
              "    async function quickchart(key) {\n",
              "      const quickchartButtonEl =\n",
              "        document.querySelector('#' + key + ' button');\n",
              "      quickchartButtonEl.disabled = true;  // To prevent multiple clicks.\n",
              "      quickchartButtonEl.classList.add('colab-df-spinner');\n",
              "      try {\n",
              "        const charts = await google.colab.kernel.invokeFunction(\n",
              "            'suggestCharts', [key], {});\n",
              "      } catch (error) {\n",
              "        console.error('Error during call to suggestCharts:', error);\n",
              "      }\n",
              "      quickchartButtonEl.classList.remove('colab-df-spinner');\n",
              "      quickchartButtonEl.classList.add('colab-df-quickchart-complete');\n",
              "    }\n",
              "    (() => {\n",
              "      let quickchartButtonEl =\n",
              "        document.querySelector('#df-18b086d1-b112-43e2-88b0-deb5e2b83f6a button');\n",
              "      quickchartButtonEl.style.display =\n",
              "        google.colab.kernel.accessAllowed ? 'block' : 'none';\n",
              "    })();\n",
              "  </script>\n",
              "</div>\n",
              "    </div>\n",
              "  </div>\n"
            ]
          },
          "metadata": {},
          "execution_count": 78
        }
      ]
    },
    {
      "cell_type": "markdown",
      "source": [
        "## Библиотека GOOGLE-COLAB-SELENIUM\n"
      ],
      "metadata": {
        "id": "FRAHfBw3GvDF"
      }
    },
    {
      "cell_type": "code",
      "source": [
        "import google_colab_selenium as gs\n",
        "from bs4 import BeautifulSoup\n",
        "from selenium.webdriver.chrome.options import Options\n",
        "from selenium.webdriver.common.by import By\n",
        "import time\n",
        "\n",
        "driver = gs.UndetectedChrome()\n",
        "\n",
        "driver.get('https://parsinger.ru/selenium/2/2.html')\n",
        "time.sleep(5)\n",
        "#BeautifulSoup(driver.page_source, 'lxml')\n",
        "driver.find_element(By.LINK_TEXT, '16243162441624').click()\n",
        "print(driver.find_element(By.ID, 'result').text)\n",
        "driver.quit()"
      ],
      "metadata": {
        "id": "zwExClMUxFGA"
      },
      "execution_count": null,
      "outputs": []
    },
    {
      "cell_type": "code",
      "source": [
        "driver.get('https://parsinger.ru/selenium/3/3.html')\n",
        "time.sleep(5)\n",
        "for elem in driver.find_elements(By.CLASS_NAME, 'text'):\n",
        "    elem.find_elements("
      ],
      "metadata": {
        "id": "Q4fqtPRQxFK_"
      },
      "execution_count": null,
      "outputs": []
    },
    {
      "cell_type": "code",
      "source": [],
      "metadata": {
        "id": "wUBIqYOsxFOW"
      },
      "execution_count": null,
      "outputs": []
    }
  ]
}