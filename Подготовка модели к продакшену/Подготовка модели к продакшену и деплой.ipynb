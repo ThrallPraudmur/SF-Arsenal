{
 "cells": [
  {
   "cell_type": "markdown",
   "id": "787726c9",
   "metadata": {},
   "source": [
    "## Инструменты сериализации объектов Python"
   ]
  },
  {
   "cell_type": "markdown",
   "id": "d03f2980",
   "metadata": {},
   "source": [
    "### 1. Обучение модели"
   ]
  },
  {
   "cell_type": "code",
   "execution_count": 6,
   "id": "be69b673",
   "metadata": {
    "scrolled": true
   },
   "outputs": [
    {
     "data": {
      "text/plain": [
       "LinearRegression()"
      ]
     },
     "execution_count": 6,
     "metadata": {},
     "output_type": "execute_result"
    }
   ],
   "source": [
    "from sklearn.linear_model import LinearRegression\n",
    "from sklearn.datasets import load_diabetes\n",
    "\n",
    "X, y = load_diabetes(return_X_y=True) #Загрузка датасета\n",
    "regressor = LinearRegression()\n",
    "\n",
    "regressor.fit(X, y) #Веса модели были сформированы во время обучения"
   ]
  },
  {
   "cell_type": "markdown",
   "id": "274036e3",
   "metadata": {},
   "source": [
    "### 2. Сериализация модели -> Поток байтов"
   ]
  },
  {
   "cell_type": "code",
   "execution_count": 7,
   "id": "e86fb0be",
   "metadata": {},
   "outputs": [
    {
     "name": "stdout",
     "output_type": "stream",
     "text": [
      "<class 'bytes'>\n",
      "<class 'sklearn.linear_model._base.LinearRegression'>\n"
     ]
    }
   ],
   "source": [
    "import pickle\n",
    "model = pickle.dumps(regressor) #Сериализация обученной модели\n",
    "\n",
    "print(type(model))\n",
    "print(type(regressor))"
   ]
  },
  {
   "cell_type": "markdown",
   "id": "c281e274",
   "metadata": {},
   "source": [
    "### 3. Десериализация объекта -> Восстановление объекта Python"
   ]
  },
  {
   "cell_type": "code",
   "execution_count": 13,
   "id": "c1c6e85e",
   "metadata": {},
   "outputs": [],
   "source": [
    "regressor_from_bytes = pickle.loads(model)"
   ]
  },
  {
   "cell_type": "code",
   "execution_count": 14,
   "id": "119d1f55",
   "metadata": {},
   "outputs": [
    {
     "data": {
      "text/plain": [
       "LinearRegression()"
      ]
     },
     "execution_count": 14,
     "metadata": {},
     "output_type": "execute_result"
    }
   ],
   "source": [
    "regressor_from_bytes"
   ]
  },
  {
   "cell_type": "markdown",
   "id": "2bff3251",
   "metadata": {},
   "source": [
    "### 4. Сохранение сериализованного объекта"
   ]
  },
  {
   "cell_type": "code",
   "execution_count": 10,
   "id": "9b5d94ad",
   "metadata": {},
   "outputs": [],
   "source": [
    "with open('myfile.pkl', 'wb') as output:\n",
    "    pickle.dump(regressor, output)\n",
    "    \n",
    "# Можем передать этот файл ML-инженерам для деплоя модели на сервер"
   ]
  },
  {
   "cell_type": "markdown",
   "id": "ea58d115",
   "metadata": {},
   "source": [
    "### 5. Десериализация модели из файла"
   ]
  },
  {
   "cell_type": "code",
   "execution_count": 11,
   "id": "ae4af342",
   "metadata": {},
   "outputs": [],
   "source": [
    "with open('myfile.pkl', 'rb') as pkl_file:\n",
    "    regressor_from_file = pickle.load(pkl_file)"
   ]
  },
  {
   "cell_type": "code",
   "execution_count": 12,
   "id": "d1aa9558",
   "metadata": {},
   "outputs": [
    {
     "data": {
      "text/plain": [
       "LinearRegression()"
      ]
     },
     "execution_count": 12,
     "metadata": {},
     "output_type": "execute_result"
    }
   ],
   "source": [
    "regressor_from_file"
   ]
  },
  {
   "cell_type": "markdown",
   "id": "04cc90d1",
   "metadata": {},
   "source": [
    "### 6. Проверка результатов предсказания"
   ]
  },
  {
   "cell_type": "code",
   "execution_count": 15,
   "id": "b236ea78",
   "metadata": {},
   "outputs": [
    {
     "data": {
      "text/plain": [
       "True"
      ]
     },
     "execution_count": 15,
     "metadata": {},
     "output_type": "execute_result"
    }
   ],
   "source": [
    "# all(iter) - проверяет, что все элементы последовательности = True\n",
    "all(regressor.predict(X) == regressor_from_bytes.predict(X))"
   ]
  },
  {
   "cell_type": "code",
   "execution_count": 16,
   "id": "1835b53d",
   "metadata": {},
   "outputs": [
    {
     "data": {
      "text/plain": [
       "True"
      ]
     },
     "execution_count": 16,
     "metadata": {},
     "output_type": "execute_result"
    }
   ],
   "source": [
    "all(regressor.predict(X) == regressor_from_file.predict(X))"
   ]
  },
  {
   "cell_type": "markdown",
   "id": "f80d2b59",
   "metadata": {},
   "source": [
    "### 7. Ограничения pickle"
   ]
  },
  {
   "cell_type": "code",
   "execution_count": 17,
   "id": "01fe10a2",
   "metadata": {},
   "outputs": [
    {
     "ename": "PicklingError",
     "evalue": "Can't pickle <function <lambda> at 0x7be9806ae840>: attribute lookup <lambda> on __main__ failed",
     "output_type": "error",
     "traceback": [
      "\u001b[0;31m---------------------------------------------------------------------------\u001b[0m",
      "\u001b[0;31mPicklingError\u001b[0m                             Traceback (most recent call last)",
      "\u001b[0;32m<ipython-input-17-70cbd6285ecd>\u001b[0m in \u001b[0;36m<module>\u001b[0;34m\u001b[0m\n\u001b[1;32m      1\u001b[0m \u001b[0mmy_lambda\u001b[0m \u001b[0;34m=\u001b[0m \u001b[0;32mlambda\u001b[0m \u001b[0mx\u001b[0m\u001b[0;34m:\u001b[0m \u001b[0mx\u001b[0m\u001b[0;34m*\u001b[0m\u001b[0;36m2\u001b[0m\u001b[0;34m\u001b[0m\u001b[0;34m\u001b[0m\u001b[0m\n\u001b[1;32m      2\u001b[0m \u001b[0;32mwith\u001b[0m \u001b[0mopen\u001b[0m\u001b[0;34m(\u001b[0m\u001b[0;34m'my_lambda.pkl'\u001b[0m\u001b[0;34m,\u001b[0m \u001b[0;34m'wb'\u001b[0m\u001b[0;34m)\u001b[0m \u001b[0;32mas\u001b[0m \u001b[0moutput\u001b[0m\u001b[0;34m:\u001b[0m\u001b[0;34m\u001b[0m\u001b[0;34m\u001b[0m\u001b[0m\n\u001b[0;32m----> 3\u001b[0;31m     \u001b[0mpickle\u001b[0m\u001b[0;34m.\u001b[0m\u001b[0mdump\u001b[0m\u001b[0;34m(\u001b[0m\u001b[0mmy_lambda\u001b[0m\u001b[0;34m,\u001b[0m \u001b[0moutput\u001b[0m\u001b[0;34m)\u001b[0m\u001b[0;34m\u001b[0m\u001b[0;34m\u001b[0m\u001b[0m\n\u001b[0m",
      "\u001b[0;31mPicklingError\u001b[0m: Can't pickle <function <lambda> at 0x7be9806ae840>: attribute lookup <lambda> on __main__ failed"
     ]
    }
   ],
   "source": [
    "my_lambda = lambda x: x*2\n",
    "with open('my_lambda.pkl', 'wb') as output:\n",
    "    pickle.dump(my_lambda, output)\n",
    "    \n",
    "# В таких случаях лучше пользоваться пакетом dill"
   ]
  },
  {
   "cell_type": "markdown",
   "id": "2e388855",
   "metadata": {},
   "source": [
    "## Сохранение пайплайнов и моделей"
   ]
  },
  {
   "cell_type": "markdown",
   "id": "a8f5ed50",
   "metadata": {},
   "source": [
    "### 1. Пайплайны"
   ]
  },
  {
   "cell_type": "code",
   "execution_count": 18,
   "id": "6df6fa08",
   "metadata": {},
   "outputs": [
    {
     "name": "stderr",
     "output_type": "stream",
     "text": [
      "/home/gkuznetsov@prominn.local/.local/lib/python3.7/site-packages/pandas/compat/_optional.py:138: UserWarning: Pandas requires version '2.7.0' or newer of 'numexpr' (version '2.6.9' currently installed).\n",
      "  warnings.warn(msg, UserWarning)\n"
     ]
    }
   ],
   "source": [
    "import pandas as pd\n",
    "import numpy as np\n",
    "from sklearn.pipeline import Pipeline\n",
    "from sklearn.ensemble import RandomForestRegressor\n",
    "from sklearn.preprocessing import StandardScaler"
   ]
  },
  {
   "cell_type": "code",
   "execution_count": 19,
   "id": "24543bb7",
   "metadata": {},
   "outputs": [],
   "source": [
    "from sklearn.datasets import fetch_california_housing\n",
    "from sklearn.metrics import r2_score, mean_squared_error\n",
    "from sklearn.model_selection import train_test_split"
   ]
  },
  {
   "cell_type": "code",
   "execution_count": 24,
   "id": "d4aece40",
   "metadata": {},
   "outputs": [
    {
     "data": {
      "text/html": [
       "<div>\n",
       "<style scoped>\n",
       "    .dataframe tbody tr th:only-of-type {\n",
       "        vertical-align: middle;\n",
       "    }\n",
       "\n",
       "    .dataframe tbody tr th {\n",
       "        vertical-align: top;\n",
       "    }\n",
       "\n",
       "    .dataframe thead th {\n",
       "        text-align: right;\n",
       "    }\n",
       "</style>\n",
       "<table border=\"1\" class=\"dataframe\">\n",
       "  <thead>\n",
       "    <tr style=\"text-align: right;\">\n",
       "      <th></th>\n",
       "      <th>MedInc</th>\n",
       "      <th>HouseAge</th>\n",
       "      <th>AveRooms</th>\n",
       "      <th>AveBedrms</th>\n",
       "      <th>Population</th>\n",
       "      <th>AveOccup</th>\n",
       "      <th>Latitude</th>\n",
       "      <th>Longitude</th>\n",
       "      <th>target</th>\n",
       "    </tr>\n",
       "  </thead>\n",
       "  <tbody>\n",
       "    <tr>\n",
       "      <th>0</th>\n",
       "      <td>8.3252</td>\n",
       "      <td>41.0</td>\n",
       "      <td>6.984127</td>\n",
       "      <td>1.023810</td>\n",
       "      <td>322.0</td>\n",
       "      <td>2.555556</td>\n",
       "      <td>37.88</td>\n",
       "      <td>-122.23</td>\n",
       "      <td>4.526</td>\n",
       "    </tr>\n",
       "    <tr>\n",
       "      <th>1</th>\n",
       "      <td>8.3014</td>\n",
       "      <td>21.0</td>\n",
       "      <td>6.238137</td>\n",
       "      <td>0.971880</td>\n",
       "      <td>2401.0</td>\n",
       "      <td>2.109842</td>\n",
       "      <td>37.86</td>\n",
       "      <td>-122.22</td>\n",
       "      <td>3.585</td>\n",
       "    </tr>\n",
       "    <tr>\n",
       "      <th>2</th>\n",
       "      <td>7.2574</td>\n",
       "      <td>52.0</td>\n",
       "      <td>8.288136</td>\n",
       "      <td>1.073446</td>\n",
       "      <td>496.0</td>\n",
       "      <td>2.802260</td>\n",
       "      <td>37.85</td>\n",
       "      <td>-122.24</td>\n",
       "      <td>3.521</td>\n",
       "    </tr>\n",
       "    <tr>\n",
       "      <th>3</th>\n",
       "      <td>5.6431</td>\n",
       "      <td>52.0</td>\n",
       "      <td>5.817352</td>\n",
       "      <td>1.073059</td>\n",
       "      <td>558.0</td>\n",
       "      <td>2.547945</td>\n",
       "      <td>37.85</td>\n",
       "      <td>-122.25</td>\n",
       "      <td>3.413</td>\n",
       "    </tr>\n",
       "    <tr>\n",
       "      <th>4</th>\n",
       "      <td>3.8462</td>\n",
       "      <td>52.0</td>\n",
       "      <td>6.281853</td>\n",
       "      <td>1.081081</td>\n",
       "      <td>565.0</td>\n",
       "      <td>2.181467</td>\n",
       "      <td>37.85</td>\n",
       "      <td>-122.25</td>\n",
       "      <td>3.422</td>\n",
       "    </tr>\n",
       "  </tbody>\n",
       "</table>\n",
       "</div>"
      ],
      "text/plain": [
       "   MedInc  HouseAge  AveRooms  AveBedrms  Population  AveOccup  Latitude  \\\n",
       "0  8.3252      41.0  6.984127   1.023810       322.0  2.555556     37.88   \n",
       "1  8.3014      21.0  6.238137   0.971880      2401.0  2.109842     37.86   \n",
       "2  7.2574      52.0  8.288136   1.073446       496.0  2.802260     37.85   \n",
       "3  5.6431      52.0  5.817352   1.073059       558.0  2.547945     37.85   \n",
       "4  3.8462      52.0  6.281853   1.081081       565.0  2.181467     37.85   \n",
       "\n",
       "   Longitude  target  \n",
       "0    -122.23   4.526  \n",
       "1    -122.22   3.585  \n",
       "2    -122.24   3.521  \n",
       "3    -122.25   3.413  \n",
       "4    -122.25   3.422  "
      ]
     },
     "execution_count": 24,
     "metadata": {},
     "output_type": "execute_result"
    }
   ],
   "source": [
    "#data = fetch_california_housing()\n",
    "#df = pd.DataFrame(data['data'], columns=data['feature_names'])\n",
    "#df.loc[:, 'target'] = data['target']\n",
    "\n",
    "data = pd.read_csv('california.csv')\n",
    "data.head()"
   ]
  },
  {
   "cell_type": "code",
   "execution_count": 34,
   "id": "d7b37b0b",
   "metadata": {},
   "outputs": [
    {
     "data": {
      "text/html": [
       "<div>\n",
       "<style scoped>\n",
       "    .dataframe tbody tr th:only-of-type {\n",
       "        vertical-align: middle;\n",
       "    }\n",
       "\n",
       "    .dataframe tbody tr th {\n",
       "        vertical-align: top;\n",
       "    }\n",
       "\n",
       "    .dataframe thead th {\n",
       "        text-align: right;\n",
       "    }\n",
       "</style>\n",
       "<table border=\"1\" class=\"dataframe\">\n",
       "  <thead>\n",
       "    <tr style=\"text-align: right;\">\n",
       "      <th></th>\n",
       "      <th>MedInc</th>\n",
       "      <th>HouseAge</th>\n",
       "      <th>AveRooms</th>\n",
       "      <th>AveBedrms</th>\n",
       "      <th>Population</th>\n",
       "      <th>AveOccup</th>\n",
       "      <th>Latitude</th>\n",
       "      <th>Longitude</th>\n",
       "      <th>target</th>\n",
       "    </tr>\n",
       "  </thead>\n",
       "  <tbody>\n",
       "    <tr>\n",
       "      <th>count</th>\n",
       "      <td>20640.000000</td>\n",
       "      <td>20640.000000</td>\n",
       "      <td>20640.000000</td>\n",
       "      <td>20640.000000</td>\n",
       "      <td>20640.000000</td>\n",
       "      <td>20640.000000</td>\n",
       "      <td>20640.000000</td>\n",
       "      <td>20640.000000</td>\n",
       "      <td>20640.000000</td>\n",
       "    </tr>\n",
       "    <tr>\n",
       "      <th>mean</th>\n",
       "      <td>3.870671</td>\n",
       "      <td>28.639486</td>\n",
       "      <td>5.429000</td>\n",
       "      <td>1.096675</td>\n",
       "      <td>1425.476744</td>\n",
       "      <td>3.070655</td>\n",
       "      <td>35.631861</td>\n",
       "      <td>-119.569704</td>\n",
       "      <td>2.068558</td>\n",
       "    </tr>\n",
       "    <tr>\n",
       "      <th>std</th>\n",
       "      <td>1.899822</td>\n",
       "      <td>12.585558</td>\n",
       "      <td>2.474173</td>\n",
       "      <td>0.473911</td>\n",
       "      <td>1132.462122</td>\n",
       "      <td>10.386050</td>\n",
       "      <td>2.135952</td>\n",
       "      <td>2.003532</td>\n",
       "      <td>1.153956</td>\n",
       "    </tr>\n",
       "    <tr>\n",
       "      <th>min</th>\n",
       "      <td>0.499900</td>\n",
       "      <td>1.000000</td>\n",
       "      <td>0.846154</td>\n",
       "      <td>0.333333</td>\n",
       "      <td>3.000000</td>\n",
       "      <td>0.692308</td>\n",
       "      <td>32.540000</td>\n",
       "      <td>-124.350000</td>\n",
       "      <td>0.149990</td>\n",
       "    </tr>\n",
       "    <tr>\n",
       "      <th>25%</th>\n",
       "      <td>2.563400</td>\n",
       "      <td>18.000000</td>\n",
       "      <td>4.440716</td>\n",
       "      <td>1.006079</td>\n",
       "      <td>787.000000</td>\n",
       "      <td>2.429741</td>\n",
       "      <td>33.930000</td>\n",
       "      <td>-121.800000</td>\n",
       "      <td>1.196000</td>\n",
       "    </tr>\n",
       "    <tr>\n",
       "      <th>50%</th>\n",
       "      <td>3.534800</td>\n",
       "      <td>29.000000</td>\n",
       "      <td>5.229129</td>\n",
       "      <td>1.048780</td>\n",
       "      <td>1166.000000</td>\n",
       "      <td>2.818116</td>\n",
       "      <td>34.260000</td>\n",
       "      <td>-118.490000</td>\n",
       "      <td>1.797000</td>\n",
       "    </tr>\n",
       "    <tr>\n",
       "      <th>75%</th>\n",
       "      <td>4.743250</td>\n",
       "      <td>37.000000</td>\n",
       "      <td>6.052381</td>\n",
       "      <td>1.099526</td>\n",
       "      <td>1725.000000</td>\n",
       "      <td>3.282261</td>\n",
       "      <td>37.710000</td>\n",
       "      <td>-118.010000</td>\n",
       "      <td>2.647250</td>\n",
       "    </tr>\n",
       "    <tr>\n",
       "      <th>max</th>\n",
       "      <td>15.000100</td>\n",
       "      <td>52.000000</td>\n",
       "      <td>141.909091</td>\n",
       "      <td>34.066667</td>\n",
       "      <td>35682.000000</td>\n",
       "      <td>1243.333333</td>\n",
       "      <td>41.950000</td>\n",
       "      <td>-114.310000</td>\n",
       "      <td>5.000010</td>\n",
       "    </tr>\n",
       "  </tbody>\n",
       "</table>\n",
       "</div>"
      ],
      "text/plain": [
       "             MedInc      HouseAge      AveRooms     AveBedrms    Population  \\\n",
       "count  20640.000000  20640.000000  20640.000000  20640.000000  20640.000000   \n",
       "mean       3.870671     28.639486      5.429000      1.096675   1425.476744   \n",
       "std        1.899822     12.585558      2.474173      0.473911   1132.462122   \n",
       "min        0.499900      1.000000      0.846154      0.333333      3.000000   \n",
       "25%        2.563400     18.000000      4.440716      1.006079    787.000000   \n",
       "50%        3.534800     29.000000      5.229129      1.048780   1166.000000   \n",
       "75%        4.743250     37.000000      6.052381      1.099526   1725.000000   \n",
       "max       15.000100     52.000000    141.909091     34.066667  35682.000000   \n",
       "\n",
       "           AveOccup      Latitude     Longitude        target  \n",
       "count  20640.000000  20640.000000  20640.000000  20640.000000  \n",
       "mean       3.070655     35.631861   -119.569704      2.068558  \n",
       "std       10.386050      2.135952      2.003532      1.153956  \n",
       "min        0.692308     32.540000   -124.350000      0.149990  \n",
       "25%        2.429741     33.930000   -121.800000      1.196000  \n",
       "50%        2.818116     34.260000   -118.490000      1.797000  \n",
       "75%        3.282261     37.710000   -118.010000      2.647250  \n",
       "max     1243.333333     41.950000   -114.310000      5.000010  "
      ]
     },
     "execution_count": 34,
     "metadata": {},
     "output_type": "execute_result"
    }
   ],
   "source": [
    "data.describe()"
   ]
  },
  {
   "cell_type": "code",
   "execution_count": 36,
   "id": "84afe215",
   "metadata": {},
   "outputs": [],
   "source": [
    "def rmse(y_hat, y):\n",
    "    return mean_squared_error(y_hat, y, squared = False)\n",
    "\n",
    "X = data.drop('target', axis=1)\n",
    "Y = data['target']\n",
    "X_train, X_test, y_train, y_test = train_test_split(X, Y, random_state = 42)"
   ]
  },
  {
   "cell_type": "code",
   "execution_count": 37,
   "id": "1b3a5046",
   "metadata": {},
   "outputs": [
    {
     "data": {
      "text/plain": [
       "(15480, 8)"
      ]
     },
     "execution_count": 37,
     "metadata": {},
     "output_type": "execute_result"
    }
   ],
   "source": [
    "X_train.shape #Размер обучающей выборки"
   ]
  },
  {
   "cell_type": "code",
   "execution_count": 38,
   "id": "ccfe4610",
   "metadata": {},
   "outputs": [
    {
     "data": {
      "text/plain": [
       "(5160, 8)"
      ]
     },
     "execution_count": 38,
     "metadata": {},
     "output_type": "execute_result"
    }
   ],
   "source": [
    "X_test.shape #Размер тестовой выборки"
   ]
  },
  {
   "cell_type": "code",
   "execution_count": 40,
   "id": "68e684b2",
   "metadata": {},
   "outputs": [
    {
     "data": {
      "text/plain": [
       "Pipeline(steps=[('scaler', StandardScaler()), ('rf', RandomForestRegressor())])"
      ]
     },
     "execution_count": 40,
     "metadata": {},
     "output_type": "execute_result"
    }
   ],
   "source": [
    "#PIPELINE <- Список из кортежей (сокращение, преобразование)\n",
    "pipeline = Pipeline([\n",
    "    ('scaler', StandardScaler()),\n",
    "    ('rf', RandomForestRegressor())\n",
    "])\n",
    "\n",
    "pipeline.fit(X_train, y_train)"
   ]
  },
  {
   "cell_type": "code",
   "execution_count": 42,
   "id": "6d2b3315",
   "metadata": {},
   "outputs": [
    {
     "data": {
      "text/plain": [
       "0.8086956212854606"
      ]
     },
     "execution_count": 42,
     "metadata": {},
     "output_type": "execute_result"
    }
   ],
   "source": [
    "y_pred = pipeline.predict(X_test)\n",
    "\n",
    "r2_score(y_test, y_pred) #R2"
   ]
  },
  {
   "cell_type": "code",
   "execution_count": 45,
   "id": "b839aa7a",
   "metadata": {},
   "outputs": [
    {
     "data": {
      "text/plain": [
       "0.5031276353612809"
      ]
     },
     "execution_count": 45,
     "metadata": {},
     "output_type": "execute_result"
    }
   ],
   "source": [
    "rmse(y_test, y_pred) #RMSE"
   ]
  },
  {
   "cell_type": "code",
   "execution_count": 46,
   "id": "8ed94c5a",
   "metadata": {},
   "outputs": [
    {
     "data": {
      "text/plain": [
       "{'memory': None,\n",
       " 'steps': [('scaler', StandardScaler()), ('rf', RandomForestRegressor())],\n",
       " 'verbose': False,\n",
       " 'scaler': StandardScaler(),\n",
       " 'rf': RandomForestRegressor(),\n",
       " 'scaler__copy': True,\n",
       " 'scaler__with_mean': True,\n",
       " 'scaler__with_std': True,\n",
       " 'rf__bootstrap': True,\n",
       " 'rf__ccp_alpha': 0.0,\n",
       " 'rf__criterion': 'squared_error',\n",
       " 'rf__max_depth': None,\n",
       " 'rf__max_features': 'auto',\n",
       " 'rf__max_leaf_nodes': None,\n",
       " 'rf__max_samples': None,\n",
       " 'rf__min_impurity_decrease': 0.0,\n",
       " 'rf__min_samples_leaf': 1,\n",
       " 'rf__min_samples_split': 2,\n",
       " 'rf__min_weight_fraction_leaf': 0.0,\n",
       " 'rf__n_estimators': 100,\n",
       " 'rf__n_jobs': None,\n",
       " 'rf__oob_score': False,\n",
       " 'rf__random_state': None,\n",
       " 'rf__verbose': 0,\n",
       " 'rf__warm_start': False}"
      ]
     },
     "execution_count": 46,
     "metadata": {},
     "output_type": "execute_result"
    }
   ],
   "source": [
    "pipeline.get_params()"
   ]
  },
  {
   "cell_type": "code",
   "execution_count": 47,
   "id": "7f653070",
   "metadata": {},
   "outputs": [
    {
     "data": {
      "text/plain": [
       "Pipeline(steps=[('scaler', StandardScaler()), ('rf', RandomForestRegressor())])"
      ]
     },
     "execution_count": 47,
     "metadata": {},
     "output_type": "execute_result"
    }
   ],
   "source": [
    "pipeline #СПИСОК"
   ]
  },
  {
   "cell_type": "code",
   "execution_count": 48,
   "id": "34a79e30",
   "metadata": {},
   "outputs": [
    {
     "data": {
      "text/plain": [
       "RandomForestRegressor()"
      ]
     },
     "execution_count": 48,
     "metadata": {},
     "output_type": "execute_result"
    }
   ],
   "source": [
    "pipeline[1]"
   ]
  },
  {
   "cell_type": "code",
   "execution_count": 49,
   "id": "16fdb0e7",
   "metadata": {},
   "outputs": [
    {
     "data": {
      "text/plain": [
       "RandomForestRegressor()"
      ]
     },
     "execution_count": 49,
     "metadata": {},
     "output_type": "execute_result"
    }
   ],
   "source": [
    "pipeline['rf']"
   ]
  },
  {
   "cell_type": "code",
   "execution_count": 51,
   "id": "9f2283bf",
   "metadata": {},
   "outputs": [
    {
     "data": {
      "text/plain": [
       "Pipeline(steps=[('scaler', StandardScaler()),\n",
       "                ('rf', RandomForestRegressor(n_estimators=200))])"
      ]
     },
     "execution_count": 51,
     "metadata": {},
     "output_type": "execute_result"
    }
   ],
   "source": [
    "#ИЗМЕНЕНИЕ ПАРАМЕТРОВ МОДЕЛИ\n",
    "pipeline.set_params(rf__n_estimators = 200) #обращение через два нижних подчёркивания"
   ]
  },
  {
   "cell_type": "code",
   "execution_count": 54,
   "id": "411a2437",
   "metadata": {},
   "outputs": [
    {
     "name": "stdout",
     "output_type": "stream",
     "text": [
      "Fitting 5 folds for each of 6 candidates, totalling 30 fits\n"
     ]
    },
    {
     "data": {
      "text/plain": [
       "GridSearchCV(estimator=Pipeline(steps=[('scaler', StandardScaler()),\n",
       "                                       ('rf',\n",
       "                                        RandomForestRegressor(n_estimators=200))]),\n",
       "             param_grid={'rf__n_estimators': [100, 200, 500],\n",
       "                         'scaler__with_mean': [True, False]},\n",
       "             verbose=True)"
      ]
     },
     "execution_count": 54,
     "metadata": {},
     "output_type": "execute_result"
    }
   ],
   "source": [
    "#ТАКОЙ ФОРМАТ ОБРАЩЕНИЯ НЕОБХОДИМ И ДЛЯ GridSearch кросс-валидации\n",
    "\n",
    "from sklearn.model_selection import GridSearchCV\n",
    "\n",
    "param_grid = {'scaler__with_mean': [True, False],\n",
    "             'rf__n_estimators': [100, 200, 500]}\n",
    "\n",
    "grid_search = GridSearchCV(pipeline, param_grid = param_grid, verbose = True)\n",
    "\n",
    "grid_search.fit(X_train, y_train)"
   ]
  },
  {
   "cell_type": "code",
   "execution_count": 55,
   "id": "49e090a3",
   "metadata": {},
   "outputs": [
    {
     "data": {
      "text/plain": [
       "Pipeline(steps=[('scaler', StandardScaler(with_mean=False)),\n",
       "                ('rf', RandomForestRegressor(n_estimators=500))])"
      ]
     },
     "execution_count": 55,
     "metadata": {},
     "output_type": "execute_result"
    }
   ],
   "source": [
    "grid_search.best_estimator_"
   ]
  },
  {
   "cell_type": "code",
   "execution_count": 56,
   "id": "3809b129",
   "metadata": {},
   "outputs": [],
   "source": [
    "y_pred = grid_search.best_estimator_.predict(X_test)"
   ]
  },
  {
   "cell_type": "code",
   "execution_count": 57,
   "id": "53670433",
   "metadata": {},
   "outputs": [
    {
     "data": {
      "text/plain": [
       "0.8104727632082045"
      ]
     },
     "execution_count": 57,
     "metadata": {},
     "output_type": "execute_result"
    }
   ],
   "source": [
    "r2_score(y_test, y_pred) #R2"
   ]
  },
  {
   "cell_type": "code",
   "execution_count": 58,
   "id": "700b4327",
   "metadata": {},
   "outputs": [
    {
     "data": {
      "text/plain": [
       "0.5007852544724727"
      ]
     },
     "execution_count": 58,
     "metadata": {},
     "output_type": "execute_result"
    }
   ],
   "source": [
    "rmse(y_test, y_pred) #RMSE"
   ]
  },
  {
   "cell_type": "markdown",
   "id": "38fe0783",
   "metadata": {},
   "source": [
    "### 2. Предобработка данных в пайплайнах. ColumnTransformer"
   ]
  },
  {
   "cell_type": "code",
   "execution_count": 60,
   "id": "dfe8987c",
   "metadata": {},
   "outputs": [
    {
     "data": {
      "text/html": [
       "<div>\n",
       "<style scoped>\n",
       "    .dataframe tbody tr th:only-of-type {\n",
       "        vertical-align: middle;\n",
       "    }\n",
       "\n",
       "    .dataframe tbody tr th {\n",
       "        vertical-align: top;\n",
       "    }\n",
       "\n",
       "    .dataframe thead th {\n",
       "        text-align: right;\n",
       "    }\n",
       "</style>\n",
       "<table border=\"1\" class=\"dataframe\">\n",
       "  <thead>\n",
       "    <tr style=\"text-align: right;\">\n",
       "      <th></th>\n",
       "      <th>Name</th>\n",
       "      <th>Country</th>\n",
       "      <th>Region</th>\n",
       "      <th>Winery</th>\n",
       "      <th>Rating</th>\n",
       "      <th>NumberOfRatings</th>\n",
       "      <th>Price</th>\n",
       "      <th>Year</th>\n",
       "    </tr>\n",
       "  </thead>\n",
       "  <tbody>\n",
       "    <tr>\n",
       "      <th>0</th>\n",
       "      <td>Pomerol 2011</td>\n",
       "      <td>France</td>\n",
       "      <td>Pomerol</td>\n",
       "      <td>Château La Providence</td>\n",
       "      <td>4.2</td>\n",
       "      <td>100</td>\n",
       "      <td>95.00</td>\n",
       "      <td>2011</td>\n",
       "    </tr>\n",
       "    <tr>\n",
       "      <th>1</th>\n",
       "      <td>Lirac 2017</td>\n",
       "      <td>France</td>\n",
       "      <td>Lirac</td>\n",
       "      <td>Château Mont-Redon</td>\n",
       "      <td>4.3</td>\n",
       "      <td>100</td>\n",
       "      <td>15.50</td>\n",
       "      <td>2017</td>\n",
       "    </tr>\n",
       "    <tr>\n",
       "      <th>2</th>\n",
       "      <td>Erta e China Rosso di Toscana 2015</td>\n",
       "      <td>Italy</td>\n",
       "      <td>Toscana</td>\n",
       "      <td>Renzo Masi</td>\n",
       "      <td>3.9</td>\n",
       "      <td>100</td>\n",
       "      <td>7.45</td>\n",
       "      <td>2015</td>\n",
       "    </tr>\n",
       "    <tr>\n",
       "      <th>3</th>\n",
       "      <td>Bardolino 2019</td>\n",
       "      <td>Italy</td>\n",
       "      <td>Bardolino</td>\n",
       "      <td>Cavalchina</td>\n",
       "      <td>3.5</td>\n",
       "      <td>100</td>\n",
       "      <td>8.72</td>\n",
       "      <td>2019</td>\n",
       "    </tr>\n",
       "    <tr>\n",
       "      <th>4</th>\n",
       "      <td>Ried Scheibner Pinot Noir 2016</td>\n",
       "      <td>Austria</td>\n",
       "      <td>Carnuntum</td>\n",
       "      <td>Markowitsch</td>\n",
       "      <td>3.9</td>\n",
       "      <td>100</td>\n",
       "      <td>29.15</td>\n",
       "      <td>2016</td>\n",
       "    </tr>\n",
       "  </tbody>\n",
       "</table>\n",
       "</div>"
      ],
      "text/plain": [
       "                                 Name  Country     Region  \\\n",
       "0                        Pomerol 2011   France    Pomerol   \n",
       "1                          Lirac 2017   France      Lirac   \n",
       "2  Erta e China Rosso di Toscana 2015    Italy    Toscana   \n",
       "3                      Bardolino 2019    Italy  Bardolino   \n",
       "4      Ried Scheibner Pinot Noir 2016  Austria  Carnuntum   \n",
       "\n",
       "                  Winery  Rating  NumberOfRatings  Price  Year  \n",
       "0  Château La Providence     4.2              100  95.00  2011  \n",
       "1     Château Mont-Redon     4.3              100  15.50  2017  \n",
       "2             Renzo Masi     3.9              100   7.45  2015  \n",
       "3             Cavalchina     3.5              100   8.72  2019  \n",
       "4            Markowitsch     3.9              100  29.15  2016  "
      ]
     },
     "execution_count": 60,
     "metadata": {},
     "output_type": "execute_result"
    }
   ],
   "source": [
    "df_wine = pd.read_csv('Red.csv')\n",
    "df_wine.head()"
   ]
  },
  {
   "cell_type": "code",
   "execution_count": 61,
   "id": "40219991",
   "metadata": {},
   "outputs": [
    {
     "name": "stdout",
     "output_type": "stream",
     "text": [
      "<class 'pandas.core.frame.DataFrame'>\n",
      "RangeIndex: 8666 entries, 0 to 8665\n",
      "Data columns (total 8 columns):\n",
      " #   Column           Non-Null Count  Dtype  \n",
      "---  ------           --------------  -----  \n",
      " 0   Name             8666 non-null   object \n",
      " 1   Country          8666 non-null   object \n",
      " 2   Region           8666 non-null   object \n",
      " 3   Winery           8666 non-null   object \n",
      " 4   Rating           8666 non-null   float64\n",
      " 5   NumberOfRatings  8666 non-null   int64  \n",
      " 6   Price            8666 non-null   float64\n",
      " 7   Year             8666 non-null   object \n",
      "dtypes: float64(2), int64(1), object(5)\n",
      "memory usage: 541.8+ KB\n"
     ]
    }
   ],
   "source": [
    "df_wine.info()"
   ]
  },
  {
   "cell_type": "code",
   "execution_count": 62,
   "id": "0b9f557e",
   "metadata": {},
   "outputs": [],
   "source": [
    "from sklearn.preprocessing import StandardScaler, OneHotEncoder\n",
    "from sklearn.compose import make_column_transformer"
   ]
  },
  {
   "cell_type": "code",
   "execution_count": 64,
   "id": "f1dc8425",
   "metadata": {},
   "outputs": [
    {
     "data": {
      "text/plain": [
       "ColumnTransformer(transformers=[('standardscaler', StandardScaler(), ['Price']),\n",
       "                                ('onehotencoder', OneHotEncoder(),\n",
       "                                 ['Country'])])"
      ]
     },
     "execution_count": 64,
     "metadata": {},
     "output_type": "execute_result"
    }
   ],
   "source": [
    "#Ин-ция объекта make_column_transformer: <- на Вход подаются кортежи (Преобразование, Список колонок)\n",
    "\n",
    "ct = make_column_transformer(\n",
    "    (StandardScaler(), ['Price']),\n",
    "    (OneHotEncoder(), ['Country'])\n",
    ")\n",
    "\n",
    "ct"
   ]
  },
  {
   "cell_type": "code",
   "execution_count": 65,
   "id": "ee68f44b",
   "metadata": {},
   "outputs": [],
   "source": [
    "#Уже ColumnTransformer можно добавить в Pipeline\n",
    "pipeline = Pipeline([\n",
    "    ('ct', ct),\n",
    "    ('rf', RandomForestRegressor())\n",
    "])"
   ]
  },
  {
   "cell_type": "code",
   "execution_count": 66,
   "id": "efbee7cc",
   "metadata": {},
   "outputs": [
    {
     "data": {
      "text/html": [
       "<div>\n",
       "<style scoped>\n",
       "    .dataframe tbody tr th:only-of-type {\n",
       "        vertical-align: middle;\n",
       "    }\n",
       "\n",
       "    .dataframe tbody tr th {\n",
       "        vertical-align: top;\n",
       "    }\n",
       "\n",
       "    .dataframe thead th {\n",
       "        text-align: right;\n",
       "    }\n",
       "</style>\n",
       "<table border=\"1\" class=\"dataframe\">\n",
       "  <thead>\n",
       "    <tr style=\"text-align: right;\">\n",
       "      <th></th>\n",
       "      <th>Country</th>\n",
       "      <th>Price</th>\n",
       "    </tr>\n",
       "  </thead>\n",
       "  <tbody>\n",
       "    <tr>\n",
       "      <th>0</th>\n",
       "      <td>France</td>\n",
       "      <td>95.00</td>\n",
       "    </tr>\n",
       "    <tr>\n",
       "      <th>1</th>\n",
       "      <td>France</td>\n",
       "      <td>15.50</td>\n",
       "    </tr>\n",
       "    <tr>\n",
       "      <th>2</th>\n",
       "      <td>Italy</td>\n",
       "      <td>7.45</td>\n",
       "    </tr>\n",
       "  </tbody>\n",
       "</table>\n",
       "</div>"
      ],
      "text/plain": [
       "  Country  Price\n",
       "0  France  95.00\n",
       "1  France  15.50\n",
       "2   Italy   7.45"
      ]
     },
     "execution_count": 66,
     "metadata": {},
     "output_type": "execute_result"
    }
   ],
   "source": [
    "X = df_wine[['Country', 'Price']]\n",
    "X.head(3)"
   ]
  },
  {
   "cell_type": "code",
   "execution_count": 67,
   "id": "0ae4b352",
   "metadata": {},
   "outputs": [
    {
     "data": {
      "text/plain": [
       "0    4.2\n",
       "1    4.3\n",
       "2    3.9\n",
       "Name: Rating, dtype: float64"
      ]
     },
     "execution_count": 67,
     "metadata": {},
     "output_type": "execute_result"
    }
   ],
   "source": [
    "y = df_wine['Rating']\n",
    "y.head(3)"
   ]
  },
  {
   "cell_type": "code",
   "execution_count": 68,
   "id": "8d1c7554",
   "metadata": {},
   "outputs": [
    {
     "data": {
      "text/plain": [
       "Pipeline(steps=[('ct',\n",
       "                 ColumnTransformer(transformers=[('standardscaler',\n",
       "                                                  StandardScaler(), ['Price']),\n",
       "                                                 ('onehotencoder',\n",
       "                                                  OneHotEncoder(),\n",
       "                                                  ['Country'])])),\n",
       "                ('rf', RandomForestRegressor())])"
      ]
     },
     "execution_count": 68,
     "metadata": {},
     "output_type": "execute_result"
    }
   ],
   "source": [
    "#Обучим наш пайплайн\n",
    "pipeline.fit(X, y)"
   ]
  },
  {
   "cell_type": "code",
   "execution_count": 70,
   "id": "9e9048bf",
   "metadata": {},
   "outputs": [
    {
     "data": {
      "text/plain": [
       "ColumnTransformer(transformers=[('standardscaler', StandardScaler(), ['Price']),\n",
       "                                ('onehotencoder', OneHotEncoder(),\n",
       "                                 ['Country'])])"
      ]
     },
     "execution_count": 70,
     "metadata": {},
     "output_type": "execute_result"
    }
   ],
   "source": [
    "#Можем посмотреть на преобразования ColumnTransformera\n",
    "pipeline['ct']"
   ]
  },
  {
   "cell_type": "code",
   "execution_count": 71,
   "id": "0ee01af5",
   "metadata": {},
   "outputs": [
    {
     "data": {
      "text/html": [
       "<div>\n",
       "<style scoped>\n",
       "    .dataframe tbody tr th:only-of-type {\n",
       "        vertical-align: middle;\n",
       "    }\n",
       "\n",
       "    .dataframe tbody tr th {\n",
       "        vertical-align: top;\n",
       "    }\n",
       "\n",
       "    .dataframe thead th {\n",
       "        text-align: right;\n",
       "    }\n",
       "</style>\n",
       "<table border=\"1\" class=\"dataframe\">\n",
       "  <thead>\n",
       "    <tr style=\"text-align: right;\">\n",
       "      <th></th>\n",
       "      <th>Country</th>\n",
       "      <th>Price</th>\n",
       "    </tr>\n",
       "  </thead>\n",
       "  <tbody>\n",
       "    <tr>\n",
       "      <th>0</th>\n",
       "      <td>France</td>\n",
       "      <td>95.00</td>\n",
       "    </tr>\n",
       "    <tr>\n",
       "      <th>1</th>\n",
       "      <td>France</td>\n",
       "      <td>15.50</td>\n",
       "    </tr>\n",
       "    <tr>\n",
       "      <th>2</th>\n",
       "      <td>Italy</td>\n",
       "      <td>7.45</td>\n",
       "    </tr>\n",
       "  </tbody>\n",
       "</table>\n",
       "</div>"
      ],
      "text/plain": [
       "  Country  Price\n",
       "0  France  95.00\n",
       "1  France  15.50\n",
       "2   Italy   7.45"
      ]
     },
     "execution_count": 71,
     "metadata": {},
     "output_type": "execute_result"
    }
   ],
   "source": [
    "X.head(3)"
   ]
  },
  {
   "cell_type": "code",
   "execution_count": 73,
   "id": "3bf27271",
   "metadata": {},
   "outputs": [
    {
     "data": {
      "text/plain": [
       "array([[ 0.6576476 ,  0.        ,  0.        , ...,  0.        ,\n",
       "         0.        ,  0.        ],\n",
       "       [-0.2784019 ,  0.        ,  0.        , ...,  0.        ,\n",
       "         0.        ,  0.        ],\n",
       "       [-0.37318427,  0.        ,  0.        , ...,  0.        ,\n",
       "         0.        ,  0.        ],\n",
       "       ...,\n",
       "       [-0.17890984,  0.        ,  0.        , ...,  0.        ,\n",
       "         0.        ,  0.        ],\n",
       "       [-0.38778428,  0.        ,  1.        , ...,  0.        ,\n",
       "         0.        ,  0.        ],\n",
       "       [-0.36812136,  1.        ,  0.        , ...,  0.        ,\n",
       "         0.        ,  0.        ]])"
      ]
     },
     "execution_count": 73,
     "metadata": {},
     "output_type": "execute_result"
    }
   ],
   "source": [
    "pipeline['ct'].transform(X).toarray()"
   ]
  },
  {
   "cell_type": "code",
   "execution_count": 75,
   "id": "8f9b591f",
   "metadata": {},
   "outputs": [
    {
     "data": {
      "text/plain": [
       "[('standardscaler', StandardScaler(), ['Price']),\n",
       " ('onehotencoder', OneHotEncoder(), ['Country'])]"
      ]
     },
     "execution_count": 75,
     "metadata": {},
     "output_type": "execute_result"
    }
   ],
   "source": [
    "pipeline['ct'].transformers_"
   ]
  },
  {
   "cell_type": "code",
   "execution_count": 77,
   "id": "27b2f914",
   "metadata": {},
   "outputs": [
    {
     "data": {
      "text/plain": [
       "OneHotEncoder()"
      ]
     },
     "execution_count": 77,
     "metadata": {},
     "output_type": "execute_result"
    }
   ],
   "source": [
    "pipeline['ct'].transformers_[1][1]"
   ]
  },
  {
   "cell_type": "code",
   "execution_count": 78,
   "id": "38385644",
   "metadata": {},
   "outputs": [
    {
     "data": {
      "text/plain": [
       "array(['Country_Argentina', 'Country_Australia', 'Country_Austria',\n",
       "       'Country_Brazil', 'Country_Bulgaria', 'Country_Canada',\n",
       "       'Country_Chile', 'Country_China', 'Country_Croatia',\n",
       "       'Country_France', 'Country_Georgia', 'Country_Germany',\n",
       "       'Country_Greece', 'Country_Hungary', 'Country_Israel',\n",
       "       'Country_Italy', 'Country_Lebanon', 'Country_Mexico',\n",
       "       'Country_Moldova', 'Country_New Zealand', 'Country_Portugal',\n",
       "       'Country_Romania', 'Country_Slovakia', 'Country_Slovenia',\n",
       "       'Country_South Africa', 'Country_Spain', 'Country_Switzerland',\n",
       "       'Country_Turkey', 'Country_United States', 'Country_Uruguay'],\n",
       "      dtype=object)"
      ]
     },
     "execution_count": 78,
     "metadata": {},
     "output_type": "execute_result"
    }
   ],
   "source": [
    "pipeline['ct'].transformers_[1][1].get_feature_names_out()"
   ]
  },
  {
   "cell_type": "code",
   "execution_count": 79,
   "id": "01544943",
   "metadata": {},
   "outputs": [
    {
     "data": {
      "text/html": [
       "<div>\n",
       "<style scoped>\n",
       "    .dataframe tbody tr th:only-of-type {\n",
       "        vertical-align: middle;\n",
       "    }\n",
       "\n",
       "    .dataframe tbody tr th {\n",
       "        vertical-align: top;\n",
       "    }\n",
       "\n",
       "    .dataframe thead th {\n",
       "        text-align: right;\n",
       "    }\n",
       "</style>\n",
       "<table border=\"1\" class=\"dataframe\">\n",
       "  <thead>\n",
       "    <tr style=\"text-align: right;\">\n",
       "      <th></th>\n",
       "      <th>Price</th>\n",
       "      <th>Country_Argentina</th>\n",
       "      <th>Country_Australia</th>\n",
       "      <th>Country_Austria</th>\n",
       "      <th>Country_Brazil</th>\n",
       "      <th>Country_Bulgaria</th>\n",
       "      <th>Country_Canada</th>\n",
       "      <th>Country_Chile</th>\n",
       "      <th>Country_China</th>\n",
       "      <th>Country_Croatia</th>\n",
       "      <th>...</th>\n",
       "      <th>Country_Portugal</th>\n",
       "      <th>Country_Romania</th>\n",
       "      <th>Country_Slovakia</th>\n",
       "      <th>Country_Slovenia</th>\n",
       "      <th>Country_South Africa</th>\n",
       "      <th>Country_Spain</th>\n",
       "      <th>Country_Switzerland</th>\n",
       "      <th>Country_Turkey</th>\n",
       "      <th>Country_United States</th>\n",
       "      <th>Country_Uruguay</th>\n",
       "    </tr>\n",
       "  </thead>\n",
       "  <tbody>\n",
       "    <tr>\n",
       "      <th>0</th>\n",
       "      <td>0.657648</td>\n",
       "      <td>0.0</td>\n",
       "      <td>0.0</td>\n",
       "      <td>0.0</td>\n",
       "      <td>0.0</td>\n",
       "      <td>0.0</td>\n",
       "      <td>0.0</td>\n",
       "      <td>0.0</td>\n",
       "      <td>0.0</td>\n",
       "      <td>0.0</td>\n",
       "      <td>...</td>\n",
       "      <td>0.0</td>\n",
       "      <td>0.0</td>\n",
       "      <td>0.0</td>\n",
       "      <td>0.0</td>\n",
       "      <td>0.0</td>\n",
       "      <td>0.0</td>\n",
       "      <td>0.0</td>\n",
       "      <td>0.0</td>\n",
       "      <td>0.0</td>\n",
       "      <td>0.0</td>\n",
       "    </tr>\n",
       "    <tr>\n",
       "      <th>1</th>\n",
       "      <td>-0.278402</td>\n",
       "      <td>0.0</td>\n",
       "      <td>0.0</td>\n",
       "      <td>0.0</td>\n",
       "      <td>0.0</td>\n",
       "      <td>0.0</td>\n",
       "      <td>0.0</td>\n",
       "      <td>0.0</td>\n",
       "      <td>0.0</td>\n",
       "      <td>0.0</td>\n",
       "      <td>...</td>\n",
       "      <td>0.0</td>\n",
       "      <td>0.0</td>\n",
       "      <td>0.0</td>\n",
       "      <td>0.0</td>\n",
       "      <td>0.0</td>\n",
       "      <td>0.0</td>\n",
       "      <td>0.0</td>\n",
       "      <td>0.0</td>\n",
       "      <td>0.0</td>\n",
       "      <td>0.0</td>\n",
       "    </tr>\n",
       "    <tr>\n",
       "      <th>2</th>\n",
       "      <td>-0.373184</td>\n",
       "      <td>0.0</td>\n",
       "      <td>0.0</td>\n",
       "      <td>0.0</td>\n",
       "      <td>0.0</td>\n",
       "      <td>0.0</td>\n",
       "      <td>0.0</td>\n",
       "      <td>0.0</td>\n",
       "      <td>0.0</td>\n",
       "      <td>0.0</td>\n",
       "      <td>...</td>\n",
       "      <td>0.0</td>\n",
       "      <td>0.0</td>\n",
       "      <td>0.0</td>\n",
       "      <td>0.0</td>\n",
       "      <td>0.0</td>\n",
       "      <td>0.0</td>\n",
       "      <td>0.0</td>\n",
       "      <td>0.0</td>\n",
       "      <td>0.0</td>\n",
       "      <td>0.0</td>\n",
       "    </tr>\n",
       "    <tr>\n",
       "      <th>3</th>\n",
       "      <td>-0.358231</td>\n",
       "      <td>0.0</td>\n",
       "      <td>0.0</td>\n",
       "      <td>0.0</td>\n",
       "      <td>0.0</td>\n",
       "      <td>0.0</td>\n",
       "      <td>0.0</td>\n",
       "      <td>0.0</td>\n",
       "      <td>0.0</td>\n",
       "      <td>0.0</td>\n",
       "      <td>...</td>\n",
       "      <td>0.0</td>\n",
       "      <td>0.0</td>\n",
       "      <td>0.0</td>\n",
       "      <td>0.0</td>\n",
       "      <td>0.0</td>\n",
       "      <td>0.0</td>\n",
       "      <td>0.0</td>\n",
       "      <td>0.0</td>\n",
       "      <td>0.0</td>\n",
       "      <td>0.0</td>\n",
       "    </tr>\n",
       "    <tr>\n",
       "      <th>4</th>\n",
       "      <td>-0.117684</td>\n",
       "      <td>0.0</td>\n",
       "      <td>0.0</td>\n",
       "      <td>1.0</td>\n",
       "      <td>0.0</td>\n",
       "      <td>0.0</td>\n",
       "      <td>0.0</td>\n",
       "      <td>0.0</td>\n",
       "      <td>0.0</td>\n",
       "      <td>0.0</td>\n",
       "      <td>...</td>\n",
       "      <td>0.0</td>\n",
       "      <td>0.0</td>\n",
       "      <td>0.0</td>\n",
       "      <td>0.0</td>\n",
       "      <td>0.0</td>\n",
       "      <td>0.0</td>\n",
       "      <td>0.0</td>\n",
       "      <td>0.0</td>\n",
       "      <td>0.0</td>\n",
       "      <td>0.0</td>\n",
       "    </tr>\n",
       "    <tr>\n",
       "      <th>...</th>\n",
       "      <td>...</td>\n",
       "      <td>...</td>\n",
       "      <td>...</td>\n",
       "      <td>...</td>\n",
       "      <td>...</td>\n",
       "      <td>...</td>\n",
       "      <td>...</td>\n",
       "      <td>...</td>\n",
       "      <td>...</td>\n",
       "      <td>...</td>\n",
       "      <td>...</td>\n",
       "      <td>...</td>\n",
       "      <td>...</td>\n",
       "      <td>...</td>\n",
       "      <td>...</td>\n",
       "      <td>...</td>\n",
       "      <td>...</td>\n",
       "      <td>...</td>\n",
       "      <td>...</td>\n",
       "      <td>...</td>\n",
       "      <td>...</td>\n",
       "    </tr>\n",
       "    <tr>\n",
       "      <th>8661</th>\n",
       "      <td>-0.266981</td>\n",
       "      <td>0.0</td>\n",
       "      <td>0.0</td>\n",
       "      <td>0.0</td>\n",
       "      <td>0.0</td>\n",
       "      <td>0.0</td>\n",
       "      <td>0.0</td>\n",
       "      <td>0.0</td>\n",
       "      <td>0.0</td>\n",
       "      <td>0.0</td>\n",
       "      <td>...</td>\n",
       "      <td>0.0</td>\n",
       "      <td>0.0</td>\n",
       "      <td>0.0</td>\n",
       "      <td>0.0</td>\n",
       "      <td>0.0</td>\n",
       "      <td>0.0</td>\n",
       "      <td>0.0</td>\n",
       "      <td>0.0</td>\n",
       "      <td>1.0</td>\n",
       "      <td>0.0</td>\n",
       "    </tr>\n",
       "    <tr>\n",
       "      <th>8662</th>\n",
       "      <td>-0.224358</td>\n",
       "      <td>0.0</td>\n",
       "      <td>0.0</td>\n",
       "      <td>0.0</td>\n",
       "      <td>0.0</td>\n",
       "      <td>0.0</td>\n",
       "      <td>0.0</td>\n",
       "      <td>0.0</td>\n",
       "      <td>0.0</td>\n",
       "      <td>0.0</td>\n",
       "      <td>...</td>\n",
       "      <td>0.0</td>\n",
       "      <td>0.0</td>\n",
       "      <td>0.0</td>\n",
       "      <td>0.0</td>\n",
       "      <td>0.0</td>\n",
       "      <td>0.0</td>\n",
       "      <td>0.0</td>\n",
       "      <td>0.0</td>\n",
       "      <td>0.0</td>\n",
       "      <td>0.0</td>\n",
       "    </tr>\n",
       "    <tr>\n",
       "      <th>8663</th>\n",
       "      <td>-0.178910</td>\n",
       "      <td>0.0</td>\n",
       "      <td>0.0</td>\n",
       "      <td>0.0</td>\n",
       "      <td>0.0</td>\n",
       "      <td>0.0</td>\n",
       "      <td>0.0</td>\n",
       "      <td>0.0</td>\n",
       "      <td>0.0</td>\n",
       "      <td>0.0</td>\n",
       "      <td>...</td>\n",
       "      <td>0.0</td>\n",
       "      <td>0.0</td>\n",
       "      <td>0.0</td>\n",
       "      <td>0.0</td>\n",
       "      <td>0.0</td>\n",
       "      <td>0.0</td>\n",
       "      <td>0.0</td>\n",
       "      <td>0.0</td>\n",
       "      <td>0.0</td>\n",
       "      <td>0.0</td>\n",
       "    </tr>\n",
       "    <tr>\n",
       "      <th>8664</th>\n",
       "      <td>-0.387784</td>\n",
       "      <td>0.0</td>\n",
       "      <td>1.0</td>\n",
       "      <td>0.0</td>\n",
       "      <td>0.0</td>\n",
       "      <td>0.0</td>\n",
       "      <td>0.0</td>\n",
       "      <td>0.0</td>\n",
       "      <td>0.0</td>\n",
       "      <td>0.0</td>\n",
       "      <td>...</td>\n",
       "      <td>0.0</td>\n",
       "      <td>0.0</td>\n",
       "      <td>0.0</td>\n",
       "      <td>0.0</td>\n",
       "      <td>0.0</td>\n",
       "      <td>0.0</td>\n",
       "      <td>0.0</td>\n",
       "      <td>0.0</td>\n",
       "      <td>0.0</td>\n",
       "      <td>0.0</td>\n",
       "    </tr>\n",
       "    <tr>\n",
       "      <th>8665</th>\n",
       "      <td>-0.368121</td>\n",
       "      <td>1.0</td>\n",
       "      <td>0.0</td>\n",
       "      <td>0.0</td>\n",
       "      <td>0.0</td>\n",
       "      <td>0.0</td>\n",
       "      <td>0.0</td>\n",
       "      <td>0.0</td>\n",
       "      <td>0.0</td>\n",
       "      <td>0.0</td>\n",
       "      <td>...</td>\n",
       "      <td>0.0</td>\n",
       "      <td>0.0</td>\n",
       "      <td>0.0</td>\n",
       "      <td>0.0</td>\n",
       "      <td>0.0</td>\n",
       "      <td>0.0</td>\n",
       "      <td>0.0</td>\n",
       "      <td>0.0</td>\n",
       "      <td>0.0</td>\n",
       "      <td>0.0</td>\n",
       "    </tr>\n",
       "  </tbody>\n",
       "</table>\n",
       "<p>8666 rows × 31 columns</p>\n",
       "</div>"
      ],
      "text/plain": [
       "         Price  Country_Argentina  Country_Australia  Country_Austria  \\\n",
       "0     0.657648                0.0                0.0              0.0   \n",
       "1    -0.278402                0.0                0.0              0.0   \n",
       "2    -0.373184                0.0                0.0              0.0   \n",
       "3    -0.358231                0.0                0.0              0.0   \n",
       "4    -0.117684                0.0                0.0              1.0   \n",
       "...        ...                ...                ...              ...   \n",
       "8661 -0.266981                0.0                0.0              0.0   \n",
       "8662 -0.224358                0.0                0.0              0.0   \n",
       "8663 -0.178910                0.0                0.0              0.0   \n",
       "8664 -0.387784                0.0                1.0              0.0   \n",
       "8665 -0.368121                1.0                0.0              0.0   \n",
       "\n",
       "      Country_Brazil  Country_Bulgaria  Country_Canada  Country_Chile  \\\n",
       "0                0.0               0.0             0.0            0.0   \n",
       "1                0.0               0.0             0.0            0.0   \n",
       "2                0.0               0.0             0.0            0.0   \n",
       "3                0.0               0.0             0.0            0.0   \n",
       "4                0.0               0.0             0.0            0.0   \n",
       "...              ...               ...             ...            ...   \n",
       "8661             0.0               0.0             0.0            0.0   \n",
       "8662             0.0               0.0             0.0            0.0   \n",
       "8663             0.0               0.0             0.0            0.0   \n",
       "8664             0.0               0.0             0.0            0.0   \n",
       "8665             0.0               0.0             0.0            0.0   \n",
       "\n",
       "      Country_China  Country_Croatia  ...  Country_Portugal  Country_Romania  \\\n",
       "0               0.0              0.0  ...               0.0              0.0   \n",
       "1               0.0              0.0  ...               0.0              0.0   \n",
       "2               0.0              0.0  ...               0.0              0.0   \n",
       "3               0.0              0.0  ...               0.0              0.0   \n",
       "4               0.0              0.0  ...               0.0              0.0   \n",
       "...             ...              ...  ...               ...              ...   \n",
       "8661            0.0              0.0  ...               0.0              0.0   \n",
       "8662            0.0              0.0  ...               0.0              0.0   \n",
       "8663            0.0              0.0  ...               0.0              0.0   \n",
       "8664            0.0              0.0  ...               0.0              0.0   \n",
       "8665            0.0              0.0  ...               0.0              0.0   \n",
       "\n",
       "      Country_Slovakia  Country_Slovenia  Country_South Africa  Country_Spain  \\\n",
       "0                  0.0               0.0                   0.0            0.0   \n",
       "1                  0.0               0.0                   0.0            0.0   \n",
       "2                  0.0               0.0                   0.0            0.0   \n",
       "3                  0.0               0.0                   0.0            0.0   \n",
       "4                  0.0               0.0                   0.0            0.0   \n",
       "...                ...               ...                   ...            ...   \n",
       "8661               0.0               0.0                   0.0            0.0   \n",
       "8662               0.0               0.0                   0.0            0.0   \n",
       "8663               0.0               0.0                   0.0            0.0   \n",
       "8664               0.0               0.0                   0.0            0.0   \n",
       "8665               0.0               0.0                   0.0            0.0   \n",
       "\n",
       "      Country_Switzerland  Country_Turkey  Country_United States  \\\n",
       "0                     0.0             0.0                    0.0   \n",
       "1                     0.0             0.0                    0.0   \n",
       "2                     0.0             0.0                    0.0   \n",
       "3                     0.0             0.0                    0.0   \n",
       "4                     0.0             0.0                    0.0   \n",
       "...                   ...             ...                    ...   \n",
       "8661                  0.0             0.0                    1.0   \n",
       "8662                  0.0             0.0                    0.0   \n",
       "8663                  0.0             0.0                    0.0   \n",
       "8664                  0.0             0.0                    0.0   \n",
       "8665                  0.0             0.0                    0.0   \n",
       "\n",
       "      Country_Uruguay  \n",
       "0                 0.0  \n",
       "1                 0.0  \n",
       "2                 0.0  \n",
       "3                 0.0  \n",
       "4                 0.0  \n",
       "...               ...  \n",
       "8661              0.0  \n",
       "8662              0.0  \n",
       "8663              0.0  \n",
       "8664              0.0  \n",
       "8665              0.0  \n",
       "\n",
       "[8666 rows x 31 columns]"
      ]
     },
     "execution_count": 79,
     "metadata": {},
     "output_type": "execute_result"
    }
   ],
   "source": [
    "pd.DataFrame(\n",
    "    pipeline['ct'].transform(X).toarray(),\n",
    "    columns = ['Price'] + pipeline['ct'].transformers_[1][1].get_feature_names_out().tolist()\n",
    ")"
   ]
  },
  {
   "cell_type": "code",
   "execution_count": 80,
   "id": "18682e29",
   "metadata": {},
   "outputs": [
    {
     "data": {
      "text/plain": [
       "['pipeline.pkl']"
      ]
     },
     "execution_count": 80,
     "metadata": {},
     "output_type": "execute_result"
    }
   ],
   "source": [
    "#Сохраним pipeline методом сериализации\n",
    "import joblib\n",
    "joblib.dump(pipeline, 'pipeline.pkl')"
   ]
  },
  {
   "cell_type": "code",
   "execution_count": 81,
   "id": "7399de2e",
   "metadata": {},
   "outputs": [],
   "source": [
    "pipeline_loaded = joblib.load('pipeline.pkl')"
   ]
  },
  {
   "cell_type": "code",
   "execution_count": 82,
   "id": "08cad799",
   "metadata": {},
   "outputs": [
    {
     "data": {
      "text/plain": [
       "Pipeline(steps=[('ct',\n",
       "                 ColumnTransformer(transformers=[('standardscaler',\n",
       "                                                  StandardScaler(), ['Price']),\n",
       "                                                 ('onehotencoder',\n",
       "                                                  OneHotEncoder(),\n",
       "                                                  ['Country'])])),\n",
       "                ('rf', RandomForestRegressor())])"
      ]
     },
     "execution_count": 82,
     "metadata": {},
     "output_type": "execute_result"
    }
   ],
   "source": [
    "pipeline_loaded #тот же pipeline"
   ]
  },
  {
   "cell_type": "markdown",
   "id": "1a5cf56b",
   "metadata": {},
   "source": [
    "### 3. Сохранение пайплайна. Кастомные трансформеры"
   ]
  },
  {
   "cell_type": "markdown",
   "id": "91a6860a",
   "metadata": {},
   "source": [
    "Хотим сериализовать пайплайн, который включает в себя min-max нормализацию и отбор пяти наиболее важных признаков на основе корреляции Пирсона"
   ]
  },
  {
   "cell_type": "code",
   "execution_count": 116,
   "id": "6625cad8",
   "metadata": {},
   "outputs": [
    {
     "data": {
      "text/plain": [
       "Pipeline(steps=[('Scaling', MinMaxScaler()),\n",
       "                ('FeatureSelection',\n",
       "                 SelectKBest(k=5,\n",
       "                             score_func=<function f_regression at 0x7be979c5c950>)),\n",
       "                ('Linear', LinearRegression())])"
      ]
     },
     "execution_count": 116,
     "metadata": {},
     "output_type": "execute_result"
    }
   ],
   "source": [
    "import pickle\n",
    "from sklearn.linear_model import LinearRegression\n",
    "from sklearn.datasets import load_diabetes\n",
    "from sklearn.feature_selection import SelectKBest, f_regression\n",
    "from sklearn.preprocessing import MinMaxScaler\n",
    "from sklearn.pipeline import Pipeline\n",
    "\n",
    "X, y = load_diabetes(return_X_y=True)\n",
    "\n",
    "pipe = Pipeline([\n",
    "    ('Scaling', MinMaxScaler()),\n",
    "    ('FeatureSelection', SelectKBest(f_regression, k=5)),\n",
    "    ('Linear', LinearRegression())\n",
    "])\n",
    "\n",
    "pipe.fit(X, y)"
   ]
  },
  {
   "cell_type": "code",
   "execution_count": 92,
   "id": "22620973",
   "metadata": {},
   "outputs": [],
   "source": [
    "#Сериализуем pipeline и запишем результат в файл\n",
    "with open('my_pipeline.pkl', 'wb') as output:\n",
    "    pickle.dump(pipe, output)"
   ]
  },
  {
   "cell_type": "code",
   "execution_count": 93,
   "id": "cde285aa",
   "metadata": {},
   "outputs": [],
   "source": [
    "#Десериализуем pipeline из файла\n",
    "with open('my_pipeline.pkl', 'rb') as pkl_file:\n",
    "    loaded_pipe = pickle.load(pkl_file)"
   ]
  },
  {
   "cell_type": "code",
   "execution_count": 94,
   "id": "16173a49",
   "metadata": {},
   "outputs": [
    {
     "data": {
      "text/plain": [
       "True"
      ]
     },
     "execution_count": 94,
     "metadata": {},
     "output_type": "execute_result"
    }
   ],
   "source": [
    "all(pipe.predict(X) == loaded_pipe.predict(X))"
   ]
  },
  {
   "cell_type": "markdown",
   "id": "4d720e91",
   "metadata": {},
   "source": [
    "Если хотим сохранить сериализованные пайплайны в виде потока байтов, нужно использовать функции dumps() и loads(), но не dump() и load()"
   ]
  },
  {
   "cell_type": "markdown",
   "id": "a77e23eb",
   "metadata": {},
   "source": [
    "Для использования нестандартных методов sklearn (вроде feature engineering) организованы кастомные трансформеры.\n",
    "</br>Такой трансформер должен наследоваться от двух классов: **TransformerMixin** и **BaseEstimator**"
   ]
  },
  {
   "cell_type": "code",
   "execution_count": 97,
   "id": "7a74025b",
   "metadata": {},
   "outputs": [],
   "source": [
    "from sklearn.base import TransformerMixin, BaseEstimator\n",
    "\n",
    "class MyTransformer(TransformerMixin, BaseEstimator):\n",
    "    '''Шаблон кастомного трансформера'''\n",
    "    \n",
    "    def __init__(self):\n",
    "        '''Инициализация исходных параметров, не зависящих от данных'''\n",
    "        pass\n",
    "    \n",
    "    def fit(self, X, y=None):\n",
    "        '''Здесь прописывается обучение трансформера. Возвращает ссылку на сам объект'''\n",
    "        return self\n",
    "    \n",
    "    def transform(self, X):\n",
    "        '''Здесь прописываются действия с данными. Возвращает преобразованный массив данных'''"
   ]
  },
  {
   "cell_type": "markdown",
   "id": "c5f9dd71",
   "metadata": {},
   "source": [
    "Предположим, что мы хотим сгенерировать новый признак, который является простым произведением первых трёх столбцов таблицы. Пропишем эти действия в **transform()**"
   ]
  },
  {
   "cell_type": "code",
   "execution_count": 99,
   "id": "8c24ba59",
   "metadata": {},
   "outputs": [
    {
     "data": {
      "text/html": [
       "<div>\n",
       "<style scoped>\n",
       "    .dataframe tbody tr th:only-of-type {\n",
       "        vertical-align: middle;\n",
       "    }\n",
       "\n",
       "    .dataframe tbody tr th {\n",
       "        vertical-align: top;\n",
       "    }\n",
       "\n",
       "    .dataframe thead th {\n",
       "        text-align: right;\n",
       "    }\n",
       "</style>\n",
       "<table border=\"1\" class=\"dataframe\">\n",
       "  <thead>\n",
       "    <tr style=\"text-align: right;\">\n",
       "      <th></th>\n",
       "      <th>0</th>\n",
       "      <th>1</th>\n",
       "      <th>2</th>\n",
       "      <th>3</th>\n",
       "      <th>4</th>\n",
       "      <th>5</th>\n",
       "      <th>6</th>\n",
       "      <th>7</th>\n",
       "      <th>8</th>\n",
       "      <th>9</th>\n",
       "    </tr>\n",
       "  </thead>\n",
       "  <tbody>\n",
       "    <tr>\n",
       "      <th>0</th>\n",
       "      <td>0.038076</td>\n",
       "      <td>0.050680</td>\n",
       "      <td>0.061696</td>\n",
       "      <td>0.021872</td>\n",
       "      <td>-0.044223</td>\n",
       "      <td>-0.034821</td>\n",
       "      <td>-0.043401</td>\n",
       "      <td>-0.002592</td>\n",
       "      <td>0.019908</td>\n",
       "      <td>-0.017646</td>\n",
       "    </tr>\n",
       "    <tr>\n",
       "      <th>1</th>\n",
       "      <td>-0.001882</td>\n",
       "      <td>-0.044642</td>\n",
       "      <td>-0.051474</td>\n",
       "      <td>-0.026328</td>\n",
       "      <td>-0.008449</td>\n",
       "      <td>-0.019163</td>\n",
       "      <td>0.074412</td>\n",
       "      <td>-0.039493</td>\n",
       "      <td>-0.068330</td>\n",
       "      <td>-0.092204</td>\n",
       "    </tr>\n",
       "    <tr>\n",
       "      <th>2</th>\n",
       "      <td>0.085299</td>\n",
       "      <td>0.050680</td>\n",
       "      <td>0.044451</td>\n",
       "      <td>-0.005671</td>\n",
       "      <td>-0.045599</td>\n",
       "      <td>-0.034194</td>\n",
       "      <td>-0.032356</td>\n",
       "      <td>-0.002592</td>\n",
       "      <td>0.002864</td>\n",
       "      <td>-0.025930</td>\n",
       "    </tr>\n",
       "    <tr>\n",
       "      <th>3</th>\n",
       "      <td>-0.089063</td>\n",
       "      <td>-0.044642</td>\n",
       "      <td>-0.011595</td>\n",
       "      <td>-0.036656</td>\n",
       "      <td>0.012191</td>\n",
       "      <td>0.024991</td>\n",
       "      <td>-0.036038</td>\n",
       "      <td>0.034309</td>\n",
       "      <td>0.022692</td>\n",
       "      <td>-0.009362</td>\n",
       "    </tr>\n",
       "    <tr>\n",
       "      <th>4</th>\n",
       "      <td>0.005383</td>\n",
       "      <td>-0.044642</td>\n",
       "      <td>-0.036385</td>\n",
       "      <td>0.021872</td>\n",
       "      <td>0.003935</td>\n",
       "      <td>0.015596</td>\n",
       "      <td>0.008142</td>\n",
       "      <td>-0.002592</td>\n",
       "      <td>-0.031991</td>\n",
       "      <td>-0.046641</td>\n",
       "    </tr>\n",
       "    <tr>\n",
       "      <th>...</th>\n",
       "      <td>...</td>\n",
       "      <td>...</td>\n",
       "      <td>...</td>\n",
       "      <td>...</td>\n",
       "      <td>...</td>\n",
       "      <td>...</td>\n",
       "      <td>...</td>\n",
       "      <td>...</td>\n",
       "      <td>...</td>\n",
       "      <td>...</td>\n",
       "    </tr>\n",
       "    <tr>\n",
       "      <th>437</th>\n",
       "      <td>0.041708</td>\n",
       "      <td>0.050680</td>\n",
       "      <td>0.019662</td>\n",
       "      <td>0.059744</td>\n",
       "      <td>-0.005697</td>\n",
       "      <td>-0.002566</td>\n",
       "      <td>-0.028674</td>\n",
       "      <td>-0.002592</td>\n",
       "      <td>0.031193</td>\n",
       "      <td>0.007207</td>\n",
       "    </tr>\n",
       "    <tr>\n",
       "      <th>438</th>\n",
       "      <td>-0.005515</td>\n",
       "      <td>0.050680</td>\n",
       "      <td>-0.015906</td>\n",
       "      <td>-0.067642</td>\n",
       "      <td>0.049341</td>\n",
       "      <td>0.079165</td>\n",
       "      <td>-0.028674</td>\n",
       "      <td>0.034309</td>\n",
       "      <td>-0.018118</td>\n",
       "      <td>0.044485</td>\n",
       "    </tr>\n",
       "    <tr>\n",
       "      <th>439</th>\n",
       "      <td>0.041708</td>\n",
       "      <td>0.050680</td>\n",
       "      <td>-0.015906</td>\n",
       "      <td>0.017282</td>\n",
       "      <td>-0.037344</td>\n",
       "      <td>-0.013840</td>\n",
       "      <td>-0.024993</td>\n",
       "      <td>-0.011080</td>\n",
       "      <td>-0.046879</td>\n",
       "      <td>0.015491</td>\n",
       "    </tr>\n",
       "    <tr>\n",
       "      <th>440</th>\n",
       "      <td>-0.045472</td>\n",
       "      <td>-0.044642</td>\n",
       "      <td>0.039062</td>\n",
       "      <td>0.001215</td>\n",
       "      <td>0.016318</td>\n",
       "      <td>0.015283</td>\n",
       "      <td>-0.028674</td>\n",
       "      <td>0.026560</td>\n",
       "      <td>0.044528</td>\n",
       "      <td>-0.025930</td>\n",
       "    </tr>\n",
       "    <tr>\n",
       "      <th>441</th>\n",
       "      <td>-0.045472</td>\n",
       "      <td>-0.044642</td>\n",
       "      <td>-0.073030</td>\n",
       "      <td>-0.081414</td>\n",
       "      <td>0.083740</td>\n",
       "      <td>0.027809</td>\n",
       "      <td>0.173816</td>\n",
       "      <td>-0.039493</td>\n",
       "      <td>-0.004220</td>\n",
       "      <td>0.003064</td>\n",
       "    </tr>\n",
       "  </tbody>\n",
       "</table>\n",
       "<p>442 rows × 10 columns</p>\n",
       "</div>"
      ],
      "text/plain": [
       "            0         1         2         3         4         5         6  \\\n",
       "0    0.038076  0.050680  0.061696  0.021872 -0.044223 -0.034821 -0.043401   \n",
       "1   -0.001882 -0.044642 -0.051474 -0.026328 -0.008449 -0.019163  0.074412   \n",
       "2    0.085299  0.050680  0.044451 -0.005671 -0.045599 -0.034194 -0.032356   \n",
       "3   -0.089063 -0.044642 -0.011595 -0.036656  0.012191  0.024991 -0.036038   \n",
       "4    0.005383 -0.044642 -0.036385  0.021872  0.003935  0.015596  0.008142   \n",
       "..        ...       ...       ...       ...       ...       ...       ...   \n",
       "437  0.041708  0.050680  0.019662  0.059744 -0.005697 -0.002566 -0.028674   \n",
       "438 -0.005515  0.050680 -0.015906 -0.067642  0.049341  0.079165 -0.028674   \n",
       "439  0.041708  0.050680 -0.015906  0.017282 -0.037344 -0.013840 -0.024993   \n",
       "440 -0.045472 -0.044642  0.039062  0.001215  0.016318  0.015283 -0.028674   \n",
       "441 -0.045472 -0.044642 -0.073030 -0.081414  0.083740  0.027809  0.173816   \n",
       "\n",
       "            7         8         9  \n",
       "0   -0.002592  0.019908 -0.017646  \n",
       "1   -0.039493 -0.068330 -0.092204  \n",
       "2   -0.002592  0.002864 -0.025930  \n",
       "3    0.034309  0.022692 -0.009362  \n",
       "4   -0.002592 -0.031991 -0.046641  \n",
       "..        ...       ...       ...  \n",
       "437 -0.002592  0.031193  0.007207  \n",
       "438  0.034309 -0.018118  0.044485  \n",
       "439 -0.011080 -0.046879  0.015491  \n",
       "440  0.026560  0.044528 -0.025930  \n",
       "441 -0.039493 -0.004220  0.003064  \n",
       "\n",
       "[442 rows x 10 columns]"
      ]
     },
     "execution_count": 99,
     "metadata": {},
     "output_type": "execute_result"
    }
   ],
   "source": [
    "pd.DataFrame(X)"
   ]
  },
  {
   "cell_type": "code",
   "execution_count": 103,
   "id": "0607a05c",
   "metadata": {},
   "outputs": [],
   "source": [
    "new_column = X[:, 0] * X[:, 1] * X[:, 2]"
   ]
  },
  {
   "cell_type": "code",
   "execution_count": 104,
   "id": "b1e4fcb0",
   "metadata": {},
   "outputs": [
    {
     "data": {
      "text/plain": [
       "array([ 1.19054643e-04, -4.32466005e-06,  1.92160759e-04, -4.61007963e-05,\n",
       "        8.74355534e-06, -1.68402969e-04,  1.08689088e-04, -6.09787167e-06,\n",
       "        1.30412759e-04,  1.23635740e-04, -3.60396359e-04,  2.41126253e-05,\n",
       "        2.09608025e-05, -5.16902542e-07,  5.18301511e-05,  4.82748278e-05,\n",
       "        1.04122757e-05,  4.34579199e-05, -1.79385707e-05, -2.20202132e-05,\n",
       "       -1.24651258e-04,  9.68672378e-05, -1.54469578e-05,  1.39294185e-04,\n",
       "        1.01781435e-04,  4.32033825e-05, -3.70212942e-04,  6.29338635e-05,\n",
       "        5.00103760e-05, -2.11155808e-05,  1.19067717e-04, -6.92177133e-05,\n",
       "        2.18700440e-04,  6.93173119e-05,  4.60279869e-05, -7.69306592e-05,\n",
       "       -1.29272692e-05,  4.50769467e-06, -6.80985824e-06, -1.36132041e-06,\n",
       "       -2.28115678e-06, -3.01842466e-04,  3.19821868e-05,  2.08469182e-05,\n",
       "        1.56631013e-04, -4.86316621e-05, -2.91783115e-05, -2.54833982e-04,\n",
       "       -1.42133994e-04, -3.02641144e-05,  1.11995795e-05,  4.98473934e-05,\n",
       "       -2.22230694e-05, -6.49518276e-06,  5.49141202e-05, -9.21171430e-05,\n",
       "        7.69867030e-05, -7.72089855e-05,  1.19923035e-04, -8.24115192e-05,\n",
       "       -1.28197118e-05, -9.69506485e-06,  1.00811926e-05, -5.78225680e-05,\n",
       "       -8.71256245e-05,  5.65277667e-05,  8.37305335e-06, -3.13442151e-05,\n",
       "       -5.77321613e-05,  3.34943947e-05, -5.86407432e-06,  2.82908857e-06,\n",
       "       -1.30354760e-05, -1.29596086e-05,  1.54902570e-06,  1.43688242e-05,\n",
       "       -4.43539067e-05, -1.56462919e-04,  1.39237061e-05, -1.73247794e-04,\n",
       "       -3.82799550e-05, -1.43413833e-05, -2.58681557e-05,  1.69902762e-05,\n",
       "        3.09600474e-06, -1.44513379e-04,  2.70160549e-04,  1.25614451e-05,\n",
       "        1.08769894e-04, -9.79268205e-05,  1.44583293e-05, -1.05244673e-04,\n",
       "        4.09130546e-06, -1.41190174e-04, -5.92647061e-05, -1.83389026e-04,\n",
       "        2.83912785e-05,  1.08067607e-04, -4.54951630e-07, -5.41130542e-06,\n",
       "       -1.27232266e-05, -3.71357276e-05,  1.17041527e-04,  1.25066126e-04,\n",
       "        7.91592029e-05, -3.82732900e-05, -3.27952403e-04, -6.04703763e-05,\n",
       "        4.59480772e-05, -1.82151110e-05, -6.77964910e-05, -4.06446622e-06,\n",
       "        7.90947476e-05,  1.44038400e-05, -1.15831161e-04, -2.09934432e-06,\n",
       "        1.45103655e-04,  5.69169801e-05,  3.00459964e-05,  3.42777442e-05,\n",
       "        1.00227758e-05, -4.96276486e-05,  2.01281011e-04,  9.48053814e-06,\n",
       "        5.90159020e-06,  2.33687969e-06, -2.43224117e-04, -3.30738711e-06,\n",
       "       -1.46559736e-04, -6.61183501e-06, -3.10204125e-04, -3.00143297e-04,\n",
       "       -1.75709113e-05,  1.13719233e-04,  1.44314823e-04,  1.38616234e-05,\n",
       "       -3.37885638e-04, -1.19770476e-05,  1.94241951e-04, -6.48501740e-05,\n",
       "        3.01690004e-05,  5.81349086e-05,  2.56124659e-05,  7.80440587e-06,\n",
       "        7.27764136e-05,  2.40051126e-04, -9.33691990e-05,  2.33911263e-04,\n",
       "       -4.66793105e-05,  1.27621408e-05, -7.39134606e-05,  3.16517749e-07,\n",
       "        1.43140875e-06, -9.28574306e-05,  7.05650354e-05, -8.38996879e-05,\n",
       "       -7.70559813e-06,  3.16199402e-06, -3.73597862e-05,  1.06776101e-05,\n",
       "       -2.54201319e-05, -1.47149773e-04,  7.16638015e-05,  5.97990442e-05,\n",
       "        3.87405824e-05, -1.24327399e-04,  1.71686432e-04, -2.18748103e-04,\n",
       "        5.28224154e-06, -2.24192311e-06, -2.41255871e-05, -4.12381770e-05,\n",
       "        1.50917164e-04,  2.56381409e-04,  8.21907391e-06,  1.15508044e-04,\n",
       "        4.51799757e-05, -5.94798208e-05,  1.55687005e-05, -1.68127777e-05,\n",
       "       -8.85334050e-06,  9.36845828e-05,  1.29830093e-05, -8.11312004e-05,\n",
       "       -1.74233237e-05,  6.82257150e-05, -1.75337439e-04, -1.64283365e-04,\n",
       "        7.14321691e-07, -5.59241298e-06,  5.10044627e-06,  1.16748574e-05,\n",
       "       -8.83430946e-05, -2.34310769e-06, -1.77229788e-04,  3.45046664e-05,\n",
       "       -4.87114341e-05,  8.67293168e-06,  1.27488428e-04,  8.38003807e-05,\n",
       "        1.45465528e-04,  9.77502628e-05,  5.54081926e-06, -2.90335942e-06,\n",
       "        3.77539468e-05,  6.43787697e-05,  2.31802507e-06, -1.83241163e-05,\n",
       "       -5.52103484e-05, -3.48538690e-05, -5.74425862e-06, -1.52505442e-04,\n",
       "       -1.04728267e-05,  5.53858421e-06,  4.55977575e-05,  1.29517613e-04,\n",
       "        2.29665334e-05, -1.04681974e-04, -1.22314258e-04, -1.66088905e-04,\n",
       "       -4.72763736e-05, -7.82355253e-05,  3.07270075e-05, -1.04647572e-04,\n",
       "       -8.11510407e-05,  5.08974164e-05,  2.41951336e-04, -1.01794523e-04,\n",
       "       -2.98355184e-05,  2.20152727e-05, -1.38249044e-04,  1.24748456e-05,\n",
       "        1.67251009e-07, -1.10611467e-04, -7.90655357e-05, -5.04533780e-05,\n",
       "       -8.16271678e-06,  1.72524895e-04, -1.64773430e-05, -2.06666516e-05,\n",
       "        1.85230338e-04, -1.30565752e-05,  1.23120059e-04, -3.80250374e-05,\n",
       "       -1.64671556e-04, -4.30445074e-05,  5.97186112e-05, -2.98162582e-04,\n",
       "        8.90655491e-05,  3.45830172e-05, -1.68756485e-04, -2.62842653e-04,\n",
       "       -1.43081155e-05, -1.22762678e-04,  8.79234116e-05,  5.11744982e-06,\n",
       "        3.52614615e-04,  7.72103930e-05, -9.70054482e-05,  2.05440178e-05,\n",
       "        1.55687005e-05,  9.13282074e-05, -1.06003145e-04,  2.92144593e-04,\n",
       "        4.93724364e-05,  4.48693233e-05,  1.66384242e-04,  2.18334917e-06,\n",
       "        2.85281510e-04,  1.29086338e-05,  8.30436864e-06,  1.71422499e-05,\n",
       "       -3.79873635e-06, -7.62334869e-05,  1.78274044e-05,  3.24055496e-06,\n",
       "       -1.47529757e-05, -9.10941621e-05, -1.23797871e-04, -4.73329375e-05,\n",
       "        8.49111922e-06,  4.24096894e-04,  1.62009952e-05, -3.85029783e-05,\n",
       "       -4.72920858e-05,  1.14154850e-05, -9.33113457e-05,  1.25614451e-05,\n",
       "       -6.09145527e-05, -2.08619444e-04,  2.32988655e-04, -6.17238937e-05,\n",
       "        9.00454003e-06,  2.94205054e-04, -3.69871352e-05, -1.04403195e-04,\n",
       "        1.83343897e-04,  6.53425263e-07, -4.47040640e-05, -2.65344900e-05,\n",
       "       -5.34574012e-05,  2.33957321e-06, -1.90129577e-05, -1.15421494e-04,\n",
       "       -8.14660944e-05,  1.83660048e-05, -8.65713113e-07, -1.05461748e-04,\n",
       "        3.60136601e-06, -6.20602982e-07,  1.59842989e-05, -1.72375868e-04,\n",
       "       -7.80275284e-05,  1.61040302e-04,  4.24275844e-05,  8.13696364e-06,\n",
       "        1.17763132e-05,  3.04282199e-05, -2.67096336e-05, -4.06446622e-06,\n",
       "        3.21744448e-05, -2.23289632e-04,  7.36221782e-05, -2.61237285e-05,\n",
       "       -7.77123974e-06,  4.54961040e-06, -1.92139572e-05, -3.80329658e-04,\n",
       "        1.14423376e-04,  3.61306534e-05,  1.39082327e-05, -1.05982046e-04,\n",
       "       -1.44158677e-04, -8.54807514e-06,  1.43419308e-04,  1.15926382e-05,\n",
       "        7.64255859e-05, -1.27894680e-05, -9.41753632e-05,  8.83727257e-06,\n",
       "       -1.00746274e-05,  9.29724109e-05,  6.21828076e-05,  1.66292474e-05,\n",
       "       -5.55021768e-05, -1.23028391e-05,  4.77586017e-06, -5.77321613e-05,\n",
       "        2.78080918e-05, -5.14032605e-06, -8.38996879e-05,  1.76198074e-04,\n",
       "       -4.61222012e-05, -1.31334838e-04, -5.46332689e-05,  3.56556964e-05,\n",
       "        9.26505670e-06, -1.51561307e-04, -7.59586316e-05,  1.09027156e-05,\n",
       "       -1.50732751e-05,  1.35618864e-05,  1.05773355e-04,  6.10434495e-05,\n",
       "       -5.50571516e-07,  5.92599108e-05, -3.16053100e-04, -7.90652721e-05,\n",
       "       -2.01000931e-06,  1.55105721e-05,  5.15070837e-05, -2.51661829e-05,\n",
       "        3.24575927e-05, -3.49935250e-05, -1.63845227e-04, -6.83050855e-06,\n",
       "        5.72680954e-06,  1.00529107e-05,  1.99390508e-06, -3.23801469e-06,\n",
       "       -1.89900227e-05,  3.20507337e-04, -1.32527459e-04, -7.86796186e-06,\n",
       "       -5.22243660e-05, -2.28394323e-05,  3.61770010e-05,  3.11605588e-05,\n",
       "       -6.53956687e-05, -3.74146093e-07,  3.16369676e-05, -7.37746642e-05,\n",
       "        6.34393337e-05, -1.53337034e-04, -2.85744878e-05,  3.58594419e-06,\n",
       "        1.34199396e-04,  9.51187846e-06, -8.66728719e-06,  6.94696714e-05,\n",
       "        4.81237730e-05,  3.27110451e-05, -1.86032949e-04,  8.70346137e-05,\n",
       "        3.96749867e-05,  3.05610387e-04, -2.02763186e-04, -1.12778036e-04,\n",
       "        1.42868730e-04,  3.09905233e-05,  1.28698815e-05, -1.40491079e-05,\n",
       "       -2.83673977e-04, -1.92320544e-06,  2.78453922e-05,  2.18690805e-06,\n",
       "        9.75554603e-05,  1.68088156e-04,  9.87211642e-06, -4.89538335e-05,\n",
       "        3.82447115e-05,  3.17011631e-05, -3.08450196e-04, -1.81019832e-05,\n",
       "        9.79346662e-07, -1.42005554e-04, -5.34485699e-05, -9.90022113e-06,\n",
       "        2.20006797e-04, -6.19200276e-05, -2.32195564e-05, -1.11167965e-04,\n",
       "       -2.22282100e-05, -7.32669304e-05, -9.72983897e-07, -1.33788518e-05,\n",
       "       -1.86489604e-04,  4.15603366e-05,  4.44545530e-06, -3.36224824e-05,\n",
       "        7.92948358e-05, -1.48249019e-04])"
      ]
     },
     "execution_count": 104,
     "metadata": {},
     "output_type": "execute_result"
    }
   ],
   "source": [
    "new_column"
   ]
  },
  {
   "cell_type": "code",
   "execution_count": 108,
   "id": "2930ac0a",
   "metadata": {},
   "outputs": [
    {
     "data": {
      "text/plain": [
       "(442,)"
      ]
     },
     "execution_count": 108,
     "metadata": {},
     "output_type": "execute_result"
    }
   ],
   "source": [
    "new_column.shape"
   ]
  },
  {
   "cell_type": "code",
   "execution_count": 106,
   "id": "1f0a096f",
   "metadata": {},
   "outputs": [
    {
     "data": {
      "text/plain": [
       "(442, 10)"
      ]
     },
     "execution_count": 106,
     "metadata": {},
     "output_type": "execute_result"
    }
   ],
   "source": [
    "X.shape #442 строки и 10 признаков"
   ]
  },
  {
   "cell_type": "code",
   "execution_count": 107,
   "id": "696320d1",
   "metadata": {},
   "outputs": [
    {
     "data": {
      "text/plain": [
       "array([[ 1.19054643e-04],\n",
       "       [-4.32466005e-06],\n",
       "       [ 1.92160759e-04],\n",
       "       [-4.61007963e-05],\n",
       "       [ 8.74355534e-06],\n",
       "       [-1.68402969e-04],\n",
       "       [ 1.08689088e-04],\n",
       "       [-6.09787167e-06],\n",
       "       [ 1.30412759e-04],\n",
       "       [ 1.23635740e-04],\n",
       "       [-3.60396359e-04],\n",
       "       [ 2.41126253e-05],\n",
       "       [ 2.09608025e-05],\n",
       "       [-5.16902542e-07],\n",
       "       [ 5.18301511e-05],\n",
       "       [ 4.82748278e-05],\n",
       "       [ 1.04122757e-05],\n",
       "       [ 4.34579199e-05],\n",
       "       [-1.79385707e-05],\n",
       "       [-2.20202132e-05],\n",
       "       [-1.24651258e-04],\n",
       "       [ 9.68672378e-05],\n",
       "       [-1.54469578e-05],\n",
       "       [ 1.39294185e-04],\n",
       "       [ 1.01781435e-04],\n",
       "       [ 4.32033825e-05],\n",
       "       [-3.70212942e-04],\n",
       "       [ 6.29338635e-05],\n",
       "       [ 5.00103760e-05],\n",
       "       [-2.11155808e-05],\n",
       "       [ 1.19067717e-04],\n",
       "       [-6.92177133e-05],\n",
       "       [ 2.18700440e-04],\n",
       "       [ 6.93173119e-05],\n",
       "       [ 4.60279869e-05],\n",
       "       [-7.69306592e-05],\n",
       "       [-1.29272692e-05],\n",
       "       [ 4.50769467e-06],\n",
       "       [-6.80985824e-06],\n",
       "       [-1.36132041e-06],\n",
       "       [-2.28115678e-06],\n",
       "       [-3.01842466e-04],\n",
       "       [ 3.19821868e-05],\n",
       "       [ 2.08469182e-05],\n",
       "       [ 1.56631013e-04],\n",
       "       [-4.86316621e-05],\n",
       "       [-2.91783115e-05],\n",
       "       [-2.54833982e-04],\n",
       "       [-1.42133994e-04],\n",
       "       [-3.02641144e-05],\n",
       "       [ 1.11995795e-05],\n",
       "       [ 4.98473934e-05],\n",
       "       [-2.22230694e-05],\n",
       "       [-6.49518276e-06],\n",
       "       [ 5.49141202e-05],\n",
       "       [-9.21171430e-05],\n",
       "       [ 7.69867030e-05],\n",
       "       [-7.72089855e-05],\n",
       "       [ 1.19923035e-04],\n",
       "       [-8.24115192e-05],\n",
       "       [-1.28197118e-05],\n",
       "       [-9.69506485e-06],\n",
       "       [ 1.00811926e-05],\n",
       "       [-5.78225680e-05],\n",
       "       [-8.71256245e-05],\n",
       "       [ 5.65277667e-05],\n",
       "       [ 8.37305335e-06],\n",
       "       [-3.13442151e-05],\n",
       "       [-5.77321613e-05],\n",
       "       [ 3.34943947e-05],\n",
       "       [-5.86407432e-06],\n",
       "       [ 2.82908857e-06],\n",
       "       [-1.30354760e-05],\n",
       "       [-1.29596086e-05],\n",
       "       [ 1.54902570e-06],\n",
       "       [ 1.43688242e-05],\n",
       "       [-4.43539067e-05],\n",
       "       [-1.56462919e-04],\n",
       "       [ 1.39237061e-05],\n",
       "       [-1.73247794e-04],\n",
       "       [-3.82799550e-05],\n",
       "       [-1.43413833e-05],\n",
       "       [-2.58681557e-05],\n",
       "       [ 1.69902762e-05],\n",
       "       [ 3.09600474e-06],\n",
       "       [-1.44513379e-04],\n",
       "       [ 2.70160549e-04],\n",
       "       [ 1.25614451e-05],\n",
       "       [ 1.08769894e-04],\n",
       "       [-9.79268205e-05],\n",
       "       [ 1.44583293e-05],\n",
       "       [-1.05244673e-04],\n",
       "       [ 4.09130546e-06],\n",
       "       [-1.41190174e-04],\n",
       "       [-5.92647061e-05],\n",
       "       [-1.83389026e-04],\n",
       "       [ 2.83912785e-05],\n",
       "       [ 1.08067607e-04],\n",
       "       [-4.54951630e-07],\n",
       "       [-5.41130542e-06],\n",
       "       [-1.27232266e-05],\n",
       "       [-3.71357276e-05],\n",
       "       [ 1.17041527e-04],\n",
       "       [ 1.25066126e-04],\n",
       "       [ 7.91592029e-05],\n",
       "       [-3.82732900e-05],\n",
       "       [-3.27952403e-04],\n",
       "       [-6.04703763e-05],\n",
       "       [ 4.59480772e-05],\n",
       "       [-1.82151110e-05],\n",
       "       [-6.77964910e-05],\n",
       "       [-4.06446622e-06],\n",
       "       [ 7.90947476e-05],\n",
       "       [ 1.44038400e-05],\n",
       "       [-1.15831161e-04],\n",
       "       [-2.09934432e-06],\n",
       "       [ 1.45103655e-04],\n",
       "       [ 5.69169801e-05],\n",
       "       [ 3.00459964e-05],\n",
       "       [ 3.42777442e-05],\n",
       "       [ 1.00227758e-05],\n",
       "       [-4.96276486e-05],\n",
       "       [ 2.01281011e-04],\n",
       "       [ 9.48053814e-06],\n",
       "       [ 5.90159020e-06],\n",
       "       [ 2.33687969e-06],\n",
       "       [-2.43224117e-04],\n",
       "       [-3.30738711e-06],\n",
       "       [-1.46559736e-04],\n",
       "       [-6.61183501e-06],\n",
       "       [-3.10204125e-04],\n",
       "       [-3.00143297e-04],\n",
       "       [-1.75709113e-05],\n",
       "       [ 1.13719233e-04],\n",
       "       [ 1.44314823e-04],\n",
       "       [ 1.38616234e-05],\n",
       "       [-3.37885638e-04],\n",
       "       [-1.19770476e-05],\n",
       "       [ 1.94241951e-04],\n",
       "       [-6.48501740e-05],\n",
       "       [ 3.01690004e-05],\n",
       "       [ 5.81349086e-05],\n",
       "       [ 2.56124659e-05],\n",
       "       [ 7.80440587e-06],\n",
       "       [ 7.27764136e-05],\n",
       "       [ 2.40051126e-04],\n",
       "       [-9.33691990e-05],\n",
       "       [ 2.33911263e-04],\n",
       "       [-4.66793105e-05],\n",
       "       [ 1.27621408e-05],\n",
       "       [-7.39134606e-05],\n",
       "       [ 3.16517749e-07],\n",
       "       [ 1.43140875e-06],\n",
       "       [-9.28574306e-05],\n",
       "       [ 7.05650354e-05],\n",
       "       [-8.38996879e-05],\n",
       "       [-7.70559813e-06],\n",
       "       [ 3.16199402e-06],\n",
       "       [-3.73597862e-05],\n",
       "       [ 1.06776101e-05],\n",
       "       [-2.54201319e-05],\n",
       "       [-1.47149773e-04],\n",
       "       [ 7.16638015e-05],\n",
       "       [ 5.97990442e-05],\n",
       "       [ 3.87405824e-05],\n",
       "       [-1.24327399e-04],\n",
       "       [ 1.71686432e-04],\n",
       "       [-2.18748103e-04],\n",
       "       [ 5.28224154e-06],\n",
       "       [-2.24192311e-06],\n",
       "       [-2.41255871e-05],\n",
       "       [-4.12381770e-05],\n",
       "       [ 1.50917164e-04],\n",
       "       [ 2.56381409e-04],\n",
       "       [ 8.21907391e-06],\n",
       "       [ 1.15508044e-04],\n",
       "       [ 4.51799757e-05],\n",
       "       [-5.94798208e-05],\n",
       "       [ 1.55687005e-05],\n",
       "       [-1.68127777e-05],\n",
       "       [-8.85334050e-06],\n",
       "       [ 9.36845828e-05],\n",
       "       [ 1.29830093e-05],\n",
       "       [-8.11312004e-05],\n",
       "       [-1.74233237e-05],\n",
       "       [ 6.82257150e-05],\n",
       "       [-1.75337439e-04],\n",
       "       [-1.64283365e-04],\n",
       "       [ 7.14321691e-07],\n",
       "       [-5.59241298e-06],\n",
       "       [ 5.10044627e-06],\n",
       "       [ 1.16748574e-05],\n",
       "       [-8.83430946e-05],\n",
       "       [-2.34310769e-06],\n",
       "       [-1.77229788e-04],\n",
       "       [ 3.45046664e-05],\n",
       "       [-4.87114341e-05],\n",
       "       [ 8.67293168e-06],\n",
       "       [ 1.27488428e-04],\n",
       "       [ 8.38003807e-05],\n",
       "       [ 1.45465528e-04],\n",
       "       [ 9.77502628e-05],\n",
       "       [ 5.54081926e-06],\n",
       "       [-2.90335942e-06],\n",
       "       [ 3.77539468e-05],\n",
       "       [ 6.43787697e-05],\n",
       "       [ 2.31802507e-06],\n",
       "       [-1.83241163e-05],\n",
       "       [-5.52103484e-05],\n",
       "       [-3.48538690e-05],\n",
       "       [-5.74425862e-06],\n",
       "       [-1.52505442e-04],\n",
       "       [-1.04728267e-05],\n",
       "       [ 5.53858421e-06],\n",
       "       [ 4.55977575e-05],\n",
       "       [ 1.29517613e-04],\n",
       "       [ 2.29665334e-05],\n",
       "       [-1.04681974e-04],\n",
       "       [-1.22314258e-04],\n",
       "       [-1.66088905e-04],\n",
       "       [-4.72763736e-05],\n",
       "       [-7.82355253e-05],\n",
       "       [ 3.07270075e-05],\n",
       "       [-1.04647572e-04],\n",
       "       [-8.11510407e-05],\n",
       "       [ 5.08974164e-05],\n",
       "       [ 2.41951336e-04],\n",
       "       [-1.01794523e-04],\n",
       "       [-2.98355184e-05],\n",
       "       [ 2.20152727e-05],\n",
       "       [-1.38249044e-04],\n",
       "       [ 1.24748456e-05],\n",
       "       [ 1.67251009e-07],\n",
       "       [-1.10611467e-04],\n",
       "       [-7.90655357e-05],\n",
       "       [-5.04533780e-05],\n",
       "       [-8.16271678e-06],\n",
       "       [ 1.72524895e-04],\n",
       "       [-1.64773430e-05],\n",
       "       [-2.06666516e-05],\n",
       "       [ 1.85230338e-04],\n",
       "       [-1.30565752e-05],\n",
       "       [ 1.23120059e-04],\n",
       "       [-3.80250374e-05],\n",
       "       [-1.64671556e-04],\n",
       "       [-4.30445074e-05],\n",
       "       [ 5.97186112e-05],\n",
       "       [-2.98162582e-04],\n",
       "       [ 8.90655491e-05],\n",
       "       [ 3.45830172e-05],\n",
       "       [-1.68756485e-04],\n",
       "       [-2.62842653e-04],\n",
       "       [-1.43081155e-05],\n",
       "       [-1.22762678e-04],\n",
       "       [ 8.79234116e-05],\n",
       "       [ 5.11744982e-06],\n",
       "       [ 3.52614615e-04],\n",
       "       [ 7.72103930e-05],\n",
       "       [-9.70054482e-05],\n",
       "       [ 2.05440178e-05],\n",
       "       [ 1.55687005e-05],\n",
       "       [ 9.13282074e-05],\n",
       "       [-1.06003145e-04],\n",
       "       [ 2.92144593e-04],\n",
       "       [ 4.93724364e-05],\n",
       "       [ 4.48693233e-05],\n",
       "       [ 1.66384242e-04],\n",
       "       [ 2.18334917e-06],\n",
       "       [ 2.85281510e-04],\n",
       "       [ 1.29086338e-05],\n",
       "       [ 8.30436864e-06],\n",
       "       [ 1.71422499e-05],\n",
       "       [-3.79873635e-06],\n",
       "       [-7.62334869e-05],\n",
       "       [ 1.78274044e-05],\n",
       "       [ 3.24055496e-06],\n",
       "       [-1.47529757e-05],\n",
       "       [-9.10941621e-05],\n",
       "       [-1.23797871e-04],\n",
       "       [-4.73329375e-05],\n",
       "       [ 8.49111922e-06],\n",
       "       [ 4.24096894e-04],\n",
       "       [ 1.62009952e-05],\n",
       "       [-3.85029783e-05],\n",
       "       [-4.72920858e-05],\n",
       "       [ 1.14154850e-05],\n",
       "       [-9.33113457e-05],\n",
       "       [ 1.25614451e-05],\n",
       "       [-6.09145527e-05],\n",
       "       [-2.08619444e-04],\n",
       "       [ 2.32988655e-04],\n",
       "       [-6.17238937e-05],\n",
       "       [ 9.00454003e-06],\n",
       "       [ 2.94205054e-04],\n",
       "       [-3.69871352e-05],\n",
       "       [-1.04403195e-04],\n",
       "       [ 1.83343897e-04],\n",
       "       [ 6.53425263e-07],\n",
       "       [-4.47040640e-05],\n",
       "       [-2.65344900e-05],\n",
       "       [-5.34574012e-05],\n",
       "       [ 2.33957321e-06],\n",
       "       [-1.90129577e-05],\n",
       "       [-1.15421494e-04],\n",
       "       [-8.14660944e-05],\n",
       "       [ 1.83660048e-05],\n",
       "       [-8.65713113e-07],\n",
       "       [-1.05461748e-04],\n",
       "       [ 3.60136601e-06],\n",
       "       [-6.20602982e-07],\n",
       "       [ 1.59842989e-05],\n",
       "       [-1.72375868e-04],\n",
       "       [-7.80275284e-05],\n",
       "       [ 1.61040302e-04],\n",
       "       [ 4.24275844e-05],\n",
       "       [ 8.13696364e-06],\n",
       "       [ 1.17763132e-05],\n",
       "       [ 3.04282199e-05],\n",
       "       [-2.67096336e-05],\n",
       "       [-4.06446622e-06],\n",
       "       [ 3.21744448e-05],\n",
       "       [-2.23289632e-04],\n",
       "       [ 7.36221782e-05],\n",
       "       [-2.61237285e-05],\n",
       "       [-7.77123974e-06],\n",
       "       [ 4.54961040e-06],\n",
       "       [-1.92139572e-05],\n",
       "       [-3.80329658e-04],\n",
       "       [ 1.14423376e-04],\n",
       "       [ 3.61306534e-05],\n",
       "       [ 1.39082327e-05],\n",
       "       [-1.05982046e-04],\n",
       "       [-1.44158677e-04],\n",
       "       [-8.54807514e-06],\n",
       "       [ 1.43419308e-04],\n",
       "       [ 1.15926382e-05],\n",
       "       [ 7.64255859e-05],\n",
       "       [-1.27894680e-05],\n",
       "       [-9.41753632e-05],\n",
       "       [ 8.83727257e-06],\n",
       "       [-1.00746274e-05],\n",
       "       [ 9.29724109e-05],\n",
       "       [ 6.21828076e-05],\n",
       "       [ 1.66292474e-05],\n",
       "       [-5.55021768e-05],\n",
       "       [-1.23028391e-05],\n",
       "       [ 4.77586017e-06],\n",
       "       [-5.77321613e-05],\n",
       "       [ 2.78080918e-05],\n",
       "       [-5.14032605e-06],\n",
       "       [-8.38996879e-05],\n",
       "       [ 1.76198074e-04],\n",
       "       [-4.61222012e-05],\n",
       "       [-1.31334838e-04],\n",
       "       [-5.46332689e-05],\n",
       "       [ 3.56556964e-05],\n",
       "       [ 9.26505670e-06],\n",
       "       [-1.51561307e-04],\n",
       "       [-7.59586316e-05],\n",
       "       [ 1.09027156e-05],\n",
       "       [-1.50732751e-05],\n",
       "       [ 1.35618864e-05],\n",
       "       [ 1.05773355e-04],\n",
       "       [ 6.10434495e-05],\n",
       "       [-5.50571516e-07],\n",
       "       [ 5.92599108e-05],\n",
       "       [-3.16053100e-04],\n",
       "       [-7.90652721e-05],\n",
       "       [-2.01000931e-06],\n",
       "       [ 1.55105721e-05],\n",
       "       [ 5.15070837e-05],\n",
       "       [-2.51661829e-05],\n",
       "       [ 3.24575927e-05],\n",
       "       [-3.49935250e-05],\n",
       "       [-1.63845227e-04],\n",
       "       [-6.83050855e-06],\n",
       "       [ 5.72680954e-06],\n",
       "       [ 1.00529107e-05],\n",
       "       [ 1.99390508e-06],\n",
       "       [-3.23801469e-06],\n",
       "       [-1.89900227e-05],\n",
       "       [ 3.20507337e-04],\n",
       "       [-1.32527459e-04],\n",
       "       [-7.86796186e-06],\n",
       "       [-5.22243660e-05],\n",
       "       [-2.28394323e-05],\n",
       "       [ 3.61770010e-05],\n",
       "       [ 3.11605588e-05],\n",
       "       [-6.53956687e-05],\n",
       "       [-3.74146093e-07],\n",
       "       [ 3.16369676e-05],\n",
       "       [-7.37746642e-05],\n",
       "       [ 6.34393337e-05],\n",
       "       [-1.53337034e-04],\n",
       "       [-2.85744878e-05],\n",
       "       [ 3.58594419e-06],\n",
       "       [ 1.34199396e-04],\n",
       "       [ 9.51187846e-06],\n",
       "       [-8.66728719e-06],\n",
       "       [ 6.94696714e-05],\n",
       "       [ 4.81237730e-05],\n",
       "       [ 3.27110451e-05],\n",
       "       [-1.86032949e-04],\n",
       "       [ 8.70346137e-05],\n",
       "       [ 3.96749867e-05],\n",
       "       [ 3.05610387e-04],\n",
       "       [-2.02763186e-04],\n",
       "       [-1.12778036e-04],\n",
       "       [ 1.42868730e-04],\n",
       "       [ 3.09905233e-05],\n",
       "       [ 1.28698815e-05],\n",
       "       [-1.40491079e-05],\n",
       "       [-2.83673977e-04],\n",
       "       [-1.92320544e-06],\n",
       "       [ 2.78453922e-05],\n",
       "       [ 2.18690805e-06],\n",
       "       [ 9.75554603e-05],\n",
       "       [ 1.68088156e-04],\n",
       "       [ 9.87211642e-06],\n",
       "       [-4.89538335e-05],\n",
       "       [ 3.82447115e-05],\n",
       "       [ 3.17011631e-05],\n",
       "       [-3.08450196e-04],\n",
       "       [-1.81019832e-05],\n",
       "       [ 9.79346662e-07],\n",
       "       [-1.42005554e-04],\n",
       "       [-5.34485699e-05],\n",
       "       [-9.90022113e-06],\n",
       "       [ 2.20006797e-04],\n",
       "       [-6.19200276e-05],\n",
       "       [-2.32195564e-05],\n",
       "       [-1.11167965e-04],\n",
       "       [-2.22282100e-05],\n",
       "       [-7.32669304e-05],\n",
       "       [-9.72983897e-07],\n",
       "       [-1.33788518e-05],\n",
       "       [-1.86489604e-04],\n",
       "       [ 4.15603366e-05],\n",
       "       [ 4.44545530e-06],\n",
       "       [-3.36224824e-05],\n",
       "       [ 7.92948358e-05],\n",
       "       [-1.48249019e-04]])"
      ]
     },
     "execution_count": 107,
     "metadata": {},
     "output_type": "execute_result"
    }
   ],
   "source": [
    "new_column.reshape(X.shape[0], 1) #Массив -> Столбец"
   ]
  },
  {
   "cell_type": "code",
   "execution_count": 110,
   "id": "97efb460",
   "metadata": {},
   "outputs": [],
   "source": [
    "new_column = new_column.reshape(X.shape[0], 1)"
   ]
  },
  {
   "cell_type": "code",
   "execution_count": 111,
   "id": "29ba6d1b",
   "metadata": {},
   "outputs": [],
   "source": [
    "X = np.append(X, new_column, axis=1)"
   ]
  },
  {
   "cell_type": "code",
   "execution_count": 113,
   "id": "8de7582a",
   "metadata": {},
   "outputs": [
    {
     "data": {
      "text/html": [
       "<div>\n",
       "<style scoped>\n",
       "    .dataframe tbody tr th:only-of-type {\n",
       "        vertical-align: middle;\n",
       "    }\n",
       "\n",
       "    .dataframe tbody tr th {\n",
       "        vertical-align: top;\n",
       "    }\n",
       "\n",
       "    .dataframe thead th {\n",
       "        text-align: right;\n",
       "    }\n",
       "</style>\n",
       "<table border=\"1\" class=\"dataframe\">\n",
       "  <thead>\n",
       "    <tr style=\"text-align: right;\">\n",
       "      <th></th>\n",
       "      <th>0</th>\n",
       "      <th>1</th>\n",
       "      <th>2</th>\n",
       "      <th>3</th>\n",
       "      <th>4</th>\n",
       "      <th>5</th>\n",
       "      <th>6</th>\n",
       "      <th>7</th>\n",
       "      <th>8</th>\n",
       "      <th>9</th>\n",
       "      <th>10</th>\n",
       "    </tr>\n",
       "  </thead>\n",
       "  <tbody>\n",
       "    <tr>\n",
       "      <th>0</th>\n",
       "      <td>0.038076</td>\n",
       "      <td>0.050680</td>\n",
       "      <td>0.061696</td>\n",
       "      <td>0.021872</td>\n",
       "      <td>-0.044223</td>\n",
       "      <td>-0.034821</td>\n",
       "      <td>-0.043401</td>\n",
       "      <td>-0.002592</td>\n",
       "      <td>0.019908</td>\n",
       "      <td>-0.017646</td>\n",
       "      <td>0.000119</td>\n",
       "    </tr>\n",
       "    <tr>\n",
       "      <th>1</th>\n",
       "      <td>-0.001882</td>\n",
       "      <td>-0.044642</td>\n",
       "      <td>-0.051474</td>\n",
       "      <td>-0.026328</td>\n",
       "      <td>-0.008449</td>\n",
       "      <td>-0.019163</td>\n",
       "      <td>0.074412</td>\n",
       "      <td>-0.039493</td>\n",
       "      <td>-0.068330</td>\n",
       "      <td>-0.092204</td>\n",
       "      <td>-0.000004</td>\n",
       "    </tr>\n",
       "    <tr>\n",
       "      <th>2</th>\n",
       "      <td>0.085299</td>\n",
       "      <td>0.050680</td>\n",
       "      <td>0.044451</td>\n",
       "      <td>-0.005671</td>\n",
       "      <td>-0.045599</td>\n",
       "      <td>-0.034194</td>\n",
       "      <td>-0.032356</td>\n",
       "      <td>-0.002592</td>\n",
       "      <td>0.002864</td>\n",
       "      <td>-0.025930</td>\n",
       "      <td>0.000192</td>\n",
       "    </tr>\n",
       "    <tr>\n",
       "      <th>3</th>\n",
       "      <td>-0.089063</td>\n",
       "      <td>-0.044642</td>\n",
       "      <td>-0.011595</td>\n",
       "      <td>-0.036656</td>\n",
       "      <td>0.012191</td>\n",
       "      <td>0.024991</td>\n",
       "      <td>-0.036038</td>\n",
       "      <td>0.034309</td>\n",
       "      <td>0.022692</td>\n",
       "      <td>-0.009362</td>\n",
       "      <td>-0.000046</td>\n",
       "    </tr>\n",
       "    <tr>\n",
       "      <th>4</th>\n",
       "      <td>0.005383</td>\n",
       "      <td>-0.044642</td>\n",
       "      <td>-0.036385</td>\n",
       "      <td>0.021872</td>\n",
       "      <td>0.003935</td>\n",
       "      <td>0.015596</td>\n",
       "      <td>0.008142</td>\n",
       "      <td>-0.002592</td>\n",
       "      <td>-0.031991</td>\n",
       "      <td>-0.046641</td>\n",
       "      <td>0.000009</td>\n",
       "    </tr>\n",
       "    <tr>\n",
       "      <th>...</th>\n",
       "      <td>...</td>\n",
       "      <td>...</td>\n",
       "      <td>...</td>\n",
       "      <td>...</td>\n",
       "      <td>...</td>\n",
       "      <td>...</td>\n",
       "      <td>...</td>\n",
       "      <td>...</td>\n",
       "      <td>...</td>\n",
       "      <td>...</td>\n",
       "      <td>...</td>\n",
       "    </tr>\n",
       "    <tr>\n",
       "      <th>437</th>\n",
       "      <td>0.041708</td>\n",
       "      <td>0.050680</td>\n",
       "      <td>0.019662</td>\n",
       "      <td>0.059744</td>\n",
       "      <td>-0.005697</td>\n",
       "      <td>-0.002566</td>\n",
       "      <td>-0.028674</td>\n",
       "      <td>-0.002592</td>\n",
       "      <td>0.031193</td>\n",
       "      <td>0.007207</td>\n",
       "      <td>0.000042</td>\n",
       "    </tr>\n",
       "    <tr>\n",
       "      <th>438</th>\n",
       "      <td>-0.005515</td>\n",
       "      <td>0.050680</td>\n",
       "      <td>-0.015906</td>\n",
       "      <td>-0.067642</td>\n",
       "      <td>0.049341</td>\n",
       "      <td>0.079165</td>\n",
       "      <td>-0.028674</td>\n",
       "      <td>0.034309</td>\n",
       "      <td>-0.018118</td>\n",
       "      <td>0.044485</td>\n",
       "      <td>0.000004</td>\n",
       "    </tr>\n",
       "    <tr>\n",
       "      <th>439</th>\n",
       "      <td>0.041708</td>\n",
       "      <td>0.050680</td>\n",
       "      <td>-0.015906</td>\n",
       "      <td>0.017282</td>\n",
       "      <td>-0.037344</td>\n",
       "      <td>-0.013840</td>\n",
       "      <td>-0.024993</td>\n",
       "      <td>-0.011080</td>\n",
       "      <td>-0.046879</td>\n",
       "      <td>0.015491</td>\n",
       "      <td>-0.000034</td>\n",
       "    </tr>\n",
       "    <tr>\n",
       "      <th>440</th>\n",
       "      <td>-0.045472</td>\n",
       "      <td>-0.044642</td>\n",
       "      <td>0.039062</td>\n",
       "      <td>0.001215</td>\n",
       "      <td>0.016318</td>\n",
       "      <td>0.015283</td>\n",
       "      <td>-0.028674</td>\n",
       "      <td>0.026560</td>\n",
       "      <td>0.044528</td>\n",
       "      <td>-0.025930</td>\n",
       "      <td>0.000079</td>\n",
       "    </tr>\n",
       "    <tr>\n",
       "      <th>441</th>\n",
       "      <td>-0.045472</td>\n",
       "      <td>-0.044642</td>\n",
       "      <td>-0.073030</td>\n",
       "      <td>-0.081414</td>\n",
       "      <td>0.083740</td>\n",
       "      <td>0.027809</td>\n",
       "      <td>0.173816</td>\n",
       "      <td>-0.039493</td>\n",
       "      <td>-0.004220</td>\n",
       "      <td>0.003064</td>\n",
       "      <td>-0.000148</td>\n",
       "    </tr>\n",
       "  </tbody>\n",
       "</table>\n",
       "<p>442 rows × 11 columns</p>\n",
       "</div>"
      ],
      "text/plain": [
       "           0         1         2         3         4         5         6   \\\n",
       "0    0.038076  0.050680  0.061696  0.021872 -0.044223 -0.034821 -0.043401   \n",
       "1   -0.001882 -0.044642 -0.051474 -0.026328 -0.008449 -0.019163  0.074412   \n",
       "2    0.085299  0.050680  0.044451 -0.005671 -0.045599 -0.034194 -0.032356   \n",
       "3   -0.089063 -0.044642 -0.011595 -0.036656  0.012191  0.024991 -0.036038   \n",
       "4    0.005383 -0.044642 -0.036385  0.021872  0.003935  0.015596  0.008142   \n",
       "..        ...       ...       ...       ...       ...       ...       ...   \n",
       "437  0.041708  0.050680  0.019662  0.059744 -0.005697 -0.002566 -0.028674   \n",
       "438 -0.005515  0.050680 -0.015906 -0.067642  0.049341  0.079165 -0.028674   \n",
       "439  0.041708  0.050680 -0.015906  0.017282 -0.037344 -0.013840 -0.024993   \n",
       "440 -0.045472 -0.044642  0.039062  0.001215  0.016318  0.015283 -0.028674   \n",
       "441 -0.045472 -0.044642 -0.073030 -0.081414  0.083740  0.027809  0.173816   \n",
       "\n",
       "           7         8         9         10  \n",
       "0   -0.002592  0.019908 -0.017646  0.000119  \n",
       "1   -0.039493 -0.068330 -0.092204 -0.000004  \n",
       "2   -0.002592  0.002864 -0.025930  0.000192  \n",
       "3    0.034309  0.022692 -0.009362 -0.000046  \n",
       "4   -0.002592 -0.031991 -0.046641  0.000009  \n",
       "..        ...       ...       ...       ...  \n",
       "437 -0.002592  0.031193  0.007207  0.000042  \n",
       "438  0.034309 -0.018118  0.044485  0.000004  \n",
       "439 -0.011080 -0.046879  0.015491 -0.000034  \n",
       "440  0.026560  0.044528 -0.025930  0.000079  \n",
       "441 -0.039493 -0.004220  0.003064 -0.000148  \n",
       "\n",
       "[442 rows x 11 columns]"
      ]
     },
     "execution_count": 113,
     "metadata": {},
     "output_type": "execute_result"
    }
   ],
   "source": [
    "pd.DataFrame(X)"
   ]
  },
  {
   "cell_type": "code",
   "execution_count": 115,
   "id": "7901b6bd",
   "metadata": {},
   "outputs": [],
   "source": [
    "class MyTransformer(TransformerMixin, BaseEstimator):\n",
    "    \n",
    "    def __init__(self):\n",
    "        \n",
    "        pass\n",
    "    \n",
    "    def fit(self, X, y=None):\n",
    "        \n",
    "        return self\n",
    "    \n",
    "    def transform(self, X):\n",
    "        #Создаём новый столбец как произведение первых трёх\n",
    "        new_column = X[:, 0] * X[:, 1] * X[:, 2]\n",
    "        new_column = new_column.reshape(X.shape[0], 1) #Массив -> Столбец\n",
    "        X = np.append(X, new_column, axis=1)\n",
    "        return X"
   ]
  },
  {
   "cell_type": "code",
   "execution_count": 117,
   "id": "ae4e033f",
   "metadata": {},
   "outputs": [],
   "source": [
    "#Создадим объект класса MyTransformer\n",
    "custom_transformer = MyTransformer() #ин-ция методом __init__\n",
    "custom_transformer.fit(X) #пока вызываем fit чисто формально\n",
    "X_transformed = custom_transformer.transform(X) #трансформируем исходные данные"
   ]
  },
  {
   "cell_type": "code",
   "execution_count": 118,
   "id": "33e59175",
   "metadata": {},
   "outputs": [
    {
     "data": {
      "text/plain": [
       "(442, 10)"
      ]
     },
     "execution_count": 118,
     "metadata": {},
     "output_type": "execute_result"
    }
   ],
   "source": [
    "X.shape #before transform"
   ]
  },
  {
   "cell_type": "code",
   "execution_count": 120,
   "id": "38e5d54e",
   "metadata": {},
   "outputs": [
    {
     "data": {
      "text/plain": [
       "(442, 11)"
      ]
     },
     "execution_count": 120,
     "metadata": {},
     "output_type": "execute_result"
    }
   ],
   "source": [
    "X_transformed.shape #after transform"
   ]
  },
  {
   "cell_type": "markdown",
   "id": "44b3cc0f",
   "metadata": {},
   "source": [
    "Встроим трансформе в сам пайплайн. Теперь пайплан будет включать в себя Feature Engineering, нормализацию, отбор признаков и обучение модели"
   ]
  },
  {
   "cell_type": "code",
   "execution_count": 121,
   "id": "8105b343",
   "metadata": {},
   "outputs": [],
   "source": [
    "pipe = Pipeline([\n",
    "    ('FeatureEngineering', MyTransformer()),\n",
    "    ('Scaling', MinMaxScaler()),\n",
    "    ('FeatureSelection', SelectKBest(f_regression, k=5)),\n",
    "    ('Linear', LinearRegression())\n",
    "])"
   ]
  },
  {
   "cell_type": "code",
   "execution_count": 122,
   "id": "8ce43b1a",
   "metadata": {},
   "outputs": [
    {
     "data": {
      "text/plain": [
       "Pipeline(steps=[('FeatureEngineering', MyTransformer()),\n",
       "                ('Scaling', MinMaxScaler()),\n",
       "                ('FeatureSelection',\n",
       "                 SelectKBest(k=5,\n",
       "                             score_func=<function f_regression at 0x7be979c5c950>)),\n",
       "                ('Linear', LinearRegression())])"
      ]
     },
     "execution_count": 122,
     "metadata": {},
     "output_type": "execute_result"
    }
   ],
   "source": [
    "pipe.fit(X, y)"
   ]
  },
  {
   "cell_type": "code",
   "execution_count": 123,
   "id": "fcb68f95",
   "metadata": {},
   "outputs": [],
   "source": [
    "with open('my_new_pipeline.pkl', 'wb') as output:\n",
    "    pickle.dump(pipe, output)"
   ]
  },
  {
   "cell_type": "markdown",
   "id": "026bb115",
   "metadata": {},
   "source": [
    "Десереализируем полученный пайплайн и попробуем сделать предсказание"
   ]
  },
  {
   "cell_type": "code",
   "execution_count": 124,
   "id": "e08e7451",
   "metadata": {},
   "outputs": [],
   "source": [
    "features = np.array([[ 0.00538306, -0.04464164,  0.05954058, -0.05616605,  0.02457414, 0.05286081, -0.04340085,  0.05091436, -0.00421986, -0.03007245]])"
   ]
  },
  {
   "cell_type": "code",
   "execution_count": 125,
   "id": "9c1ae55e",
   "metadata": {},
   "outputs": [],
   "source": [
    "#Десериализуем pipeline из файла\n",
    "with open('my_new_pipeline.pkl', 'rb') as pkl_file:\n",
    "    loaded_pipe = pickle.load(pkl_file)"
   ]
  },
  {
   "cell_type": "code",
   "execution_count": 126,
   "id": "ca285dd5",
   "metadata": {},
   "outputs": [
    {
     "data": {
      "text/plain": [
       "array([173.01938844])"
      ]
     },
     "execution_count": 126,
     "metadata": {},
     "output_type": "execute_result"
    }
   ],
   "source": [
    "loaded_pipe.predict(features)"
   ]
  },
  {
   "cell_type": "markdown",
   "id": "4273e089",
   "metadata": {},
   "source": [
    "### 4. Библиотека JOBLIB"
   ]
  },
  {
   "cell_type": "markdown",
   "id": "88988d09",
   "metadata": {},
   "source": [
    "Модуль **joblib** более надёжен для работы с объектами, которые содержат большие массивы данных. Минус этого модуля заключается в том, что он может консервировать только в файл, поэтому мы не сможем получить объект в виде бинарной строки и работать с ним. Сериализация происходит с помощьб функции dump(), а десериализация - с помощью load()"
   ]
  },
  {
   "cell_type": "code",
   "execution_count": 127,
   "id": "b90904f6",
   "metadata": {},
   "outputs": [
    {
     "data": {
      "text/plain": [
       "['regr.joblib']"
      ]
     },
     "execution_count": 127,
     "metadata": {},
     "output_type": "execute_result"
    }
   ],
   "source": [
    "import joblib\n",
    "\n",
    "X, y = load_diabetes(return_X_y=True)\n",
    "\n",
    "regressor = LinearRegression()\n",
    "regressor.fit(X, y)\n",
    "\n",
    "joblib.dump(regressor, 'regr.joblib')"
   ]
  },
  {
   "cell_type": "code",
   "execution_count": 128,
   "id": "08009000",
   "metadata": {},
   "outputs": [],
   "source": [
    "regr_from_joblib = joblib.load('regr.joblib')"
   ]
  },
  {
   "cell_type": "code",
   "execution_count": 131,
   "id": "22929f49",
   "metadata": {},
   "outputs": [
    {
     "data": {
      "text/plain": [
       "True"
      ]
     },
     "execution_count": 131,
     "metadata": {},
     "output_type": "execute_result"
    }
   ],
   "source": [
    "all(regressor.predict(X) == regr_from_joblib.predict(X))"
   ]
  },
  {
   "cell_type": "markdown",
   "id": "62498706",
   "metadata": {},
   "source": [
    "## Практика"
   ]
  },
  {
   "cell_type": "code",
   "execution_count": 5,
   "id": "3dcff0ed",
   "metadata": {},
   "outputs": [
    {
     "name": "stdout",
     "output_type": "stream",
     "text": [
      "secret word: skillfactory\n",
      "how is this possible? answer is here: https://youtu.be/xm-A-h9QkXg\n"
     ]
    }
   ],
   "source": [
    "import pickle\n",
    "import numpy as np\n",
    "\n",
    "#model.pkl\n",
    "with open('model.pkl', 'rb') as pkl_file:\n",
    "    model = pickle.load(pkl_file)"
   ]
  },
  {
   "cell_type": "code",
   "execution_count": 3,
   "id": "fb40f804",
   "metadata": {},
   "outputs": [
    {
     "data": {
      "text/plain": [
       "LinearRegression(normalize=False, positive=True)"
      ]
     },
     "execution_count": 3,
     "metadata": {},
     "output_type": "execute_result"
    }
   ],
   "source": [
    "model"
   ]
  },
  {
   "cell_type": "code",
   "execution_count": 8,
   "id": "89e275d3",
   "metadata": {},
   "outputs": [],
   "source": [
    "features = np.array([[1, 1, 1, 0.661212487096872]])"
   ]
  },
  {
   "cell_type": "code",
   "execution_count": 9,
   "id": "5e454ea1",
   "metadata": {},
   "outputs": [
    {
     "data": {
      "text/plain": [
       "array([0.666])"
      ]
     },
     "execution_count": 9,
     "metadata": {},
     "output_type": "execute_result"
    }
   ],
   "source": [
    "test = model.predict(features)\n",
    "test"
   ]
  }
 ],
 "metadata": {
  "kernelspec": {
   "display_name": "Python 3",
   "language": "python",
   "name": "python3"
  },
  "language_info": {
   "codemirror_mode": {
    "name": "ipython",
    "version": 3
   },
   "file_extension": ".py",
   "mimetype": "text/x-python",
   "name": "python",
   "nbconvert_exporter": "python",
   "pygments_lexer": "ipython3",
   "version": "3.7.3"
  }
 },
 "nbformat": 4,
 "nbformat_minor": 5
}
