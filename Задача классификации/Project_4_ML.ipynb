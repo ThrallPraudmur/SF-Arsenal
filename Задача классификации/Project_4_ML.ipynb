{
 "cells": [
  {
   "cell_type": "markdown",
   "id": "c353de9a",
   "metadata": {},
   "source": [
    "# Проект: классификация"
   ]
  },
  {
   "cell_type": "code",
   "execution_count": 109,
   "id": "4a6e54dc",
   "metadata": {},
   "outputs": [],
   "source": [
    "import pandas as pd\n",
    "import numpy as np\n",
    "import matplotlib.pyplot as plt\n",
    "import seaborn as sns\n",
    "from  sklearn.ensemble import IsolationForest\n",
    "import warnings\n",
    "warnings.filterwarnings('ignore')\n",
    "from sklearn.preprocessing  import LabelEncoder\n",
    "from sklearn import linear_model \n",
    "from sklearn import tree \n",
    "from sklearn import ensemble \n",
    "from sklearn import metrics \n",
    "from sklearn import preprocessing \n",
    "from sklearn.model_selection import train_test_split \n",
    "from sklearn.feature_selection import SelectKBest, f_classif"
   ]
  },
  {
   "cell_type": "markdown",
   "id": "71559b60",
   "metadata": {},
   "source": [
    "## Часть 1. Знакомство с данными, обработка пропусков и выбросов"
   ]
  },
  {
   "cell_type": "markdown",
   "id": "7c5e31b2",
   "metadata": {},
   "source": [
    "### Задание 1"
   ]
  },
  {
   "cell_type": "code",
   "execution_count": 3,
   "id": "20730cd7",
   "metadata": {},
   "outputs": [],
   "source": [
    "df = pd.read_csv('bank_fin.csv', sep = ';')"
   ]
  },
  {
   "cell_type": "code",
   "execution_count": 4,
   "id": "067c90e7",
   "metadata": {},
   "outputs": [
    {
     "data": {
      "text/html": [
       "<div>\n",
       "<style scoped>\n",
       "    .dataframe tbody tr th:only-of-type {\n",
       "        vertical-align: middle;\n",
       "    }\n",
       "\n",
       "    .dataframe tbody tr th {\n",
       "        vertical-align: top;\n",
       "    }\n",
       "\n",
       "    .dataframe thead th {\n",
       "        text-align: right;\n",
       "    }\n",
       "</style>\n",
       "<table border=\"1\" class=\"dataframe\">\n",
       "  <thead>\n",
       "    <tr style=\"text-align: right;\">\n",
       "      <th></th>\n",
       "      <th>age</th>\n",
       "      <th>job</th>\n",
       "      <th>marital</th>\n",
       "      <th>education</th>\n",
       "      <th>default</th>\n",
       "      <th>balance</th>\n",
       "      <th>housing</th>\n",
       "      <th>loan</th>\n",
       "      <th>contact</th>\n",
       "      <th>day</th>\n",
       "      <th>month</th>\n",
       "      <th>duration</th>\n",
       "      <th>campaign</th>\n",
       "      <th>pdays</th>\n",
       "      <th>previous</th>\n",
       "      <th>poutcome</th>\n",
       "      <th>deposit</th>\n",
       "    </tr>\n",
       "  </thead>\n",
       "  <tbody>\n",
       "    <tr>\n",
       "      <th>0</th>\n",
       "      <td>59</td>\n",
       "      <td>admin.</td>\n",
       "      <td>married</td>\n",
       "      <td>secondary</td>\n",
       "      <td>no</td>\n",
       "      <td>2 343,00 $</td>\n",
       "      <td>yes</td>\n",
       "      <td>no</td>\n",
       "      <td>unknown</td>\n",
       "      <td>5</td>\n",
       "      <td>may</td>\n",
       "      <td>1042</td>\n",
       "      <td>1</td>\n",
       "      <td>-1</td>\n",
       "      <td>0</td>\n",
       "      <td>unknown</td>\n",
       "      <td>yes</td>\n",
       "    </tr>\n",
       "    <tr>\n",
       "      <th>1</th>\n",
       "      <td>56</td>\n",
       "      <td>admin.</td>\n",
       "      <td>married</td>\n",
       "      <td>secondary</td>\n",
       "      <td>no</td>\n",
       "      <td>45,00 $</td>\n",
       "      <td>no</td>\n",
       "      <td>no</td>\n",
       "      <td>unknown</td>\n",
       "      <td>5</td>\n",
       "      <td>may</td>\n",
       "      <td>1467</td>\n",
       "      <td>1</td>\n",
       "      <td>-1</td>\n",
       "      <td>0</td>\n",
       "      <td>unknown</td>\n",
       "      <td>yes</td>\n",
       "    </tr>\n",
       "    <tr>\n",
       "      <th>2</th>\n",
       "      <td>41</td>\n",
       "      <td>technician</td>\n",
       "      <td>married</td>\n",
       "      <td>secondary</td>\n",
       "      <td>no</td>\n",
       "      <td>1 270,00 $</td>\n",
       "      <td>yes</td>\n",
       "      <td>no</td>\n",
       "      <td>unknown</td>\n",
       "      <td>5</td>\n",
       "      <td>may</td>\n",
       "      <td>1389</td>\n",
       "      <td>1</td>\n",
       "      <td>-1</td>\n",
       "      <td>0</td>\n",
       "      <td>unknown</td>\n",
       "      <td>yes</td>\n",
       "    </tr>\n",
       "    <tr>\n",
       "      <th>3</th>\n",
       "      <td>55</td>\n",
       "      <td>services</td>\n",
       "      <td>married</td>\n",
       "      <td>secondary</td>\n",
       "      <td>no</td>\n",
       "      <td>2 476,00 $</td>\n",
       "      <td>yes</td>\n",
       "      <td>no</td>\n",
       "      <td>unknown</td>\n",
       "      <td>5</td>\n",
       "      <td>may</td>\n",
       "      <td>579</td>\n",
       "      <td>1</td>\n",
       "      <td>-1</td>\n",
       "      <td>0</td>\n",
       "      <td>unknown</td>\n",
       "      <td>yes</td>\n",
       "    </tr>\n",
       "    <tr>\n",
       "      <th>4</th>\n",
       "      <td>54</td>\n",
       "      <td>admin.</td>\n",
       "      <td>married</td>\n",
       "      <td>tertiary</td>\n",
       "      <td>no</td>\n",
       "      <td>184,00 $</td>\n",
       "      <td>no</td>\n",
       "      <td>no</td>\n",
       "      <td>unknown</td>\n",
       "      <td>5</td>\n",
       "      <td>may</td>\n",
       "      <td>673</td>\n",
       "      <td>2</td>\n",
       "      <td>-1</td>\n",
       "      <td>0</td>\n",
       "      <td>unknown</td>\n",
       "      <td>yes</td>\n",
       "    </tr>\n",
       "  </tbody>\n",
       "</table>\n",
       "</div>"
      ],
      "text/plain": [
       "   age         job  marital  education default       balance housing loan  \\\n",
       "0   59      admin.  married  secondary      no   2 343,00 $      yes   no   \n",
       "1   56      admin.  married  secondary      no      45,00 $       no   no   \n",
       "2   41  technician  married  secondary      no   1 270,00 $      yes   no   \n",
       "3   55    services  married  secondary      no   2 476,00 $      yes   no   \n",
       "4   54      admin.  married   tertiary      no     184,00 $       no   no   \n",
       "\n",
       "   contact  day month  duration  campaign  pdays  previous poutcome deposit  \n",
       "0  unknown    5   may      1042         1     -1         0  unknown     yes  \n",
       "1  unknown    5   may      1467         1     -1         0  unknown     yes  \n",
       "2  unknown    5   may      1389         1     -1         0  unknown     yes  \n",
       "3  unknown    5   may       579         1     -1         0  unknown     yes  \n",
       "4  unknown    5   may       673         2     -1         0  unknown     yes  "
      ]
     },
     "execution_count": 4,
     "metadata": {},
     "output_type": "execute_result"
    }
   ],
   "source": [
    "df.head()"
   ]
  },
  {
   "cell_type": "code",
   "execution_count": 9,
   "id": "ba11dc67",
   "metadata": {},
   "outputs": [
    {
     "data": {
      "text/plain": [
       "balance      25\n",
       "age           0\n",
       "day           0\n",
       "poutcome      0\n",
       "previous      0\n",
       "pdays         0\n",
       "campaign      0\n",
       "duration      0\n",
       "month         0\n",
       "contact       0\n",
       "job           0\n",
       "loan          0\n",
       "housing       0\n",
       "default       0\n",
       "education     0\n",
       "marital       0\n",
       "deposit       0\n",
       "dtype: int64"
      ]
     },
     "execution_count": 9,
     "metadata": {},
     "output_type": "execute_result"
    }
   ],
   "source": [
    "# исследуйте данные на предмет пропусков. Где есть пропущенные значения? Сколько их?\n",
    "df.isnull().sum().sort_values(ascending=False)"
   ]
  },
  {
   "cell_type": "markdown",
   "id": "6366f059",
   "metadata": {},
   "source": [
    "### Задание 2"
   ]
  },
  {
   "cell_type": "code",
   "execution_count": 12,
   "id": "98ea29d4",
   "metadata": {},
   "outputs": [
    {
     "data": {
      "text/plain": [
       "management       2566\n",
       "blue-collar      1944\n",
       "technician       1823\n",
       "admin.           1334\n",
       "services          923\n",
       "retired           778\n",
       "self-employed     405\n",
       "student           360\n",
       "unemployed        357\n",
       "entrepreneur      328\n",
       "housemaid         274\n",
       "unknown            70\n",
       "Name: job, dtype: int64"
      ]
     },
     "execution_count": 12,
     "metadata": {},
     "output_type": "execute_result"
    }
   ],
   "source": [
    "# есть ли в признаке job пропущенные значения? Возможно, они обозначены каким-то специальным словом?\n",
    "df['job'].value_counts()"
   ]
  },
  {
   "cell_type": "markdown",
   "id": "8fcf4fcd",
   "metadata": {},
   "source": [
    "### Задание 3"
   ]
  },
  {
   "cell_type": "code",
   "execution_count": 5,
   "id": "cf323315",
   "metadata": {},
   "outputs": [],
   "source": [
    "df['balance'] = df['balance'].str.replace('$', '')\n",
    "df['balance'] = df['balance'].str.replace(',', '.')\n",
    "df['balance'] = df['balance'].str.replace(' ', '')\n",
    "df['balance'] = df['balance'].astype(float)"
   ]
  },
  {
   "cell_type": "code",
   "execution_count": 6,
   "id": "74764423",
   "metadata": {},
   "outputs": [
    {
     "data": {
      "text/plain": [
       "0        2343.0\n",
       "1          45.0\n",
       "2        1270.0\n",
       "3        2476.0\n",
       "4         184.0\n",
       "          ...  \n",
       "11157       1.0\n",
       "11158     733.0\n",
       "11159      29.0\n",
       "11160       0.0\n",
       "11161       0.0\n",
       "Name: balance, Length: 11162, dtype: float64"
      ]
     },
     "execution_count": 6,
     "metadata": {},
     "output_type": "execute_result"
    }
   ],
   "source": [
    "df['balance']"
   ]
  },
  {
   "cell_type": "code",
   "execution_count": 7,
   "id": "b0eec15e",
   "metadata": {},
   "outputs": [
    {
     "data": {
      "text/plain": [
       "1529.1290293615875"
      ]
     },
     "execution_count": 7,
     "metadata": {},
     "output_type": "execute_result"
    }
   ],
   "source": [
    "df['balance'].mean()"
   ]
  },
  {
   "cell_type": "markdown",
   "id": "6de63fd7",
   "metadata": {},
   "source": [
    "### Задание 4"
   ]
  },
  {
   "cell_type": "code",
   "execution_count": 47,
   "id": "6a684a63",
   "metadata": {},
   "outputs": [
    {
     "data": {
      "text/plain": [
       "6797    -6847.0\n",
       "1525    -3058.0\n",
       "10642   -2712.0\n",
       "6388    -2282.0\n",
       "6010    -2049.0\n",
       "          ...  \n",
       "5481        NaN\n",
       "5570        NaN\n",
       "5571        NaN\n",
       "9954        NaN\n",
       "9955        NaN\n",
       "Name: balance, Length: 11162, dtype: float64"
      ]
     },
     "execution_count": 47,
     "metadata": {},
     "output_type": "execute_result"
    }
   ],
   "source": [
    "df['balance'].sort_values()"
   ]
  },
  {
   "cell_type": "code",
   "execution_count": 8,
   "id": "fe446b4a",
   "metadata": {},
   "outputs": [],
   "source": [
    "df['balance'] = df['balance'].fillna(value = df['balance'].median())"
   ]
  },
  {
   "cell_type": "code",
   "execution_count": 52,
   "id": "1219bc94",
   "metadata": {},
   "outputs": [
    {
     "data": {
      "text/plain": [
       "6797     -6847.0\n",
       "1525     -3058.0\n",
       "10642    -2712.0\n",
       "6388     -2282.0\n",
       "6010     -2049.0\n",
       "          ...   \n",
       "2468     52587.0\n",
       "10143    56831.0\n",
       "8208     66653.0\n",
       "3043     81204.0\n",
       "3380     81204.0\n",
       "Name: balance, Length: 11162, dtype: float64"
      ]
     },
     "execution_count": 52,
     "metadata": {},
     "output_type": "execute_result"
    }
   ],
   "source": [
    "df['balance'].sort_values()"
   ]
  },
  {
   "cell_type": "code",
   "execution_count": 9,
   "id": "7ce712c0",
   "metadata": {},
   "outputs": [
    {
     "data": {
      "text/plain": [
       "1526.9360329690019"
      ]
     },
     "execution_count": 9,
     "metadata": {},
     "output_type": "execute_result"
    }
   ],
   "source": [
    "df['balance'].mean()"
   ]
  },
  {
   "cell_type": "markdown",
   "id": "1097ec42",
   "metadata": {},
   "source": [
    "### Задание 5"
   ]
  },
  {
   "cell_type": "code",
   "execution_count": 60,
   "id": "dd91e3b7",
   "metadata": {},
   "outputs": [
    {
     "data": {
      "text/plain": [
       "0             admin.\n",
       "1             admin.\n",
       "2         technician\n",
       "3           services\n",
       "4             admin.\n",
       "            ...     \n",
       "11157    blue-collar\n",
       "11158       services\n",
       "11159     technician\n",
       "11160     technician\n",
       "11161     technician\n",
       "Name: job, Length: 11162, dtype: object"
      ]
     },
     "execution_count": 60,
     "metadata": {},
     "output_type": "execute_result"
    }
   ],
   "source": [
    "df['job']"
   ]
  },
  {
   "cell_type": "code",
   "execution_count": 10,
   "id": "0fa070a6",
   "metadata": {},
   "outputs": [
    {
     "data": {
      "text/plain": [
       "'management'"
      ]
     },
     "execution_count": 10,
     "metadata": {},
     "output_type": "execute_result"
    }
   ],
   "source": [
    "df['job'].mode()[0]"
   ]
  },
  {
   "cell_type": "code",
   "execution_count": 11,
   "id": "19a7b711",
   "metadata": {},
   "outputs": [],
   "source": [
    "df['job'] = df['job'].apply(lambda x: df['job'].mode()[0] if x=='unknown' else x)\n",
    "df['education'] = df['education'].apply(lambda x: df['education'].mode()[0] if x=='unknown' else x)"
   ]
  },
  {
   "cell_type": "code",
   "execution_count": 12,
   "id": "38f5699d",
   "metadata": {},
   "outputs": [],
   "source": [
    "df_new = df[(df['job'] == 'management') & (df['education'] == 'secondary')]"
   ]
  },
  {
   "cell_type": "code",
   "execution_count": 13,
   "id": "ea7de2e2",
   "metadata": {},
   "outputs": [
    {
     "data": {
      "text/plain": [
       "1598.8829787234042"
      ]
     },
     "execution_count": 13,
     "metadata": {},
     "output_type": "execute_result"
    }
   ],
   "source": [
    "df_new['balance'].mean()"
   ]
  },
  {
   "cell_type": "markdown",
   "id": "02af77c6",
   "metadata": {},
   "source": [
    "### Задание 6"
   ]
  },
  {
   "cell_type": "code",
   "execution_count": 26,
   "id": "3802cdd9",
   "metadata": {},
   "outputs": [
    {
     "data": {
      "text/plain": [
       "count    11162.000000\n",
       "mean      1526.936033\n",
       "std       3224.829691\n",
       "min      -6847.000000\n",
       "25%        123.000000\n",
       "50%        550.000000\n",
       "75%       1699.000000\n",
       "max      81204.000000\n",
       "Name: balance, dtype: float64"
      ]
     },
     "execution_count": 26,
     "metadata": {},
     "output_type": "execute_result"
    }
   ],
   "source": [
    "df['balance'].describe()"
   ]
  },
  {
   "cell_type": "code",
   "execution_count": 28,
   "id": "cd977583",
   "metadata": {
    "scrolled": true
   },
   "outputs": [
    {
     "data": {
      "text/plain": [
       "123.0"
      ]
     },
     "execution_count": 28,
     "metadata": {},
     "output_type": "execute_result"
    }
   ],
   "source": [
    "q1 = df['balance'].describe()['25%']\n",
    "q1"
   ]
  },
  {
   "cell_type": "code",
   "execution_count": 29,
   "id": "9f46c672",
   "metadata": {},
   "outputs": [
    {
     "data": {
      "text/plain": [
       "1699.0"
      ]
     },
     "execution_count": 29,
     "metadata": {},
     "output_type": "execute_result"
    }
   ],
   "source": [
    "q3 = df['balance'].describe()['75%']\n",
    "q3"
   ]
  },
  {
   "cell_type": "code",
   "execution_count": 30,
   "id": "3d734d80",
   "metadata": {},
   "outputs": [
    {
     "data": {
      "image/png": "[encoded data removed]",
      "text/plain": [
       "<Figure size 500x500 with 1 Axes>"
      ]
     },
     "metadata": {},
     "output_type": "display_data"
    }
   ],
   "source": [
    "sns.displot(df['balance'], bins=100) #сразу считает count признака\n",
    "\n",
    "plt.show()"
   ]
  },
  {
   "cell_type": "code",
   "execution_count": 34,
   "id": "7e5b1940",
   "metadata": {},
   "outputs": [
    {
     "data": {
      "text/plain": [
       "1576.0"
      ]
     },
     "execution_count": 34,
     "metadata": {},
     "output_type": "execute_result"
    }
   ],
   "source": [
    "iqr = q3 - q1\n",
    "iqr"
   ]
  },
  {
   "cell_type": "code",
   "execution_count": 37,
   "id": "a6242b3d",
   "metadata": {},
   "outputs": [
    {
     "data": {
      "text/plain": [
       "-2241.0"
      ]
     },
     "execution_count": 37,
     "metadata": {},
     "output_type": "execute_result"
    }
   ],
   "source": [
    "lower_bound = q1 - iqr*1.5\n",
    "lower_bound"
   ]
  },
  {
   "cell_type": "code",
   "execution_count": 38,
   "id": "50d290f2",
   "metadata": {},
   "outputs": [
    {
     "data": {
      "text/plain": [
       "4063.0"
      ]
     },
     "execution_count": 38,
     "metadata": {},
     "output_type": "execute_result"
    }
   ],
   "source": [
    "upper_bound = q3 + iqr*1.5\n",
    "upper_bound"
   ]
  },
  {
   "cell_type": "code",
   "execution_count": 43,
   "id": "260b9138",
   "metadata": {},
   "outputs": [
    {
     "data": {
      "text/html": [
       "<div>\n",
       "<style scoped>\n",
       "    .dataframe tbody tr th:only-of-type {\n",
       "        vertical-align: middle;\n",
       "    }\n",
       "\n",
       "    .dataframe tbody tr th {\n",
       "        vertical-align: top;\n",
       "    }\n",
       "\n",
       "    .dataframe thead th {\n",
       "        text-align: right;\n",
       "    }\n",
       "</style>\n",
       "<table border=\"1\" class=\"dataframe\">\n",
       "  <thead>\n",
       "    <tr style=\"text-align: right;\">\n",
       "      <th></th>\n",
       "      <th>age</th>\n",
       "      <th>job</th>\n",
       "      <th>marital</th>\n",
       "      <th>education</th>\n",
       "      <th>default</th>\n",
       "      <th>balance</th>\n",
       "      <th>housing</th>\n",
       "      <th>loan</th>\n",
       "      <th>contact</th>\n",
       "      <th>day</th>\n",
       "      <th>month</th>\n",
       "      <th>duration</th>\n",
       "      <th>campaign</th>\n",
       "      <th>pdays</th>\n",
       "      <th>previous</th>\n",
       "      <th>poutcome</th>\n",
       "      <th>deposit</th>\n",
       "    </tr>\n",
       "  </thead>\n",
       "  <tbody>\n",
       "    <tr>\n",
       "      <th>0</th>\n",
       "      <td>59</td>\n",
       "      <td>admin.</td>\n",
       "      <td>married</td>\n",
       "      <td>secondary</td>\n",
       "      <td>no</td>\n",
       "      <td>2343.0</td>\n",
       "      <td>yes</td>\n",
       "      <td>no</td>\n",
       "      <td>unknown</td>\n",
       "      <td>5</td>\n",
       "      <td>may</td>\n",
       "      <td>1042</td>\n",
       "      <td>1</td>\n",
       "      <td>-1</td>\n",
       "      <td>0</td>\n",
       "      <td>unknown</td>\n",
       "      <td>yes</td>\n",
       "    </tr>\n",
       "    <tr>\n",
       "      <th>1</th>\n",
       "      <td>56</td>\n",
       "      <td>admin.</td>\n",
       "      <td>married</td>\n",
       "      <td>secondary</td>\n",
       "      <td>no</td>\n",
       "      <td>45.0</td>\n",
       "      <td>no</td>\n",
       "      <td>no</td>\n",
       "      <td>unknown</td>\n",
       "      <td>5</td>\n",
       "      <td>may</td>\n",
       "      <td>1467</td>\n",
       "      <td>1</td>\n",
       "      <td>-1</td>\n",
       "      <td>0</td>\n",
       "      <td>unknown</td>\n",
       "      <td>yes</td>\n",
       "    </tr>\n",
       "    <tr>\n",
       "      <th>2</th>\n",
       "      <td>41</td>\n",
       "      <td>technician</td>\n",
       "      <td>married</td>\n",
       "      <td>secondary</td>\n",
       "      <td>no</td>\n",
       "      <td>1270.0</td>\n",
       "      <td>yes</td>\n",
       "      <td>no</td>\n",
       "      <td>unknown</td>\n",
       "      <td>5</td>\n",
       "      <td>may</td>\n",
       "      <td>1389</td>\n",
       "      <td>1</td>\n",
       "      <td>-1</td>\n",
       "      <td>0</td>\n",
       "      <td>unknown</td>\n",
       "      <td>yes</td>\n",
       "    </tr>\n",
       "    <tr>\n",
       "      <th>3</th>\n",
       "      <td>55</td>\n",
       "      <td>services</td>\n",
       "      <td>married</td>\n",
       "      <td>secondary</td>\n",
       "      <td>no</td>\n",
       "      <td>2476.0</td>\n",
       "      <td>yes</td>\n",
       "      <td>no</td>\n",
       "      <td>unknown</td>\n",
       "      <td>5</td>\n",
       "      <td>may</td>\n",
       "      <td>579</td>\n",
       "      <td>1</td>\n",
       "      <td>-1</td>\n",
       "      <td>0</td>\n",
       "      <td>unknown</td>\n",
       "      <td>yes</td>\n",
       "    </tr>\n",
       "    <tr>\n",
       "      <th>4</th>\n",
       "      <td>54</td>\n",
       "      <td>admin.</td>\n",
       "      <td>married</td>\n",
       "      <td>tertiary</td>\n",
       "      <td>no</td>\n",
       "      <td>184.0</td>\n",
       "      <td>no</td>\n",
       "      <td>no</td>\n",
       "      <td>unknown</td>\n",
       "      <td>5</td>\n",
       "      <td>may</td>\n",
       "      <td>673</td>\n",
       "      <td>2</td>\n",
       "      <td>-1</td>\n",
       "      <td>0</td>\n",
       "      <td>unknown</td>\n",
       "      <td>yes</td>\n",
       "    </tr>\n",
       "    <tr>\n",
       "      <th>...</th>\n",
       "      <td>...</td>\n",
       "      <td>...</td>\n",
       "      <td>...</td>\n",
       "      <td>...</td>\n",
       "      <td>...</td>\n",
       "      <td>...</td>\n",
       "      <td>...</td>\n",
       "      <td>...</td>\n",
       "      <td>...</td>\n",
       "      <td>...</td>\n",
       "      <td>...</td>\n",
       "      <td>...</td>\n",
       "      <td>...</td>\n",
       "      <td>...</td>\n",
       "      <td>...</td>\n",
       "      <td>...</td>\n",
       "      <td>...</td>\n",
       "    </tr>\n",
       "    <tr>\n",
       "      <th>11157</th>\n",
       "      <td>33</td>\n",
       "      <td>blue-collar</td>\n",
       "      <td>single</td>\n",
       "      <td>primary</td>\n",
       "      <td>no</td>\n",
       "      <td>1.0</td>\n",
       "      <td>yes</td>\n",
       "      <td>no</td>\n",
       "      <td>cellular</td>\n",
       "      <td>20</td>\n",
       "      <td>apr</td>\n",
       "      <td>257</td>\n",
       "      <td>1</td>\n",
       "      <td>-1</td>\n",
       "      <td>0</td>\n",
       "      <td>unknown</td>\n",
       "      <td>no</td>\n",
       "    </tr>\n",
       "    <tr>\n",
       "      <th>11158</th>\n",
       "      <td>39</td>\n",
       "      <td>services</td>\n",
       "      <td>married</td>\n",
       "      <td>secondary</td>\n",
       "      <td>no</td>\n",
       "      <td>733.0</td>\n",
       "      <td>no</td>\n",
       "      <td>no</td>\n",
       "      <td>unknown</td>\n",
       "      <td>16</td>\n",
       "      <td>jun</td>\n",
       "      <td>83</td>\n",
       "      <td>4</td>\n",
       "      <td>-1</td>\n",
       "      <td>0</td>\n",
       "      <td>unknown</td>\n",
       "      <td>no</td>\n",
       "    </tr>\n",
       "    <tr>\n",
       "      <th>11159</th>\n",
       "      <td>32</td>\n",
       "      <td>technician</td>\n",
       "      <td>single</td>\n",
       "      <td>secondary</td>\n",
       "      <td>no</td>\n",
       "      <td>29.0</td>\n",
       "      <td>no</td>\n",
       "      <td>no</td>\n",
       "      <td>cellular</td>\n",
       "      <td>19</td>\n",
       "      <td>aug</td>\n",
       "      <td>156</td>\n",
       "      <td>2</td>\n",
       "      <td>-1</td>\n",
       "      <td>0</td>\n",
       "      <td>unknown</td>\n",
       "      <td>no</td>\n",
       "    </tr>\n",
       "    <tr>\n",
       "      <th>11160</th>\n",
       "      <td>43</td>\n",
       "      <td>technician</td>\n",
       "      <td>married</td>\n",
       "      <td>secondary</td>\n",
       "      <td>no</td>\n",
       "      <td>0.0</td>\n",
       "      <td>no</td>\n",
       "      <td>yes</td>\n",
       "      <td>cellular</td>\n",
       "      <td>8</td>\n",
       "      <td>may</td>\n",
       "      <td>9</td>\n",
       "      <td>2</td>\n",
       "      <td>172</td>\n",
       "      <td>5</td>\n",
       "      <td>failure</td>\n",
       "      <td>no</td>\n",
       "    </tr>\n",
       "    <tr>\n",
       "      <th>11161</th>\n",
       "      <td>34</td>\n",
       "      <td>technician</td>\n",
       "      <td>married</td>\n",
       "      <td>secondary</td>\n",
       "      <td>no</td>\n",
       "      <td>0.0</td>\n",
       "      <td>no</td>\n",
       "      <td>no</td>\n",
       "      <td>cellular</td>\n",
       "      <td>9</td>\n",
       "      <td>jul</td>\n",
       "      <td>628</td>\n",
       "      <td>1</td>\n",
       "      <td>-1</td>\n",
       "      <td>0</td>\n",
       "      <td>unknown</td>\n",
       "      <td>no</td>\n",
       "    </tr>\n",
       "  </tbody>\n",
       "</table>\n",
       "<p>10105 rows × 17 columns</p>\n",
       "</div>"
      ],
      "text/plain": [
       "       age          job  marital  education default  balance housing loan  \\\n",
       "0       59       admin.  married  secondary      no   2343.0     yes   no   \n",
       "1       56       admin.  married  secondary      no     45.0      no   no   \n",
       "2       41   technician  married  secondary      no   1270.0     yes   no   \n",
       "3       55     services  married  secondary      no   2476.0     yes   no   \n",
       "4       54       admin.  married   tertiary      no    184.0      no   no   \n",
       "...    ...          ...      ...        ...     ...      ...     ...  ...   \n",
       "11157   33  blue-collar   single    primary      no      1.0     yes   no   \n",
       "11158   39     services  married  secondary      no    733.0      no   no   \n",
       "11159   32   technician   single  secondary      no     29.0      no   no   \n",
       "11160   43   technician  married  secondary      no      0.0      no  yes   \n",
       "11161   34   technician  married  secondary      no      0.0      no   no   \n",
       "\n",
       "        contact  day month  duration  campaign  pdays  previous poutcome  \\\n",
       "0       unknown    5   may      1042         1     -1         0  unknown   \n",
       "1       unknown    5   may      1467         1     -1         0  unknown   \n",
       "2       unknown    5   may      1389         1     -1         0  unknown   \n",
       "3       unknown    5   may       579         1     -1         0  unknown   \n",
       "4       unknown    5   may       673         2     -1         0  unknown   \n",
       "...         ...  ...   ...       ...       ...    ...       ...      ...   \n",
       "11157  cellular   20   apr       257         1     -1         0  unknown   \n",
       "11158   unknown   16   jun        83         4     -1         0  unknown   \n",
       "11159  cellular   19   aug       156         2     -1         0  unknown   \n",
       "11160  cellular    8   may         9         2    172         5  failure   \n",
       "11161  cellular    9   jul       628         1     -1         0  unknown   \n",
       "\n",
       "      deposit  \n",
       "0         yes  \n",
       "1         yes  \n",
       "2         yes  \n",
       "3         yes  \n",
       "4         yes  \n",
       "...       ...  \n",
       "11157      no  \n",
       "11158      no  \n",
       "11159      no  \n",
       "11160      no  \n",
       "11161      no  \n",
       "\n",
       "[10105 rows x 17 columns]"
      ]
     },
     "execution_count": 43,
     "metadata": {},
     "output_type": "execute_result"
    }
   ],
   "source": [
    "df = df[(df['balance'] >= lower_bound) & (df['balance'] <= upper_bound)]\n",
    "df"
   ]
  },
  {
   "cell_type": "markdown",
   "id": "5d22b8cd",
   "metadata": {},
   "source": [
    "## Часть 2:  Разведывательный анализ"
   ]
  },
  {
   "cell_type": "markdown",
   "id": "21e1f083",
   "metadata": {},
   "source": [
    "### Задание 1"
   ]
  },
  {
   "cell_type": "code",
   "execution_count": 44,
   "id": "6d0cd3a8",
   "metadata": {},
   "outputs": [
    {
     "data": {
      "text/plain": [
       "no     5424\n",
       "yes    4681\n",
       "Name: deposit, dtype: int64"
      ]
     },
     "execution_count": 44,
     "metadata": {},
     "output_type": "execute_result"
    }
   ],
   "source": [
    "df['deposit'].value_counts()"
   ]
  },
  {
   "cell_type": "markdown",
   "id": "426b1d40",
   "metadata": {},
   "source": [
    "### Задания 2 и 3"
   ]
  },
  {
   "cell_type": "code",
   "execution_count": 45,
   "id": "603cdb3c",
   "metadata": {},
   "outputs": [
    {
     "data": {
      "text/plain": [
       "95"
      ]
     },
     "execution_count": 45,
     "metadata": {},
     "output_type": "execute_result"
    }
   ],
   "source": [
    "df['age'].max()"
   ]
  },
  {
   "cell_type": "code",
   "execution_count": 46,
   "id": "b4f4e1a1",
   "metadata": {},
   "outputs": [
    {
     "data": {
      "text/plain": [
       "2"
      ]
     },
     "execution_count": 46,
     "metadata": {},
     "output_type": "execute_result"
    }
   ],
   "source": [
    "df['duration'].min()"
   ]
  },
  {
   "cell_type": "markdown",
   "id": "821dc39e",
   "metadata": {},
   "source": [
    "### Задания 4 и 5"
   ]
  },
  {
   "cell_type": "code",
   "execution_count": 49,
   "id": "da055a33",
   "metadata": {},
   "outputs": [],
   "source": [
    "# job = возраст\n",
    "# marital = семейное положение\n",
    "# education = уровень обазованиия\n",
    "# default = есть ли просроченный кредит\n",
    "# housing = есть ли кредит на жильё\n",
    "# loan = есть ли кредит на личные нужды\n",
    "# balance = баланс\n",
    "\n",
    "# СТАРТ МАРКЕТИНГОВОЙ КОМПАНИИ\n",
    "# contact = тип контакта с клиентом\n",
    "# когда? month, day, duration = продолжительность контакта в секундах\n",
    "# campaign = кол-во контактов с клиентом в течение текущей кампании\n",
    "# pdays = кол-во пропущенных дней с момента последней кампании до контакта в текущей\n",
    "# previous = кол-во контактов до текущей кампании\n",
    "# poutcome = результат прошлой маркетинговой кампании\n",
    "\n",
    "# deposit = согласится ли клиент открыть депозит в банке, целевая переменная"
   ]
  },
  {
   "cell_type": "code",
   "execution_count": 47,
   "id": "664803f6",
   "metadata": {},
   "outputs": [
    {
     "data": {
      "text/html": [
       "<div>\n",
       "<style scoped>\n",
       "    .dataframe tbody tr th:only-of-type {\n",
       "        vertical-align: middle;\n",
       "    }\n",
       "\n",
       "    .dataframe tbody tr th {\n",
       "        vertical-align: top;\n",
       "    }\n",
       "\n",
       "    .dataframe thead th {\n",
       "        text-align: right;\n",
       "    }\n",
       "</style>\n",
       "<table border=\"1\" class=\"dataframe\">\n",
       "  <thead>\n",
       "    <tr style=\"text-align: right;\">\n",
       "      <th></th>\n",
       "      <th>age</th>\n",
       "      <th>job</th>\n",
       "      <th>marital</th>\n",
       "      <th>education</th>\n",
       "      <th>default</th>\n",
       "      <th>balance</th>\n",
       "      <th>housing</th>\n",
       "      <th>loan</th>\n",
       "      <th>contact</th>\n",
       "      <th>day</th>\n",
       "      <th>month</th>\n",
       "      <th>duration</th>\n",
       "      <th>campaign</th>\n",
       "      <th>pdays</th>\n",
       "      <th>previous</th>\n",
       "      <th>poutcome</th>\n",
       "      <th>deposit</th>\n",
       "    </tr>\n",
       "  </thead>\n",
       "  <tbody>\n",
       "    <tr>\n",
       "      <th>0</th>\n",
       "      <td>59</td>\n",
       "      <td>admin.</td>\n",
       "      <td>married</td>\n",
       "      <td>secondary</td>\n",
       "      <td>no</td>\n",
       "      <td>2343.0</td>\n",
       "      <td>yes</td>\n",
       "      <td>no</td>\n",
       "      <td>unknown</td>\n",
       "      <td>5</td>\n",
       "      <td>may</td>\n",
       "      <td>1042</td>\n",
       "      <td>1</td>\n",
       "      <td>-1</td>\n",
       "      <td>0</td>\n",
       "      <td>unknown</td>\n",
       "      <td>yes</td>\n",
       "    </tr>\n",
       "    <tr>\n",
       "      <th>1</th>\n",
       "      <td>56</td>\n",
       "      <td>admin.</td>\n",
       "      <td>married</td>\n",
       "      <td>secondary</td>\n",
       "      <td>no</td>\n",
       "      <td>45.0</td>\n",
       "      <td>no</td>\n",
       "      <td>no</td>\n",
       "      <td>unknown</td>\n",
       "      <td>5</td>\n",
       "      <td>may</td>\n",
       "      <td>1467</td>\n",
       "      <td>1</td>\n",
       "      <td>-1</td>\n",
       "      <td>0</td>\n",
       "      <td>unknown</td>\n",
       "      <td>yes</td>\n",
       "    </tr>\n",
       "    <tr>\n",
       "      <th>2</th>\n",
       "      <td>41</td>\n",
       "      <td>technician</td>\n",
       "      <td>married</td>\n",
       "      <td>secondary</td>\n",
       "      <td>no</td>\n",
       "      <td>1270.0</td>\n",
       "      <td>yes</td>\n",
       "      <td>no</td>\n",
       "      <td>unknown</td>\n",
       "      <td>5</td>\n",
       "      <td>may</td>\n",
       "      <td>1389</td>\n",
       "      <td>1</td>\n",
       "      <td>-1</td>\n",
       "      <td>0</td>\n",
       "      <td>unknown</td>\n",
       "      <td>yes</td>\n",
       "    </tr>\n",
       "    <tr>\n",
       "      <th>3</th>\n",
       "      <td>55</td>\n",
       "      <td>services</td>\n",
       "      <td>married</td>\n",
       "      <td>secondary</td>\n",
       "      <td>no</td>\n",
       "      <td>2476.0</td>\n",
       "      <td>yes</td>\n",
       "      <td>no</td>\n",
       "      <td>unknown</td>\n",
       "      <td>5</td>\n",
       "      <td>may</td>\n",
       "      <td>579</td>\n",
       "      <td>1</td>\n",
       "      <td>-1</td>\n",
       "      <td>0</td>\n",
       "      <td>unknown</td>\n",
       "      <td>yes</td>\n",
       "    </tr>\n",
       "    <tr>\n",
       "      <th>4</th>\n",
       "      <td>54</td>\n",
       "      <td>admin.</td>\n",
       "      <td>married</td>\n",
       "      <td>tertiary</td>\n",
       "      <td>no</td>\n",
       "      <td>184.0</td>\n",
       "      <td>no</td>\n",
       "      <td>no</td>\n",
       "      <td>unknown</td>\n",
       "      <td>5</td>\n",
       "      <td>may</td>\n",
       "      <td>673</td>\n",
       "      <td>2</td>\n",
       "      <td>-1</td>\n",
       "      <td>0</td>\n",
       "      <td>unknown</td>\n",
       "      <td>yes</td>\n",
       "    </tr>\n",
       "  </tbody>\n",
       "</table>\n",
       "</div>"
      ],
      "text/plain": [
       "   age         job  marital  education default  balance housing loan  contact  \\\n",
       "0   59      admin.  married  secondary      no   2343.0     yes   no  unknown   \n",
       "1   56      admin.  married  secondary      no     45.0      no   no  unknown   \n",
       "2   41  technician  married  secondary      no   1270.0     yes   no  unknown   \n",
       "3   55    services  married  secondary      no   2476.0     yes   no  unknown   \n",
       "4   54      admin.  married   tertiary      no    184.0      no   no  unknown   \n",
       "\n",
       "   day month  duration  campaign  pdays  previous poutcome deposit  \n",
       "0    5   may      1042         1     -1         0  unknown     yes  \n",
       "1    5   may      1467         1     -1         0  unknown     yes  \n",
       "2    5   may      1389         1     -1         0  unknown     yes  \n",
       "3    5   may       579         1     -1         0  unknown     yes  \n",
       "4    5   may       673         2     -1         0  unknown     yes  "
      ]
     },
     "execution_count": 47,
     "metadata": {},
     "output_type": "execute_result"
    }
   ],
   "source": [
    "df.head()"
   ]
  },
  {
   "cell_type": "code",
   "execution_count": 51,
   "id": "bf45afc9",
   "metadata": {},
   "outputs": [
    {
     "data": {
      "text/plain": [
       "(12,)"
      ]
     },
     "execution_count": 51,
     "metadata": {},
     "output_type": "execute_result"
    }
   ],
   "source": [
    "df['month'].value_counts().shape"
   ]
  },
  {
   "cell_type": "code",
   "execution_count": 54,
   "id": "bd20706e",
   "metadata": {},
   "outputs": [
    {
     "data": {
      "text/plain": [
       "(11,)"
      ]
     },
     "execution_count": 54,
     "metadata": {},
     "output_type": "execute_result"
    }
   ],
   "source": [
    "df['job'].value_counts().shape"
   ]
  },
  {
   "cell_type": "markdown",
   "id": "472cff5b",
   "metadata": {},
   "source": [
    "### Задание 6"
   ]
  },
  {
   "cell_type": "code",
   "execution_count": 55,
   "id": "2d640ce1",
   "metadata": {},
   "outputs": [
    {
     "data": {
      "text/plain": [
       "unknown    7570\n",
       "failure    1109\n",
       "success     945\n",
       "other       481\n",
       "Name: poutcome, dtype: int64"
      ]
     },
     "execution_count": 55,
     "metadata": {},
     "output_type": "execute_result"
    }
   ],
   "source": [
    "df['poutcome'].value_counts()"
   ]
  },
  {
   "cell_type": "markdown",
   "id": "9c32e3aa",
   "metadata": {},
   "source": [
    "### Задание 7"
   ]
  },
  {
   "cell_type": "code",
   "execution_count": 56,
   "id": "df437ec3",
   "metadata": {},
   "outputs": [
    {
     "data": {
      "text/plain": [
       "cellular     7283\n",
       "unknown      2161\n",
       "telephone     661\n",
       "Name: contact, dtype: int64"
      ]
     },
     "execution_count": 56,
     "metadata": {},
     "output_type": "execute_result"
    }
   ],
   "source": [
    "df['contact'].value_counts()"
   ]
  },
  {
   "cell_type": "code",
   "execution_count": 59,
   "id": "2add95c5",
   "metadata": {},
   "outputs": [
    {
     "data": {
      "text/plain": [
       "month\n",
       "dec     11\n",
       "mar     26\n",
       "jan     39\n",
       "jul     42\n",
       "sep     46\n",
       "jun     48\n",
       "oct     62\n",
       "aug     84\n",
       "feb    127\n",
       "nov    139\n",
       "apr    150\n",
       "may    335\n",
       "Name: duration, dtype: int64"
      ]
     },
     "execution_count": 59,
     "metadata": {},
     "output_type": "execute_result"
    }
   ],
   "source": [
    "df[df['poutcome'] == 'failure'].groupby('month')['duration'].count().sort_values()"
   ]
  },
  {
   "cell_type": "markdown",
   "id": "5f20762f",
   "metadata": {},
   "source": [
    "### Задание 8"
   ]
  },
  {
   "cell_type": "code",
   "execution_count": 62,
   "id": "95d56f1b",
   "metadata": {},
   "outputs": [],
   "source": [
    "def get_feature(age):\n",
    "    if age < 30:\n",
    "        return '<30'\n",
    "    if (age >= 30) & (age < 40):\n",
    "        return '30-40'\n",
    "    if (age >= 40) & (age < 50):\n",
    "        return '40-50'\n",
    "    if (age >= 50) & (age < 60):\n",
    "        return '50-60'\n",
    "    if age >= 60:\n",
    "        return '60+'"
   ]
  },
  {
   "cell_type": "code",
   "execution_count": 63,
   "id": "4e875c99",
   "metadata": {},
   "outputs": [],
   "source": [
    "df['age_cat'] = df['age'].apply(get_feature)"
   ]
  },
  {
   "cell_type": "code",
   "execution_count": 65,
   "id": "8b158a09",
   "metadata": {},
   "outputs": [
    {
     "data": {
      "text/plain": [
       "no     5424\n",
       "yes    4681\n",
       "Name: deposit, dtype: int64"
      ]
     },
     "execution_count": 65,
     "metadata": {},
     "output_type": "execute_result"
    }
   ],
   "source": [
    "df['deposit'].value_counts()"
   ]
  },
  {
   "cell_type": "code",
   "execution_count": 66,
   "id": "957e7fba",
   "metadata": {},
   "outputs": [],
   "source": [
    "df['deposit_bool'] = np.where(df['deposit'] == 'no', 0, 1)"
   ]
  },
  {
   "cell_type": "code",
   "execution_count": 67,
   "id": "e3eac032",
   "metadata": {},
   "outputs": [
    {
     "data": {
      "text/plain": [
       "0    5424\n",
       "1    4681\n",
       "Name: deposit_bool, dtype: int64"
      ]
     },
     "execution_count": 67,
     "metadata": {},
     "output_type": "execute_result"
    }
   ],
   "source": [
    "df['deposit_bool'].value_counts()"
   ]
  },
  {
   "cell_type": "code",
   "execution_count": 68,
   "id": "f5402620",
   "metadata": {},
   "outputs": [
    {
     "data": {
      "text/plain": [
       "age_cat\n",
       "30-40    1716\n",
       "40-50     938\n",
       "50-60     670\n",
       "60+       496\n",
       "<30       861\n",
       "Name: deposit_bool, dtype: int64"
      ]
     },
     "execution_count": 68,
     "metadata": {},
     "output_type": "execute_result"
    }
   ],
   "source": [
    "df.groupby('age_cat')['deposit_bool'].sum()"
   ]
  },
  {
   "cell_type": "code",
   "execution_count": 69,
   "id": "8a5403e0",
   "metadata": {},
   "outputs": [
    {
     "data": {
      "text/html": [
       "<div>\n",
       "<style scoped>\n",
       "    .dataframe tbody tr th:only-of-type {\n",
       "        vertical-align: middle;\n",
       "    }\n",
       "\n",
       "    .dataframe tbody tr th {\n",
       "        vertical-align: top;\n",
       "    }\n",
       "\n",
       "    .dataframe thead th {\n",
       "        text-align: right;\n",
       "    }\n",
       "</style>\n",
       "<table border=\"1\" class=\"dataframe\">\n",
       "  <thead>\n",
       "    <tr style=\"text-align: right;\">\n",
       "      <th></th>\n",
       "      <th>age</th>\n",
       "      <th>job</th>\n",
       "      <th>marital</th>\n",
       "      <th>education</th>\n",
       "      <th>default</th>\n",
       "      <th>balance</th>\n",
       "      <th>housing</th>\n",
       "      <th>loan</th>\n",
       "      <th>contact</th>\n",
       "      <th>day</th>\n",
       "      <th>month</th>\n",
       "      <th>duration</th>\n",
       "      <th>campaign</th>\n",
       "      <th>pdays</th>\n",
       "      <th>previous</th>\n",
       "      <th>poutcome</th>\n",
       "      <th>deposit</th>\n",
       "      <th>age_cat</th>\n",
       "      <th>deposit_bool</th>\n",
       "    </tr>\n",
       "  </thead>\n",
       "  <tbody>\n",
       "    <tr>\n",
       "      <th>0</th>\n",
       "      <td>59</td>\n",
       "      <td>admin.</td>\n",
       "      <td>married</td>\n",
       "      <td>secondary</td>\n",
       "      <td>no</td>\n",
       "      <td>2343.0</td>\n",
       "      <td>yes</td>\n",
       "      <td>no</td>\n",
       "      <td>unknown</td>\n",
       "      <td>5</td>\n",
       "      <td>may</td>\n",
       "      <td>1042</td>\n",
       "      <td>1</td>\n",
       "      <td>-1</td>\n",
       "      <td>0</td>\n",
       "      <td>unknown</td>\n",
       "      <td>yes</td>\n",
       "      <td>50-60</td>\n",
       "      <td>1</td>\n",
       "    </tr>\n",
       "    <tr>\n",
       "      <th>1</th>\n",
       "      <td>56</td>\n",
       "      <td>admin.</td>\n",
       "      <td>married</td>\n",
       "      <td>secondary</td>\n",
       "      <td>no</td>\n",
       "      <td>45.0</td>\n",
       "      <td>no</td>\n",
       "      <td>no</td>\n",
       "      <td>unknown</td>\n",
       "      <td>5</td>\n",
       "      <td>may</td>\n",
       "      <td>1467</td>\n",
       "      <td>1</td>\n",
       "      <td>-1</td>\n",
       "      <td>0</td>\n",
       "      <td>unknown</td>\n",
       "      <td>yes</td>\n",
       "      <td>50-60</td>\n",
       "      <td>1</td>\n",
       "    </tr>\n",
       "    <tr>\n",
       "      <th>2</th>\n",
       "      <td>41</td>\n",
       "      <td>technician</td>\n",
       "      <td>married</td>\n",
       "      <td>secondary</td>\n",
       "      <td>no</td>\n",
       "      <td>1270.0</td>\n",
       "      <td>yes</td>\n",
       "      <td>no</td>\n",
       "      <td>unknown</td>\n",
       "      <td>5</td>\n",
       "      <td>may</td>\n",
       "      <td>1389</td>\n",
       "      <td>1</td>\n",
       "      <td>-1</td>\n",
       "      <td>0</td>\n",
       "      <td>unknown</td>\n",
       "      <td>yes</td>\n",
       "      <td>40-50</td>\n",
       "      <td>1</td>\n",
       "    </tr>\n",
       "    <tr>\n",
       "      <th>3</th>\n",
       "      <td>55</td>\n",
       "      <td>services</td>\n",
       "      <td>married</td>\n",
       "      <td>secondary</td>\n",
       "      <td>no</td>\n",
       "      <td>2476.0</td>\n",
       "      <td>yes</td>\n",
       "      <td>no</td>\n",
       "      <td>unknown</td>\n",
       "      <td>5</td>\n",
       "      <td>may</td>\n",
       "      <td>579</td>\n",
       "      <td>1</td>\n",
       "      <td>-1</td>\n",
       "      <td>0</td>\n",
       "      <td>unknown</td>\n",
       "      <td>yes</td>\n",
       "      <td>50-60</td>\n",
       "      <td>1</td>\n",
       "    </tr>\n",
       "    <tr>\n",
       "      <th>4</th>\n",
       "      <td>54</td>\n",
       "      <td>admin.</td>\n",
       "      <td>married</td>\n",
       "      <td>tertiary</td>\n",
       "      <td>no</td>\n",
       "      <td>184.0</td>\n",
       "      <td>no</td>\n",
       "      <td>no</td>\n",
       "      <td>unknown</td>\n",
       "      <td>5</td>\n",
       "      <td>may</td>\n",
       "      <td>673</td>\n",
       "      <td>2</td>\n",
       "      <td>-1</td>\n",
       "      <td>0</td>\n",
       "      <td>unknown</td>\n",
       "      <td>yes</td>\n",
       "      <td>50-60</td>\n",
       "      <td>1</td>\n",
       "    </tr>\n",
       "  </tbody>\n",
       "</table>\n",
       "</div>"
      ],
      "text/plain": [
       "   age         job  marital  education default  balance housing loan  contact  \\\n",
       "0   59      admin.  married  secondary      no   2343.0     yes   no  unknown   \n",
       "1   56      admin.  married  secondary      no     45.0      no   no  unknown   \n",
       "2   41  technician  married  secondary      no   1270.0     yes   no  unknown   \n",
       "3   55    services  married  secondary      no   2476.0     yes   no  unknown   \n",
       "4   54      admin.  married   tertiary      no    184.0      no   no  unknown   \n",
       "\n",
       "   day month  duration  campaign  pdays  previous poutcome deposit age_cat  \\\n",
       "0    5   may      1042         1     -1         0  unknown     yes   50-60   \n",
       "1    5   may      1467         1     -1         0  unknown     yes   50-60   \n",
       "2    5   may      1389         1     -1         0  unknown     yes   40-50   \n",
       "3    5   may       579         1     -1         0  unknown     yes   50-60   \n",
       "4    5   may       673         2     -1         0  unknown     yes   50-60   \n",
       "\n",
       "   deposit_bool  \n",
       "0             1  \n",
       "1             1  \n",
       "2             1  \n",
       "3             1  \n",
       "4             1  "
      ]
     },
     "execution_count": 69,
     "metadata": {},
     "output_type": "execute_result"
    }
   ],
   "source": [
    "df.head()"
   ]
  },
  {
   "cell_type": "code",
   "execution_count": 72,
   "id": "50e5a569",
   "metadata": {},
   "outputs": [
    {
     "data": {
      "text/html": [
       "<div>\n",
       "<style scoped>\n",
       "    .dataframe tbody tr th:only-of-type {\n",
       "        vertical-align: middle;\n",
       "    }\n",
       "\n",
       "    .dataframe tbody tr th {\n",
       "        vertical-align: top;\n",
       "    }\n",
       "\n",
       "    .dataframe thead th {\n",
       "        text-align: right;\n",
       "    }\n",
       "</style>\n",
       "<table border=\"1\" class=\"dataframe\">\n",
       "  <thead>\n",
       "    <tr style=\"text-align: right;\">\n",
       "      <th>poutcome</th>\n",
       "      <th>failure</th>\n",
       "      <th>other</th>\n",
       "      <th>success</th>\n",
       "      <th>unknown</th>\n",
       "    </tr>\n",
       "    <tr>\n",
       "      <th>age_cat</th>\n",
       "      <th></th>\n",
       "      <th></th>\n",
       "      <th></th>\n",
       "      <th></th>\n",
       "    </tr>\n",
       "  </thead>\n",
       "  <tbody>\n",
       "    <tr>\n",
       "      <th>30-40</th>\n",
       "      <td>486</td>\n",
       "      <td>197</td>\n",
       "      <td>324</td>\n",
       "      <td>2954</td>\n",
       "    </tr>\n",
       "    <tr>\n",
       "      <th>40-50</th>\n",
       "      <td>262</td>\n",
       "      <td>102</td>\n",
       "      <td>173</td>\n",
       "      <td>1845</td>\n",
       "    </tr>\n",
       "    <tr>\n",
       "      <th>50-60</th>\n",
       "      <td>173</td>\n",
       "      <td>58</td>\n",
       "      <td>133</td>\n",
       "      <td>1290</td>\n",
       "    </tr>\n",
       "    <tr>\n",
       "      <th>60+</th>\n",
       "      <td>71</td>\n",
       "      <td>36</td>\n",
       "      <td>152</td>\n",
       "      <td>394</td>\n",
       "    </tr>\n",
       "    <tr>\n",
       "      <th>&lt;30</th>\n",
       "      <td>117</td>\n",
       "      <td>88</td>\n",
       "      <td>163</td>\n",
       "      <td>1087</td>\n",
       "    </tr>\n",
       "  </tbody>\n",
       "</table>\n",
       "</div>"
      ],
      "text/plain": [
       "poutcome  failure  other  success  unknown\n",
       "age_cat                                   \n",
       "30-40         486    197      324     2954\n",
       "40-50         262    102      173     1845\n",
       "50-60         173     58      133     1290\n",
       "60+            71     36      152      394\n",
       "<30           117     88      163     1087"
      ]
     },
     "execution_count": 72,
     "metadata": {},
     "output_type": "execute_result"
    }
   ],
   "source": [
    "pd.pivot_table(data = df, index = 'age_cat', columns = 'poutcome', values = 'marital', aggfunc = 'count')"
   ]
  },
  {
   "cell_type": "code",
   "execution_count": 74,
   "id": "5a5d0553",
   "metadata": {},
   "outputs": [
    {
     "data": {
      "image/png": "[encoded data removed]",
      "text/plain": [
       "<Figure size 640x480 with 3 Axes>"
      ]
     },
     "metadata": {},
     "output_type": "display_data"
    }
   ],
   "source": [
    "sns.heatmap(data = pd.pivot_table(data = df, index = 'age_cat', columns = 'poutcome', values = 'marital', aggfunc = 'count'))\n",
    "\n",
    "plt.show()"
   ]
  },
  {
   "cell_type": "code",
   "execution_count": 75,
   "id": "241b967e",
   "metadata": {},
   "outputs": [
    {
     "data": {
      "image/png": "[encoded data removed]",
      "text/plain": [
       "<Figure size 640x480 with 2 Axes>"
      ]
     },
     "metadata": {},
     "output_type": "display_data"
    }
   ],
   "source": [
    "sns.heatmap(data = pd.pivot_table(data = df, index = 'age_cat', columns = 'poutcome', values = 'marital', aggfunc = 'count'), cmap = 'magma')\n",
    "\n",
    "plt.show()"
   ]
  },
  {
   "cell_type": "code",
   "execution_count": 77,
   "id": "c010f9ab",
   "metadata": {},
   "outputs": [
    {
     "data": {
      "image/png": "[encoded data removed]",
      "text/plain": [
       "<Figure size 640x480 with 2 Axes>"
      ]
     },
     "metadata": {},
     "output_type": "display_data"
    }
   ],
   "source": [
    "sns.heatmap(data = pd.pivot_table(data = df, index = 'age_cat', columns = 'poutcome', values = 'marital', aggfunc = 'count'), cmap = 'coolwarm')\n",
    "\n",
    "plt.show()"
   ]
  },
  {
   "cell_type": "markdown",
   "id": "0841c685",
   "metadata": {},
   "source": [
    "### Задания 9 и 10"
   ]
  },
  {
   "cell_type": "code",
   "execution_count": 78,
   "id": "0d84a9e1",
   "metadata": {},
   "outputs": [
    {
     "data": {
      "text/plain": [
       "management       2315\n",
       "blue-collar      1807\n",
       "technician       1638\n",
       "admin.           1246\n",
       "services          868\n",
       "retired           663\n",
       "self-employed     358\n",
       "unemployed        332\n",
       "student           326\n",
       "entrepreneur      300\n",
       "housemaid         252\n",
       "Name: job, dtype: int64"
      ]
     },
     "execution_count": 78,
     "metadata": {},
     "output_type": "execute_result"
    }
   ],
   "source": [
    "df['job'].value_counts()"
   ]
  },
  {
   "cell_type": "code",
   "execution_count": 81,
   "id": "e82781b2",
   "metadata": {},
   "outputs": [
    {
     "data": {
      "text/plain": [
       "marital\n",
       "divorced    0.469839\n",
       "married     0.422047\n",
       "single      0.534080\n",
       "Name: deposit_bool, dtype: float64"
      ]
     },
     "execution_count": 81,
     "metadata": {},
     "output_type": "execute_result"
    }
   ],
   "source": [
    "df.groupby('marital')['deposit_bool'].mean()"
   ]
  },
  {
   "cell_type": "code",
   "execution_count": 82,
   "id": "9418d143",
   "metadata": {},
   "outputs": [
    {
     "data": {
      "text/plain": [
       "marital   poutcome\n",
       "divorced  failure      104\n",
       "          other         50\n",
       "          success       91\n",
       "          unknown      932\n",
       "married   failure      645\n",
       "          other        240\n",
       "          success      522\n",
       "          unknown     4308\n",
       "single    failure      360\n",
       "          other        191\n",
       "          success      332\n",
       "          unknown     2330\n",
       "Name: campaign, dtype: int64"
      ]
     },
     "execution_count": 82,
     "metadata": {},
     "output_type": "execute_result"
    }
   ],
   "source": [
    "df.groupby(['marital', 'poutcome'])['campaign'].count()"
   ]
  },
  {
   "cell_type": "markdown",
   "id": "a521e204",
   "metadata": {},
   "source": [
    "### Задание 11"
   ]
  },
  {
   "cell_type": "code",
   "execution_count": 84,
   "id": "d72c9fe9",
   "metadata": {},
   "outputs": [
    {
     "data": {
      "text/plain": [
       "secondary    5517\n",
       "tertiary     3239\n",
       "primary      1349\n",
       "Name: education, dtype: int64"
      ]
     },
     "execution_count": 84,
     "metadata": {},
     "output_type": "execute_result"
    }
   ],
   "source": [
    "df['education'].value_counts()"
   ]
  },
  {
   "cell_type": "code",
   "execution_count": 83,
   "id": "9b5efdc9",
   "metadata": {},
   "outputs": [
    {
     "data": {
      "text/plain": [
       "no     5424\n",
       "yes    4681\n",
       "Name: deposit, dtype: int64"
      ]
     },
     "execution_count": 83,
     "metadata": {},
     "output_type": "execute_result"
    }
   ],
   "source": [
    "df['deposit'].value_counts()"
   ]
  },
  {
   "cell_type": "code",
   "execution_count": 86,
   "id": "4bfff189",
   "metadata": {},
   "outputs": [
    {
     "data": {
      "text/html": [
       "<div>\n",
       "<style scoped>\n",
       "    .dataframe tbody tr th:only-of-type {\n",
       "        vertical-align: middle;\n",
       "    }\n",
       "\n",
       "    .dataframe tbody tr th {\n",
       "        vertical-align: top;\n",
       "    }\n",
       "\n",
       "    .dataframe thead th {\n",
       "        text-align: right;\n",
       "    }\n",
       "</style>\n",
       "<table border=\"1\" class=\"dataframe\">\n",
       "  <thead>\n",
       "    <tr style=\"text-align: right;\">\n",
       "      <th></th>\n",
       "      <th>age</th>\n",
       "      <th>job</th>\n",
       "      <th>marital</th>\n",
       "      <th>education</th>\n",
       "      <th>default</th>\n",
       "      <th>balance</th>\n",
       "      <th>housing</th>\n",
       "      <th>loan</th>\n",
       "      <th>contact</th>\n",
       "      <th>day</th>\n",
       "      <th>month</th>\n",
       "      <th>duration</th>\n",
       "      <th>campaign</th>\n",
       "      <th>pdays</th>\n",
       "      <th>previous</th>\n",
       "      <th>poutcome</th>\n",
       "      <th>deposit</th>\n",
       "      <th>age_cat</th>\n",
       "      <th>deposit_bool</th>\n",
       "    </tr>\n",
       "  </thead>\n",
       "  <tbody>\n",
       "    <tr>\n",
       "      <th>0</th>\n",
       "      <td>59</td>\n",
       "      <td>admin.</td>\n",
       "      <td>married</td>\n",
       "      <td>secondary</td>\n",
       "      <td>no</td>\n",
       "      <td>2343.0</td>\n",
       "      <td>yes</td>\n",
       "      <td>no</td>\n",
       "      <td>unknown</td>\n",
       "      <td>5</td>\n",
       "      <td>may</td>\n",
       "      <td>1042</td>\n",
       "      <td>1</td>\n",
       "      <td>-1</td>\n",
       "      <td>0</td>\n",
       "      <td>unknown</td>\n",
       "      <td>yes</td>\n",
       "      <td>50-60</td>\n",
       "      <td>1</td>\n",
       "    </tr>\n",
       "    <tr>\n",
       "      <th>1</th>\n",
       "      <td>56</td>\n",
       "      <td>admin.</td>\n",
       "      <td>married</td>\n",
       "      <td>secondary</td>\n",
       "      <td>no</td>\n",
       "      <td>45.0</td>\n",
       "      <td>no</td>\n",
       "      <td>no</td>\n",
       "      <td>unknown</td>\n",
       "      <td>5</td>\n",
       "      <td>may</td>\n",
       "      <td>1467</td>\n",
       "      <td>1</td>\n",
       "      <td>-1</td>\n",
       "      <td>0</td>\n",
       "      <td>unknown</td>\n",
       "      <td>yes</td>\n",
       "      <td>50-60</td>\n",
       "      <td>1</td>\n",
       "    </tr>\n",
       "    <tr>\n",
       "      <th>2</th>\n",
       "      <td>41</td>\n",
       "      <td>technician</td>\n",
       "      <td>married</td>\n",
       "      <td>secondary</td>\n",
       "      <td>no</td>\n",
       "      <td>1270.0</td>\n",
       "      <td>yes</td>\n",
       "      <td>no</td>\n",
       "      <td>unknown</td>\n",
       "      <td>5</td>\n",
       "      <td>may</td>\n",
       "      <td>1389</td>\n",
       "      <td>1</td>\n",
       "      <td>-1</td>\n",
       "      <td>0</td>\n",
       "      <td>unknown</td>\n",
       "      <td>yes</td>\n",
       "      <td>40-50</td>\n",
       "      <td>1</td>\n",
       "    </tr>\n",
       "    <tr>\n",
       "      <th>3</th>\n",
       "      <td>55</td>\n",
       "      <td>services</td>\n",
       "      <td>married</td>\n",
       "      <td>secondary</td>\n",
       "      <td>no</td>\n",
       "      <td>2476.0</td>\n",
       "      <td>yes</td>\n",
       "      <td>no</td>\n",
       "      <td>unknown</td>\n",
       "      <td>5</td>\n",
       "      <td>may</td>\n",
       "      <td>579</td>\n",
       "      <td>1</td>\n",
       "      <td>-1</td>\n",
       "      <td>0</td>\n",
       "      <td>unknown</td>\n",
       "      <td>yes</td>\n",
       "      <td>50-60</td>\n",
       "      <td>1</td>\n",
       "    </tr>\n",
       "    <tr>\n",
       "      <th>4</th>\n",
       "      <td>54</td>\n",
       "      <td>admin.</td>\n",
       "      <td>married</td>\n",
       "      <td>tertiary</td>\n",
       "      <td>no</td>\n",
       "      <td>184.0</td>\n",
       "      <td>no</td>\n",
       "      <td>no</td>\n",
       "      <td>unknown</td>\n",
       "      <td>5</td>\n",
       "      <td>may</td>\n",
       "      <td>673</td>\n",
       "      <td>2</td>\n",
       "      <td>-1</td>\n",
       "      <td>0</td>\n",
       "      <td>unknown</td>\n",
       "      <td>yes</td>\n",
       "      <td>50-60</td>\n",
       "      <td>1</td>\n",
       "    </tr>\n",
       "    <tr>\n",
       "      <th>...</th>\n",
       "      <td>...</td>\n",
       "      <td>...</td>\n",
       "      <td>...</td>\n",
       "      <td>...</td>\n",
       "      <td>...</td>\n",
       "      <td>...</td>\n",
       "      <td>...</td>\n",
       "      <td>...</td>\n",
       "      <td>...</td>\n",
       "      <td>...</td>\n",
       "      <td>...</td>\n",
       "      <td>...</td>\n",
       "      <td>...</td>\n",
       "      <td>...</td>\n",
       "      <td>...</td>\n",
       "      <td>...</td>\n",
       "      <td>...</td>\n",
       "      <td>...</td>\n",
       "      <td>...</td>\n",
       "    </tr>\n",
       "    <tr>\n",
       "      <th>5284</th>\n",
       "      <td>78</td>\n",
       "      <td>retired</td>\n",
       "      <td>divorced</td>\n",
       "      <td>primary</td>\n",
       "      <td>no</td>\n",
       "      <td>1389.0</td>\n",
       "      <td>no</td>\n",
       "      <td>no</td>\n",
       "      <td>cellular</td>\n",
       "      <td>8</td>\n",
       "      <td>apr</td>\n",
       "      <td>335</td>\n",
       "      <td>1</td>\n",
       "      <td>-1</td>\n",
       "      <td>0</td>\n",
       "      <td>unknown</td>\n",
       "      <td>yes</td>\n",
       "      <td>60+</td>\n",
       "      <td>1</td>\n",
       "    </tr>\n",
       "    <tr>\n",
       "      <th>5285</th>\n",
       "      <td>30</td>\n",
       "      <td>management</td>\n",
       "      <td>single</td>\n",
       "      <td>tertiary</td>\n",
       "      <td>no</td>\n",
       "      <td>398.0</td>\n",
       "      <td>no</td>\n",
       "      <td>no</td>\n",
       "      <td>cellular</td>\n",
       "      <td>27</td>\n",
       "      <td>oct</td>\n",
       "      <td>102</td>\n",
       "      <td>1</td>\n",
       "      <td>180</td>\n",
       "      <td>3</td>\n",
       "      <td>success</td>\n",
       "      <td>yes</td>\n",
       "      <td>30-40</td>\n",
       "      <td>1</td>\n",
       "    </tr>\n",
       "    <tr>\n",
       "      <th>5286</th>\n",
       "      <td>69</td>\n",
       "      <td>retired</td>\n",
       "      <td>divorced</td>\n",
       "      <td>tertiary</td>\n",
       "      <td>no</td>\n",
       "      <td>247.0</td>\n",
       "      <td>no</td>\n",
       "      <td>no</td>\n",
       "      <td>cellular</td>\n",
       "      <td>22</td>\n",
       "      <td>apr</td>\n",
       "      <td>138</td>\n",
       "      <td>2</td>\n",
       "      <td>-1</td>\n",
       "      <td>0</td>\n",
       "      <td>unknown</td>\n",
       "      <td>yes</td>\n",
       "      <td>60+</td>\n",
       "      <td>1</td>\n",
       "    </tr>\n",
       "    <tr>\n",
       "      <th>5287</th>\n",
       "      <td>48</td>\n",
       "      <td>entrepreneur</td>\n",
       "      <td>married</td>\n",
       "      <td>secondary</td>\n",
       "      <td>no</td>\n",
       "      <td>0.0</td>\n",
       "      <td>no</td>\n",
       "      <td>yes</td>\n",
       "      <td>cellular</td>\n",
       "      <td>28</td>\n",
       "      <td>jul</td>\n",
       "      <td>431</td>\n",
       "      <td>2</td>\n",
       "      <td>-1</td>\n",
       "      <td>0</td>\n",
       "      <td>unknown</td>\n",
       "      <td>yes</td>\n",
       "      <td>40-50</td>\n",
       "      <td>1</td>\n",
       "    </tr>\n",
       "    <tr>\n",
       "      <th>5288</th>\n",
       "      <td>31</td>\n",
       "      <td>admin.</td>\n",
       "      <td>single</td>\n",
       "      <td>secondary</td>\n",
       "      <td>no</td>\n",
       "      <td>131.0</td>\n",
       "      <td>yes</td>\n",
       "      <td>no</td>\n",
       "      <td>cellular</td>\n",
       "      <td>15</td>\n",
       "      <td>jun</td>\n",
       "      <td>151</td>\n",
       "      <td>1</td>\n",
       "      <td>-1</td>\n",
       "      <td>0</td>\n",
       "      <td>unknown</td>\n",
       "      <td>yes</td>\n",
       "      <td>30-40</td>\n",
       "      <td>1</td>\n",
       "    </tr>\n",
       "  </tbody>\n",
       "</table>\n",
       "<p>4681 rows × 19 columns</p>\n",
       "</div>"
      ],
      "text/plain": [
       "      age           job   marital  education default  balance housing loan  \\\n",
       "0      59        admin.   married  secondary      no   2343.0     yes   no   \n",
       "1      56        admin.   married  secondary      no     45.0      no   no   \n",
       "2      41    technician   married  secondary      no   1270.0     yes   no   \n",
       "3      55      services   married  secondary      no   2476.0     yes   no   \n",
       "4      54        admin.   married   tertiary      no    184.0      no   no   \n",
       "...   ...           ...       ...        ...     ...      ...     ...  ...   \n",
       "5284   78       retired  divorced    primary      no   1389.0      no   no   \n",
       "5285   30    management    single   tertiary      no    398.0      no   no   \n",
       "5286   69       retired  divorced   tertiary      no    247.0      no   no   \n",
       "5287   48  entrepreneur   married  secondary      no      0.0      no  yes   \n",
       "5288   31        admin.    single  secondary      no    131.0     yes   no   \n",
       "\n",
       "       contact  day month  duration  campaign  pdays  previous poutcome  \\\n",
       "0      unknown    5   may      1042         1     -1         0  unknown   \n",
       "1      unknown    5   may      1467         1     -1         0  unknown   \n",
       "2      unknown    5   may      1389         1     -1         0  unknown   \n",
       "3      unknown    5   may       579         1     -1         0  unknown   \n",
       "4      unknown    5   may       673         2     -1         0  unknown   \n",
       "...        ...  ...   ...       ...       ...    ...       ...      ...   \n",
       "5284  cellular    8   apr       335         1     -1         0  unknown   \n",
       "5285  cellular   27   oct       102         1    180         3  success   \n",
       "5286  cellular   22   apr       138         2     -1         0  unknown   \n",
       "5287  cellular   28   jul       431         2     -1         0  unknown   \n",
       "5288  cellular   15   jun       151         1     -1         0  unknown   \n",
       "\n",
       "     deposit age_cat  deposit_bool  \n",
       "0        yes   50-60             1  \n",
       "1        yes   50-60             1  \n",
       "2        yes   40-50             1  \n",
       "3        yes   50-60             1  \n",
       "4        yes   50-60             1  \n",
       "...      ...     ...           ...  \n",
       "5284     yes     60+             1  \n",
       "5285     yes   30-40             1  \n",
       "5286     yes     60+             1  \n",
       "5287     yes   40-50             1  \n",
       "5288     yes   30-40             1  \n",
       "\n",
       "[4681 rows x 19 columns]"
      ]
     },
     "execution_count": 86,
     "metadata": {},
     "output_type": "execute_result"
    }
   ],
   "source": [
    "df[df['deposit'] == 'yes']"
   ]
  },
  {
   "cell_type": "code",
   "execution_count": 89,
   "id": "4f1c17fd",
   "metadata": {},
   "outputs": [
    {
     "data": {
      "text/plain": [
       "0    5424\n",
       "1    4681\n",
       "Name: deposit_bool, dtype: int64"
      ]
     },
     "execution_count": 89,
     "metadata": {},
     "output_type": "execute_result"
    }
   ],
   "source": [
    "df['deposit_bool'].value_counts()"
   ]
  },
  {
   "cell_type": "code",
   "execution_count": 90,
   "id": "ae9a54cd",
   "metadata": {},
   "outputs": [
    {
     "data": {
      "text/html": [
       "<div>\n",
       "<style scoped>\n",
       "    .dataframe tbody tr th:only-of-type {\n",
       "        vertical-align: middle;\n",
       "    }\n",
       "\n",
       "    .dataframe tbody tr th {\n",
       "        vertical-align: top;\n",
       "    }\n",
       "\n",
       "    .dataframe thead th {\n",
       "        text-align: right;\n",
       "    }\n",
       "</style>\n",
       "<table border=\"1\" class=\"dataframe\">\n",
       "  <thead>\n",
       "    <tr style=\"text-align: right;\">\n",
       "      <th>marital</th>\n",
       "      <th>divorced</th>\n",
       "      <th>married</th>\n",
       "      <th>single</th>\n",
       "    </tr>\n",
       "    <tr>\n",
       "      <th>education</th>\n",
       "      <th></th>\n",
       "      <th></th>\n",
       "      <th></th>\n",
       "    </tr>\n",
       "  </thead>\n",
       "  <tbody>\n",
       "    <tr>\n",
       "      <th>primary</th>\n",
       "      <td>96</td>\n",
       "      <td>339</td>\n",
       "      <td>82</td>\n",
       "    </tr>\n",
       "    <tr>\n",
       "      <th>secondary</th>\n",
       "      <td>283</td>\n",
       "      <td>1289</td>\n",
       "      <td>879</td>\n",
       "    </tr>\n",
       "    <tr>\n",
       "      <th>tertiary</th>\n",
       "      <td>174</td>\n",
       "      <td>784</td>\n",
       "      <td>755</td>\n",
       "    </tr>\n",
       "  </tbody>\n",
       "</table>\n",
       "</div>"
      ],
      "text/plain": [
       "marital    divorced  married  single\n",
       "education                           \n",
       "primary          96      339      82\n",
       "secondary       283     1289     879\n",
       "tertiary        174      784     755"
      ]
     },
     "execution_count": 90,
     "metadata": {},
     "output_type": "execute_result"
    }
   ],
   "source": [
    "pd.pivot_table(df[df['deposit'] == 'yes'], index = 'education', columns = 'marital', values = 'deposit_bool', aggfunc = 'count')"
   ]
  },
  {
   "cell_type": "code",
   "execution_count": 94,
   "id": "45da2308",
   "metadata": {},
   "outputs": [
    {
     "data": {
      "image/png": "[encoded data removed]",
      "text/plain": [
       "<Figure size 640x480 with 2 Axes>"
      ]
     },
     "metadata": {},
     "output_type": "display_data"
    }
   ],
   "source": [
    "sns.heatmap(pd.pivot_table(df[df['deposit'] == 'yes'], index = 'education', columns = 'marital', values = 'deposit_bool', aggfunc = 'count'), cmap = 'coolwarm')\n",
    "\n",
    "plt.show()"
   ]
  },
  {
   "cell_type": "code",
   "execution_count": 91,
   "id": "35ab0413",
   "metadata": {},
   "outputs": [
    {
     "data": {
      "text/html": [
       "<div>\n",
       "<style scoped>\n",
       "    .dataframe tbody tr th:only-of-type {\n",
       "        vertical-align: middle;\n",
       "    }\n",
       "\n",
       "    .dataframe tbody tr th {\n",
       "        vertical-align: top;\n",
       "    }\n",
       "\n",
       "    .dataframe thead th {\n",
       "        text-align: right;\n",
       "    }\n",
       "</style>\n",
       "<table border=\"1\" class=\"dataframe\">\n",
       "  <thead>\n",
       "    <tr style=\"text-align: right;\">\n",
       "      <th>marital</th>\n",
       "      <th>divorced</th>\n",
       "      <th>married</th>\n",
       "      <th>single</th>\n",
       "    </tr>\n",
       "    <tr>\n",
       "      <th>education</th>\n",
       "      <th></th>\n",
       "      <th></th>\n",
       "      <th></th>\n",
       "    </tr>\n",
       "  </thead>\n",
       "  <tbody>\n",
       "    <tr>\n",
       "      <th>primary</th>\n",
       "      <td>91</td>\n",
       "      <td>641</td>\n",
       "      <td>100</td>\n",
       "    </tr>\n",
       "    <tr>\n",
       "      <th>secondary</th>\n",
       "      <td>370</td>\n",
       "      <td>1830</td>\n",
       "      <td>866</td>\n",
       "    </tr>\n",
       "    <tr>\n",
       "      <th>tertiary</th>\n",
       "      <td>163</td>\n",
       "      <td>832</td>\n",
       "      <td>531</td>\n",
       "    </tr>\n",
       "  </tbody>\n",
       "</table>\n",
       "</div>"
      ],
      "text/plain": [
       "marital    divorced  married  single\n",
       "education                           \n",
       "primary          91      641     100\n",
       "secondary       370     1830     866\n",
       "tertiary        163      832     531"
      ]
     },
     "execution_count": 91,
     "metadata": {},
     "output_type": "execute_result"
    }
   ],
   "source": [
    "pd.pivot_table(df[df['deposit'] == 'no'], index = 'education', columns = 'marital', values = 'deposit_bool', aggfunc = 'count')"
   ]
  },
  {
   "cell_type": "code",
   "execution_count": 93,
   "id": "daf24b7d",
   "metadata": {},
   "outputs": [
    {
     "data": {
      "image/png": "[encoded data removed]",
      "text/plain": [
       "<Figure size 640x480 with 2 Axes>"
      ]
     },
     "metadata": {},
     "output_type": "display_data"
    }
   ],
   "source": [
    "sns.heatmap(pd.pivot_table(df[df['deposit'] == 'no'], index = 'education', columns = 'marital', values = 'deposit_bool', aggfunc = 'count'), cmap = 'coolwarm')\n",
    "\n",
    "plt.show()"
   ]
  },
  {
   "cell_type": "markdown",
   "id": "dfd805c0",
   "metadata": {},
   "source": [
    "## Часть 3: преобразование данных"
   ]
  },
  {
   "cell_type": "markdown",
   "id": "e44e715b",
   "metadata": {},
   "source": [
    "### Задание 1"
   ]
  },
  {
   "cell_type": "code",
   "execution_count": 95,
   "id": "0151d9be",
   "metadata": {},
   "outputs": [
    {
     "data": {
      "text/plain": [
       "secondary    5517\n",
       "tertiary     3239\n",
       "primary      1349\n",
       "Name: education, dtype: int64"
      ]
     },
     "execution_count": 95,
     "metadata": {},
     "output_type": "execute_result"
    }
   ],
   "source": [
    "df['education'].value_counts()"
   ]
  },
  {
   "cell_type": "code",
   "execution_count": 96,
   "id": "1e815773",
   "metadata": {},
   "outputs": [],
   "source": [
    "from sklearn.preprocessing import LabelEncoder\n",
    "\n",
    "lab_enc = LabelEncoder()\n",
    "df['education'] = lab_enc.fit_transform(df['education'])"
   ]
  },
  {
   "cell_type": "code",
   "execution_count": 97,
   "id": "861300a6",
   "metadata": {},
   "outputs": [
    {
     "data": {
      "text/plain": [
       "1    5517\n",
       "2    3239\n",
       "0    1349\n",
       "Name: education, dtype: int64"
      ]
     },
     "execution_count": 97,
     "metadata": {},
     "output_type": "execute_result"
    }
   ],
   "source": [
    "df['education'].value_counts()"
   ]
  },
  {
   "cell_type": "code",
   "execution_count": 98,
   "id": "7749a979",
   "metadata": {},
   "outputs": [
    {
     "data": {
      "text/plain": [
       "11995"
      ]
     },
     "execution_count": 98,
     "metadata": {},
     "output_type": "execute_result"
    }
   ],
   "source": [
    "df['education'].sum()"
   ]
  },
  {
   "cell_type": "code",
   "execution_count": 105,
   "id": "c542aec5",
   "metadata": {},
   "outputs": [],
   "source": [
    "df['age_cat'] = lab_enc.fit_transform(df['age_cat'])"
   ]
  },
  {
   "cell_type": "code",
   "execution_count": 106,
   "id": "93ef7b5e",
   "metadata": {},
   "outputs": [
    {
     "data": {
      "text/plain": [
       "0    3961\n",
       "1    2382\n",
       "2    1654\n",
       "4    1455\n",
       "3     653\n",
       "Name: age_cat, dtype: int64"
      ]
     },
     "execution_count": 106,
     "metadata": {},
     "output_type": "execute_result"
    }
   ],
   "source": [
    "df['age_cat'].value_counts()"
   ]
  },
  {
   "cell_type": "code",
   "execution_count": 101,
   "id": "981a9cf8",
   "metadata": {},
   "outputs": [],
   "source": [
    "df['deposit'] = df['deposit_bool']"
   ]
  },
  {
   "cell_type": "code",
   "execution_count": 102,
   "id": "1263121b",
   "metadata": {},
   "outputs": [],
   "source": [
    "df.drop(labels = ['deposit_bool'], axis = 1, inplace = True)"
   ]
  },
  {
   "cell_type": "code",
   "execution_count": 103,
   "id": "a7d9e869",
   "metadata": {},
   "outputs": [
    {
     "data": {
      "text/plain": [
       "0    5424\n",
       "1    4681\n",
       "Name: deposit, dtype: int64"
      ]
     },
     "execution_count": 103,
     "metadata": {},
     "output_type": "execute_result"
    }
   ],
   "source": [
    "df['deposit'].value_counts()"
   ]
  },
  {
   "cell_type": "code",
   "execution_count": 107,
   "id": "0acd9c2a",
   "metadata": {},
   "outputs": [
    {
     "data": {
      "text/plain": [
       "count    10105.000000\n",
       "mean         0.463236\n",
       "std          0.498671\n",
       "min          0.000000\n",
       "25%          0.000000\n",
       "50%          0.000000\n",
       "75%          1.000000\n",
       "max          1.000000\n",
       "Name: deposit, dtype: float64"
      ]
     },
     "execution_count": 107,
     "metadata": {},
     "output_type": "execute_result"
    }
   ],
   "source": [
    "df['deposit'].describe()"
   ]
  },
  {
   "cell_type": "code",
   "execution_count": 110,
   "id": "dcb1a702",
   "metadata": {},
   "outputs": [],
   "source": [
    "df['default'] = np.where(df['default'] == 'yes', 1, 0)\n",
    "df['housing'] = np.where(df['housing'] == 'yes', 1, 0)\n",
    "df['loan'] = np.where(df['loan'] == 'yes', 1, 0)"
   ]
  },
  {
   "cell_type": "code",
   "execution_count": 115,
   "id": "23c3c38a",
   "metadata": {},
   "outputs": [
    {
     "data": {
      "text/plain": [
       "0.6354280059376547"
      ]
     },
     "execution_count": 115,
     "metadata": {},
     "output_type": "execute_result"
    }
   ],
   "source": [
    "df['default'].mean() + df['housing'].mean() + df['loan'].mean()"
   ]
  },
  {
   "cell_type": "code",
   "execution_count": 121,
   "id": "ada83bfa",
   "metadata": {},
   "outputs": [],
   "source": [
    "# job\n",
    "# marital\n",
    "# contact\n",
    "# month\n",
    "# poutcome -> dummy\n",
    "\n",
    "df = pd.get_dummies(df, columns = ['job', 'marital', 'contact', 'month', 'poutcome'], \n",
    "               prefix = ['job', 'marital', 'contact', 'month', 'poutcome'])"
   ]
  },
  {
   "cell_type": "code",
   "execution_count": 133,
   "id": "cd32a2c2",
   "metadata": {},
   "outputs": [
    {
     "data": {
      "text/html": [
       "<div>\n",
       "<style scoped>\n",
       "    .dataframe tbody tr th:only-of-type {\n",
       "        vertical-align: middle;\n",
       "    }\n",
       "\n",
       "    .dataframe tbody tr th {\n",
       "        vertical-align: top;\n",
       "    }\n",
       "\n",
       "    .dataframe thead th {\n",
       "        text-align: right;\n",
       "    }\n",
       "</style>\n",
       "<table border=\"1\" class=\"dataframe\">\n",
       "  <thead>\n",
       "    <tr style=\"text-align: right;\">\n",
       "      <th></th>\n",
       "      <th>age</th>\n",
       "      <th>education</th>\n",
       "      <th>default</th>\n",
       "      <th>balance</th>\n",
       "      <th>housing</th>\n",
       "      <th>loan</th>\n",
       "      <th>day</th>\n",
       "      <th>duration</th>\n",
       "      <th>campaign</th>\n",
       "      <th>pdays</th>\n",
       "      <th>...</th>\n",
       "      <th>month_jun</th>\n",
       "      <th>month_mar</th>\n",
       "      <th>month_may</th>\n",
       "      <th>month_nov</th>\n",
       "      <th>month_oct</th>\n",
       "      <th>month_sep</th>\n",
       "      <th>poutcome_failure</th>\n",
       "      <th>poutcome_other</th>\n",
       "      <th>poutcome_success</th>\n",
       "      <th>poutcome_unknown</th>\n",
       "    </tr>\n",
       "  </thead>\n",
       "  <tbody>\n",
       "    <tr>\n",
       "      <th>0</th>\n",
       "      <td>59</td>\n",
       "      <td>1</td>\n",
       "      <td>0</td>\n",
       "      <td>2343.0</td>\n",
       "      <td>1</td>\n",
       "      <td>0</td>\n",
       "      <td>5</td>\n",
       "      <td>1042</td>\n",
       "      <td>1</td>\n",
       "      <td>-1</td>\n",
       "      <td>...</td>\n",
       "      <td>0</td>\n",
       "      <td>0</td>\n",
       "      <td>1</td>\n",
       "      <td>0</td>\n",
       "      <td>0</td>\n",
       "      <td>0</td>\n",
       "      <td>0</td>\n",
       "      <td>0</td>\n",
       "      <td>0</td>\n",
       "      <td>1</td>\n",
       "    </tr>\n",
       "    <tr>\n",
       "      <th>1</th>\n",
       "      <td>56</td>\n",
       "      <td>1</td>\n",
       "      <td>0</td>\n",
       "      <td>45.0</td>\n",
       "      <td>0</td>\n",
       "      <td>0</td>\n",
       "      <td>5</td>\n",
       "      <td>1467</td>\n",
       "      <td>1</td>\n",
       "      <td>-1</td>\n",
       "      <td>...</td>\n",
       "      <td>0</td>\n",
       "      <td>0</td>\n",
       "      <td>1</td>\n",
       "      <td>0</td>\n",
       "      <td>0</td>\n",
       "      <td>0</td>\n",
       "      <td>0</td>\n",
       "      <td>0</td>\n",
       "      <td>0</td>\n",
       "      <td>1</td>\n",
       "    </tr>\n",
       "    <tr>\n",
       "      <th>2</th>\n",
       "      <td>41</td>\n",
       "      <td>1</td>\n",
       "      <td>0</td>\n",
       "      <td>1270.0</td>\n",
       "      <td>1</td>\n",
       "      <td>0</td>\n",
       "      <td>5</td>\n",
       "      <td>1389</td>\n",
       "      <td>1</td>\n",
       "      <td>-1</td>\n",
       "      <td>...</td>\n",
       "      <td>0</td>\n",
       "      <td>0</td>\n",
       "      <td>1</td>\n",
       "      <td>0</td>\n",
       "      <td>0</td>\n",
       "      <td>0</td>\n",
       "      <td>0</td>\n",
       "      <td>0</td>\n",
       "      <td>0</td>\n",
       "      <td>1</td>\n",
       "    </tr>\n",
       "    <tr>\n",
       "      <th>3</th>\n",
       "      <td>55</td>\n",
       "      <td>1</td>\n",
       "      <td>0</td>\n",
       "      <td>2476.0</td>\n",
       "      <td>1</td>\n",
       "      <td>0</td>\n",
       "      <td>5</td>\n",
       "      <td>579</td>\n",
       "      <td>1</td>\n",
       "      <td>-1</td>\n",
       "      <td>...</td>\n",
       "      <td>0</td>\n",
       "      <td>0</td>\n",
       "      <td>1</td>\n",
       "      <td>0</td>\n",
       "      <td>0</td>\n",
       "      <td>0</td>\n",
       "      <td>0</td>\n",
       "      <td>0</td>\n",
       "      <td>0</td>\n",
       "      <td>1</td>\n",
       "    </tr>\n",
       "    <tr>\n",
       "      <th>4</th>\n",
       "      <td>54</td>\n",
       "      <td>2</td>\n",
       "      <td>0</td>\n",
       "      <td>184.0</td>\n",
       "      <td>0</td>\n",
       "      <td>0</td>\n",
       "      <td>5</td>\n",
       "      <td>673</td>\n",
       "      <td>2</td>\n",
       "      <td>-1</td>\n",
       "      <td>...</td>\n",
       "      <td>0</td>\n",
       "      <td>0</td>\n",
       "      <td>1</td>\n",
       "      <td>0</td>\n",
       "      <td>0</td>\n",
       "      <td>0</td>\n",
       "      <td>0</td>\n",
       "      <td>0</td>\n",
       "      <td>0</td>\n",
       "      <td>1</td>\n",
       "    </tr>\n",
       "    <tr>\n",
       "      <th>...</th>\n",
       "      <td>...</td>\n",
       "      <td>...</td>\n",
       "      <td>...</td>\n",
       "      <td>...</td>\n",
       "      <td>...</td>\n",
       "      <td>...</td>\n",
       "      <td>...</td>\n",
       "      <td>...</td>\n",
       "      <td>...</td>\n",
       "      <td>...</td>\n",
       "      <td>...</td>\n",
       "      <td>...</td>\n",
       "      <td>...</td>\n",
       "      <td>...</td>\n",
       "      <td>...</td>\n",
       "      <td>...</td>\n",
       "      <td>...</td>\n",
       "      <td>...</td>\n",
       "      <td>...</td>\n",
       "      <td>...</td>\n",
       "      <td>...</td>\n",
       "    </tr>\n",
       "    <tr>\n",
       "      <th>11157</th>\n",
       "      <td>33</td>\n",
       "      <td>0</td>\n",
       "      <td>0</td>\n",
       "      <td>1.0</td>\n",
       "      <td>1</td>\n",
       "      <td>0</td>\n",
       "      <td>20</td>\n",
       "      <td>257</td>\n",
       "      <td>1</td>\n",
       "      <td>-1</td>\n",
       "      <td>...</td>\n",
       "      <td>0</td>\n",
       "      <td>0</td>\n",
       "      <td>0</td>\n",
       "      <td>0</td>\n",
       "      <td>0</td>\n",
       "      <td>0</td>\n",
       "      <td>0</td>\n",
       "      <td>0</td>\n",
       "      <td>0</td>\n",
       "      <td>1</td>\n",
       "    </tr>\n",
       "    <tr>\n",
       "      <th>11158</th>\n",
       "      <td>39</td>\n",
       "      <td>1</td>\n",
       "      <td>0</td>\n",
       "      <td>733.0</td>\n",
       "      <td>0</td>\n",
       "      <td>0</td>\n",
       "      <td>16</td>\n",
       "      <td>83</td>\n",
       "      <td>4</td>\n",
       "      <td>-1</td>\n",
       "      <td>...</td>\n",
       "      <td>1</td>\n",
       "      <td>0</td>\n",
       "      <td>0</td>\n",
       "      <td>0</td>\n",
       "      <td>0</td>\n",
       "      <td>0</td>\n",
       "      <td>0</td>\n",
       "      <td>0</td>\n",
       "      <td>0</td>\n",
       "      <td>1</td>\n",
       "    </tr>\n",
       "    <tr>\n",
       "      <th>11159</th>\n",
       "      <td>32</td>\n",
       "      <td>1</td>\n",
       "      <td>0</td>\n",
       "      <td>29.0</td>\n",
       "      <td>0</td>\n",
       "      <td>0</td>\n",
       "      <td>19</td>\n",
       "      <td>156</td>\n",
       "      <td>2</td>\n",
       "      <td>-1</td>\n",
       "      <td>...</td>\n",
       "      <td>0</td>\n",
       "      <td>0</td>\n",
       "      <td>0</td>\n",
       "      <td>0</td>\n",
       "      <td>0</td>\n",
       "      <td>0</td>\n",
       "      <td>0</td>\n",
       "      <td>0</td>\n",
       "      <td>0</td>\n",
       "      <td>1</td>\n",
       "    </tr>\n",
       "    <tr>\n",
       "      <th>11160</th>\n",
       "      <td>43</td>\n",
       "      <td>1</td>\n",
       "      <td>0</td>\n",
       "      <td>0.0</td>\n",
       "      <td>0</td>\n",
       "      <td>1</td>\n",
       "      <td>8</td>\n",
       "      <td>9</td>\n",
       "      <td>2</td>\n",
       "      <td>172</td>\n",
       "      <td>...</td>\n",
       "      <td>0</td>\n",
       "      <td>0</td>\n",
       "      <td>1</td>\n",
       "      <td>0</td>\n",
       "      <td>0</td>\n",
       "      <td>0</td>\n",
       "      <td>1</td>\n",
       "      <td>0</td>\n",
       "      <td>0</td>\n",
       "      <td>0</td>\n",
       "    </tr>\n",
       "    <tr>\n",
       "      <th>11161</th>\n",
       "      <td>34</td>\n",
       "      <td>1</td>\n",
       "      <td>0</td>\n",
       "      <td>0.0</td>\n",
       "      <td>0</td>\n",
       "      <td>0</td>\n",
       "      <td>9</td>\n",
       "      <td>628</td>\n",
       "      <td>1</td>\n",
       "      <td>-1</td>\n",
       "      <td>...</td>\n",
       "      <td>0</td>\n",
       "      <td>0</td>\n",
       "      <td>0</td>\n",
       "      <td>0</td>\n",
       "      <td>0</td>\n",
       "      <td>0</td>\n",
       "      <td>0</td>\n",
       "      <td>0</td>\n",
       "      <td>0</td>\n",
       "      <td>1</td>\n",
       "    </tr>\n",
       "  </tbody>\n",
       "</table>\n",
       "<p>10105 rows × 46 columns</p>\n",
       "</div>"
      ],
      "text/plain": [
       "       age  education  default  balance  housing  loan  day  duration  \\\n",
       "0       59          1        0   2343.0        1     0    5      1042   \n",
       "1       56          1        0     45.0        0     0    5      1467   \n",
       "2       41          1        0   1270.0        1     0    5      1389   \n",
       "3       55          1        0   2476.0        1     0    5       579   \n",
       "4       54          2        0    184.0        0     0    5       673   \n",
       "...    ...        ...      ...      ...      ...   ...  ...       ...   \n",
       "11157   33          0        0      1.0        1     0   20       257   \n",
       "11158   39          1        0    733.0        0     0   16        83   \n",
       "11159   32          1        0     29.0        0     0   19       156   \n",
       "11160   43          1        0      0.0        0     1    8         9   \n",
       "11161   34          1        0      0.0        0     0    9       628   \n",
       "\n",
       "       campaign  pdays  ...  month_jun  month_mar  month_may  month_nov  \\\n",
       "0             1     -1  ...          0          0          1          0   \n",
       "1             1     -1  ...          0          0          1          0   \n",
       "2             1     -1  ...          0          0          1          0   \n",
       "3             1     -1  ...          0          0          1          0   \n",
       "4             2     -1  ...          0          0          1          0   \n",
       "...         ...    ...  ...        ...        ...        ...        ...   \n",
       "11157         1     -1  ...          0          0          0          0   \n",
       "11158         4     -1  ...          1          0          0          0   \n",
       "11159         2     -1  ...          0          0          0          0   \n",
       "11160         2    172  ...          0          0          1          0   \n",
       "11161         1     -1  ...          0          0          0          0   \n",
       "\n",
       "       month_oct  month_sep  poutcome_failure  poutcome_other  \\\n",
       "0              0          0                 0               0   \n",
       "1              0          0                 0               0   \n",
       "2              0          0                 0               0   \n",
       "3              0          0                 0               0   \n",
       "4              0          0                 0               0   \n",
       "...          ...        ...               ...             ...   \n",
       "11157          0          0                 0               0   \n",
       "11158          0          0                 0               0   \n",
       "11159          0          0                 0               0   \n",
       "11160          0          0                 1               0   \n",
       "11161          0          0                 0               0   \n",
       "\n",
       "       poutcome_success  poutcome_unknown  \n",
       "0                     0                 1  \n",
       "1                     0                 1  \n",
       "2                     0                 1  \n",
       "3                     0                 1  \n",
       "4                     0                 1  \n",
       "...                 ...               ...  \n",
       "11157                 0                 1  \n",
       "11158                 0                 1  \n",
       "11159                 0                 1  \n",
       "11160                 0                 0  \n",
       "11161                 0                 1  \n",
       "\n",
       "[10105 rows x 46 columns]"
      ]
     },
     "execution_count": 133,
     "metadata": {},
     "output_type": "execute_result"
    }
   ],
   "source": [
    "df"
   ]
  },
  {
   "cell_type": "code",
   "execution_count": 135,
   "id": "bb73f27b",
   "metadata": {},
   "outputs": [
    {
     "data": {
      "text/html": [
       "<div>\n",
       "<style scoped>\n",
       "    .dataframe tbody tr th:only-of-type {\n",
       "        vertical-align: middle;\n",
       "    }\n",
       "\n",
       "    .dataframe tbody tr th {\n",
       "        vertical-align: top;\n",
       "    }\n",
       "\n",
       "    .dataframe thead th {\n",
       "        text-align: right;\n",
       "    }\n",
       "</style>\n",
       "<table border=\"1\" class=\"dataframe\">\n",
       "  <thead>\n",
       "    <tr style=\"text-align: right;\">\n",
       "      <th></th>\n",
       "      <th>poutcome_success</th>\n",
       "      <th>duration</th>\n",
       "      <th>contact_cellular</th>\n",
       "      <th>deposit</th>\n",
       "    </tr>\n",
       "  </thead>\n",
       "  <tbody>\n",
       "    <tr>\n",
       "      <th>0</th>\n",
       "      <td>0</td>\n",
       "      <td>1042</td>\n",
       "      <td>0</td>\n",
       "      <td>1</td>\n",
       "    </tr>\n",
       "    <tr>\n",
       "      <th>1</th>\n",
       "      <td>0</td>\n",
       "      <td>1467</td>\n",
       "      <td>0</td>\n",
       "      <td>1</td>\n",
       "    </tr>\n",
       "    <tr>\n",
       "      <th>2</th>\n",
       "      <td>0</td>\n",
       "      <td>1389</td>\n",
       "      <td>0</td>\n",
       "      <td>1</td>\n",
       "    </tr>\n",
       "    <tr>\n",
       "      <th>3</th>\n",
       "      <td>0</td>\n",
       "      <td>579</td>\n",
       "      <td>0</td>\n",
       "      <td>1</td>\n",
       "    </tr>\n",
       "    <tr>\n",
       "      <th>4</th>\n",
       "      <td>0</td>\n",
       "      <td>673</td>\n",
       "      <td>0</td>\n",
       "      <td>1</td>\n",
       "    </tr>\n",
       "    <tr>\n",
       "      <th>...</th>\n",
       "      <td>...</td>\n",
       "      <td>...</td>\n",
       "      <td>...</td>\n",
       "      <td>...</td>\n",
       "    </tr>\n",
       "    <tr>\n",
       "      <th>11157</th>\n",
       "      <td>0</td>\n",
       "      <td>257</td>\n",
       "      <td>1</td>\n",
       "      <td>0</td>\n",
       "    </tr>\n",
       "    <tr>\n",
       "      <th>11158</th>\n",
       "      <td>0</td>\n",
       "      <td>83</td>\n",
       "      <td>0</td>\n",
       "      <td>0</td>\n",
       "    </tr>\n",
       "    <tr>\n",
       "      <th>11159</th>\n",
       "      <td>0</td>\n",
       "      <td>156</td>\n",
       "      <td>1</td>\n",
       "      <td>0</td>\n",
       "    </tr>\n",
       "    <tr>\n",
       "      <th>11160</th>\n",
       "      <td>0</td>\n",
       "      <td>9</td>\n",
       "      <td>1</td>\n",
       "      <td>0</td>\n",
       "    </tr>\n",
       "    <tr>\n",
       "      <th>11161</th>\n",
       "      <td>0</td>\n",
       "      <td>628</td>\n",
       "      <td>1</td>\n",
       "      <td>0</td>\n",
       "    </tr>\n",
       "  </tbody>\n",
       "</table>\n",
       "<p>10105 rows × 4 columns</p>\n",
       "</div>"
      ],
      "text/plain": [
       "       poutcome_success  duration  contact_cellular  deposit\n",
       "0                     0      1042                 0        1\n",
       "1                     0      1467                 0        1\n",
       "2                     0      1389                 0        1\n",
       "3                     0       579                 0        1\n",
       "4                     0       673                 0        1\n",
       "...                 ...       ...               ...      ...\n",
       "11157                 0       257                 1        0\n",
       "11158                 0        83                 0        0\n",
       "11159                 0       156                 1        0\n",
       "11160                 0         9                 1        0\n",
       "11161                 0       628                 1        0\n",
       "\n",
       "[10105 rows x 4 columns]"
      ]
     },
     "execution_count": 135,
     "metadata": {},
     "output_type": "execute_result"
    }
   ],
   "source": [
    "df[['poutcome_success', 'duration', 'contact_cellular', 'deposit']]"
   ]
  },
  {
   "cell_type": "code",
   "execution_count": 136,
   "id": "1c884c1a",
   "metadata": {},
   "outputs": [
    {
     "data": {
      "image/png": "[encoded data removed]",
      "text/plain": [
       "<Figure size 640x480 with 2 Axes>"
      ]
     },
     "metadata": {},
     "output_type": "display_data"
    }
   ],
   "source": [
    "# постройте корреляционную матрицу и оцените данные на предмет наличия мультиколлинеарности\n",
    "sns.heatmap(df[['poutcome_success', 'duration', 'contact_cellular', 'deposit']].corr(), annot = True, cmap = 'coolwarm')\n",
    "\n",
    "plt.show()"
   ]
  },
  {
   "cell_type": "code",
   "execution_count": 154,
   "id": "f1249cf9",
   "metadata": {},
   "outputs": [
    {
     "data": {
      "text/html": [
       "<div>\n",
       "<style scoped>\n",
       "    .dataframe tbody tr th:only-of-type {\n",
       "        vertical-align: middle;\n",
       "    }\n",
       "\n",
       "    .dataframe tbody tr th {\n",
       "        vertical-align: top;\n",
       "    }\n",
       "\n",
       "    .dataframe thead th {\n",
       "        text-align: right;\n",
       "    }\n",
       "</style>\n",
       "<table border=\"1\" class=\"dataframe\">\n",
       "  <thead>\n",
       "    <tr style=\"text-align: right;\">\n",
       "      <th></th>\n",
       "      <th>age</th>\n",
       "      <th>education</th>\n",
       "      <th>default</th>\n",
       "      <th>balance</th>\n",
       "      <th>housing</th>\n",
       "      <th>loan</th>\n",
       "      <th>day</th>\n",
       "      <th>duration</th>\n",
       "      <th>campaign</th>\n",
       "      <th>pdays</th>\n",
       "      <th>...</th>\n",
       "      <th>month_jun</th>\n",
       "      <th>month_mar</th>\n",
       "      <th>month_may</th>\n",
       "      <th>month_nov</th>\n",
       "      <th>month_oct</th>\n",
       "      <th>month_sep</th>\n",
       "      <th>poutcome_failure</th>\n",
       "      <th>poutcome_other</th>\n",
       "      <th>poutcome_success</th>\n",
       "      <th>poutcome_unknown</th>\n",
       "    </tr>\n",
       "  </thead>\n",
       "  <tbody>\n",
       "    <tr>\n",
       "      <th>age</th>\n",
       "      <td>1.000000</td>\n",
       "      <td>-0.191124</td>\n",
       "      <td>-0.009929</td>\n",
       "      <td>0.115164</td>\n",
       "      <td>-0.164196</td>\n",
       "      <td>-0.026357</td>\n",
       "      <td>0.000396</td>\n",
       "      <td>-0.006007</td>\n",
       "      <td>-0.001143</td>\n",
       "      <td>0.006107</td>\n",
       "      <td>...</td>\n",
       "      <td>0.009769</td>\n",
       "      <td>0.024785</td>\n",
       "      <td>-0.119656</td>\n",
       "      <td>0.026875</td>\n",
       "      <td>0.056998</td>\n",
       "      <td>0.036352</td>\n",
       "      <td>0.001994</td>\n",
       "      <td>-0.020942</td>\n",
       "      <td>0.060009</td>\n",
       "      <td>-0.031455</td>\n",
       "    </tr>\n",
       "    <tr>\n",
       "      <th>education</th>\n",
       "      <td>-0.191124</td>\n",
       "      <td>1.000000</td>\n",
       "      <td>-0.015692</td>\n",
       "      <td>0.043251</td>\n",
       "      <td>-0.094350</td>\n",
       "      <td>-0.052566</td>\n",
       "      <td>0.008989</td>\n",
       "      <td>-0.016869</td>\n",
       "      <td>-0.012280</td>\n",
       "      <td>0.024123</td>\n",
       "      <td>...</td>\n",
       "      <td>-0.036503</td>\n",
       "      <td>0.052196</td>\n",
       "      <td>-0.104157</td>\n",
       "      <td>0.028704</td>\n",
       "      <td>0.027617</td>\n",
       "      <td>0.030846</td>\n",
       "      <td>0.019845</td>\n",
       "      <td>0.015103</td>\n",
       "      <td>0.070489</td>\n",
       "      <td>-0.069069</td>\n",
       "    </tr>\n",
       "    <tr>\n",
       "      <th>default</th>\n",
       "      <td>-0.009929</td>\n",
       "      <td>-0.015692</td>\n",
       "      <td>1.000000</td>\n",
       "      <td>-0.110928</td>\n",
       "      <td>0.009551</td>\n",
       "      <td>0.074786</td>\n",
       "      <td>0.018724</td>\n",
       "      <td>-0.008162</td>\n",
       "      <td>0.033404</td>\n",
       "      <td>-0.037323</td>\n",
       "      <td>...</td>\n",
       "      <td>0.019626</td>\n",
       "      <td>-0.020028</td>\n",
       "      <td>-0.001761</td>\n",
       "      <td>0.000544</td>\n",
       "      <td>-0.023931</td>\n",
       "      <td>-0.016977</td>\n",
       "      <td>-0.025450</td>\n",
       "      <td>-0.017923</td>\n",
       "      <td>-0.041510</td>\n",
       "      <td>0.055032</td>\n",
       "    </tr>\n",
       "    <tr>\n",
       "      <th>balance</th>\n",
       "      <td>0.115164</td>\n",
       "      <td>0.043251</td>\n",
       "      <td>-0.110928</td>\n",
       "      <td>1.000000</td>\n",
       "      <td>-0.094919</td>\n",
       "      <td>-0.113089</td>\n",
       "      <td>-0.009987</td>\n",
       "      <td>0.025781</td>\n",
       "      <td>-0.042689</td>\n",
       "      <td>0.045155</td>\n",
       "      <td>...</td>\n",
       "      <td>0.039753</td>\n",
       "      <td>0.043832</td>\n",
       "      <td>-0.098073</td>\n",
       "      <td>0.081861</td>\n",
       "      <td>0.057041</td>\n",
       "      <td>0.047841</td>\n",
       "      <td>0.031040</td>\n",
       "      <td>0.028111</td>\n",
       "      <td>0.073358</td>\n",
       "      <td>-0.085456</td>\n",
       "    </tr>\n",
       "    <tr>\n",
       "      <th>housing</th>\n",
       "      <td>-0.164196</td>\n",
       "      <td>-0.094350</td>\n",
       "      <td>0.009551</td>\n",
       "      <td>-0.094919</td>\n",
       "      <td>1.000000</td>\n",
       "      <td>0.072252</td>\n",
       "      <td>-0.022644</td>\n",
       "      <td>0.038492</td>\n",
       "      <td>0.006257</td>\n",
       "      <td>0.064138</td>\n",
       "      <td>...</td>\n",
       "      <td>-0.073133</td>\n",
       "      <td>-0.075948</td>\n",
       "      <td>0.432605</td>\n",
       "      <td>-0.000219</td>\n",
       "      <td>-0.092026</td>\n",
       "      <td>-0.086893</td>\n",
       "      <td>0.085167</td>\n",
       "      <td>0.009830</td>\n",
       "      <td>-0.134477</td>\n",
       "      <td>0.024082</td>\n",
       "    </tr>\n",
       "    <tr>\n",
       "      <th>loan</th>\n",
       "      <td>-0.026357</td>\n",
       "      <td>-0.052566</td>\n",
       "      <td>0.074786</td>\n",
       "      <td>-0.113089</td>\n",
       "      <td>0.072252</td>\n",
       "      <td>1.000000</td>\n",
       "      <td>0.019136</td>\n",
       "      <td>0.001476</td>\n",
       "      <td>0.033889</td>\n",
       "      <td>-0.030788</td>\n",
       "      <td>...</td>\n",
       "      <td>-0.014897</td>\n",
       "      <td>-0.041105</td>\n",
       "      <td>0.002778</td>\n",
       "      <td>0.017720</td>\n",
       "      <td>-0.032357</td>\n",
       "      <td>-0.046196</td>\n",
       "      <td>0.007458</td>\n",
       "      <td>-0.019289</td>\n",
       "      <td>-0.082098</td>\n",
       "      <td>0.059235</td>\n",
       "    </tr>\n",
       "    <tr>\n",
       "      <th>day</th>\n",
       "      <td>0.000396</td>\n",
       "      <td>0.008989</td>\n",
       "      <td>0.018724</td>\n",
       "      <td>-0.009987</td>\n",
       "      <td>-0.022644</td>\n",
       "      <td>0.019136</td>\n",
       "      <td>1.000000</td>\n",
       "      <td>-0.016695</td>\n",
       "      <td>0.142169</td>\n",
       "      <td>-0.078757</td>\n",
       "      <td>...</td>\n",
       "      <td>-0.182032</td>\n",
       "      <td>-0.044303</td>\n",
       "      <td>-0.014580</td>\n",
       "      <td>0.056471</td>\n",
       "      <td>0.072179</td>\n",
       "      <td>-0.068744</td>\n",
       "      <td>-0.071175</td>\n",
       "      <td>-0.008806</td>\n",
       "      <td>-0.044366</td>\n",
       "      <td>0.085442</td>\n",
       "    </tr>\n",
       "    <tr>\n",
       "      <th>duration</th>\n",
       "      <td>-0.006007</td>\n",
       "      <td>-0.016869</td>\n",
       "      <td>-0.008162</td>\n",
       "      <td>0.025781</td>\n",
       "      <td>0.038492</td>\n",
       "      <td>0.001476</td>\n",
       "      <td>-0.016695</td>\n",
       "      <td>1.000000</td>\n",
       "      <td>-0.042576</td>\n",
       "      <td>-0.033053</td>\n",
       "      <td>...</td>\n",
       "      <td>-0.003061</td>\n",
       "      <td>-0.034640</td>\n",
       "      <td>0.007983</td>\n",
       "      <td>-0.015655</td>\n",
       "      <td>-0.012541</td>\n",
       "      <td>-0.012077</td>\n",
       "      <td>-0.039476</td>\n",
       "      <td>-0.009497</td>\n",
       "      <td>-0.025971</td>\n",
       "      <td>0.050571</td>\n",
       "    </tr>\n",
       "    <tr>\n",
       "      <th>campaign</th>\n",
       "      <td>-0.001143</td>\n",
       "      <td>-0.012280</td>\n",
       "      <td>0.033404</td>\n",
       "      <td>-0.042689</td>\n",
       "      <td>0.006257</td>\n",
       "      <td>0.033889</td>\n",
       "      <td>0.142169</td>\n",
       "      <td>-0.042576</td>\n",
       "      <td>1.000000</td>\n",
       "      <td>-0.105214</td>\n",
       "      <td>...</td>\n",
       "      <td>0.046763</td>\n",
       "      <td>-0.030574</td>\n",
       "      <td>-0.044348</td>\n",
       "      <td>-0.077307</td>\n",
       "      <td>-0.071519</td>\n",
       "      <td>-0.048672</td>\n",
       "      <td>-0.082282</td>\n",
       "      <td>-0.024854</td>\n",
       "      <td>-0.094260</td>\n",
       "      <td>0.134842</td>\n",
       "    </tr>\n",
       "    <tr>\n",
       "      <th>pdays</th>\n",
       "      <td>0.006107</td>\n",
       "      <td>0.024123</td>\n",
       "      <td>-0.037323</td>\n",
       "      <td>0.045155</td>\n",
       "      <td>0.064138</td>\n",
       "      <td>-0.030788</td>\n",
       "      <td>-0.078757</td>\n",
       "      <td>-0.033053</td>\n",
       "      <td>-0.105214</td>\n",
       "      <td>1.000000</td>\n",
       "      <td>...</td>\n",
       "      <td>-0.093551</td>\n",
       "      <td>0.024192</td>\n",
       "      <td>0.028678</td>\n",
       "      <td>-0.007350</td>\n",
       "      <td>0.079833</td>\n",
       "      <td>0.110907</td>\n",
       "      <td>0.608719</td>\n",
       "      <td>0.338049</td>\n",
       "      <td>0.326215</td>\n",
       "      <td>-0.824031</td>\n",
       "    </tr>\n",
       "    <tr>\n",
       "      <th>previous</th>\n",
       "      <td>0.025383</td>\n",
       "      <td>0.025368</td>\n",
       "      <td>-0.036605</td>\n",
       "      <td>0.060419</td>\n",
       "      <td>-0.000221</td>\n",
       "      <td>-0.020087</td>\n",
       "      <td>-0.059739</td>\n",
       "      <td>-0.034233</td>\n",
       "      <td>-0.052312</td>\n",
       "      <td>0.513708</td>\n",
       "      <td>...</td>\n",
       "      <td>-0.050067</td>\n",
       "      <td>0.025225</td>\n",
       "      <td>-0.025077</td>\n",
       "      <td>0.019722</td>\n",
       "      <td>0.055077</td>\n",
       "      <td>0.099795</td>\n",
       "      <td>0.347800</td>\n",
       "      <td>0.318888</td>\n",
       "      <td>0.328978</td>\n",
       "      <td>-0.628346</td>\n",
       "    </tr>\n",
       "    <tr>\n",
       "      <th>deposit</th>\n",
       "      <td>0.024357</td>\n",
       "      <td>0.098253</td>\n",
       "      <td>-0.038872</td>\n",
       "      <td>0.135893</td>\n",
       "      <td>-0.200290</td>\n",
       "      <td>-0.107240</td>\n",
       "      <td>-0.056878</td>\n",
       "      <td>0.457818</td>\n",
       "      <td>-0.130707</td>\n",
       "      <td>0.147917</td>\n",
       "      <td>...</td>\n",
       "      <td>-0.008533</td>\n",
       "      <td>0.135348</td>\n",
       "      <td>-0.168203</td>\n",
       "      <td>-0.027754</td>\n",
       "      <td>0.130599</td>\n",
       "      <td>0.125239</td>\n",
       "      <td>0.021124</td>\n",
       "      <td>0.039319</td>\n",
       "      <td>0.288491</td>\n",
       "      <td>-0.228300</td>\n",
       "    </tr>\n",
       "    <tr>\n",
       "      <th>age_cat</th>\n",
       "      <td>0.122622</td>\n",
       "      <td>-0.099057</td>\n",
       "      <td>0.002058</td>\n",
       "      <td>0.027820</td>\n",
       "      <td>-0.153188</td>\n",
       "      <td>-0.028775</td>\n",
       "      <td>-0.007096</td>\n",
       "      <td>0.002826</td>\n",
       "      <td>-0.050747</td>\n",
       "      <td>-0.007693</td>\n",
       "      <td>...</td>\n",
       "      <td>0.013792</td>\n",
       "      <td>0.050918</td>\n",
       "      <td>-0.036141</td>\n",
       "      <td>-0.069144</td>\n",
       "      <td>0.061172</td>\n",
       "      <td>0.051113</td>\n",
       "      <td>-0.042362</td>\n",
       "      <td>0.012121</td>\n",
       "      <td>0.069088</td>\n",
       "      <td>-0.021810</td>\n",
       "    </tr>\n",
       "    <tr>\n",
       "      <th>job_admin.</th>\n",
       "      <td>-0.057502</td>\n",
       "      <td>-0.055817</td>\n",
       "      <td>-0.022421</td>\n",
       "      <td>-0.028057</td>\n",
       "      <td>0.063547</td>\n",
       "      <td>0.049098</td>\n",
       "      <td>-0.010680</td>\n",
       "      <td>-0.023585</td>\n",
       "      <td>-0.018834</td>\n",
       "      <td>0.046293</td>\n",
       "      <td>...</td>\n",
       "      <td>-0.001089</td>\n",
       "      <td>0.003533</td>\n",
       "      <td>0.027696</td>\n",
       "      <td>-0.008095</td>\n",
       "      <td>0.006208</td>\n",
       "      <td>0.006847</td>\n",
       "      <td>0.038762</td>\n",
       "      <td>0.008044</td>\n",
       "      <td>0.004628</td>\n",
       "      <td>-0.035007</td>\n",
       "    </tr>\n",
       "    <tr>\n",
       "      <th>job_blue-collar</th>\n",
       "      <td>-0.065917</td>\n",
       "      <td>-0.371796</td>\n",
       "      <td>0.022989</td>\n",
       "      <td>-0.049484</td>\n",
       "      <td>0.194115</td>\n",
       "      <td>0.056857</td>\n",
       "      <td>-0.019876</td>\n",
       "      <td>0.032253</td>\n",
       "      <td>0.002430</td>\n",
       "      <td>-0.024269</td>\n",
       "      <td>...</td>\n",
       "      <td>0.032766</td>\n",
       "      <td>-0.055255</td>\n",
       "      <td>0.170969</td>\n",
       "      <td>-0.025624</td>\n",
       "      <td>-0.051792</td>\n",
       "      <td>-0.045333</td>\n",
       "      <td>-0.015957</td>\n",
       "      <td>0.003622</td>\n",
       "      <td>-0.074494</td>\n",
       "      <td>0.059758</td>\n",
       "    </tr>\n",
       "    <tr>\n",
       "      <th>job_entrepreneur</th>\n",
       "      <td>0.028390</td>\n",
       "      <td>0.024219</td>\n",
       "      <td>0.023264</td>\n",
       "      <td>-0.008727</td>\n",
       "      <td>0.006600</td>\n",
       "      <td>0.038298</td>\n",
       "      <td>-0.005463</td>\n",
       "      <td>0.000594</td>\n",
       "      <td>0.011168</td>\n",
       "      <td>-0.026802</td>\n",
       "      <td>...</td>\n",
       "      <td>0.026586</td>\n",
       "      <td>-0.019403</td>\n",
       "      <td>-0.018227</td>\n",
       "      <td>0.045535</td>\n",
       "      <td>-0.019363</td>\n",
       "      <td>-0.008032</td>\n",
       "      <td>0.002007</td>\n",
       "      <td>-0.022674</td>\n",
       "      <td>-0.034155</td>\n",
       "      <td>0.032629</td>\n",
       "    </tr>\n",
       "    <tr>\n",
       "      <th>job_housemaid</th>\n",
       "      <td>0.092661</td>\n",
       "      <td>-0.144242</td>\n",
       "      <td>0.019273</td>\n",
       "      <td>0.000907</td>\n",
       "      <td>-0.063824</td>\n",
       "      <td>-0.028973</td>\n",
       "      <td>0.010920</td>\n",
       "      <td>-0.010009</td>\n",
       "      <td>0.008832</td>\n",
       "      <td>-0.023625</td>\n",
       "      <td>...</td>\n",
       "      <td>0.049777</td>\n",
       "      <td>0.004569</td>\n",
       "      <td>-0.053982</td>\n",
       "      <td>-0.005830</td>\n",
       "      <td>0.012923</td>\n",
       "      <td>-0.007499</td>\n",
       "      <td>-0.015545</td>\n",
       "      <td>-0.008928</td>\n",
       "      <td>-0.005594</td>\n",
       "      <td>0.019350</td>\n",
       "    </tr>\n",
       "    <tr>\n",
       "      <th>job_management</th>\n",
       "      <td>-0.036163</td>\n",
       "      <td>0.518735</td>\n",
       "      <td>-0.000055</td>\n",
       "      <td>0.039205</td>\n",
       "      <td>-0.077697</td>\n",
       "      <td>-0.052683</td>\n",
       "      <td>0.003025</td>\n",
       "      <td>-0.024309</td>\n",
       "      <td>0.018159</td>\n",
       "      <td>0.010868</td>\n",
       "      <td>...</td>\n",
       "      <td>-0.026360</td>\n",
       "      <td>0.036884</td>\n",
       "      <td>-0.095434</td>\n",
       "      <td>0.030269</td>\n",
       "      <td>0.010856</td>\n",
       "      <td>0.037880</td>\n",
       "      <td>0.004471</td>\n",
       "      <td>0.010845</td>\n",
       "      <td>0.035995</td>\n",
       "      <td>-0.032725</td>\n",
       "    </tr>\n",
       "    <tr>\n",
       "      <th>job_retired</th>\n",
       "      <td>0.545524</td>\n",
       "      <td>-0.148800</td>\n",
       "      <td>-0.018524</td>\n",
       "      <td>0.091421</td>\n",
       "      <td>-0.168785</td>\n",
       "      <td>-0.045674</td>\n",
       "      <td>-0.005226</td>\n",
       "      <td>0.006052</td>\n",
       "      <td>-0.037189</td>\n",
       "      <td>0.007287</td>\n",
       "      <td>...</td>\n",
       "      <td>-0.010806</td>\n",
       "      <td>0.046085</td>\n",
       "      <td>-0.090053</td>\n",
       "      <td>-0.016737</td>\n",
       "      <td>0.071483</td>\n",
       "      <td>0.062945</td>\n",
       "      <td>-0.011205</td>\n",
       "      <td>-0.002926</td>\n",
       "      <td>0.070006</td>\n",
       "      <td>-0.037501</td>\n",
       "    </tr>\n",
       "    <tr>\n",
       "      <th>job_self-employed</th>\n",
       "      <td>-0.027947</td>\n",
       "      <td>0.091001</td>\n",
       "      <td>0.008924</td>\n",
       "      <td>0.009889</td>\n",
       "      <td>-0.019555</td>\n",
       "      <td>0.004113</td>\n",
       "      <td>0.001565</td>\n",
       "      <td>0.014513</td>\n",
       "      <td>0.006299</td>\n",
       "      <td>-0.012057</td>\n",
       "      <td>...</td>\n",
       "      <td>0.004955</td>\n",
       "      <td>0.002135</td>\n",
       "      <td>-0.017982</td>\n",
       "      <td>0.026810</td>\n",
       "      <td>0.009364</td>\n",
       "      <td>-0.019143</td>\n",
       "      <td>-0.009059</td>\n",
       "      <td>0.004926</td>\n",
       "      <td>-0.000882</td>\n",
       "      <td>0.004705</td>\n",
       "    </tr>\n",
       "    <tr>\n",
       "      <th>job_services</th>\n",
       "      <td>-0.077266</td>\n",
       "      <td>-0.103846</td>\n",
       "      <td>-0.020168</td>\n",
       "      <td>-0.037633</td>\n",
       "      <td>0.080129</td>\n",
       "      <td>0.032109</td>\n",
       "      <td>0.002787</td>\n",
       "      <td>0.013911</td>\n",
       "      <td>0.009145</td>\n",
       "      <td>-0.002427</td>\n",
       "      <td>...</td>\n",
       "      <td>0.012644</td>\n",
       "      <td>-0.012503</td>\n",
       "      <td>0.066271</td>\n",
       "      <td>-0.019849</td>\n",
       "      <td>-0.031120</td>\n",
       "      <td>-0.023491</td>\n",
       "      <td>-0.003684</td>\n",
       "      <td>-0.015454</td>\n",
       "      <td>-0.028109</td>\n",
       "      <td>0.029125</td>\n",
       "    </tr>\n",
       "    <tr>\n",
       "      <th>job_student</th>\n",
       "      <td>-0.231436</td>\n",
       "      <td>-0.009494</td>\n",
       "      <td>-0.019190</td>\n",
       "      <td>0.007133</td>\n",
       "      <td>-0.124261</td>\n",
       "      <td>-0.071385</td>\n",
       "      <td>-0.010712</td>\n",
       "      <td>-0.017974</td>\n",
       "      <td>-0.023710</td>\n",
       "      <td>0.025137</td>\n",
       "      <td>...</td>\n",
       "      <td>-0.017265</td>\n",
       "      <td>0.023515</td>\n",
       "      <td>-0.032509</td>\n",
       "      <td>-0.004541</td>\n",
       "      <td>0.031885</td>\n",
       "      <td>0.027500</td>\n",
       "      <td>-0.006769</td>\n",
       "      <td>0.040725</td>\n",
       "      <td>0.060619</td>\n",
       "      <td>-0.055835</td>\n",
       "    </tr>\n",
       "    <tr>\n",
       "      <th>job_technician</th>\n",
       "      <td>-0.074596</td>\n",
       "      <td>0.047966</td>\n",
       "      <td>0.004419</td>\n",
       "      <td>-0.010460</td>\n",
       "      <td>0.004772</td>\n",
       "      <td>0.009501</td>\n",
       "      <td>0.031050</td>\n",
       "      <td>-0.007488</td>\n",
       "      <td>0.022406</td>\n",
       "      <td>-0.017993</td>\n",
       "      <td>...</td>\n",
       "      <td>-0.030950</td>\n",
       "      <td>-0.016709</td>\n",
       "      <td>-0.009936</td>\n",
       "      <td>-0.008488</td>\n",
       "      <td>-0.003454</td>\n",
       "      <td>-0.024729</td>\n",
       "      <td>0.005355</td>\n",
       "      <td>-0.011311</td>\n",
       "      <td>-0.018613</td>\n",
       "      <td>0.014196</td>\n",
       "    </tr>\n",
       "    <tr>\n",
       "      <th>job_unemployed</th>\n",
       "      <td>0.001263</td>\n",
       "      <td>-0.031813</td>\n",
       "      <td>0.011120</td>\n",
       "      <td>0.009689</td>\n",
       "      <td>-0.059712</td>\n",
       "      <td>-0.039883</td>\n",
       "      <td>-0.001380</td>\n",
       "      <td>0.027641</td>\n",
       "      <td>-0.023728</td>\n",
       "      <td>0.005833</td>\n",
       "      <td>...</td>\n",
       "      <td>-0.004043</td>\n",
       "      <td>0.004451</td>\n",
       "      <td>-0.036727</td>\n",
       "      <td>0.009096</td>\n",
       "      <td>-0.003121</td>\n",
       "      <td>0.002940</td>\n",
       "      <td>-0.009655</td>\n",
       "      <td>-0.012524</td>\n",
       "      <td>0.030416</td>\n",
       "      <td>-0.007316</td>\n",
       "    </tr>\n",
       "    <tr>\n",
       "      <th>marital_divorced</th>\n",
       "      <td>0.185312</td>\n",
       "      <td>-0.033425</td>\n",
       "      <td>0.021028</td>\n",
       "      <td>-0.030406</td>\n",
       "      <td>0.009686</td>\n",
       "      <td>0.028408</td>\n",
       "      <td>0.003626</td>\n",
       "      <td>0.023425</td>\n",
       "      <td>-0.009653</td>\n",
       "      <td>-0.013343</td>\n",
       "      <td>...</td>\n",
       "      <td>0.013260</td>\n",
       "      <td>0.004882</td>\n",
       "      <td>0.009281</td>\n",
       "      <td>0.011729</td>\n",
       "      <td>-0.001757</td>\n",
       "      <td>-0.010148</td>\n",
       "      <td>-0.024844</td>\n",
       "      <td>-0.008730</td>\n",
       "      <td>-0.020206</td>\n",
       "      <td>0.035771</td>\n",
       "    </tr>\n",
       "    <tr>\n",
       "      <th>marital_married</th>\n",
       "      <td>0.316681</td>\n",
       "      <td>-0.133514</td>\n",
       "      <td>-0.007670</td>\n",
       "      <td>0.032056</td>\n",
       "      <td>0.036857</td>\n",
       "      <td>0.044692</td>\n",
       "      <td>0.001760</td>\n",
       "      <td>-0.037747</td>\n",
       "      <td>0.055415</td>\n",
       "      <td>-0.020003</td>\n",
       "      <td>...</td>\n",
       "      <td>0.002957</td>\n",
       "      <td>-0.030392</td>\n",
       "      <td>-0.031935</td>\n",
       "      <td>0.033558</td>\n",
       "      <td>-0.013898</td>\n",
       "      <td>-0.019805</td>\n",
       "      <td>0.011364</td>\n",
       "      <td>-0.030038</td>\n",
       "      <td>-0.008541</td>\n",
       "      <td>0.012296</td>\n",
       "    </tr>\n",
       "    <tr>\n",
       "      <th>marital_single</th>\n",
       "      <td>-0.464737</td>\n",
       "      <td>0.165140</td>\n",
       "      <td>-0.006322</td>\n",
       "      <td>-0.013176</td>\n",
       "      <td>-0.045904</td>\n",
       "      <td>-0.067140</td>\n",
       "      <td>-0.004371</td>\n",
       "      <td>0.024042</td>\n",
       "      <td>-0.052335</td>\n",
       "      <td>0.030483</td>\n",
       "      <td>...</td>\n",
       "      <td>-0.012282</td>\n",
       "      <td>0.028986</td>\n",
       "      <td>0.027599</td>\n",
       "      <td>-0.043800</td>\n",
       "      <td>0.016004</td>\n",
       "      <td>0.028071</td>\n",
       "      <td>0.005018</td>\n",
       "      <td>0.037987</td>\n",
       "      <td>0.023010</td>\n",
       "      <td>-0.037729</td>\n",
       "    </tr>\n",
       "    <tr>\n",
       "      <th>contact_cellular</th>\n",
       "      <td>-0.074062</td>\n",
       "      <td>0.172697</td>\n",
       "      <td>-0.028878</td>\n",
       "      <td>0.030039</td>\n",
       "      <td>-0.186832</td>\n",
       "      <td>0.000653</td>\n",
       "      <td>-0.006511</td>\n",
       "      <td>0.022006</td>\n",
       "      <td>-0.068573</td>\n",
       "      <td>0.208006</td>\n",
       "      <td>...</td>\n",
       "      <td>-0.319383</td>\n",
       "      <td>0.064403</td>\n",
       "      <td>-0.337438</td>\n",
       "      <td>0.108127</td>\n",
       "      <td>0.032717</td>\n",
       "      <td>0.053452</td>\n",
       "      <td>0.166336</td>\n",
       "      <td>0.091506</td>\n",
       "      <td>0.148420</td>\n",
       "      <td>-0.264559</td>\n",
       "    </tr>\n",
       "    <tr>\n",
       "      <th>contact_telephone</th>\n",
       "      <td>0.194455</td>\n",
       "      <td>-0.080767</td>\n",
       "      <td>-0.021596</td>\n",
       "      <td>0.061140</td>\n",
       "      <td>-0.084942</td>\n",
       "      <td>-0.016394</td>\n",
       "      <td>0.013647</td>\n",
       "      <td>-0.022244</td>\n",
       "      <td>0.056650</td>\n",
       "      <td>0.004120</td>\n",
       "      <td>...</td>\n",
       "      <td>-0.064427</td>\n",
       "      <td>0.006604</td>\n",
       "      <td>-0.076916</td>\n",
       "      <td>0.029959</td>\n",
       "      <td>0.069496</td>\n",
       "      <td>0.024017</td>\n",
       "      <td>-0.005817</td>\n",
       "      <td>0.014167</td>\n",
       "      <td>0.000254</td>\n",
       "      <td>-0.002934</td>\n",
       "    </tr>\n",
       "    <tr>\n",
       "      <th>contact_unknown</th>\n",
       "      <td>-0.036224</td>\n",
       "      <td>-0.140256</td>\n",
       "      <td>0.044621</td>\n",
       "      <td>-0.069737</td>\n",
       "      <td>0.255649</td>\n",
       "      <td>0.009172</td>\n",
       "      <td>-0.001105</td>\n",
       "      <td>-0.010665</td>\n",
       "      <td>0.040870</td>\n",
       "      <td>-0.230080</td>\n",
       "      <td>...</td>\n",
       "      <td>0.388312</td>\n",
       "      <td>-0.074450</td>\n",
       "      <td>0.415598</td>\n",
       "      <td>-0.136376</td>\n",
       "      <td>-0.077706</td>\n",
       "      <td>-0.072969</td>\n",
       "      <td>-0.178493</td>\n",
       "      <td>-0.108666</td>\n",
       "      <td>-0.162550</td>\n",
       "      <td>0.291242</td>\n",
       "    </tr>\n",
       "    <tr>\n",
       "      <th>month_apr</th>\n",
       "      <td>-0.026208</td>\n",
       "      <td>0.015456</td>\n",
       "      <td>-0.018812</td>\n",
       "      <td>0.050392</td>\n",
       "      <td>0.031485</td>\n",
       "      <td>-0.040164</td>\n",
       "      <td>0.110547</td>\n",
       "      <td>0.027398</td>\n",
       "      <td>-0.075791</td>\n",
       "      <td>0.080709</td>\n",
       "      <td>...</td>\n",
       "      <td>-0.104766</td>\n",
       "      <td>-0.046360</td>\n",
       "      <td>-0.176848</td>\n",
       "      <td>-0.086518</td>\n",
       "      <td>-0.055393</td>\n",
       "      <td>-0.050315</td>\n",
       "      <td>0.067926</td>\n",
       "      <td>0.041458</td>\n",
       "      <td>-0.000767</td>\n",
       "      <td>-0.068823</td>\n",
       "    </tr>\n",
       "    <tr>\n",
       "      <th>month_aug</th>\n",
       "      <td>0.060980</td>\n",
       "      <td>0.102218</td>\n",
       "      <td>-0.003966</td>\n",
       "      <td>-0.008252</td>\n",
       "      <td>-0.235772</td>\n",
       "      <td>-0.064208</td>\n",
       "      <td>-0.001758</td>\n",
       "      <td>-0.024372</td>\n",
       "      <td>0.149425</td>\n",
       "      <td>-0.066859</td>\n",
       "      <td>...</td>\n",
       "      <td>-0.139574</td>\n",
       "      <td>-0.061763</td>\n",
       "      <td>-0.235606</td>\n",
       "      <td>-0.115263</td>\n",
       "      <td>-0.073798</td>\n",
       "      <td>-0.067031</td>\n",
       "      <td>-0.062600</td>\n",
       "      <td>-0.040444</td>\n",
       "      <td>0.007390</td>\n",
       "      <td>0.060037</td>\n",
       "    </tr>\n",
       "    <tr>\n",
       "      <th>month_dec</th>\n",
       "      <td>0.031151</td>\n",
       "      <td>0.004171</td>\n",
       "      <td>-0.012456</td>\n",
       "      <td>0.027092</td>\n",
       "      <td>-0.059625</td>\n",
       "      <td>-0.029521</td>\n",
       "      <td>-0.011651</td>\n",
       "      <td>0.007100</td>\n",
       "      <td>-0.014967</td>\n",
       "      <td>0.045581</td>\n",
       "      <td>...</td>\n",
       "      <td>-0.033754</td>\n",
       "      <td>-0.014936</td>\n",
       "      <td>-0.056977</td>\n",
       "      <td>-0.027874</td>\n",
       "      <td>-0.017847</td>\n",
       "      <td>-0.016210</td>\n",
       "      <td>0.002631</td>\n",
       "      <td>0.036861</td>\n",
       "      <td>0.068706</td>\n",
       "      <td>-0.066145</td>\n",
       "    </tr>\n",
       "    <tr>\n",
       "      <th>month_feb</th>\n",
       "      <td>0.014729</td>\n",
       "      <td>0.036743</td>\n",
       "      <td>-0.020260</td>\n",
       "      <td>0.010160</td>\n",
       "      <td>-0.079198</td>\n",
       "      <td>-0.012067</td>\n",
       "      <td>-0.236222</td>\n",
       "      <td>-0.025231</td>\n",
       "      <td>-0.039026</td>\n",
       "      <td>0.054450</td>\n",
       "      <td>...</td>\n",
       "      <td>-0.096203</td>\n",
       "      <td>-0.042571</td>\n",
       "      <td>-0.162394</td>\n",
       "      <td>-0.079446</td>\n",
       "      <td>-0.050866</td>\n",
       "      <td>-0.046202</td>\n",
       "      <td>0.060970</td>\n",
       "      <td>0.038671</td>\n",
       "      <td>0.035524</td>\n",
       "      <td>-0.086813</td>\n",
       "    </tr>\n",
       "    <tr>\n",
       "      <th>month_jan</th>\n",
       "      <td>0.017477</td>\n",
       "      <td>-0.002330</td>\n",
       "      <td>0.003382</td>\n",
       "      <td>-0.011331</td>\n",
       "      <td>-0.090039</td>\n",
       "      <td>0.003325</td>\n",
       "      <td>0.225136</td>\n",
       "      <td>-0.010272</td>\n",
       "      <td>-0.053519</td>\n",
       "      <td>0.015399</td>\n",
       "      <td>...</td>\n",
       "      <td>-0.063231</td>\n",
       "      <td>-0.027980</td>\n",
       "      <td>-0.106736</td>\n",
       "      <td>-0.052217</td>\n",
       "      <td>-0.033432</td>\n",
       "      <td>-0.030367</td>\n",
       "      <td>0.007226</td>\n",
       "      <td>0.055332</td>\n",
       "      <td>0.013933</td>\n",
       "      <td>-0.041744</td>\n",
       "    </tr>\n",
       "    <tr>\n",
       "      <th>month_jul</th>\n",
       "      <td>-0.003662</td>\n",
       "      <td>-0.049832</td>\n",
       "      <td>0.048653</td>\n",
       "      <td>-0.086824</td>\n",
       "      <td>-0.029806</td>\n",
       "      <td>0.163249</td>\n",
       "      <td>0.130897</td>\n",
       "      <td>0.056203</td>\n",
       "      <td>0.118163</td>\n",
       "      <td>-0.108347</td>\n",
       "      <td>...</td>\n",
       "      <td>-0.141495</td>\n",
       "      <td>-0.062613</td>\n",
       "      <td>-0.238848</td>\n",
       "      <td>-0.116849</td>\n",
       "      <td>-0.074813</td>\n",
       "      <td>-0.067954</td>\n",
       "      <td>-0.103570</td>\n",
       "      <td>-0.055530</td>\n",
       "      <td>-0.067140</td>\n",
       "      <td>0.147044</td>\n",
       "    </tr>\n",
       "    <tr>\n",
       "      <th>month_jun</th>\n",
       "      <td>0.009769</td>\n",
       "      <td>-0.036503</td>\n",
       "      <td>0.019626</td>\n",
       "      <td>0.039753</td>\n",
       "      <td>-0.073133</td>\n",
       "      <td>-0.014897</td>\n",
       "      <td>-0.182032</td>\n",
       "      <td>-0.003061</td>\n",
       "      <td>0.046763</td>\n",
       "      <td>-0.093551</td>\n",
       "      <td>...</td>\n",
       "      <td>1.000000</td>\n",
       "      <td>-0.054275</td>\n",
       "      <td>-0.207042</td>\n",
       "      <td>-0.101289</td>\n",
       "      <td>-0.064851</td>\n",
       "      <td>-0.058905</td>\n",
       "      <td>-0.074250</td>\n",
       "      <td>-0.036578</td>\n",
       "      <td>-0.020967</td>\n",
       "      <td>0.085584</td>\n",
       "    </tr>\n",
       "    <tr>\n",
       "      <th>month_mar</th>\n",
       "      <td>0.024785</td>\n",
       "      <td>0.052196</td>\n",
       "      <td>-0.020028</td>\n",
       "      <td>0.043832</td>\n",
       "      <td>-0.075948</td>\n",
       "      <td>-0.041105</td>\n",
       "      <td>-0.044303</td>\n",
       "      <td>-0.034640</td>\n",
       "      <td>-0.030574</td>\n",
       "      <td>0.024192</td>\n",
       "      <td>...</td>\n",
       "      <td>-0.054275</td>\n",
       "      <td>1.000000</td>\n",
       "      <td>-0.091618</td>\n",
       "      <td>-0.044821</td>\n",
       "      <td>-0.028697</td>\n",
       "      <td>-0.026066</td>\n",
       "      <td>-0.000021</td>\n",
       "      <td>0.026776</td>\n",
       "      <td>0.044550</td>\n",
       "      <td>-0.043056</td>\n",
       "    </tr>\n",
       "    <tr>\n",
       "      <th>month_may</th>\n",
       "      <td>-0.119656</td>\n",
       "      <td>-0.104157</td>\n",
       "      <td>-0.001761</td>\n",
       "      <td>-0.098073</td>\n",
       "      <td>0.432605</td>\n",
       "      <td>0.002778</td>\n",
       "      <td>-0.014580</td>\n",
       "      <td>0.007983</td>\n",
       "      <td>-0.044348</td>\n",
       "      <td>0.028678</td>\n",
       "      <td>...</td>\n",
       "      <td>-0.207042</td>\n",
       "      <td>-0.091618</td>\n",
       "      <td>1.000000</td>\n",
       "      <td>-0.170979</td>\n",
       "      <td>-0.109470</td>\n",
       "      <td>-0.099433</td>\n",
       "      <td>0.034538</td>\n",
       "      <td>-0.012275</td>\n",
       "      <td>-0.099107</td>\n",
       "      <td>0.047688</td>\n",
       "    </tr>\n",
       "    <tr>\n",
       "      <th>month_nov</th>\n",
       "      <td>0.026875</td>\n",
       "      <td>0.028704</td>\n",
       "      <td>0.000544</td>\n",
       "      <td>0.081861</td>\n",
       "      <td>-0.000219</td>\n",
       "      <td>0.017720</td>\n",
       "      <td>0.056471</td>\n",
       "      <td>-0.015655</td>\n",
       "      <td>-0.077307</td>\n",
       "      <td>-0.007350</td>\n",
       "      <td>...</td>\n",
       "      <td>-0.101289</td>\n",
       "      <td>-0.044821</td>\n",
       "      <td>-0.170979</td>\n",
       "      <td>1.000000</td>\n",
       "      <td>-0.053555</td>\n",
       "      <td>-0.048645</td>\n",
       "      <td>0.063342</td>\n",
       "      <td>0.005001</td>\n",
       "      <td>0.015353</td>\n",
       "      <td>-0.058439</td>\n",
       "    </tr>\n",
       "    <tr>\n",
       "      <th>month_oct</th>\n",
       "      <td>0.056998</td>\n",
       "      <td>0.027617</td>\n",
       "      <td>-0.023931</td>\n",
       "      <td>0.057041</td>\n",
       "      <td>-0.092026</td>\n",
       "      <td>-0.032357</td>\n",
       "      <td>0.072179</td>\n",
       "      <td>-0.012541</td>\n",
       "      <td>-0.071519</td>\n",
       "      <td>0.079833</td>\n",
       "      <td>...</td>\n",
       "      <td>-0.064851</td>\n",
       "      <td>-0.028697</td>\n",
       "      <td>-0.109470</td>\n",
       "      <td>-0.053555</td>\n",
       "      <td>1.000000</td>\n",
       "      <td>-0.031145</td>\n",
       "      <td>0.044624</td>\n",
       "      <td>0.010524</td>\n",
       "      <td>0.111386</td>\n",
       "      <td>-0.112154</td>\n",
       "    </tr>\n",
       "    <tr>\n",
       "      <th>month_sep</th>\n",
       "      <td>0.036352</td>\n",
       "      <td>0.030846</td>\n",
       "      <td>-0.016977</td>\n",
       "      <td>0.047841</td>\n",
       "      <td>-0.086893</td>\n",
       "      <td>-0.046196</td>\n",
       "      <td>-0.068744</td>\n",
       "      <td>-0.012077</td>\n",
       "      <td>-0.048672</td>\n",
       "      <td>0.110907</td>\n",
       "      <td>...</td>\n",
       "      <td>-0.058905</td>\n",
       "      <td>-0.026066</td>\n",
       "      <td>-0.099433</td>\n",
       "      <td>-0.048645</td>\n",
       "      <td>-0.031145</td>\n",
       "      <td>1.000000</td>\n",
       "      <td>0.029983</td>\n",
       "      <td>0.050486</td>\n",
       "      <td>0.135072</td>\n",
       "      <td>-0.137132</td>\n",
       "    </tr>\n",
       "    <tr>\n",
       "      <th>poutcome_failure</th>\n",
       "      <td>0.001994</td>\n",
       "      <td>0.019845</td>\n",
       "      <td>-0.025450</td>\n",
       "      <td>0.031040</td>\n",
       "      <td>0.085167</td>\n",
       "      <td>0.007458</td>\n",
       "      <td>-0.071175</td>\n",
       "      <td>-0.039476</td>\n",
       "      <td>-0.082282</td>\n",
       "      <td>0.608719</td>\n",
       "      <td>...</td>\n",
       "      <td>-0.074250</td>\n",
       "      <td>-0.000021</td>\n",
       "      <td>0.034538</td>\n",
       "      <td>0.063342</td>\n",
       "      <td>0.044624</td>\n",
       "      <td>0.029983</td>\n",
       "      <td>1.000000</td>\n",
       "      <td>-0.078494</td>\n",
       "      <td>-0.112774</td>\n",
       "      <td>-0.606736</td>\n",
       "    </tr>\n",
       "    <tr>\n",
       "      <th>poutcome_other</th>\n",
       "      <td>-0.020942</td>\n",
       "      <td>0.015103</td>\n",
       "      <td>-0.017923</td>\n",
       "      <td>0.028111</td>\n",
       "      <td>0.009830</td>\n",
       "      <td>-0.019289</td>\n",
       "      <td>-0.008806</td>\n",
       "      <td>-0.009497</td>\n",
       "      <td>-0.024854</td>\n",
       "      <td>0.338049</td>\n",
       "      <td>...</td>\n",
       "      <td>-0.036578</td>\n",
       "      <td>0.026776</td>\n",
       "      <td>-0.012275</td>\n",
       "      <td>0.005001</td>\n",
       "      <td>0.010524</td>\n",
       "      <td>0.050486</td>\n",
       "      <td>-0.078494</td>\n",
       "      <td>1.000000</td>\n",
       "      <td>-0.071806</td>\n",
       "      <td>-0.386326</td>\n",
       "    </tr>\n",
       "    <tr>\n",
       "      <th>poutcome_success</th>\n",
       "      <td>0.060009</td>\n",
       "      <td>0.070489</td>\n",
       "      <td>-0.041510</td>\n",
       "      <td>0.073358</td>\n",
       "      <td>-0.134477</td>\n",
       "      <td>-0.082098</td>\n",
       "      <td>-0.044366</td>\n",
       "      <td>-0.025971</td>\n",
       "      <td>-0.094260</td>\n",
       "      <td>0.326215</td>\n",
       "      <td>...</td>\n",
       "      <td>-0.020967</td>\n",
       "      <td>0.044550</td>\n",
       "      <td>-0.099107</td>\n",
       "      <td>0.015353</td>\n",
       "      <td>0.111386</td>\n",
       "      <td>0.135072</td>\n",
       "      <td>-0.112774</td>\n",
       "      <td>-0.071806</td>\n",
       "      <td>1.000000</td>\n",
       "      <td>-0.555044</td>\n",
       "    </tr>\n",
       "    <tr>\n",
       "      <th>poutcome_unknown</th>\n",
       "      <td>-0.031455</td>\n",
       "      <td>-0.069069</td>\n",
       "      <td>0.055032</td>\n",
       "      <td>-0.085456</td>\n",
       "      <td>0.024082</td>\n",
       "      <td>0.059235</td>\n",
       "      <td>0.085442</td>\n",
       "      <td>0.050571</td>\n",
       "      <td>0.134842</td>\n",
       "      <td>-0.824031</td>\n",
       "      <td>...</td>\n",
       "      <td>0.085584</td>\n",
       "      <td>-0.043056</td>\n",
       "      <td>0.047688</td>\n",
       "      <td>-0.058439</td>\n",
       "      <td>-0.112154</td>\n",
       "      <td>-0.137132</td>\n",
       "      <td>-0.606736</td>\n",
       "      <td>-0.386326</td>\n",
       "      <td>-0.555044</td>\n",
       "      <td>1.000000</td>\n",
       "    </tr>\n",
       "  </tbody>\n",
       "</table>\n",
       "<p>46 rows × 46 columns</p>\n",
       "</div>"
      ],
      "text/plain": [
       "                        age  education   default   balance   housing  \\\n",
       "age                1.000000  -0.191124 -0.009929  0.115164 -0.164196   \n",
       "education         -0.191124   1.000000 -0.015692  0.043251 -0.094350   \n",
       "default           -0.009929  -0.015692  1.000000 -0.110928  0.009551   \n",
       "balance            0.115164   0.043251 -0.110928  1.000000 -0.094919   \n",
       "housing           -0.164196  -0.094350  0.009551 -0.094919  1.000000   \n",
       "loan              -0.026357  -0.052566  0.074786 -0.113089  0.072252   \n",
       "day                0.000396   0.008989  0.018724 -0.009987 -0.022644   \n",
       "duration          -0.006007  -0.016869 -0.008162  0.025781  0.038492   \n",
       "campaign          -0.001143  -0.012280  0.033404 -0.042689  0.006257   \n",
       "pdays              0.006107   0.024123 -0.037323  0.045155  0.064138   \n",
       "previous           0.025383   0.025368 -0.036605  0.060419 -0.000221   \n",
       "deposit            0.024357   0.098253 -0.038872  0.135893 -0.200290   \n",
       "age_cat            0.122622  -0.099057  0.002058  0.027820 -0.153188   \n",
       "job_admin.        -0.057502  -0.055817 -0.022421 -0.028057  0.063547   \n",
       "job_blue-collar   -0.065917  -0.371796  0.022989 -0.049484  0.194115   \n",
       "job_entrepreneur   0.028390   0.024219  0.023264 -0.008727  0.006600   \n",
       "job_housemaid      0.092661  -0.144242  0.019273  0.000907 -0.063824   \n",
       "job_management    -0.036163   0.518735 -0.000055  0.039205 -0.077697   \n",
       "job_retired        0.545524  -0.148800 -0.018524  0.091421 -0.168785   \n",
       "job_self-employed -0.027947   0.091001  0.008924  0.009889 -0.019555   \n",
       "job_services      -0.077266  -0.103846 -0.020168 -0.037633  0.080129   \n",
       "job_student       -0.231436  -0.009494 -0.019190  0.007133 -0.124261   \n",
       "job_technician    -0.074596   0.047966  0.004419 -0.010460  0.004772   \n",
       "job_unemployed     0.001263  -0.031813  0.011120  0.009689 -0.059712   \n",
       "marital_divorced   0.185312  -0.033425  0.021028 -0.030406  0.009686   \n",
       "marital_married    0.316681  -0.133514 -0.007670  0.032056  0.036857   \n",
       "marital_single    -0.464737   0.165140 -0.006322 -0.013176 -0.045904   \n",
       "contact_cellular  -0.074062   0.172697 -0.028878  0.030039 -0.186832   \n",
       "contact_telephone  0.194455  -0.080767 -0.021596  0.061140 -0.084942   \n",
       "contact_unknown   -0.036224  -0.140256  0.044621 -0.069737  0.255649   \n",
       "month_apr         -0.026208   0.015456 -0.018812  0.050392  0.031485   \n",
       "month_aug          0.060980   0.102218 -0.003966 -0.008252 -0.235772   \n",
       "month_dec          0.031151   0.004171 -0.012456  0.027092 -0.059625   \n",
       "month_feb          0.014729   0.036743 -0.020260  0.010160 -0.079198   \n",
       "month_jan          0.017477  -0.002330  0.003382 -0.011331 -0.090039   \n",
       "month_jul         -0.003662  -0.049832  0.048653 -0.086824 -0.029806   \n",
       "month_jun          0.009769  -0.036503  0.019626  0.039753 -0.073133   \n",
       "month_mar          0.024785   0.052196 -0.020028  0.043832 -0.075948   \n",
       "month_may         -0.119656  -0.104157 -0.001761 -0.098073  0.432605   \n",
       "month_nov          0.026875   0.028704  0.000544  0.081861 -0.000219   \n",
       "month_oct          0.056998   0.027617 -0.023931  0.057041 -0.092026   \n",
       "month_sep          0.036352   0.030846 -0.016977  0.047841 -0.086893   \n",
       "poutcome_failure   0.001994   0.019845 -0.025450  0.031040  0.085167   \n",
       "poutcome_other    -0.020942   0.015103 -0.017923  0.028111  0.009830   \n",
       "poutcome_success   0.060009   0.070489 -0.041510  0.073358 -0.134477   \n",
       "poutcome_unknown  -0.031455  -0.069069  0.055032 -0.085456  0.024082   \n",
       "\n",
       "                       loan       day  duration  campaign     pdays  ...  \\\n",
       "age               -0.026357  0.000396 -0.006007 -0.001143  0.006107  ...   \n",
       "education         -0.052566  0.008989 -0.016869 -0.012280  0.024123  ...   \n",
       "default            0.074786  0.018724 -0.008162  0.033404 -0.037323  ...   \n",
       "balance           -0.113089 -0.009987  0.025781 -0.042689  0.045155  ...   \n",
       "housing            0.072252 -0.022644  0.038492  0.006257  0.064138  ...   \n",
       "loan               1.000000  0.019136  0.001476  0.033889 -0.030788  ...   \n",
       "day                0.019136  1.000000 -0.016695  0.142169 -0.078757  ...   \n",
       "duration           0.001476 -0.016695  1.000000 -0.042576 -0.033053  ...   \n",
       "campaign           0.033889  0.142169 -0.042576  1.000000 -0.105214  ...   \n",
       "pdays             -0.030788 -0.078757 -0.033053 -0.105214  1.000000  ...   \n",
       "previous          -0.020087 -0.059739 -0.034233 -0.052312  0.513708  ...   \n",
       "deposit           -0.107240 -0.056878  0.457818 -0.130707  0.147917  ...   \n",
       "age_cat           -0.028775 -0.007096  0.002826 -0.050747 -0.007693  ...   \n",
       "job_admin.         0.049098 -0.010680 -0.023585 -0.018834  0.046293  ...   \n",
       "job_blue-collar    0.056857 -0.019876  0.032253  0.002430 -0.024269  ...   \n",
       "job_entrepreneur   0.038298 -0.005463  0.000594  0.011168 -0.026802  ...   \n",
       "job_housemaid     -0.028973  0.010920 -0.010009  0.008832 -0.023625  ...   \n",
       "job_management    -0.052683  0.003025 -0.024309  0.018159  0.010868  ...   \n",
       "job_retired       -0.045674 -0.005226  0.006052 -0.037189  0.007287  ...   \n",
       "job_self-employed  0.004113  0.001565  0.014513  0.006299 -0.012057  ...   \n",
       "job_services       0.032109  0.002787  0.013911  0.009145 -0.002427  ...   \n",
       "job_student       -0.071385 -0.010712 -0.017974 -0.023710  0.025137  ...   \n",
       "job_technician     0.009501  0.031050 -0.007488  0.022406 -0.017993  ...   \n",
       "job_unemployed    -0.039883 -0.001380  0.027641 -0.023728  0.005833  ...   \n",
       "marital_divorced   0.028408  0.003626  0.023425 -0.009653 -0.013343  ...   \n",
       "marital_married    0.044692  0.001760 -0.037747  0.055415 -0.020003  ...   \n",
       "marital_single    -0.067140 -0.004371  0.024042 -0.052335  0.030483  ...   \n",
       "contact_cellular   0.000653 -0.006511  0.022006 -0.068573  0.208006  ...   \n",
       "contact_telephone -0.016394  0.013647 -0.022244  0.056650  0.004120  ...   \n",
       "contact_unknown    0.009172 -0.001105 -0.010665  0.040870 -0.230080  ...   \n",
       "month_apr         -0.040164  0.110547  0.027398 -0.075791  0.080709  ...   \n",
       "month_aug         -0.064208 -0.001758 -0.024372  0.149425 -0.066859  ...   \n",
       "month_dec         -0.029521 -0.011651  0.007100 -0.014967  0.045581  ...   \n",
       "month_feb         -0.012067 -0.236222 -0.025231 -0.039026  0.054450  ...   \n",
       "month_jan          0.003325  0.225136 -0.010272 -0.053519  0.015399  ...   \n",
       "month_jul          0.163249  0.130897  0.056203  0.118163 -0.108347  ...   \n",
       "month_jun         -0.014897 -0.182032 -0.003061  0.046763 -0.093551  ...   \n",
       "month_mar         -0.041105 -0.044303 -0.034640 -0.030574  0.024192  ...   \n",
       "month_may          0.002778 -0.014580  0.007983 -0.044348  0.028678  ...   \n",
       "month_nov          0.017720  0.056471 -0.015655 -0.077307 -0.007350  ...   \n",
       "month_oct         -0.032357  0.072179 -0.012541 -0.071519  0.079833  ...   \n",
       "month_sep         -0.046196 -0.068744 -0.012077 -0.048672  0.110907  ...   \n",
       "poutcome_failure   0.007458 -0.071175 -0.039476 -0.082282  0.608719  ...   \n",
       "poutcome_other    -0.019289 -0.008806 -0.009497 -0.024854  0.338049  ...   \n",
       "poutcome_success  -0.082098 -0.044366 -0.025971 -0.094260  0.326215  ...   \n",
       "poutcome_unknown   0.059235  0.085442  0.050571  0.134842 -0.824031  ...   \n",
       "\n",
       "                   month_jun  month_mar  month_may  month_nov  month_oct  \\\n",
       "age                 0.009769   0.024785  -0.119656   0.026875   0.056998   \n",
       "education          -0.036503   0.052196  -0.104157   0.028704   0.027617   \n",
       "default             0.019626  -0.020028  -0.001761   0.000544  -0.023931   \n",
       "balance             0.039753   0.043832  -0.098073   0.081861   0.057041   \n",
       "housing            -0.073133  -0.075948   0.432605  -0.000219  -0.092026   \n",
       "loan               -0.014897  -0.041105   0.002778   0.017720  -0.032357   \n",
       "day                -0.182032  -0.044303  -0.014580   0.056471   0.072179   \n",
       "duration           -0.003061  -0.034640   0.007983  -0.015655  -0.012541   \n",
       "campaign            0.046763  -0.030574  -0.044348  -0.077307  -0.071519   \n",
       "pdays              -0.093551   0.024192   0.028678  -0.007350   0.079833   \n",
       "previous           -0.050067   0.025225  -0.025077   0.019722   0.055077   \n",
       "deposit            -0.008533   0.135348  -0.168203  -0.027754   0.130599   \n",
       "age_cat             0.013792   0.050918  -0.036141  -0.069144   0.061172   \n",
       "job_admin.         -0.001089   0.003533   0.027696  -0.008095   0.006208   \n",
       "job_blue-collar     0.032766  -0.055255   0.170969  -0.025624  -0.051792   \n",
       "job_entrepreneur    0.026586  -0.019403  -0.018227   0.045535  -0.019363   \n",
       "job_housemaid       0.049777   0.004569  -0.053982  -0.005830   0.012923   \n",
       "job_management     -0.026360   0.036884  -0.095434   0.030269   0.010856   \n",
       "job_retired        -0.010806   0.046085  -0.090053  -0.016737   0.071483   \n",
       "job_self-employed   0.004955   0.002135  -0.017982   0.026810   0.009364   \n",
       "job_services        0.012644  -0.012503   0.066271  -0.019849  -0.031120   \n",
       "job_student        -0.017265   0.023515  -0.032509  -0.004541   0.031885   \n",
       "job_technician     -0.030950  -0.016709  -0.009936  -0.008488  -0.003454   \n",
       "job_unemployed     -0.004043   0.004451  -0.036727   0.009096  -0.003121   \n",
       "marital_divorced    0.013260   0.004882   0.009281   0.011729  -0.001757   \n",
       "marital_married     0.002957  -0.030392  -0.031935   0.033558  -0.013898   \n",
       "marital_single     -0.012282   0.028986   0.027599  -0.043800   0.016004   \n",
       "contact_cellular   -0.319383   0.064403  -0.337438   0.108127   0.032717   \n",
       "contact_telephone  -0.064427   0.006604  -0.076916   0.029959   0.069496   \n",
       "contact_unknown     0.388312  -0.074450   0.415598  -0.136376  -0.077706   \n",
       "month_apr          -0.104766  -0.046360  -0.176848  -0.086518  -0.055393   \n",
       "month_aug          -0.139574  -0.061763  -0.235606  -0.115263  -0.073798   \n",
       "month_dec          -0.033754  -0.014936  -0.056977  -0.027874  -0.017847   \n",
       "month_feb          -0.096203  -0.042571  -0.162394  -0.079446  -0.050866   \n",
       "month_jan          -0.063231  -0.027980  -0.106736  -0.052217  -0.033432   \n",
       "month_jul          -0.141495  -0.062613  -0.238848  -0.116849  -0.074813   \n",
       "month_jun           1.000000  -0.054275  -0.207042  -0.101289  -0.064851   \n",
       "month_mar          -0.054275   1.000000  -0.091618  -0.044821  -0.028697   \n",
       "month_may          -0.207042  -0.091618   1.000000  -0.170979  -0.109470   \n",
       "month_nov          -0.101289  -0.044821  -0.170979   1.000000  -0.053555   \n",
       "month_oct          -0.064851  -0.028697  -0.109470  -0.053555   1.000000   \n",
       "month_sep          -0.058905  -0.026066  -0.099433  -0.048645  -0.031145   \n",
       "poutcome_failure   -0.074250  -0.000021   0.034538   0.063342   0.044624   \n",
       "poutcome_other     -0.036578   0.026776  -0.012275   0.005001   0.010524   \n",
       "poutcome_success   -0.020967   0.044550  -0.099107   0.015353   0.111386   \n",
       "poutcome_unknown    0.085584  -0.043056   0.047688  -0.058439  -0.112154   \n",
       "\n",
       "                   month_sep  poutcome_failure  poutcome_other  \\\n",
       "age                 0.036352          0.001994       -0.020942   \n",
       "education           0.030846          0.019845        0.015103   \n",
       "default            -0.016977         -0.025450       -0.017923   \n",
       "balance             0.047841          0.031040        0.028111   \n",
       "housing            -0.086893          0.085167        0.009830   \n",
       "loan               -0.046196          0.007458       -0.019289   \n",
       "day                -0.068744         -0.071175       -0.008806   \n",
       "duration           -0.012077         -0.039476       -0.009497   \n",
       "campaign           -0.048672         -0.082282       -0.024854   \n",
       "pdays               0.110907          0.608719        0.338049   \n",
       "previous            0.099795          0.347800        0.318888   \n",
       "deposit             0.125239          0.021124        0.039319   \n",
       "age_cat             0.051113         -0.042362        0.012121   \n",
       "job_admin.          0.006847          0.038762        0.008044   \n",
       "job_blue-collar    -0.045333         -0.015957        0.003622   \n",
       "job_entrepreneur   -0.008032          0.002007       -0.022674   \n",
       "job_housemaid      -0.007499         -0.015545       -0.008928   \n",
       "job_management      0.037880          0.004471        0.010845   \n",
       "job_retired         0.062945         -0.011205       -0.002926   \n",
       "job_self-employed  -0.019143         -0.009059        0.004926   \n",
       "job_services       -0.023491         -0.003684       -0.015454   \n",
       "job_student         0.027500         -0.006769        0.040725   \n",
       "job_technician     -0.024729          0.005355       -0.011311   \n",
       "job_unemployed      0.002940         -0.009655       -0.012524   \n",
       "marital_divorced   -0.010148         -0.024844       -0.008730   \n",
       "marital_married    -0.019805          0.011364       -0.030038   \n",
       "marital_single      0.028071          0.005018        0.037987   \n",
       "contact_cellular    0.053452          0.166336        0.091506   \n",
       "contact_telephone   0.024017         -0.005817        0.014167   \n",
       "contact_unknown    -0.072969         -0.178493       -0.108666   \n",
       "month_apr          -0.050315          0.067926        0.041458   \n",
       "month_aug          -0.067031         -0.062600       -0.040444   \n",
       "month_dec          -0.016210          0.002631        0.036861   \n",
       "month_feb          -0.046202          0.060970        0.038671   \n",
       "month_jan          -0.030367          0.007226        0.055332   \n",
       "month_jul          -0.067954         -0.103570       -0.055530   \n",
       "month_jun          -0.058905         -0.074250       -0.036578   \n",
       "month_mar          -0.026066         -0.000021        0.026776   \n",
       "month_may          -0.099433          0.034538       -0.012275   \n",
       "month_nov          -0.048645          0.063342        0.005001   \n",
       "month_oct          -0.031145          0.044624        0.010524   \n",
       "month_sep           1.000000          0.029983        0.050486   \n",
       "poutcome_failure    0.029983          1.000000       -0.078494   \n",
       "poutcome_other      0.050486         -0.078494        1.000000   \n",
       "poutcome_success    0.135072         -0.112774       -0.071806   \n",
       "poutcome_unknown   -0.137132         -0.606736       -0.386326   \n",
       "\n",
       "                   poutcome_success  poutcome_unknown  \n",
       "age                        0.060009         -0.031455  \n",
       "education                  0.070489         -0.069069  \n",
       "default                   -0.041510          0.055032  \n",
       "balance                    0.073358         -0.085456  \n",
       "housing                   -0.134477          0.024082  \n",
       "loan                      -0.082098          0.059235  \n",
       "day                       -0.044366          0.085442  \n",
       "duration                  -0.025971          0.050571  \n",
       "campaign                  -0.094260          0.134842  \n",
       "pdays                      0.326215         -0.824031  \n",
       "previous                   0.328978         -0.628346  \n",
       "deposit                    0.288491         -0.228300  \n",
       "age_cat                    0.069088         -0.021810  \n",
       "job_admin.                 0.004628         -0.035007  \n",
       "job_blue-collar           -0.074494          0.059758  \n",
       "job_entrepreneur          -0.034155          0.032629  \n",
       "job_housemaid             -0.005594          0.019350  \n",
       "job_management             0.035995         -0.032725  \n",
       "job_retired                0.070006         -0.037501  \n",
       "job_self-employed         -0.000882          0.004705  \n",
       "job_services              -0.028109          0.029125  \n",
       "job_student                0.060619         -0.055835  \n",
       "job_technician            -0.018613          0.014196  \n",
       "job_unemployed             0.030416         -0.007316  \n",
       "marital_divorced          -0.020206          0.035771  \n",
       "marital_married           -0.008541          0.012296  \n",
       "marital_single             0.023010         -0.037729  \n",
       "contact_cellular           0.148420         -0.264559  \n",
       "contact_telephone          0.000254         -0.002934  \n",
       "contact_unknown           -0.162550          0.291242  \n",
       "month_apr                 -0.000767         -0.068823  \n",
       "month_aug                  0.007390          0.060037  \n",
       "month_dec                  0.068706         -0.066145  \n",
       "month_feb                  0.035524         -0.086813  \n",
       "month_jan                  0.013933         -0.041744  \n",
       "month_jul                 -0.067140          0.147044  \n",
       "month_jun                 -0.020967          0.085584  \n",
       "month_mar                  0.044550         -0.043056  \n",
       "month_may                 -0.099107          0.047688  \n",
       "month_nov                  0.015353         -0.058439  \n",
       "month_oct                  0.111386         -0.112154  \n",
       "month_sep                  0.135072         -0.137132  \n",
       "poutcome_failure          -0.112774         -0.606736  \n",
       "poutcome_other            -0.071806         -0.386326  \n",
       "poutcome_success           1.000000         -0.555044  \n",
       "poutcome_unknown          -0.555044          1.000000  \n",
       "\n",
       "[46 rows x 46 columns]"
      ]
     },
     "execution_count": 154,
     "metadata": {},
     "output_type": "execute_result"
    }
   ],
   "source": [
    "df.corr()"
   ]
  },
  {
   "cell_type": "code",
   "execution_count": 155,
   "id": "002be788",
   "metadata": {},
   "outputs": [
    {
     "data": {
      "text/plain": [
       "age               age                 1.000000\n",
       "                  education          -0.191124\n",
       "                  default            -0.009929\n",
       "                  balance             0.115164\n",
       "                  housing            -0.164196\n",
       "                                        ...   \n",
       "poutcome_unknown  month_sep          -0.137132\n",
       "                  poutcome_failure   -0.606736\n",
       "                  poutcome_other     -0.386326\n",
       "                  poutcome_success   -0.555044\n",
       "                  poutcome_unknown    1.000000\n",
       "Length: 2116, dtype: float64"
      ]
     },
     "execution_count": 155,
     "metadata": {},
     "output_type": "execute_result"
    }
   ],
   "source": [
    "df.corr().unstack()"
   ]
  },
  {
   "cell_type": "code",
   "execution_count": 159,
   "id": "f2616ca4",
   "metadata": {},
   "outputs": [
    {
     "data": {
      "text/plain": [
       "age               age                 1.000000\n",
       "poutcome_failure  pdays               0.608719\n",
       "job_retired       age                 0.545524\n",
       "job_management    education           0.518735\n",
       "previous          pdays               0.513708\n",
       "                                        ...   \n",
       "poutcome_failure  poutcome_unknown   -0.606736\n",
       "poutcome_unknown  previous           -0.628346\n",
       "marital_married   marital_single     -0.779038\n",
       "poutcome_unknown  pdays              -0.824031\n",
       "contact_unknown   contact_cellular   -0.837885\n",
       "Length: 1036, dtype: float64"
      ]
     },
     "execution_count": 159,
     "metadata": {},
     "output_type": "execute_result"
    }
   ],
   "source": [
    "df.corr().unstack().sort_values(ascending = False).drop_duplicates()"
   ]
  },
  {
   "cell_type": "markdown",
   "id": "b5b4c1a5",
   "metadata": {},
   "source": [
    "### Задания 7 и 8"
   ]
  },
  {
   "cell_type": "code",
   "execution_count": 161,
   "id": "79f3e432",
   "metadata": {},
   "outputs": [],
   "source": [
    "X = df.drop(['deposit'], axis=1)\n",
    "y = df['deposit']\n",
    " \n",
    "X_train, X_test, y_train, y_test = train_test_split(X, y, stratify=y, random_state = 42, test_size = 0.33)"
   ]
  },
  {
   "cell_type": "code",
   "execution_count": 163,
   "id": "e3a097a4",
   "metadata": {},
   "outputs": [
    {
     "data": {
      "text/plain": [
       "(3335, 45)"
      ]
     },
     "execution_count": 163,
     "metadata": {},
     "output_type": "execute_result"
    }
   ],
   "source": [
    "X_test.shape"
   ]
  },
  {
   "cell_type": "code",
   "execution_count": 167,
   "id": "dd8a968c",
   "metadata": {},
   "outputs": [
    {
     "data": {
      "text/plain": [
       "0.46326836581709147"
      ]
     },
     "execution_count": 167,
     "metadata": {},
     "output_type": "execute_result"
    }
   ],
   "source": [
    "y_test.mean()"
   ]
  },
  {
   "cell_type": "markdown",
   "id": "2e381a4f",
   "metadata": {},
   "source": [
    "### Задание 9"
   ]
  },
  {
   "cell_type": "code",
   "execution_count": 168,
   "id": "0f6e03e0",
   "metadata": {},
   "outputs": [],
   "source": [
    "from sklearn.feature_selection import SelectKBest\n",
    "from sklearn.feature_selection import f_classif #score_func\n",
    "\n",
    "best_param = SelectKBest(score_func = f_classif, k = 15)"
   ]
  },
  {
   "cell_type": "code",
   "execution_count": 170,
   "id": "883108dd",
   "metadata": {},
   "outputs": [
    {
     "data": {
      "text/plain": [
       "SelectKBest(k=15)"
      ]
     },
     "execution_count": 170,
     "metadata": {},
     "output_type": "execute_result"
    }
   ],
   "source": [
    "best_param.fit(X_train, y_train)"
   ]
  },
  {
   "cell_type": "code",
   "execution_count": 172,
   "id": "b82b9d12",
   "metadata": {},
   "outputs": [
    {
     "data": {
      "text/plain": [
       "['balance',\n",
       " 'housing',\n",
       " 'duration',\n",
       " 'campaign',\n",
       " 'pdays',\n",
       " 'previous',\n",
       " 'age_cat',\n",
       " 'contact_cellular',\n",
       " 'contact_unknown',\n",
       " 'month_mar',\n",
       " 'month_may',\n",
       " 'month_oct',\n",
       " 'month_sep',\n",
       " 'poutcome_success',\n",
       " 'poutcome_unknown']"
      ]
     },
     "execution_count": 172,
     "metadata": {},
     "output_type": "execute_result"
    }
   ],
   "source": [
    "X_train.columns[best_param.get_support(indices = True)].tolist()"
   ]
  },
  {
   "cell_type": "code",
   "execution_count": 176,
   "id": "d698e63f",
   "metadata": {},
   "outputs": [],
   "source": [
    "X_train = X_train[X_train.columns[best_param.get_support(indices = True)].tolist()]"
   ]
  },
  {
   "cell_type": "code",
   "execution_count": 178,
   "id": "0ceeb2bd",
   "metadata": {},
   "outputs": [],
   "source": [
    "X_test = X_test[['balance',\n",
    " 'housing',\n",
    " 'duration',\n",
    " 'campaign',\n",
    " 'pdays',\n",
    " 'previous',\n",
    " 'age_cat',\n",
    " 'contact_cellular',\n",
    " 'contact_unknown',\n",
    " 'month_mar',\n",
    " 'month_may',\n",
    " 'month_oct',\n",
    " 'month_sep',\n",
    " 'poutcome_success',\n",
    " 'poutcome_unknown']]"
   ]
  },
  {
   "cell_type": "markdown",
   "id": "60132ef3",
   "metadata": {},
   "source": [
    "### Задание 10"
   ]
  },
  {
   "cell_type": "code",
   "execution_count": 169,
   "id": "e91b06f3",
   "metadata": {},
   "outputs": [],
   "source": [
    "from sklearn.preprocessing import MinMaxScaler"
   ]
  },
  {
   "cell_type": "code",
   "execution_count": 184,
   "id": "23eb98fa",
   "metadata": {},
   "outputs": [],
   "source": [
    "minmax_scaler = MinMaxScaler()"
   ]
  },
  {
   "cell_type": "code",
   "execution_count": 185,
   "id": "67f781dc",
   "metadata": {},
   "outputs": [],
   "source": [
    "minmax_scaler.fit(X_train)\n",
    "X_train_scaled = minmax_scaler.transform(X_train)\n",
    "X_test_scaled = minmax_scaler.transform(X_test)"
   ]
  },
  {
   "cell_type": "code",
   "execution_count": 187,
   "id": "fd5d3949",
   "metadata": {},
   "outputs": [
    {
     "data": {
      "text/plain": [
       "0.46823674223097866"
      ]
     },
     "execution_count": 187,
     "metadata": {},
     "output_type": "execute_result"
    }
   ],
   "source": [
    "np.mean(X_test_scaled[:, 0]) # для первого столбца!"
   ]
  },
  {
   "cell_type": "markdown",
   "id": "0894c632",
   "metadata": {},
   "source": [
    "# Часть 4: Решение задачи классификации: логистическая регрессия и решающие деревья"
   ]
  },
  {
   "cell_type": "markdown",
   "id": "41b8ff06",
   "metadata": {},
   "source": [
    "### Задание 1"
   ]
  },
  {
   "cell_type": "code",
   "execution_count": 188,
   "id": "8acc0166",
   "metadata": {},
   "outputs": [
    {
     "data": {
      "text/plain": [
       "LogisticRegression(max_iter=1000, random_state=42, solver='sag')"
      ]
     },
     "execution_count": 188,
     "metadata": {},
     "output_type": "execute_result"
    }
   ],
   "source": [
    "from sklearn.linear_model import LogisticRegression\n",
    "\n",
    "clf = LogisticRegression(solver = 'sag', random_state = 42, max_iter = 1000)\n",
    "clf.fit(X_train_scaled, y_train)"
   ]
  },
  {
   "cell_type": "code",
   "execution_count": 189,
   "id": "eec7ebe8",
   "metadata": {},
   "outputs": [],
   "source": [
    "y_pred = clf.predict(X_test_scaled)"
   ]
  },
  {
   "cell_type": "code",
   "execution_count": 190,
   "id": "1aa53a40",
   "metadata": {},
   "outputs": [
    {
     "data": {
      "text/plain": [
       "0.8047976011994002"
      ]
     },
     "execution_count": 190,
     "metadata": {},
     "output_type": "execute_result"
    }
   ],
   "source": [
    "from sklearn.metrics import accuracy_score\n",
    "accuracy_score(y_test, y_pred)"
   ]
  },
  {
   "cell_type": "markdown",
   "id": "29b7e0ba",
   "metadata": {},
   "source": [
    "### Задания 2,3,4"
   ]
  },
  {
   "cell_type": "code",
   "execution_count": 192,
   "id": "c91a588b",
   "metadata": {},
   "outputs": [
    {
     "data": {
      "text/plain": [
       "DecisionTreeClassifier(criterion='entropy', random_state=42)"
      ]
     },
     "execution_count": 192,
     "metadata": {},
     "output_type": "execute_result"
    }
   ],
   "source": [
    "from sklearn.tree import DecisionTreeClassifier\n",
    "\n",
    "tree_clf = DecisionTreeClassifier(criterion = 'entropy', random_state = 42)\n",
    "tree_clf.fit(X_train_scaled, y_train)"
   ]
  },
  {
   "cell_type": "code",
   "execution_count": 198,
   "id": "d5c32dac",
   "metadata": {},
   "outputs": [],
   "source": [
    "y_pred_train = tree_clf.predict(X_train_scaled)"
   ]
  },
  {
   "cell_type": "code",
   "execution_count": 199,
   "id": "03c8c1b4",
   "metadata": {},
   "outputs": [
    {
     "data": {
      "text/plain": [
       "1.0"
      ]
     },
     "execution_count": 199,
     "metadata": {},
     "output_type": "execute_result"
    }
   ],
   "source": [
    "accuracy_score(y_train, y_pred_train)"
   ]
  },
  {
   "cell_type": "code",
   "execution_count": 193,
   "id": "506b0e3d",
   "metadata": {},
   "outputs": [],
   "source": [
    "y_pred = tree_clf.predict(X_test_scaled)"
   ]
  },
  {
   "cell_type": "code",
   "execution_count": 195,
   "id": "5cc63815",
   "metadata": {},
   "outputs": [
    {
     "data": {
      "text/plain": [
       "0.7472263868065967"
      ]
     },
     "execution_count": 195,
     "metadata": {},
     "output_type": "execute_result"
    }
   ],
   "source": [
    "accuracy_score(y_test, y_pred)"
   ]
  },
  {
   "cell_type": "markdown",
   "id": "fe823c18",
   "metadata": {},
   "source": [
    "### Задание 5"
   ]
  },
  {
   "cell_type": "code",
   "execution_count": 200,
   "id": "63574943",
   "metadata": {},
   "outputs": [],
   "source": [
    "from sklearn.model_selection import GridSearchCV"
   ]
  },
  {
   "cell_type": "code",
   "execution_count": 203,
   "id": "1aeb1951",
   "metadata": {},
   "outputs": [
    {
     "data": {
      "text/plain": [
       "[5, 6, 7, 8, 9, 10, 11, 12, 13, 14, 15, 16, 17, 18, 19, 20]"
      ]
     },
     "execution_count": 203,
     "metadata": {},
     "output_type": "execute_result"
    }
   ],
   "source": [
    "list(range(5, 21))"
   ]
  },
  {
   "cell_type": "code",
   "execution_count": 233,
   "id": "295a595a",
   "metadata": {},
   "outputs": [],
   "source": [
    "param_grid = {\n",
    "    'max_depth': list(range(5, 21))\n",
    "}"
   ]
  },
  {
   "cell_type": "code",
   "execution_count": 234,
   "id": "39dbc042",
   "metadata": {},
   "outputs": [
    {
     "name": "stdout",
     "output_type": "stream",
     "text": [
      "CPU times: user 2 µs, sys: 0 ns, total: 2 µs\n",
      "Wall time: 4.05 µs\n"
     ]
    },
    {
     "data": {
      "text/plain": [
       "GridSearchCV(cv=5,\n",
       "             estimator=DecisionTreeClassifier(criterion='entropy',\n",
       "                                              random_state=42),\n",
       "             n_jobs=-1,\n",
       "             param_grid={'max_depth': [5, 6, 7, 8, 9, 10, 11, 12, 13, 14, 15,\n",
       "                                       16, 17, 18, 19, 20]},\n",
       "             return_train_score=True, scoring='accuracy')"
      ]
     },
     "execution_count": 234,
     "metadata": {},
     "output_type": "execute_result"
    }
   ],
   "source": [
    "grid_rf = GridSearchCV(\n",
    "    estimator = DecisionTreeClassifier(criterion = 'entropy', random_state = 42),\n",
    "    param_grid = param_grid,\n",
    "    cv = 5,\n",
    "    n_jobs = -1,\n",
    "    return_train_score = True,\n",
    "    scoring = 'accuracy'\n",
    ")\n",
    "\n",
    "%time\n",
    "grid_rf.fit(X_train_scaled, y_train)"
   ]
  },
  {
   "cell_type": "code",
   "execution_count": 235,
   "id": "a1e2bcb7",
   "metadata": {},
   "outputs": [
    {
     "data": {
      "text/plain": [
       "{'max_depth': 9}"
      ]
     },
     "execution_count": 235,
     "metadata": {},
     "output_type": "execute_result"
    }
   ],
   "source": [
    "grid_rf.best_params_ # потому что scoring!"
   ]
  },
  {
   "cell_type": "code",
   "execution_count": 217,
   "id": "19339aa0",
   "metadata": {},
   "outputs": [],
   "source": [
    "y_train_pred = grid_rf.predict(X_train_scaled)"
   ]
  },
  {
   "cell_type": "code",
   "execution_count": 218,
   "id": "9ee758bf",
   "metadata": {},
   "outputs": [
    {
     "data": {
      "text/plain": [
       "0.8522895125553914"
      ]
     },
     "execution_count": 218,
     "metadata": {},
     "output_type": "execute_result"
    }
   ],
   "source": [
    "accuracy_score(y_train, y_train_pred)"
   ]
  },
  {
   "cell_type": "code",
   "execution_count": 219,
   "id": "868dc5ec",
   "metadata": {},
   "outputs": [],
   "source": [
    "y_test_pred = grid_rf.predict(X_test_scaled)"
   ]
  },
  {
   "cell_type": "code",
   "execution_count": 220,
   "id": "32f3e925",
   "metadata": {},
   "outputs": [
    {
     "data": {
      "text/plain": [
       "0.8101949025487256"
      ]
     },
     "execution_count": 220,
     "metadata": {},
     "output_type": "execute_result"
    }
   ],
   "source": [
    "accuracy_score(y_test, y_test_pred)"
   ]
  },
  {
   "cell_type": "code",
   "execution_count": 236,
   "id": "4b9cdc49",
   "metadata": {},
   "outputs": [],
   "source": [
    "param_grid = {\n",
    "    'max_depth': [3, 5, 7],\n",
    "    'min_samples_split': [2, 5, 7, 10]\n",
    "}"
   ]
  },
  {
   "cell_type": "code",
   "execution_count": 237,
   "id": "07a65516",
   "metadata": {},
   "outputs": [
    {
     "name": "stdout",
     "output_type": "stream",
     "text": [
      "CPU times: user 3 µs, sys: 0 ns, total: 3 µs\n",
      "Wall time: 4.05 µs\n"
     ]
    },
    {
     "data": {
      "text/plain": [
       "GridSearchCV(cv=5,\n",
       "             estimator=DecisionTreeClassifier(criterion='entropy',\n",
       "                                              random_state=42),\n",
       "             n_jobs=-1,\n",
       "             param_grid={'max_depth': [3, 5, 7],\n",
       "                         'min_samples_split': [2, 5, 7, 10]},\n",
       "             return_train_score=True, scoring='f1')"
      ]
     },
     "execution_count": 237,
     "metadata": {},
     "output_type": "execute_result"
    }
   ],
   "source": [
    "grid_rf = GridSearchCV(\n",
    "    estimator = DecisionTreeClassifier(criterion = 'entropy', random_state = 42),\n",
    "    param_grid = param_grid,\n",
    "    cv = 5,\n",
    "    n_jobs = -1,\n",
    "    return_train_score = True,\n",
    "    scoring = 'f1'\n",
    ")\n",
    "\n",
    "%time\n",
    "grid_rf.fit(X_train_scaled, y_train)"
   ]
  },
  {
   "cell_type": "code",
   "execution_count": 238,
   "id": "4a83de97",
   "metadata": {},
   "outputs": [
    {
     "data": {
      "text/plain": [
       "{'max_depth': 7, 'min_samples_split': 10}"
      ]
     },
     "execution_count": 238,
     "metadata": {},
     "output_type": "execute_result"
    }
   ],
   "source": [
    "grid_rf.best_params_"
   ]
  },
  {
   "cell_type": "code",
   "execution_count": 240,
   "id": "0b804175",
   "metadata": {},
   "outputs": [],
   "source": [
    "y_test_pred = grid_rf.predict(X_test_scaled)"
   ]
  },
  {
   "cell_type": "code",
   "execution_count": 227,
   "id": "fa0993e2",
   "metadata": {},
   "outputs": [],
   "source": [
    "from sklearn.metrics import f1_score"
   ]
  },
  {
   "cell_type": "code",
   "execution_count": 241,
   "id": "93ae8d9d",
   "metadata": {},
   "outputs": [
    {
     "data": {
      "text/plain": [
       "0.805484693877551"
      ]
     },
     "execution_count": 241,
     "metadata": {},
     "output_type": "execute_result"
    }
   ],
   "source": [
    "f1_score(y_test, y_test_pred)"
   ]
  },
  {
   "cell_type": "markdown",
   "id": "ed0fc831",
   "metadata": {},
   "source": [
    "# Часть 5: Решение задачи классификации: ансамбли моделей и построение прогноза"
   ]
  },
  {
   "cell_type": "markdown",
   "id": "f9e36ff2",
   "metadata": {},
   "source": [
    "### Задание 1"
   ]
  },
  {
   "cell_type": "code",
   "execution_count": 202,
   "id": "e708e3fe",
   "metadata": {},
   "outputs": [],
   "source": [
    "from sklearn.ensemble import RandomForestClassifier"
   ]
  },
  {
   "cell_type": "code",
   "execution_count": 243,
   "id": "96535bc0",
   "metadata": {},
   "outputs": [],
   "source": [
    "clf = RandomForestClassifier(n_estimators = 100, criterion = 'gini', min_samples_leaf = 5,\n",
    "                             max_depth = 10, random_state = 42)"
   ]
  },
  {
   "cell_type": "code",
   "execution_count": 244,
   "id": "bdbec6ac",
   "metadata": {},
   "outputs": [
    {
     "data": {
      "text/plain": [
       "RandomForestClassifier(max_depth=10, min_samples_leaf=5, random_state=42)"
      ]
     },
     "execution_count": 244,
     "metadata": {},
     "output_type": "execute_result"
    }
   ],
   "source": [
    "clf.fit(X_train_scaled, y_train)"
   ]
  },
  {
   "cell_type": "code",
   "execution_count": 245,
   "id": "cc905f53",
   "metadata": {},
   "outputs": [],
   "source": [
    "y_pred = clf.predict(X_test_scaled)"
   ]
  },
  {
   "cell_type": "code",
   "execution_count": 252,
   "id": "141a67ef",
   "metadata": {},
   "outputs": [
    {
     "data": {
      "text/plain": [
       "0.8284857571214392"
      ]
     },
     "execution_count": 252,
     "metadata": {},
     "output_type": "execute_result"
    }
   ],
   "source": [
    "accuracy_score(y_test, y_pred)"
   ]
  },
  {
   "cell_type": "code",
   "execution_count": 251,
   "id": "f9edda6a",
   "metadata": {},
   "outputs": [],
   "source": [
    "from sklearn.metrics import recall_score"
   ]
  },
  {
   "cell_type": "code",
   "execution_count": 253,
   "id": "a822e057",
   "metadata": {},
   "outputs": [
    {
     "data": {
      "text/plain": [
       "0.8349514563106796"
      ]
     },
     "execution_count": 253,
     "metadata": {},
     "output_type": "execute_result"
    }
   ],
   "source": [
    "recall_score(y_test, y_pred)"
   ]
  },
  {
   "cell_type": "markdown",
   "id": "71d7b13d",
   "metadata": {},
   "source": [
    "### Задания 2 и 3"
   ]
  },
  {
   "cell_type": "code",
   "execution_count": 254,
   "id": "99f12dfe",
   "metadata": {},
   "outputs": [
    {
     "name": "stdout",
     "output_type": "stream",
     "text": [
      "Train: 0.88\n",
      "Test: 0.82\n"
     ]
    }
   ],
   "source": [
    "from sklearn.ensemble import GradientBoostingClassifier\n",
    "\n",
    "gb = GradientBoostingClassifier(learning_rate = 0.05, n_estimators = 300, min_samples_leaf = 5, \n",
    "                                max_depth = 5, random_state = 42)\n",
    "\n",
    "gb.fit(X_train_scaled, y_train)\n",
    "y_train_pred = gb.predict(X_train_scaled)\n",
    "y_test_pred = gb.predict(X_test_scaled)\n",
    "\n",
    "print('Train: {:.2f}'.format(metrics.f1_score(y_train, y_train_pred)))\n",
    "print('Test: {:.2f}'.format(metrics.f1_score(y_test, y_test_pred)))"
   ]
  },
  {
   "cell_type": "code",
   "execution_count": 261,
   "id": "1466312c",
   "metadata": {},
   "outputs": [
    {
     "data": {
      "text/plain": [
       "array([5.97643550e-02, 4.65833677e-02, 5.01986860e-01, 1.71007263e-02,\n",
       "       5.56468221e-02, 8.90089468e-03, 4.21017535e-02, 4.60013696e-03,\n",
       "       7.37616775e-02, 2.61442415e-02, 1.45077474e-02, 1.88237113e-02,\n",
       "       1.34275061e-02, 1.16263701e-01, 3.86499211e-04])"
      ]
     },
     "execution_count": 261,
     "metadata": {},
     "output_type": "execute_result"
    }
   ],
   "source": [
    "gb.feature_importances_"
   ]
  },
  {
   "cell_type": "code",
   "execution_count": 267,
   "id": "0961b0bf",
   "metadata": {},
   "outputs": [
    {
     "data": {
      "text/plain": [
       "duration            0.501987\n",
       "poutcome_success    0.116264\n",
       "contact_unknown     0.073762\n",
       "balance             0.059764\n",
       "pdays               0.055647\n",
       "housing             0.046583\n",
       "age_cat             0.042102\n",
       "month_mar           0.026144\n",
       "month_oct           0.018824\n",
       "campaign            0.017101\n",
       "month_may           0.014508\n",
       "month_sep           0.013428\n",
       "previous            0.008901\n",
       "contact_cellular    0.004600\n",
       "poutcome_unknown    0.000386\n",
       "dtype: float64"
      ]
     },
     "execution_count": 267,
     "metadata": {},
     "output_type": "execute_result"
    }
   ],
   "source": [
    "pd.Series(data = gb.feature_importances_, index = X_train.columns).sort_values(ascending = False)"
   ]
  },
  {
   "cell_type": "markdown",
   "id": "b08718ae",
   "metadata": {},
   "source": [
    "### Задание 4"
   ]
  },
  {
   "cell_type": "code",
   "execution_count": 257,
   "id": "78d61362",
   "metadata": {},
   "outputs": [],
   "source": [
    "from sklearn.ensemble import StackingClassifier #StackingClassifier(estimators, final_estimator)"
   ]
  },
  {
   "cell_type": "code",
   "execution_count": 268,
   "id": "09cb6fdb",
   "metadata": {},
   "outputs": [],
   "source": [
    "logreg_clf = LogisticRegression(solver = 'sag', random_state = 42, max_iter = 1000)"
   ]
  },
  {
   "cell_type": "code",
   "execution_count": 269,
   "id": "cb1ba64a",
   "metadata": {},
   "outputs": [],
   "source": [
    "tree_clf = DecisionTreeClassifier(criterion = 'entropy', max_depth = 9, random_state = 42)"
   ]
  },
  {
   "cell_type": "code",
   "execution_count": 270,
   "id": "7c06b4da",
   "metadata": {},
   "outputs": [],
   "source": [
    "rf_clf = RandomForestClassifier(n_estimators = 100, criterion = 'gini', min_samples_leaf = 5,\n",
    "                             max_depth = 10, random_state = 42)"
   ]
  },
  {
   "cell_type": "code",
   "execution_count": 272,
   "id": "0bd42fb0",
   "metadata": {},
   "outputs": [],
   "source": [
    "estimators = [('LogisticRegression', logreg_clf),\n",
    "             ('DecisionTreeClassifier', tree_clf),\n",
    "             ('RandomForestClassifier', rf_clf)]"
   ]
  },
  {
   "cell_type": "code",
   "execution_count": 273,
   "id": "f29fe6f9",
   "metadata": {},
   "outputs": [],
   "source": [
    "metamodel = StackingClassifier(estimators = estimators, final_estimator = LogisticRegression())"
   ]
  },
  {
   "cell_type": "code",
   "execution_count": 274,
   "id": "0d021f92",
   "metadata": {},
   "outputs": [
    {
     "data": {
      "text/plain": [
       "StackingClassifier(estimators=[('LogisticRegression',\n",
       "                                LogisticRegression(max_iter=1000,\n",
       "                                                   random_state=42,\n",
       "                                                   solver='sag')),\n",
       "                               ('DecisionTreeClassifier',\n",
       "                                DecisionTreeClassifier(criterion='entropy',\n",
       "                                                       max_depth=9,\n",
       "                                                       random_state=42)),\n",
       "                               ('RandomForestClassifier',\n",
       "                                RandomForestClassifier(max_depth=10,\n",
       "                                                       min_samples_leaf=5,\n",
       "                                                       random_state=42))],\n",
       "                   final_estimator=LogisticRegression())"
      ]
     },
     "execution_count": 274,
     "metadata": {},
     "output_type": "execute_result"
    }
   ],
   "source": [
    "metamodel.fit(X_train_scaled, y_train)"
   ]
  },
  {
   "cell_type": "code",
   "execution_count": 275,
   "id": "4c059018",
   "metadata": {},
   "outputs": [],
   "source": [
    "y_pred = metamodel.predict(X_test_scaled)"
   ]
  },
  {
   "cell_type": "code",
   "execution_count": 256,
   "id": "38e3d6b5",
   "metadata": {},
   "outputs": [],
   "source": [
    "from sklearn.metrics import precision_score"
   ]
  },
  {
   "cell_type": "code",
   "execution_count": 276,
   "id": "17203f89",
   "metadata": {},
   "outputs": [
    {
     "data": {
      "text/plain": [
       "0.8071292170591979"
      ]
     },
     "execution_count": 276,
     "metadata": {},
     "output_type": "execute_result"
    }
   ],
   "source": [
    "precision_score(y_test, y_pred)"
   ]
  },
  {
   "cell_type": "markdown",
   "id": "96974dda",
   "metadata": {},
   "source": [
    "### Optuna"
   ]
  },
  {
   "cell_type": "code",
   "execution_count": 277,
   "id": "d3e94b62",
   "metadata": {},
   "outputs": [],
   "source": [
    "import optuna"
   ]
  },
  {
   "cell_type": "code",
   "execution_count": 285,
   "id": "2b412c31",
   "metadata": {},
   "outputs": [
    {
     "name": "stderr",
     "output_type": "stream",
     "text": [
      "\u001b[32m[I 2023-05-05 11:01:37,287]\u001b[0m A new study created in memory with name: RandomForestClassifier\u001b[0m\n"
     ]
    },
    {
     "name": "stdout",
     "output_type": "stream",
     "text": [
      "CPU times: user 3 µs, sys: 0 ns, total: 3 µs\n",
      "Wall time: 4.53 µs\n"
     ]
    },
    {
     "name": "stderr",
     "output_type": "stream",
     "text": [
      "\u001b[32m[I 2023-05-05 11:01:38,887]\u001b[0m Trial 0 finished with value: 0.8209893980479451 and parameters: {'n_estimators': 150, 'max_depth': 19, 'min_samples_leaf': 8}. Best is trial 0 with value: 0.8209893980479451.\u001b[0m\n",
      "\u001b[32m[I 2023-05-05 11:01:39,566]\u001b[0m Trial 1 finished with value: 0.818956731550597 and parameters: {'n_estimators': 119, 'max_depth': 10, 'min_samples_leaf': 10}. Best is trial 0 with value: 0.8209893980479451.\u001b[0m\n",
      "\u001b[32m[I 2023-05-05 11:01:40,322]\u001b[0m Trial 2 finished with value: 0.8221290210798271 and parameters: {'n_estimators': 125, 'max_depth': 15, 'min_samples_leaf': 8}. Best is trial 2 with value: 0.8221290210798271.\u001b[0m\n",
      "\u001b[32m[I 2023-05-05 11:01:41,635]\u001b[0m Trial 3 finished with value: 0.8267724888527486 and parameters: {'n_estimators': 179, 'max_depth': 20, 'min_samples_leaf': 2}. Best is trial 3 with value: 0.8267724888527486.\u001b[0m\n",
      "\u001b[32m[I 2023-05-05 11:01:42,354]\u001b[0m Trial 4 finished with value: 0.821501619099611 and parameters: {'n_estimators': 123, 'max_depth': 28, 'min_samples_leaf': 10}. Best is trial 3 with value: 0.8267724888527486.\u001b[0m\n",
      "\u001b[32m[I 2023-05-05 11:01:43,112]\u001b[0m Trial 5 finished with value: 0.8272779968821344 and parameters: {'n_estimators': 119, 'max_depth': 12, 'min_samples_leaf': 4}. Best is trial 5 with value: 0.8272779968821344.\u001b[0m\n",
      "\u001b[32m[I 2023-05-05 11:01:44,005]\u001b[0m Trial 6 finished with value: 0.8197745483451131 and parameters: {'n_estimators': 146, 'max_depth': 23, 'min_samples_leaf': 8}. Best is trial 5 with value: 0.8272779968821344.\u001b[0m\n",
      "\u001b[32m[I 2023-05-05 11:01:44,701]\u001b[0m Trial 7 finished with value: 0.8195842225456689 and parameters: {'n_estimators': 114, 'max_depth': 21, 'min_samples_leaf': 8}. Best is trial 5 with value: 0.8272779968821344.\u001b[0m\n",
      "\u001b[32m[I 2023-05-05 11:01:45,701]\u001b[0m Trial 8 finished with value: 0.8251509484340753 and parameters: {'n_estimators': 159, 'max_depth': 29, 'min_samples_leaf': 6}. Best is trial 5 with value: 0.8272779968821344.\u001b[0m\n",
      "\u001b[32m[I 2023-05-05 11:01:46,491]\u001b[0m Trial 9 finished with value: 0.825240167383597 and parameters: {'n_estimators': 112, 'max_depth': 26, 'min_samples_leaf': 4}. Best is trial 5 with value: 0.8272779968821344.\u001b[0m\n",
      "\u001b[32m[I 2023-05-05 11:01:47,716]\u001b[0m Trial 10 finished with value: 0.8259377261257118 and parameters: {'n_estimators': 197, 'max_depth': 10, 'min_samples_leaf': 2}. Best is trial 5 with value: 0.8272779968821344.\u001b[0m\n",
      "\u001b[32m[I 2023-05-05 11:01:49,134]\u001b[0m Trial 11 finished with value: 0.8247675311590068 and parameters: {'n_estimators': 184, 'max_depth': 17, 'min_samples_leaf': 2}. Best is trial 5 with value: 0.8272779968821344.\u001b[0m\n",
      "\u001b[32m[I 2023-05-05 11:01:50,294]\u001b[0m Trial 12 finished with value: 0.8255086999168458 and parameters: {'n_estimators': 173, 'max_depth': 13, 'min_samples_leaf': 4}. Best is trial 5 with value: 0.8272779968821344.\u001b[0m\n",
      "\u001b[32m[I 2023-05-05 11:01:51,233]\u001b[0m Trial 13 finished with value: 0.8262764749741749 and parameters: {'n_estimators': 137, 'max_depth': 23, 'min_samples_leaf': 4}. Best is trial 5 with value: 0.8272779968821344.\u001b[0m\n",
      "\u001b[32m[I 2023-05-05 11:01:51,945]\u001b[0m Trial 14 finished with value: 0.828270606002377 and parameters: {'n_estimators': 101, 'max_depth': 15, 'min_samples_leaf': 3}. Best is trial 14 with value: 0.828270606002377.\u001b[0m\n",
      "\u001b[32m[I 2023-05-05 11:01:52,614]\u001b[0m Trial 15 finished with value: 0.8226197708892761 and parameters: {'n_estimators': 100, 'max_depth': 13, 'min_samples_leaf': 5}. Best is trial 14 with value: 0.828270606002377.\u001b[0m\n",
      "\u001b[32m[I 2023-05-05 11:01:53,352]\u001b[0m Trial 16 finished with value: 0.8268755784394208 and parameters: {'n_estimators': 100, 'max_depth': 14, 'min_samples_leaf': 3}. Best is trial 14 with value: 0.828270606002377.\u001b[0m\n",
      "\u001b[32m[I 2023-05-05 11:01:54,284]\u001b[0m Trial 17 finished with value: 0.825105876385883 and parameters: {'n_estimators': 136, 'max_depth': 17, 'min_samples_leaf': 6}. Best is trial 14 with value: 0.828270606002377.\u001b[0m\n",
      "\u001b[32m[I 2023-05-05 11:01:54,986]\u001b[0m Trial 18 finished with value: 0.8245109840535344 and parameters: {'n_estimators': 107, 'max_depth': 12, 'min_samples_leaf': 5}. Best is trial 14 with value: 0.828270606002377.\u001b[0m\n",
      "\u001b[32m[I 2023-05-05 11:01:55,893]\u001b[0m Trial 19 finished with value: 0.8243593884528242 and parameters: {'n_estimators': 132, 'max_depth': 17, 'min_samples_leaf': 3}. Best is trial 14 with value: 0.828270606002377.\u001b[0m\n",
      "\u001b[32m[I 2023-05-05 11:01:57,010]\u001b[0m Trial 20 finished with value: 0.8298140277094161 and parameters: {'n_estimators': 161, 'max_depth': 16, 'min_samples_leaf': 3}. Best is trial 20 with value: 0.8298140277094161.\u001b[0m\n",
      "\u001b[32m[I 2023-05-05 11:01:58,178]\u001b[0m Trial 21 finished with value: 0.8274495601186083 and parameters: {'n_estimators': 166, 'max_depth': 15, 'min_samples_leaf': 3}. Best is trial 20 with value: 0.8298140277094161.\u001b[0m\n",
      "\u001b[32m[I 2023-05-05 11:01:59,364]\u001b[0m Trial 22 finished with value: 0.829101540839428 and parameters: {'n_estimators': 163, 'max_depth': 16, 'min_samples_leaf': 3}. Best is trial 20 with value: 0.8298140277094161.\u001b[0m\n",
      "\u001b[32m[I 2023-05-05 11:02:00,524]\u001b[0m Trial 23 finished with value: 0.8285723633630842 and parameters: {'n_estimators': 161, 'max_depth': 18, 'min_samples_leaf': 3}. Best is trial 20 with value: 0.8298140277094161.\u001b[0m\n",
      "\u001b[32m[I 2023-05-05 11:02:01,628]\u001b[0m Trial 24 finished with value: 0.8248354860576596 and parameters: {'n_estimators': 159, 'max_depth': 18, 'min_samples_leaf': 5}. Best is trial 20 with value: 0.8298140277094161.\u001b[0m\n",
      "\u001b[32m[I 2023-05-05 11:02:02,816]\u001b[0m Trial 25 finished with value: 0.8284617517701234 and parameters: {'n_estimators': 157, 'max_depth': 22, 'min_samples_leaf': 2}. Best is trial 20 with value: 0.8298140277094161.\u001b[0m\n",
      "\u001b[32m[I 2023-05-05 11:02:03,984]\u001b[0m Trial 26 finished with value: 0.8249538144835744 and parameters: {'n_estimators': 172, 'max_depth': 19, 'min_samples_leaf': 6}. Best is trial 20 with value: 0.8298140277094161.\u001b[0m\n",
      "\u001b[32m[I 2023-05-05 11:02:05,371]\u001b[0m Trial 27 finished with value: 0.8298917790383262 and parameters: {'n_estimators': 192, 'max_depth': 16, 'min_samples_leaf': 3}. Best is trial 27 with value: 0.8298917790383262.\u001b[0m\n",
      "\u001b[32m[I 2023-05-05 11:02:06,818]\u001b[0m Trial 28 finished with value: 0.8267343167536412 and parameters: {'n_estimators': 198, 'max_depth': 16, 'min_samples_leaf': 4}. Best is trial 27 with value: 0.8298917790383262.\u001b[0m\n",
      "\u001b[32m[I 2023-05-05 11:02:07,713]\u001b[0m Trial 29 finished with value: 0.8217916950499795 and parameters: {'n_estimators': 146, 'max_depth': 20, 'min_samples_leaf': 7}. Best is trial 27 with value: 0.8298917790383262.\u001b[0m\n",
      "\u001b[32m[I 2023-05-05 11:02:09,001]\u001b[0m Trial 30 finished with value: 0.826285242154313 and parameters: {'n_estimators': 190, 'max_depth': 19, 'min_samples_leaf': 5}. Best is trial 27 with value: 0.8298917790383262.\u001b[0m\n",
      "\u001b[32m[I 2023-05-05 11:02:10,223]\u001b[0m Trial 31 finished with value: 0.8298216025101027 and parameters: {'n_estimators': 166, 'max_depth': 18, 'min_samples_leaf': 3}. Best is trial 27 with value: 0.8298917790383262.\u001b[0m\n",
      "\u001b[32m[I 2023-05-05 11:02:11,286]\u001b[0m Trial 32 finished with value: 0.8284959216084197 and parameters: {'n_estimators': 152, 'max_depth': 16, 'min_samples_leaf': 3}. Best is trial 27 with value: 0.8298917790383262.\u001b[0m\n",
      "\u001b[32m[I 2023-05-05 11:02:12,529]\u001b[0m Trial 33 finished with value: 0.8261097357369211 and parameters: {'n_estimators': 167, 'max_depth': 14, 'min_samples_leaf': 2}. Best is trial 27 with value: 0.8298917790383262.\u001b[0m\n",
      "\u001b[32m[I 2023-05-05 11:02:13,765]\u001b[0m Trial 34 finished with value: 0.8295778801740188 and parameters: {'n_estimators': 176, 'max_depth': 18, 'min_samples_leaf': 3}. Best is trial 27 with value: 0.8298917790383262.\u001b[0m\n",
      "\u001b[32m[I 2023-05-05 11:02:15,178]\u001b[0m Trial 35 finished with value: 0.8278038804004456 and parameters: {'n_estimators': 180, 'max_depth': 21, 'min_samples_leaf': 2}. Best is trial 27 with value: 0.8298917790383262.\u001b[0m\n",
      "\u001b[32m[I 2023-05-05 11:02:16,572]\u001b[0m Trial 36 finished with value: 0.8256914128834294 and parameters: {'n_estimators': 190, 'max_depth': 18, 'min_samples_leaf': 4}. Best is trial 27 with value: 0.8298917790383262.\u001b[0m\n",
      "\u001b[32m[I 2023-05-05 11:02:17,646]\u001b[0m Trial 37 finished with value: 0.8178310012634196 and parameters: {'n_estimators': 174, 'max_depth': 11, 'min_samples_leaf': 9}. Best is trial 27 with value: 0.8298917790383262.\u001b[0m\n"
     ]
    },
    {
     "name": "stderr",
     "output_type": "stream",
     "text": [
      "\u001b[32m[I 2023-05-05 11:02:18,892]\u001b[0m Trial 38 finished with value: 0.8261231319130703 and parameters: {'n_estimators': 187, 'max_depth': 25, 'min_samples_leaf': 4}. Best is trial 27 with value: 0.8298917790383262.\u001b[0m\n",
      "\u001b[32m[I 2023-05-05 11:02:20,311]\u001b[0m Trial 39 finished with value: 0.8267724888527486 and parameters: {'n_estimators': 179, 'max_depth': 20, 'min_samples_leaf': 2}. Best is trial 27 with value: 0.8298917790383262.\u001b[0m\n",
      "\u001b[32m[I 2023-05-05 11:02:21,285]\u001b[0m Trial 40 finished with value: 0.8233571069388461 and parameters: {'n_estimators': 153, 'max_depth': 15, 'min_samples_leaf': 7}. Best is trial 27 with value: 0.8298917790383262.\u001b[0m\n",
      "\u001b[32m[I 2023-05-05 11:02:22,420]\u001b[0m Trial 41 finished with value: 0.829661398120578 and parameters: {'n_estimators': 166, 'max_depth': 16, 'min_samples_leaf': 3}. Best is trial 27 with value: 0.8298917790383262.\u001b[0m\n",
      "\u001b[32m[I 2023-05-05 11:02:23,644]\u001b[0m Trial 42 finished with value: 0.8243241339965582 and parameters: {'n_estimators': 168, 'max_depth': 17, 'min_samples_leaf': 3}. Best is trial 27 with value: 0.8298917790383262.\u001b[0m\n",
      "\u001b[32m[I 2023-05-05 11:02:24,979]\u001b[0m Trial 43 finished with value: 0.8267514630663582 and parameters: {'n_estimators': 177, 'max_depth': 19, 'min_samples_leaf': 3}. Best is trial 27 with value: 0.8298917790383262.\u001b[0m\n",
      "\u001b[32m[I 2023-05-05 11:02:25,981]\u001b[0m Trial 44 finished with value: 0.8279804353556486 and parameters: {'n_estimators': 146, 'max_depth': 14, 'min_samples_leaf': 4}. Best is trial 27 with value: 0.8298917790383262.\u001b[0m\n",
      "\u001b[32m[I 2023-05-05 11:02:27,459]\u001b[0m Trial 45 finished with value: 0.8273034899845577 and parameters: {'n_estimators': 194, 'max_depth': 16, 'min_samples_leaf': 2}. Best is trial 27 with value: 0.8298917790383262.\u001b[0m\n",
      "\u001b[32m[I 2023-05-05 11:02:28,706]\u001b[0m Trial 46 finished with value: 0.8271160615089755 and parameters: {'n_estimators': 183, 'max_depth': 18, 'min_samples_leaf': 4}. Best is trial 27 with value: 0.8298917790383262.\u001b[0m\n",
      "\u001b[32m[I 2023-05-05 11:02:29,905]\u001b[0m Trial 47 finished with value: 0.8279713360762759 and parameters: {'n_estimators': 171, 'max_depth': 21, 'min_samples_leaf': 3}. Best is trial 27 with value: 0.8298917790383262.\u001b[0m\n",
      "\u001b[32m[I 2023-05-05 11:02:30,882]\u001b[0m Trial 48 finished with value: 0.8227265929806435 and parameters: {'n_estimators': 155, 'max_depth': 13, 'min_samples_leaf': 5}. Best is trial 27 with value: 0.8298917790383262.\u001b[0m\n",
      "\u001b[32m[I 2023-05-05 11:02:32,276]\u001b[0m Trial 49 finished with value: 0.8247675311590068 and parameters: {'n_estimators': 184, 'max_depth': 17, 'min_samples_leaf': 2}. Best is trial 27 with value: 0.8298917790383262.\u001b[0m\n"
     ]
    },
    {
     "name": "stdout",
     "output_type": "stream",
     "text": [
      "Наилучшие значения гиперпараметров {'n_estimators': 192, 'max_depth': 16, 'min_samples_leaf': 3}\n"
     ]
    }
   ],
   "source": [
    "from sklearn.model_selection import cross_val_score\n",
    "\n",
    "def optuna_rf(trial):\n",
    "    n_estimators = trial.suggest_int('n_estimators', 100, 200, 1)\n",
    "    max_depth = trial.suggest_int('max_depth', 10, 30, 1)\n",
    "    min_samples_leaf = trial.suggest_int('min_samples_leaf', 2, 10, 1)\n",
    "    \n",
    "    model = RandomForestClassifier(n_estimators = n_estimators, max_depth = max_depth, \n",
    "                                   min_samples_leaf = min_samples_leaf, random_state = 42)\n",
    "    \n",
    "    score = cross_val_score(model, X=X_train_scaled, y=y_train, cv=5, scoring='f1', n_jobs=-1).mean()\n",
    "    return score\n",
    "\n",
    "%time\n",
    "# cоздаем объект исследования\n",
    "study = optuna.create_study(study_name='RandomForestClassifier', direction='maximize')\n",
    "# ищем лучшую комбинацию гиперпараметров n_trials раз\n",
    "study.optimize(optuna_rf, n_trials=50)\n",
    "\n",
    "print('Наилучшие значения гиперпараметров {}'.format(study.best_params))"
   ]
  },
  {
   "cell_type": "code",
   "execution_count": 286,
   "id": "3288c3ab",
   "metadata": {},
   "outputs": [],
   "source": [
    "clf = RandomForestClassifier(n_estimators = 192, max_depth = 16, min_samples_leaf = 3)"
   ]
  },
  {
   "cell_type": "code",
   "execution_count": 287,
   "id": "75bd59d7",
   "metadata": {},
   "outputs": [
    {
     "data": {
      "text/plain": [
       "RandomForestClassifier(max_depth=16, min_samples_leaf=3, n_estimators=192)"
      ]
     },
     "execution_count": 287,
     "metadata": {},
     "output_type": "execute_result"
    }
   ],
   "source": [
    "clf.fit(X_train_scaled, y_train)"
   ]
  },
  {
   "cell_type": "code",
   "execution_count": 288,
   "id": "e3ac41b6",
   "metadata": {},
   "outputs": [],
   "source": [
    "y_pred = clf.predict(X_test_scaled)"
   ]
  },
  {
   "cell_type": "code",
   "execution_count": 289,
   "id": "2973bad3",
   "metadata": {},
   "outputs": [
    {
     "data": {
      "text/plain": [
       "0.8171500630517025"
      ]
     },
     "execution_count": 289,
     "metadata": {},
     "output_type": "execute_result"
    }
   ],
   "source": [
    "f1_score(y_test, y_pred)"
   ]
  },
  {
   "cell_type": "code",
   "execution_count": 290,
   "id": "c4d34f2f",
   "metadata": {},
   "outputs": [
    {
     "data": {
      "text/plain": [
       "0.8260869565217391"
      ]
     },
     "execution_count": 290,
     "metadata": {},
     "output_type": "execute_result"
    }
   ],
   "source": [
    "accuracy_score(y_test, y_pred)"
   ]
  }
 ],
 "metadata": {
  "kernelspec": {
   "display_name": "Python 3",
   "language": "python",
   "name": "python3"
  },
  "language_info": {
   "codemirror_mode": {
    "name": "ipython",
    "version": 3
   },
   "file_extension": ".py",
   "mimetype": "text/x-python",
   "name": "python",
   "nbconvert_exporter": "python",
   "pygments_lexer": "ipython3",
   "version": "3.7.3"
  }
 },
 "nbformat": 4,
 "nbformat_minor": 5
}
