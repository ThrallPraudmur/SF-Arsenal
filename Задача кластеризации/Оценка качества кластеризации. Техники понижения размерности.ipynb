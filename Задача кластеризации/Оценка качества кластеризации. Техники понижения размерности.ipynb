{
 "cells": [
  {
   "cell_type": "code",
   "execution_count": 7,
   "id": "ffa83918",
   "metadata": {},
   "outputs": [],
   "source": [
    "import numpy as np\n",
    "from scipy.spatial import distance"
   ]
  },
  {
   "cell_type": "code",
   "execution_count": 5,
   "id": "0ee7561f",
   "metadata": {},
   "outputs": [
    {
     "data": {
      "text/plain": [
       "10.0"
      ]
     },
     "execution_count": 5,
     "metadata": {},
     "output_type": "execute_result"
    }
   ],
   "source": [
    "distance.euclidean(np.array([1, 4]), np.array([7, 12]))"
   ]
  },
  {
   "cell_type": "code",
   "execution_count": 9,
   "id": "66640224",
   "metadata": {},
   "outputs": [
    {
     "data": {
      "text/plain": [
       "14"
      ]
     },
     "execution_count": 9,
     "metadata": {},
     "output_type": "execute_result"
    }
   ],
   "source": [
    "distance.cityblock(np.array([1, 4]), np.array([7, 12]))"
   ]
  },
  {
   "cell_type": "markdown",
   "id": "5216c7da",
   "metadata": {},
   "source": [
    "## Внутренние меры"
   ]
  },
  {
   "cell_type": "markdown",
   "id": "508dcec9",
   "metadata": {},
   "source": [
    "### Индекс Калински - Харабаса"
   ]
  },
  {
   "cell_type": "code",
   "execution_count": 10,
   "id": "1b24795c",
   "metadata": {},
   "outputs": [],
   "source": [
    "from sklearn.metrics import calinski_harabasz_score\n",
    "# calinski_harabasz_score(X, labels)"
   ]
  },
  {
   "cell_type": "markdown",
   "id": "bae3c8a7",
   "metadata": {},
   "source": [
    "### Индекс Дэвиса - Болдина"
   ]
  },
  {
   "cell_type": "code",
   "execution_count": 11,
   "id": "db8059f1",
   "metadata": {},
   "outputs": [],
   "source": [
    "from sklearn.metrics import davies_bouldin_score\n",
    "# davies_bouldin_score(X, labels)"
   ]
  },
  {
   "cell_type": "markdown",
   "id": "cd451290",
   "metadata": {},
   "source": [
    "## Внешние меры"
   ]
  },
  {
   "cell_type": "markdown",
   "id": "14ea3964",
   "metadata": {},
   "source": [
    "Используются дополнительные показатели для оценки качества при наличии разметки."
   ]
  },
  {
   "cell_type": "markdown",
   "id": "997608fd",
   "metadata": {},
   "source": [
    "### Индекс Рэнда"
   ]
  },
  {
   "cell_type": "code",
   "execution_count": 1,
   "id": "1ca75d33",
   "metadata": {},
   "outputs": [],
   "source": [
    "from sklearn.metrics import rand_score\n",
    "# rand_score(labels_true, labels_pred)"
   ]
  },
  {
   "cell_type": "code",
   "execution_count": 2,
   "id": "de198196",
   "metadata": {},
   "outputs": [
    {
     "data": {
      "text/plain": [
       "0.6"
      ]
     },
     "execution_count": 2,
     "metadata": {},
     "output_type": "execute_result"
    }
   ],
   "source": [
    "rand_score([1, 1, 1, 2, 2], [1, 1, 2, 2, 3])"
   ]
  },
  {
   "cell_type": "markdown",
   "id": "2d902df4",
   "metadata": {},
   "source": [
    "### Скорректированный индекс Рэнда"
   ]
  },
  {
   "cell_type": "code",
   "execution_count": 3,
   "id": "4f5e2456",
   "metadata": {},
   "outputs": [],
   "source": [
    "from sklearn.metrics import adjusted_rand_score\n",
    "# sklearn.metrics.adjusted_rand_score(labels_true, labels_pred)"
   ]
  },
  {
   "cell_type": "markdown",
   "id": "7b4eee98",
   "metadata": {},
   "source": [
    "### Нормализованная взаимная информация"
   ]
  },
  {
   "cell_type": "code",
   "execution_count": 4,
   "id": "a74e0efe",
   "metadata": {},
   "outputs": [],
   "source": [
    "from sklearn.metrics import normalized_mutual_info_score\n",
    "# normalized_mutual_info_score(labels_true, labels_pred, *, average_method='arithmetic')"
   ]
  },
  {
   "cell_type": "markdown",
   "id": "046d809c",
   "metadata": {},
   "source": [
    "### Однородность"
   ]
  },
  {
   "cell_type": "code",
   "execution_count": 5,
   "id": "e0f8306d",
   "metadata": {},
   "outputs": [],
   "source": [
    "from sklearn.metrics import homogeneity_score\n",
    "# homogeneity_score(labels_true, labels_pred)"
   ]
  },
  {
   "cell_type": "markdown",
   "id": "84af410a",
   "metadata": {},
   "source": [
    "### Полнота"
   ]
  },
  {
   "cell_type": "code",
   "execution_count": 6,
   "id": "97f7e9b3",
   "metadata": {},
   "outputs": [],
   "source": [
    "from sklearn.metrics import completeness_score\n",
    "# completeness_score(labels_true, labels_pred)"
   ]
  },
  {
   "cell_type": "markdown",
   "id": "2af7e18d",
   "metadata": {},
   "source": [
    "### V - мера"
   ]
  },
  {
   "cell_type": "code",
   "execution_count": 7,
   "id": "3736cbc9",
   "metadata": {},
   "outputs": [],
   "source": [
    "from sklearn.metrics import v_measure_score\n",
    "# v_measure_score(labels_true, labels_pred, *, beta=1.0)"
   ]
  },
  {
   "cell_type": "code",
   "execution_count": 10,
   "id": "a1c5a9fe",
   "metadata": {},
   "outputs": [
    {
     "data": {
      "text/plain": [
       "0.47"
      ]
     },
     "execution_count": 10,
     "metadata": {},
     "output_type": "execute_result"
    }
   ],
   "source": [
    "beta = 1\n",
    "homogeneity = 0.7\n",
    "completeness = 0.35\n",
    "v = (1 + beta) * homogeneity * completeness / (beta * homogeneity + completeness)\n",
    "round(v, 2)"
   ]
  },
  {
   "cell_type": "markdown",
   "id": "4adf6d90",
   "metadata": {},
   "source": [
    "### Меры качества кластеризации. Практика"
   ]
  },
  {
   "cell_type": "code",
   "execution_count": 1,
   "id": "11a95d4c",
   "metadata": {},
   "outputs": [
    {
     "data": {
      "text/plain": [
       "(10299, 561)"
      ]
     },
     "execution_count": 1,
     "metadata": {},
     "output_type": "execute_result"
    }
   ],
   "source": [
    "import numpy as np\n",
    "\n",
    "X_train = np.loadtxt('./train.txt')\n",
    "y_train = np.loadtxt('./train_labels.txt')\n",
    "\n",
    "X_test = np.loadtxt('./test.txt')\n",
    "y_test = np.loadtxt('./test_labels.txt')\n",
    "\n",
    "X = np.concatenate((X_train, X_test))\n",
    "y = np.concatenate((y_train, y_test))\n",
    "\n",
    "X.shape"
   ]
  },
  {
   "cell_type": "code",
   "execution_count": 21,
   "id": "ca70c028",
   "metadata": {},
   "outputs": [
    {
     "data": {
      "text/plain": [
       "array([5., 5., 5., ..., 2., 2., 2.])"
      ]
     },
     "execution_count": 21,
     "metadata": {},
     "output_type": "execute_result"
    }
   ],
   "source": [
    "y"
   ]
  },
  {
   "cell_type": "code",
   "execution_count": 22,
   "id": "24eafd3f",
   "metadata": {},
   "outputs": [
    {
     "data": {
      "text/plain": [
       "array([1., 2., 3., 4., 5., 6.])"
      ]
     },
     "execution_count": 22,
     "metadata": {},
     "output_type": "execute_result"
    }
   ],
   "source": [
    "np.unique(y)"
   ]
  },
  {
   "cell_type": "code",
   "execution_count": 2,
   "id": "c1529556",
   "metadata": {},
   "outputs": [
    {
     "data": {
      "text/plain": [
       "0.2105338541767611"
      ]
     },
     "execution_count": 2,
     "metadata": {},
     "output_type": "execute_result"
    }
   ],
   "source": [
    "from sklearn.preprocessing import StandardScaler\n",
    "scaler = StandardScaler()\n",
    "scaler.fit(X)\n",
    "X_norm = scaler.transform(X)\n",
    "X_norm[0][0]"
   ]
  },
  {
   "cell_type": "code",
   "execution_count": 25,
   "id": "1780940c",
   "metadata": {},
   "outputs": [
    {
     "data": {
      "text/plain": [
       "[2, 3, 4, 5, 6, 7, 8, 9]"
      ]
     },
     "execution_count": 25,
     "metadata": {},
     "output_type": "execute_result"
    }
   ],
   "source": [
    "list(range(2, 10))"
   ]
  },
  {
   "cell_type": "code",
   "execution_count": 3,
   "id": "892e82b7",
   "metadata": {},
   "outputs": [],
   "source": [
    "from sklearn.cluster import KMeans\n",
    "#kmeans = KMeans(n_clusters = , random_state = 42)"
   ]
  },
  {
   "cell_type": "code",
   "execution_count": 4,
   "id": "c586243f",
   "metadata": {},
   "outputs": [
    {
     "name": "stderr",
     "output_type": "stream",
     "text": [
      "/home/gkuznetsov@prominn.local/.local/lib/python3.7/site-packages/pandas/compat/_optional.py:138: UserWarning: Pandas requires version '2.7.0' or newer of 'numexpr' (version '2.6.9' currently installed).\n",
      "  warnings.warn(msg, UserWarning)\n"
     ]
    },
    {
     "data": {
      "text/html": [
       "<div>\n",
       "<style scoped>\n",
       "    .dataframe tbody tr th:only-of-type {\n",
       "        vertical-align: middle;\n",
       "    }\n",
       "\n",
       "    .dataframe tbody tr th {\n",
       "        vertical-align: top;\n",
       "    }\n",
       "\n",
       "    .dataframe thead th {\n",
       "        text-align: right;\n",
       "    }\n",
       "</style>\n",
       "<table border=\"1\" class=\"dataframe\">\n",
       "  <thead>\n",
       "    <tr style=\"text-align: right;\">\n",
       "      <th></th>\n",
       "      <th>SILScore</th>\n",
       "      <th>CHScore</th>\n",
       "      <th>DBScore</th>\n",
       "      <th>CLUST_NUM</th>\n",
       "    </tr>\n",
       "  </thead>\n",
       "  <tbody>\n",
       "  </tbody>\n",
       "</table>\n",
       "</div>"
      ],
      "text/plain": [
       "Empty DataFrame\n",
       "Columns: [SILScore, CHScore, DBScore, CLUST_NUM]\n",
       "Index: []"
      ]
     },
     "execution_count": 4,
     "metadata": {},
     "output_type": "execute_result"
    }
   ],
   "source": [
    "import pandas as pd\n",
    "df = pd.DataFrame(columns = ['SILScore', 'CHScore', 'DBScore', 'CLUST_NUM'])\n",
    "df"
   ]
  },
  {
   "cell_type": "code",
   "execution_count": 12,
   "id": "62cf3bfa",
   "metadata": {},
   "outputs": [],
   "source": [
    "from sklearn.metrics import silhouette_score #(X, labels), -> max\n",
    "from sklearn.metrics import calinski_harabasz_score # -> max\n",
    "from sklearn.metrics import davies_bouldin_score # -> min\n",
    "\n",
    "\n",
    "for clust_num in range(2, 10):\n",
    "    kmeans = KMeans(random_state = 42, n_clusters = clust_num)\n",
    "    kmeans.fit(X_norm)\n",
    "    df.loc[len(df.index)] = [silhouette_score(X = X_norm, labels = kmeans.labels_),\n",
    "                            calinski_harabasz_score(X = X_norm, labels = kmeans.labels_),\n",
    "                            davies_bouldin_score(X = X_norm, labels = kmeans.labels_),\n",
    "                            clust_num]"
   ]
  },
  {
   "cell_type": "code",
   "execution_count": 13,
   "id": "357dd9ab",
   "metadata": {},
   "outputs": [
    {
     "data": {
      "text/html": [
       "<div>\n",
       "<style scoped>\n",
       "    .dataframe tbody tr th:only-of-type {\n",
       "        vertical-align: middle;\n",
       "    }\n",
       "\n",
       "    .dataframe tbody tr th {\n",
       "        vertical-align: top;\n",
       "    }\n",
       "\n",
       "    .dataframe thead th {\n",
       "        text-align: right;\n",
       "    }\n",
       "</style>\n",
       "<table border=\"1\" class=\"dataframe\">\n",
       "  <thead>\n",
       "    <tr style=\"text-align: right;\">\n",
       "      <th></th>\n",
       "      <th>SILScore</th>\n",
       "      <th>CHScore</th>\n",
       "      <th>DBScore</th>\n",
       "      <th>CLUST_NUM</th>\n",
       "    </tr>\n",
       "  </thead>\n",
       "  <tbody>\n",
       "    <tr>\n",
       "      <th>0</th>\n",
       "      <td>0.39</td>\n",
       "      <td>7880.81</td>\n",
       "      <td>1.07</td>\n",
       "      <td>2.0</td>\n",
       "    </tr>\n",
       "    <tr>\n",
       "      <th>1</th>\n",
       "      <td>0.32</td>\n",
       "      <td>5034.48</td>\n",
       "      <td>1.79</td>\n",
       "      <td>3.0</td>\n",
       "    </tr>\n",
       "    <tr>\n",
       "      <th>2</th>\n",
       "      <td>0.15</td>\n",
       "      <td>3696.34</td>\n",
       "      <td>2.34</td>\n",
       "      <td>4.0</td>\n",
       "    </tr>\n",
       "    <tr>\n",
       "      <th>3</th>\n",
       "      <td>0.13</td>\n",
       "      <td>3027.08</td>\n",
       "      <td>2.43</td>\n",
       "      <td>5.0</td>\n",
       "    </tr>\n",
       "    <tr>\n",
       "      <th>4</th>\n",
       "      <td>0.11</td>\n",
       "      <td>2556.77</td>\n",
       "      <td>2.37</td>\n",
       "      <td>6.0</td>\n",
       "    </tr>\n",
       "    <tr>\n",
       "      <th>5</th>\n",
       "      <td>0.09</td>\n",
       "      <td>2216.56</td>\n",
       "      <td>2.68</td>\n",
       "      <td>7.0</td>\n",
       "    </tr>\n",
       "    <tr>\n",
       "      <th>6</th>\n",
       "      <td>0.08</td>\n",
       "      <td>1974.97</td>\n",
       "      <td>2.61</td>\n",
       "      <td>8.0</td>\n",
       "    </tr>\n",
       "    <tr>\n",
       "      <th>7</th>\n",
       "      <td>0.08</td>\n",
       "      <td>1790.95</td>\n",
       "      <td>2.58</td>\n",
       "      <td>9.0</td>\n",
       "    </tr>\n",
       "  </tbody>\n",
       "</table>\n",
       "</div>"
      ],
      "text/plain": [
       "   SILScore  CHScore  DBScore  CLUST_NUM\n",
       "0      0.39  7880.81     1.07        2.0\n",
       "1      0.32  5034.48     1.79        3.0\n",
       "2      0.15  3696.34     2.34        4.0\n",
       "3      0.13  3027.08     2.43        5.0\n",
       "4      0.11  2556.77     2.37        6.0\n",
       "5      0.09  2216.56     2.68        7.0\n",
       "6      0.08  1974.97     2.61        8.0\n",
       "7      0.08  1790.95     2.58        9.0"
      ]
     },
     "execution_count": 13,
     "metadata": {},
     "output_type": "execute_result"
    }
   ],
   "source": [
    "df.round({\n",
    "    'SILScore': 2,\n",
    "    'CHScore': 2,\n",
    "    'DBScore': 2\n",
    "})"
   ]
  },
  {
   "cell_type": "code",
   "execution_count": 12,
   "id": "a66d1c19",
   "metadata": {},
   "outputs": [
    {
     "data": {
      "text/html": [
       "<div>\n",
       "<style scoped>\n",
       "    .dataframe tbody tr th:only-of-type {\n",
       "        vertical-align: middle;\n",
       "    }\n",
       "\n",
       "    .dataframe tbody tr th {\n",
       "        vertical-align: top;\n",
       "    }\n",
       "\n",
       "    .dataframe thead th {\n",
       "        text-align: right;\n",
       "    }\n",
       "</style>\n",
       "<table border=\"1\" class=\"dataframe\">\n",
       "  <thead>\n",
       "    <tr style=\"text-align: right;\">\n",
       "      <th></th>\n",
       "      <th>HOMOGEN</th>\n",
       "      <th>COMPLET</th>\n",
       "      <th>ARS</th>\n",
       "    </tr>\n",
       "  </thead>\n",
       "  <tbody>\n",
       "    <tr>\n",
       "      <th>0</th>\n",
       "      <td>0.54</td>\n",
       "      <td>0.58</td>\n",
       "      <td>0.42</td>\n",
       "    </tr>\n",
       "  </tbody>\n",
       "</table>\n",
       "</div>"
      ],
      "text/plain": [
       "   HOMOGEN  COMPLET   ARS\n",
       "0     0.54     0.58  0.42"
      ]
     },
     "execution_count": 12,
     "metadata": {},
     "output_type": "execute_result"
    }
   ],
   "source": [
    "import pandas as pd\n",
    "from sklearn.cluster import KMeans\n",
    "from sklearn.metrics import homogeneity_score\n",
    "from sklearn.metrics import completeness_score\n",
    "from sklearn.metrics import adjusted_rand_score\n",
    "\n",
    "df = pd.DataFrame(columns = ['HOMOGEN', 'COMPLET', 'ARS'])\n",
    "kmeans = KMeans(random_state = 42, n_clusters = 6, init = 'random')\n",
    "kmeans.fit(X_norm)\n",
    "df.loc[len(df.index)] = [homogeneity_score(y, kmeans.labels_),\n",
    "                        completeness_score(y, kmeans.labels_),\n",
    "                        adjusted_rand_score(y, kmeans.labels_)]\n",
    "\n",
    "df.round(2)"
   ]
  },
  {
   "cell_type": "code",
   "execution_count": 8,
   "id": "a9f4a8db",
   "metadata": {},
   "outputs": [],
   "source": [
    "from collections import Counter\n",
    "cnt = Counter(kmeans.labels_)"
   ]
  },
  {
   "cell_type": "code",
   "execution_count": 9,
   "id": "c4774bb5",
   "metadata": {},
   "outputs": [
    {
     "data": {
      "text/plain": [
       "Counter({5: 2627, 0: 1349, 2: 1647, 1: 2472, 3: 1926, 4: 278})"
      ]
     },
     "execution_count": 9,
     "metadata": {},
     "output_type": "execute_result"
    }
   ],
   "source": [
    "cnt"
   ]
  },
  {
   "cell_type": "code",
   "execution_count": 13,
   "id": "bafc4374",
   "metadata": {},
   "outputs": [],
   "source": [
    "#создаём таблицу сопряжённости\n",
    "ct = pd.crosstab(y, kmeans.labels_)\n",
    "#определяем название активностей\n",
    "ct.index = ['ходьба', 'подъём', \n",
    "            'спуск', 'сидение', 'стояние', 'лежание']\n",
    "ct.columns = list(range(1,7))"
   ]
  },
  {
   "cell_type": "code",
   "execution_count": 14,
   "id": "b586645a",
   "metadata": {},
   "outputs": [
    {
     "data": {
      "text/html": [
       "<div>\n",
       "<style scoped>\n",
       "    .dataframe tbody tr th:only-of-type {\n",
       "        vertical-align: middle;\n",
       "    }\n",
       "\n",
       "    .dataframe tbody tr th {\n",
       "        vertical-align: top;\n",
       "    }\n",
       "\n",
       "    .dataframe thead th {\n",
       "        text-align: right;\n",
       "    }\n",
       "</style>\n",
       "<table border=\"1\" class=\"dataframe\">\n",
       "  <thead>\n",
       "    <tr style=\"text-align: right;\">\n",
       "      <th></th>\n",
       "      <th>1</th>\n",
       "      <th>2</th>\n",
       "      <th>3</th>\n",
       "      <th>4</th>\n",
       "      <th>5</th>\n",
       "      <th>6</th>\n",
       "    </tr>\n",
       "  </thead>\n",
       "  <tbody>\n",
       "    <tr>\n",
       "      <th>ходьба</th>\n",
       "      <td>0</td>\n",
       "      <td>0</td>\n",
       "      <td>903</td>\n",
       "      <td>78</td>\n",
       "      <td>741</td>\n",
       "      <td>0</td>\n",
       "    </tr>\n",
       "    <tr>\n",
       "      <th>подъём</th>\n",
       "      <td>0</td>\n",
       "      <td>0</td>\n",
       "      <td>1242</td>\n",
       "      <td>5</td>\n",
       "      <td>295</td>\n",
       "      <td>2</td>\n",
       "    </tr>\n",
       "    <tr>\n",
       "      <th>спуск</th>\n",
       "      <td>0</td>\n",
       "      <td>0</td>\n",
       "      <td>321</td>\n",
       "      <td>196</td>\n",
       "      <td>889</td>\n",
       "      <td>0</td>\n",
       "    </tr>\n",
       "    <tr>\n",
       "      <th>сидение</th>\n",
       "      <td>91</td>\n",
       "      <td>1238</td>\n",
       "      <td>1</td>\n",
       "      <td>0</td>\n",
       "      <td>0</td>\n",
       "      <td>447</td>\n",
       "    </tr>\n",
       "    <tr>\n",
       "      <th>стояние</th>\n",
       "      <td>0</td>\n",
       "      <td>1346</td>\n",
       "      <td>0</td>\n",
       "      <td>0</td>\n",
       "      <td>0</td>\n",
       "      <td>560</td>\n",
       "    </tr>\n",
       "    <tr>\n",
       "      <th>лежание</th>\n",
       "      <td>1556</td>\n",
       "      <td>54</td>\n",
       "      <td>5</td>\n",
       "      <td>0</td>\n",
       "      <td>0</td>\n",
       "      <td>329</td>\n",
       "    </tr>\n",
       "  </tbody>\n",
       "</table>\n",
       "</div>"
      ],
      "text/plain": [
       "            1     2     3    4    5    6\n",
       "ходьба      0     0   903   78  741    0\n",
       "подъём      0     0  1242    5  295    2\n",
       "спуск       0     0   321  196  889    0\n",
       "сидение    91  1238     1    0    0  447\n",
       "стояние     0  1346     0    0    0  560\n",
       "лежание  1556    54     5    0    0  329"
      ]
     },
     "execution_count": 14,
     "metadata": {},
     "output_type": "execute_result"
    }
   ],
   "source": [
    "ct #как алгоритм разобьёт активности по кластерам"
   ]
  },
  {
   "cell_type": "code",
   "execution_count": 16,
   "id": "0f90c1b6",
   "metadata": {},
   "outputs": [
    {
     "data": {
      "text/html": [
       "<div>\n",
       "<style scoped>\n",
       "    .dataframe tbody tr th:only-of-type {\n",
       "        vertical-align: middle;\n",
       "    }\n",
       "\n",
       "    .dataframe tbody tr th {\n",
       "        vertical-align: top;\n",
       "    }\n",
       "\n",
       "    .dataframe thead th {\n",
       "        text-align: right;\n",
       "    }\n",
       "</style>\n",
       "<table border=\"1\" class=\"dataframe\">\n",
       "  <thead>\n",
       "    <tr style=\"text-align: right;\">\n",
       "      <th></th>\n",
       "      <th>1</th>\n",
       "      <th>2</th>\n",
       "    </tr>\n",
       "  </thead>\n",
       "  <tbody>\n",
       "    <tr>\n",
       "      <th>ХОД</th>\n",
       "      <td>1722</td>\n",
       "      <td>0</td>\n",
       "    </tr>\n",
       "    <tr>\n",
       "      <th>ПОД</th>\n",
       "      <td>1536</td>\n",
       "      <td>8</td>\n",
       "    </tr>\n",
       "    <tr>\n",
       "      <th>СПУСК</th>\n",
       "      <td>1406</td>\n",
       "      <td>0</td>\n",
       "    </tr>\n",
       "    <tr>\n",
       "      <th>СИД</th>\n",
       "      <td>3</td>\n",
       "      <td>1774</td>\n",
       "    </tr>\n",
       "    <tr>\n",
       "      <th>СТОЯ</th>\n",
       "      <td>0</td>\n",
       "      <td>1906</td>\n",
       "    </tr>\n",
       "    <tr>\n",
       "      <th>ЛЕЖ</th>\n",
       "      <td>12</td>\n",
       "      <td>1932</td>\n",
       "    </tr>\n",
       "  </tbody>\n",
       "</table>\n",
       "</div>"
      ],
      "text/plain": [
       "          1     2\n",
       "ХОД    1722     0\n",
       "ПОД    1536     8\n",
       "СПУСК  1406     0\n",
       "СИД       3  1774\n",
       "СТОЯ      0  1906\n",
       "ЛЕЖ      12  1932"
      ]
     },
     "execution_count": 16,
     "metadata": {},
     "output_type": "execute_result"
    }
   ],
   "source": [
    "kmeans = KMeans(random_state = 42, n_clusters = 2, init = 'random')\n",
    "kmeans.fit(X_norm)\n",
    "crosstab = pd.crosstab(y, kmeans.labels_)\n",
    "crosstab.index = ['ХОД', 'ПОД', 'СПУСК', 'СИД', 'СТОЯ', 'ЛЕЖ']\n",
    "crosstab.columns = list(range(1, 3))\n",
    "\n",
    "crosstab #разбиение на два кластера вполннее разумно: неподвижные и подвижные"
   ]
  },
  {
   "cell_type": "code",
   "execution_count": 18,
   "id": "2852393d",
   "metadata": {},
   "outputs": [
    {
     "data": {
      "text/plain": [
       "0.979530559699631"
      ]
     },
     "execution_count": 18,
     "metadata": {},
     "output_type": "execute_result"
    }
   ],
   "source": [
    "completeness_score(y, kmeans.labels_)"
   ]
  },
  {
   "cell_type": "code",
   "execution_count": 21,
   "id": "89851560",
   "metadata": {},
   "outputs": [
    {
     "data": {
      "text/plain": [
       "0.9999999999999993"
      ]
     },
     "execution_count": 21,
     "metadata": {},
     "output_type": "execute_result"
    }
   ],
   "source": [
    "from sklearn.cluster import AgglomerativeClustering\n",
    "clust = AgglomerativeClustering(n_clusters = 2)\n",
    "clust.fit(X_norm)\n",
    "completeness_score(y, clust.labels_)"
   ]
  },
  {
   "cell_type": "markdown",
   "id": "65efa039",
   "metadata": {},
   "source": [
    "## PCA"
   ]
  },
  {
   "cell_type": "code",
   "execution_count": 22,
   "id": "6d10854d",
   "metadata": {},
   "outputs": [],
   "source": [
    "import numpy as np\n",
    "import pandas as pd\n",
    "A = np.matrix([[1,2,3,4],\n",
    "               [5,5,6,7],\n",
    "               [1,4,2,3],\n",
    "               [5,3,2,1],\n",
    "               [8,1,2,2]])\n",
    "\n",
    "df = pd.DataFrame(A, columns  = ['x1','x2','x3','x4'])\n",
    "df_std  = (df - df.mean()) / (df.std())"
   ]
  },
  {
   "cell_type": "code",
   "execution_count": 23,
   "id": "244b25ff",
   "metadata": {},
   "outputs": [
    {
     "data": {
      "text/html": [
       "<div>\n",
       "<style scoped>\n",
       "    .dataframe tbody tr th:only-of-type {\n",
       "        vertical-align: middle;\n",
       "    }\n",
       "\n",
       "    .dataframe tbody tr th {\n",
       "        vertical-align: top;\n",
       "    }\n",
       "\n",
       "    .dataframe thead th {\n",
       "        text-align: right;\n",
       "    }\n",
       "</style>\n",
       "<table border=\"1\" class=\"dataframe\">\n",
       "  <thead>\n",
       "    <tr style=\"text-align: right;\">\n",
       "      <th></th>\n",
       "      <th>x1</th>\n",
       "      <th>x2</th>\n",
       "      <th>x3</th>\n",
       "      <th>x4</th>\n",
       "    </tr>\n",
       "  </thead>\n",
       "  <tbody>\n",
       "    <tr>\n",
       "      <th>0</th>\n",
       "      <td>1</td>\n",
       "      <td>2</td>\n",
       "      <td>3</td>\n",
       "      <td>4</td>\n",
       "    </tr>\n",
       "    <tr>\n",
       "      <th>1</th>\n",
       "      <td>5</td>\n",
       "      <td>5</td>\n",
       "      <td>6</td>\n",
       "      <td>7</td>\n",
       "    </tr>\n",
       "    <tr>\n",
       "      <th>2</th>\n",
       "      <td>1</td>\n",
       "      <td>4</td>\n",
       "      <td>2</td>\n",
       "      <td>3</td>\n",
       "    </tr>\n",
       "    <tr>\n",
       "      <th>3</th>\n",
       "      <td>5</td>\n",
       "      <td>3</td>\n",
       "      <td>2</td>\n",
       "      <td>1</td>\n",
       "    </tr>\n",
       "    <tr>\n",
       "      <th>4</th>\n",
       "      <td>8</td>\n",
       "      <td>1</td>\n",
       "      <td>2</td>\n",
       "      <td>2</td>\n",
       "    </tr>\n",
       "  </tbody>\n",
       "</table>\n",
       "</div>"
      ],
      "text/plain": [
       "   x1  x2  x3  x4\n",
       "0   1   2   3   4\n",
       "1   5   5   6   7\n",
       "2   1   4   2   3\n",
       "3   5   3   2   1\n",
       "4   8   1   2   2"
      ]
     },
     "execution_count": 23,
     "metadata": {},
     "output_type": "execute_result"
    }
   ],
   "source": [
    "df"
   ]
  },
  {
   "cell_type": "code",
   "execution_count": 24,
   "id": "99b09a34",
   "metadata": {},
   "outputs": [
    {
     "data": {
      "text/html": [
       "<div>\n",
       "<style scoped>\n",
       "    .dataframe tbody tr th:only-of-type {\n",
       "        vertical-align: middle;\n",
       "    }\n",
       "\n",
       "    .dataframe tbody tr th {\n",
       "        vertical-align: top;\n",
       "    }\n",
       "\n",
       "    .dataframe thead th {\n",
       "        text-align: right;\n",
       "    }\n",
       "</style>\n",
       "<table border=\"1\" class=\"dataframe\">\n",
       "  <thead>\n",
       "    <tr style=\"text-align: right;\">\n",
       "      <th></th>\n",
       "      <th>x1</th>\n",
       "      <th>x2</th>\n",
       "      <th>x3</th>\n",
       "      <th>x4</th>\n",
       "    </tr>\n",
       "  </thead>\n",
       "  <tbody>\n",
       "    <tr>\n",
       "      <th>0</th>\n",
       "      <td>-1.000000</td>\n",
       "      <td>-0.632456</td>\n",
       "      <td>0.000000</td>\n",
       "      <td>0.260623</td>\n",
       "    </tr>\n",
       "    <tr>\n",
       "      <th>1</th>\n",
       "      <td>0.333333</td>\n",
       "      <td>1.264911</td>\n",
       "      <td>1.732051</td>\n",
       "      <td>1.563740</td>\n",
       "    </tr>\n",
       "    <tr>\n",
       "      <th>2</th>\n",
       "      <td>-1.000000</td>\n",
       "      <td>0.632456</td>\n",
       "      <td>-0.577350</td>\n",
       "      <td>-0.173749</td>\n",
       "    </tr>\n",
       "    <tr>\n",
       "      <th>3</th>\n",
       "      <td>0.333333</td>\n",
       "      <td>0.000000</td>\n",
       "      <td>-0.577350</td>\n",
       "      <td>-1.042493</td>\n",
       "    </tr>\n",
       "    <tr>\n",
       "      <th>4</th>\n",
       "      <td>1.333333</td>\n",
       "      <td>-1.264911</td>\n",
       "      <td>-0.577350</td>\n",
       "      <td>-0.608121</td>\n",
       "    </tr>\n",
       "  </tbody>\n",
       "</table>\n",
       "</div>"
      ],
      "text/plain": [
       "         x1        x2        x3        x4\n",
       "0 -1.000000 -0.632456  0.000000  0.260623\n",
       "1  0.333333  1.264911  1.732051  1.563740\n",
       "2 -1.000000  0.632456 -0.577350 -0.173749\n",
       "3  0.333333  0.000000 -0.577350 -1.042493\n",
       "4  1.333333 -1.264911 -0.577350 -0.608121"
      ]
     },
     "execution_count": 24,
     "metadata": {},
     "output_type": "execute_result"
    }
   ],
   "source": [
    "df_std #для каждого признака среднее арифметическое = 0, стандартное отклонение и дисперсия = 1"
   ]
  },
  {
   "cell_type": "code",
   "execution_count": 25,
   "id": "7b19deec",
   "metadata": {},
   "outputs": [
    {
     "data": {
      "text/plain": [
       "array([[ 1.        , -0.31622777,  0.04811252, -0.18098843],\n",
       "       [-0.31622777,  1.        ,  0.63900965,  0.61812254],\n",
       "       [ 0.04811252,  0.63900965,  1.        ,  0.94044349],\n",
       "       [-0.18098843,  0.61812254,  0.94044349,  1.        ]])"
      ]
     },
     "execution_count": 25,
     "metadata": {},
     "output_type": "execute_result"
    }
   ],
   "source": [
    "#ковариационная матрица\n",
    "cov_mat = np.cov(df_std.T)\n",
    "cov_mat"
   ]
  },
  {
   "cell_type": "code",
   "execution_count": 26,
   "id": "f80e240e",
   "metadata": {},
   "outputs": [],
   "source": [
    "#собственные значения и собственные вектора\n",
    "eigen_val, eigen_vectors = np.linalg.eig(cov_mat)"
   ]
  },
  {
   "cell_type": "code",
   "execution_count": 27,
   "id": "e9a25ed0",
   "metadata": {},
   "outputs": [
    {
     "data": {
      "text/plain": [
       "array([2.51579324, 1.0652885 , 0.39388704, 0.02503121])"
      ]
     },
     "execution_count": 27,
     "metadata": {},
     "output_type": "execute_result"
    }
   ],
   "source": [
    "#две компоненты -> выбираем два собственных вектора, с наибольшими собственными значениями\n",
    "eigen_val"
   ]
  },
  {
   "cell_type": "code",
   "execution_count": 28,
   "id": "495f0477",
   "metadata": {},
   "outputs": [
    {
     "data": {
      "text/plain": [
       "array([[ 0.16195986, -0.91705888, -0.30707099,  0.19616173],\n",
       "       [-0.52404813,  0.20692161, -0.81731886,  0.12061043],\n",
       "       [-0.58589647, -0.3205394 ,  0.1882497 , -0.72009851],\n",
       "       [-0.59654663, -0.11593512,  0.44973251,  0.65454704]])"
      ]
     },
     "execution_count": 28,
     "metadata": {},
     "output_type": "execute_result"
    }
   ],
   "source": [
    "eigen_vectors # перемножаем матрицу стандартизированных признаков на матрицу с собственными векторами"
   ]
  },
  {
   "cell_type": "code",
   "execution_count": 29,
   "id": "ab051065",
   "metadata": {},
   "outputs": [],
   "source": [
    "from sklearn.decomposition import PCA\n",
    "#определяем метод главных компонент с двумя компонентами\n",
    "pca = PCA(n_components=2)\n",
    "#обучаем алгоритм на наших данных\n",
    "principalComponents = pca.fit_transform(df_std)"
   ]
  },
  {
   "cell_type": "code",
   "execution_count": 30,
   "id": "d524bd23",
   "metadata": {
    "scrolled": true
   },
   "outputs": [
    {
     "data": {
      "text/plain": [
       "array([[-1.40033078e-02,  7.55974765e-01],\n",
       "       [ 2.55653399e+00, -7.80431775e-01],\n",
       "       [ 5.14801919e-02,  1.25313470e+00],\n",
       "       [-1.01415002e+00,  2.38808310e-04],\n",
       "       [-1.57986086e+00, -1.22891650e+00]])"
      ]
     },
     "execution_count": 30,
     "metadata": {},
     "output_type": "execute_result"
    }
   ],
   "source": [
    "principalComponents"
   ]
  },
  {
   "cell_type": "markdown",
   "id": "e81c7e2d",
   "metadata": {},
   "source": [
    "### Задание 5.1"
   ]
  },
  {
   "cell_type": "code",
   "execution_count": 32,
   "id": "a3a941f1",
   "metadata": {},
   "outputs": [],
   "source": [
    "vec1 = np.array([3, 4, 1])\n",
    "vec2 = np.array([1, 6, 2])"
   ]
  },
  {
   "cell_type": "code",
   "execution_count": 33,
   "id": "6af24cc7",
   "metadata": {},
   "outputs": [
    {
     "data": {
      "text/plain": [
       "array([[2.33333333, 2.5       ],\n",
       "       [2.5       , 7.        ]])"
      ]
     },
     "execution_count": 33,
     "metadata": {},
     "output_type": "execute_result"
    }
   ],
   "source": [
    "np.cov([vec1, vec2])"
   ]
  },
  {
   "cell_type": "code",
   "execution_count": 35,
   "id": "ec54da87",
   "metadata": {},
   "outputs": [
    {
     "data": {
      "text/plain": [
       "14.333333333333332"
      ]
     },
     "execution_count": 35,
     "metadata": {},
     "output_type": "execute_result"
    }
   ],
   "source": [
    "sum(sum(np.cov([vec1, vec2])))"
   ]
  },
  {
   "cell_type": "markdown",
   "id": "3aa2f22b",
   "metadata": {},
   "source": [
    "### Задание 5.5"
   ]
  },
  {
   "cell_type": "code",
   "execution_count": 44,
   "id": "f404c213",
   "metadata": {},
   "outputs": [],
   "source": [
    "A = np.matrix([[8,7,2,9],\n",
    "               [1,3,6,3],\n",
    "               [7,2,0,3],\n",
    "               [10,3,1,1],\n",
    "               [8,1,3,4]])"
   ]
  },
  {
   "cell_type": "code",
   "execution_count": 37,
   "id": "715ee07b",
   "metadata": {},
   "outputs": [
    {
     "data": {
      "text/plain": [
       "matrix([[ 8,  7,  2,  9],\n",
       "        [ 1,  3,  6,  3],\n",
       "        [ 7,  2,  0,  3],\n",
       "        [10,  3,  1,  1],\n",
       "        [ 8,  1,  3,  4]])"
      ]
     },
     "execution_count": 37,
     "metadata": {},
     "output_type": "execute_result"
    }
   ],
   "source": [
    "A"
   ]
  },
  {
   "cell_type": "code",
   "execution_count": 45,
   "id": "974bfd55",
   "metadata": {},
   "outputs": [],
   "source": [
    "df = pd.DataFrame(A)"
   ]
  },
  {
   "cell_type": "code",
   "execution_count": 46,
   "id": "a3555776",
   "metadata": {},
   "outputs": [],
   "source": [
    "df_std  = (df - df.mean()) / (df.std())"
   ]
  },
  {
   "cell_type": "code",
   "execution_count": 47,
   "id": "2ee524f5",
   "metadata": {},
   "outputs": [],
   "source": [
    "pca = PCA(n_components = 0.9)"
   ]
  },
  {
   "cell_type": "code",
   "execution_count": 48,
   "id": "18e9f09f",
   "metadata": {},
   "outputs": [],
   "source": [
    "pcomp = pca.fit_transform(df_std)"
   ]
  },
  {
   "cell_type": "code",
   "execution_count": 49,
   "id": "967a7fe4",
   "metadata": {},
   "outputs": [
    {
     "data": {
      "text/plain": [
       "array([[-1.61145254,  1.76368007,  0.01320928],\n",
       "       [ 2.08441051,  1.01724955, -0.24417084],\n",
       "       [-0.29568142, -0.95946326, -0.05272576],\n",
       "       [-0.50390826, -1.24373821, -0.50808763],\n",
       "       [ 0.3266317 , -0.57772816,  0.79177495]])"
      ]
     },
     "execution_count": 49,
     "metadata": {},
     "output_type": "execute_result"
    }
   ],
   "source": [
    "pcomp # 3 компоненты"
   ]
  },
  {
   "cell_type": "markdown",
   "id": "9bd6d49a",
   "metadata": {},
   "source": [
    "### Сингулярное разложение"
   ]
  },
  {
   "cell_type": "code",
   "execution_count": 52,
   "id": "f90946b7",
   "metadata": {},
   "outputs": [],
   "source": [
    "# создаём объект класса TruncatedSVD\n",
    "from sklearn.decomposition import TruncatedSVD"
   ]
  },
  {
   "cell_type": "code",
   "execution_count": null,
   "id": "6e87b9df",
   "metadata": {},
   "outputs": [],
   "source": [
    "# n_components — размерность нового пространства, n_iter — количество итераций\n",
    "svd = TruncatedSVD(n_components=5, n_iter=7, random_state=42)\n",
    "# обучаем модель на данных X\n",
    "svd.fit(X)\n",
    "# применяем уменьшение размерности к матрице X\n",
    "transformed = svd.transform(data)"
   ]
  },
  {
   "cell_type": "markdown",
   "id": "e80c6bed",
   "metadata": {},
   "source": [
    "### t-SNE"
   ]
  },
  {
   "cell_type": "code",
   "execution_count": null,
   "id": "f0ecb5e5",
   "metadata": {},
   "outputs": [],
   "source": [
    "# импортируем класс TSNE из модуля manifold библиотеки sklearn\n",
    "from sklearn.manifold import TSNE\n",
    "# создаём объект класса TSNE\n",
    "# n_components — размерность нового пространства\n",
    "tsne = TSNE(n_components=2, perplexity=30, n_iter=500, random_state=42)\n",
    "# обучаем модель на данных X и применяем к матрице X уменьшение размерности\n",
    "tsne.fit_transform(X)"
   ]
  },
  {
   "cell_type": "markdown",
   "id": "1481de3f",
   "metadata": {},
   "source": [
    "## Снижение размерности. Практика"
   ]
  },
  {
   "cell_type": "code",
   "execution_count": 1,
   "id": "1ee96d38",
   "metadata": {},
   "outputs": [
    {
     "name": "stderr",
     "output_type": "stream",
     "text": [
      "/home/gkuznetsov@prominn.local/.local/lib/python3.7/site-packages/pandas/compat/_optional.py:138: UserWarning: Pandas requires version '2.7.0' or newer of 'numexpr' (version '2.6.9' currently installed).\n",
      "  warnings.warn(msg, UserWarning)\n"
     ]
    }
   ],
   "source": [
    "import pandas as pd\n",
    "country_data = pd.read_csv('./Country-data.csv')"
   ]
  },
  {
   "cell_type": "code",
   "execution_count": 4,
   "id": "7e9a0b1e",
   "metadata": {},
   "outputs": [
    {
     "data": {
      "text/html": [
       "<div>\n",
       "<style scoped>\n",
       "    .dataframe tbody tr th:only-of-type {\n",
       "        vertical-align: middle;\n",
       "    }\n",
       "\n",
       "    .dataframe tbody tr th {\n",
       "        vertical-align: top;\n",
       "    }\n",
       "\n",
       "    .dataframe thead th {\n",
       "        text-align: right;\n",
       "    }\n",
       "</style>\n",
       "<table border=\"1\" class=\"dataframe\">\n",
       "  <thead>\n",
       "    <tr style=\"text-align: right;\">\n",
       "      <th></th>\n",
       "      <th>country</th>\n",
       "      <th>child_mort</th>\n",
       "      <th>exports</th>\n",
       "      <th>health</th>\n",
       "      <th>imports</th>\n",
       "      <th>income</th>\n",
       "      <th>inflation</th>\n",
       "      <th>life_expec</th>\n",
       "      <th>total_fer</th>\n",
       "      <th>gdpp</th>\n",
       "    </tr>\n",
       "  </thead>\n",
       "  <tbody>\n",
       "    <tr>\n",
       "      <th>0</th>\n",
       "      <td>Afghanistan</td>\n",
       "      <td>90.2</td>\n",
       "      <td>10.0</td>\n",
       "      <td>7.58</td>\n",
       "      <td>44.9</td>\n",
       "      <td>1610</td>\n",
       "      <td>9.44</td>\n",
       "      <td>56.2</td>\n",
       "      <td>5.82</td>\n",
       "      <td>553</td>\n",
       "    </tr>\n",
       "    <tr>\n",
       "      <th>1</th>\n",
       "      <td>Albania</td>\n",
       "      <td>16.6</td>\n",
       "      <td>28.0</td>\n",
       "      <td>6.55</td>\n",
       "      <td>48.6</td>\n",
       "      <td>9930</td>\n",
       "      <td>4.49</td>\n",
       "      <td>76.3</td>\n",
       "      <td>1.65</td>\n",
       "      <td>4090</td>\n",
       "    </tr>\n",
       "    <tr>\n",
       "      <th>2</th>\n",
       "      <td>Algeria</td>\n",
       "      <td>27.3</td>\n",
       "      <td>38.4</td>\n",
       "      <td>4.17</td>\n",
       "      <td>31.4</td>\n",
       "      <td>12900</td>\n",
       "      <td>16.10</td>\n",
       "      <td>76.5</td>\n",
       "      <td>2.89</td>\n",
       "      <td>4460</td>\n",
       "    </tr>\n",
       "    <tr>\n",
       "      <th>3</th>\n",
       "      <td>Angola</td>\n",
       "      <td>119.0</td>\n",
       "      <td>62.3</td>\n",
       "      <td>2.85</td>\n",
       "      <td>42.9</td>\n",
       "      <td>5900</td>\n",
       "      <td>22.40</td>\n",
       "      <td>60.1</td>\n",
       "      <td>6.16</td>\n",
       "      <td>3530</td>\n",
       "    </tr>\n",
       "    <tr>\n",
       "      <th>4</th>\n",
       "      <td>Antigua and Barbuda</td>\n",
       "      <td>10.3</td>\n",
       "      <td>45.5</td>\n",
       "      <td>6.03</td>\n",
       "      <td>58.9</td>\n",
       "      <td>19100</td>\n",
       "      <td>1.44</td>\n",
       "      <td>76.8</td>\n",
       "      <td>2.13</td>\n",
       "      <td>12200</td>\n",
       "    </tr>\n",
       "  </tbody>\n",
       "</table>\n",
       "</div>"
      ],
      "text/plain": [
       "               country  child_mort  exports  health  imports  income  \\\n",
       "0          Afghanistan        90.2     10.0    7.58     44.9    1610   \n",
       "1              Albania        16.6     28.0    6.55     48.6    9930   \n",
       "2              Algeria        27.3     38.4    4.17     31.4   12900   \n",
       "3               Angola       119.0     62.3    2.85     42.9    5900   \n",
       "4  Antigua and Barbuda        10.3     45.5    6.03     58.9   19100   \n",
       "\n",
       "   inflation  life_expec  total_fer   gdpp  \n",
       "0       9.44        56.2       5.82    553  \n",
       "1       4.49        76.3       1.65   4090  \n",
       "2      16.10        76.5       2.89   4460  \n",
       "3      22.40        60.1       6.16   3530  \n",
       "4       1.44        76.8       2.13  12200  "
      ]
     },
     "execution_count": 4,
     "metadata": {},
     "output_type": "execute_result"
    }
   ],
   "source": [
    "country_data.head()"
   ]
  },
  {
   "cell_type": "code",
   "execution_count": 7,
   "id": "ddbb78ae",
   "metadata": {},
   "outputs": [
    {
     "data": {
      "text/plain": [
       "82.8"
      ]
     },
     "execution_count": 7,
     "metadata": {},
     "output_type": "execute_result"
    }
   ],
   "source": [
    "country_data['life_expec'].max()"
   ]
  },
  {
   "cell_type": "code",
   "execution_count": 9,
   "id": "142c750a",
   "metadata": {},
   "outputs": [
    {
     "name": "stdout",
     "output_type": "stream",
     "text": [
      "<class 'pandas.core.frame.DataFrame'>\n",
      "RangeIndex: 167 entries, 0 to 166\n",
      "Data columns (total 10 columns):\n",
      " #   Column      Non-Null Count  Dtype  \n",
      "---  ------      --------------  -----  \n",
      " 0   country     167 non-null    object \n",
      " 1   child_mort  167 non-null    float64\n",
      " 2   exports     167 non-null    float64\n",
      " 3   health      167 non-null    float64\n",
      " 4   imports     167 non-null    float64\n",
      " 5   income      167 non-null    int64  \n",
      " 6   inflation   167 non-null    float64\n",
      " 7   life_expec  167 non-null    float64\n",
      " 8   total_fer   167 non-null    float64\n",
      " 9   gdpp        167 non-null    int64  \n",
      "dtypes: float64(7), int64(2), object(1)\n",
      "memory usage: 13.2+ KB\n"
     ]
    }
   ],
   "source": [
    "country_data.info()"
   ]
  },
  {
   "cell_type": "code",
   "execution_count": 2,
   "id": "fb54f51b",
   "metadata": {},
   "outputs": [],
   "source": [
    "X = country_data.drop(labels = ['country'], axis = 1)"
   ]
  },
  {
   "cell_type": "code",
   "execution_count": 3,
   "id": "cf8fceae",
   "metadata": {},
   "outputs": [],
   "source": [
    "from sklearn.preprocessing import StandardScaler\n",
    "st_scaler = StandardScaler()\n",
    "st_scaler.fit(X = X)\n",
    "st_data = st_scaler.transform(X)"
   ]
  },
  {
   "cell_type": "code",
   "execution_count": 15,
   "id": "42c59af3",
   "metadata": {},
   "outputs": [
    {
     "data": {
      "text/plain": [
       "1.29"
      ]
     },
     "execution_count": 15,
     "metadata": {},
     "output_type": "execute_result"
    }
   ],
   "source": [
    "st_data[0][0].round(2)"
   ]
  },
  {
   "cell_type": "markdown",
   "id": "20d9c686",
   "metadata": {},
   "source": [
    "Нет смысла использовать сильно связанные друг с другом признаки, так как их можно будет преобразовать в один, уменьшив таким образом общее количество признаков"
   ]
  },
  {
   "cell_type": "code",
   "execution_count": 18,
   "id": "cd5a9998",
   "metadata": {},
   "outputs": [
    {
     "data": {
      "text/html": [
       "<div>\n",
       "<style scoped>\n",
       "    .dataframe tbody tr th:only-of-type {\n",
       "        vertical-align: middle;\n",
       "    }\n",
       "\n",
       "    .dataframe tbody tr th {\n",
       "        vertical-align: top;\n",
       "    }\n",
       "\n",
       "    .dataframe thead th {\n",
       "        text-align: right;\n",
       "    }\n",
       "</style>\n",
       "<table border=\"1\" class=\"dataframe\">\n",
       "  <thead>\n",
       "    <tr style=\"text-align: right;\">\n",
       "      <th></th>\n",
       "      <th>child_mort</th>\n",
       "      <th>exports</th>\n",
       "      <th>health</th>\n",
       "      <th>imports</th>\n",
       "      <th>income</th>\n",
       "      <th>inflation</th>\n",
       "      <th>life_expec</th>\n",
       "      <th>total_fer</th>\n",
       "      <th>gdpp</th>\n",
       "    </tr>\n",
       "  </thead>\n",
       "  <tbody>\n",
       "    <tr>\n",
       "      <th>child_mort</th>\n",
       "      <td>1.000000</td>\n",
       "      <td>-0.318093</td>\n",
       "      <td>-0.200402</td>\n",
       "      <td>-0.127211</td>\n",
       "      <td>-0.524315</td>\n",
       "      <td>0.288276</td>\n",
       "      <td>-0.886676</td>\n",
       "      <td>0.848478</td>\n",
       "      <td>-0.483032</td>\n",
       "    </tr>\n",
       "    <tr>\n",
       "      <th>exports</th>\n",
       "      <td>-0.318093</td>\n",
       "      <td>1.000000</td>\n",
       "      <td>-0.114408</td>\n",
       "      <td>0.737381</td>\n",
       "      <td>0.516784</td>\n",
       "      <td>-0.107294</td>\n",
       "      <td>0.316313</td>\n",
       "      <td>-0.320011</td>\n",
       "      <td>0.418725</td>\n",
       "    </tr>\n",
       "    <tr>\n",
       "      <th>health</th>\n",
       "      <td>-0.200402</td>\n",
       "      <td>-0.114408</td>\n",
       "      <td>1.000000</td>\n",
       "      <td>0.095717</td>\n",
       "      <td>0.129579</td>\n",
       "      <td>-0.255376</td>\n",
       "      <td>0.210692</td>\n",
       "      <td>-0.196674</td>\n",
       "      <td>0.345966</td>\n",
       "    </tr>\n",
       "    <tr>\n",
       "      <th>imports</th>\n",
       "      <td>-0.127211</td>\n",
       "      <td>0.737381</td>\n",
       "      <td>0.095717</td>\n",
       "      <td>1.000000</td>\n",
       "      <td>0.122406</td>\n",
       "      <td>-0.246994</td>\n",
       "      <td>0.054391</td>\n",
       "      <td>-0.159048</td>\n",
       "      <td>0.115498</td>\n",
       "    </tr>\n",
       "    <tr>\n",
       "      <th>income</th>\n",
       "      <td>-0.524315</td>\n",
       "      <td>0.516784</td>\n",
       "      <td>0.129579</td>\n",
       "      <td>0.122406</td>\n",
       "      <td>1.000000</td>\n",
       "      <td>-0.147756</td>\n",
       "      <td>0.611962</td>\n",
       "      <td>-0.501840</td>\n",
       "      <td>0.895571</td>\n",
       "    </tr>\n",
       "    <tr>\n",
       "      <th>inflation</th>\n",
       "      <td>0.288276</td>\n",
       "      <td>-0.107294</td>\n",
       "      <td>-0.255376</td>\n",
       "      <td>-0.246994</td>\n",
       "      <td>-0.147756</td>\n",
       "      <td>1.000000</td>\n",
       "      <td>-0.239705</td>\n",
       "      <td>0.316921</td>\n",
       "      <td>-0.221631</td>\n",
       "    </tr>\n",
       "    <tr>\n",
       "      <th>life_expec</th>\n",
       "      <td>-0.886676</td>\n",
       "      <td>0.316313</td>\n",
       "      <td>0.210692</td>\n",
       "      <td>0.054391</td>\n",
       "      <td>0.611962</td>\n",
       "      <td>-0.239705</td>\n",
       "      <td>1.000000</td>\n",
       "      <td>-0.760875</td>\n",
       "      <td>0.600089</td>\n",
       "    </tr>\n",
       "    <tr>\n",
       "      <th>total_fer</th>\n",
       "      <td>0.848478</td>\n",
       "      <td>-0.320011</td>\n",
       "      <td>-0.196674</td>\n",
       "      <td>-0.159048</td>\n",
       "      <td>-0.501840</td>\n",
       "      <td>0.316921</td>\n",
       "      <td>-0.760875</td>\n",
       "      <td>1.000000</td>\n",
       "      <td>-0.454910</td>\n",
       "    </tr>\n",
       "    <tr>\n",
       "      <th>gdpp</th>\n",
       "      <td>-0.483032</td>\n",
       "      <td>0.418725</td>\n",
       "      <td>0.345966</td>\n",
       "      <td>0.115498</td>\n",
       "      <td>0.895571</td>\n",
       "      <td>-0.221631</td>\n",
       "      <td>0.600089</td>\n",
       "      <td>-0.454910</td>\n",
       "      <td>1.000000</td>\n",
       "    </tr>\n",
       "  </tbody>\n",
       "</table>\n",
       "</div>"
      ],
      "text/plain": [
       "            child_mort   exports    health   imports    income  inflation  \\\n",
       "child_mort    1.000000 -0.318093 -0.200402 -0.127211 -0.524315   0.288276   \n",
       "exports      -0.318093  1.000000 -0.114408  0.737381  0.516784  -0.107294   \n",
       "health       -0.200402 -0.114408  1.000000  0.095717  0.129579  -0.255376   \n",
       "imports      -0.127211  0.737381  0.095717  1.000000  0.122406  -0.246994   \n",
       "income       -0.524315  0.516784  0.129579  0.122406  1.000000  -0.147756   \n",
       "inflation     0.288276 -0.107294 -0.255376 -0.246994 -0.147756   1.000000   \n",
       "life_expec   -0.886676  0.316313  0.210692  0.054391  0.611962  -0.239705   \n",
       "total_fer     0.848478 -0.320011 -0.196674 -0.159048 -0.501840   0.316921   \n",
       "gdpp         -0.483032  0.418725  0.345966  0.115498  0.895571  -0.221631   \n",
       "\n",
       "            life_expec  total_fer      gdpp  \n",
       "child_mort   -0.886676   0.848478 -0.483032  \n",
       "exports       0.316313  -0.320011  0.418725  \n",
       "health        0.210692  -0.196674  0.345966  \n",
       "imports       0.054391  -0.159048  0.115498  \n",
       "income        0.611962  -0.501840  0.895571  \n",
       "inflation    -0.239705   0.316921 -0.221631  \n",
       "life_expec    1.000000  -0.760875  0.600089  \n",
       "total_fer    -0.760875   1.000000 -0.454910  \n",
       "gdpp          0.600089  -0.454910  1.000000  "
      ]
     },
     "execution_count": 18,
     "metadata": {},
     "output_type": "execute_result"
    }
   ],
   "source": [
    "country_data.corr()"
   ]
  },
  {
   "cell_type": "code",
   "execution_count": 22,
   "id": "b166b2d2",
   "metadata": {},
   "outputs": [
    {
     "data": {
      "image/png": "[encoded data removed]",
      "text/plain": [
       "<Figure size 640x480 with 2 Axes>"
      ]
     },
     "metadata": {},
     "output_type": "display_data"
    }
   ],
   "source": [
    "import seaborn as sns\n",
    "import matplotlib.pyplot as plt\n",
    "sns.heatmap(country_data.corr(), annot=True, fmt='.2g', cmap='magma')\n",
    "plt.show()"
   ]
  },
  {
   "cell_type": "code",
   "execution_count": 26,
   "id": "3c200237",
   "metadata": {},
   "outputs": [
    {
     "data": {
      "text/plain": [
       "child_mort    1.0\n",
       "exports       1.0\n",
       "health        1.0\n",
       "imports       1.0\n",
       "income        1.0\n",
       "inflation     1.0\n",
       "life_expec    1.0\n",
       "total_fer     1.0\n",
       "gdpp          1.0\n",
       "dtype: float64"
      ]
     },
     "execution_count": 26,
     "metadata": {},
     "output_type": "execute_result"
    }
   ],
   "source": [
    "country_data.corr().max()"
   ]
  },
  {
   "cell_type": "code",
   "execution_count": 4,
   "id": "9ce5849f",
   "metadata": {},
   "outputs": [],
   "source": [
    "from sklearn.decomposition import PCA\n",
    "pca = PCA(n_components = 0.9)\n",
    "principalComponents = pca.fit_transform(st_data)"
   ]
  },
  {
   "cell_type": "code",
   "execution_count": 28,
   "id": "c41a13f7",
   "metadata": {},
   "outputs": [
    {
     "data": {
      "text/plain": [
       "array([[-2.91302459e+00,  9.56205755e-02, -7.18118495e-01,\n",
       "         1.00525464e+00, -1.58310044e-01],\n",
       "       [ 4.29911330e-01, -5.88155666e-01, -3.33485505e-01,\n",
       "        -1.16105859e+00,  1.74677321e-01],\n",
       "       [-2.85225077e-01, -4.55174413e-01,  1.22150481e+00,\n",
       "        -8.68114503e-01,  1.56474647e-01],\n",
       "       [-2.93242265e+00,  1.69555507e+00,  1.52504374e+00,\n",
       "         8.39625014e-01, -2.73208934e-01],\n",
       "       [ 1.03357587e+00,  1.36658709e-01, -2.25720917e-01,\n",
       "        -8.47062687e-01, -1.93006961e-01],\n",
       "       [ 2.24072616e-02, -1.77918658e+00,  8.69997116e-01,\n",
       "        -3.69668667e-02,  9.81056507e-01],\n",
       "       [-1.01583737e-01, -5.68251724e-01,  2.42091816e-01,\n",
       "        -1.46626576e+00, -5.59924282e-02],\n",
       "       [ 2.34216461e+00, -1.98845915e+00,  1.90344188e-01,\n",
       "         1.10503778e+00, -7.31192330e-01],\n",
       "       [ 2.97376366e+00, -7.34688659e-01, -5.19766356e-01,\n",
       "         1.20544210e+00,  8.35797058e-02],\n",
       "       [-1.81486997e-01, -4.02865873e-01,  8.67458743e-01,\n",
       "        -4.38772983e-01,  1.37350474e-01],\n",
       "       [ 1.26874386e+00, -6.56588363e-01, -4.88097616e-01,\n",
       "         5.56335553e-02, -3.80250386e-01],\n",
       "       [ 1.67099640e+00,  5.61162493e-01,  9.91258303e-01,\n",
       "        -2.07080475e-01, -3.92571992e-01],\n",
       "       [-1.12385093e+00, -9.61397405e-01,  5.26614801e-01,\n",
       "        -1.19720139e+00, -6.69166332e-01],\n",
       "       [ 1.08137420e+00, -4.81969530e-01, -6.64355198e-01,\n",
       "        -5.22505233e-01,  2.62389799e-03],\n",
       "       [ 5.80025152e-01,  5.35326834e-01,  4.86227511e-01,\n",
       "        -1.03527542e+00,  8.23342205e-01],\n",
       "       [ 3.14378596e+00,  6.63547921e-01, -6.45228094e-01,\n",
       "         1.09489775e+00,  4.39734496e-01],\n",
       "       [ 2.11255447e-01,  6.99242662e-01, -2.75560900e-01,\n",
       "        -1.09562692e+00, -2.90226171e-01],\n",
       "       [-2.67231388e+00,  4.18172125e-01, -2.57368473e-01,\n",
       "         2.78672434e-01, -1.43176825e+00],\n",
       "       [-1.56570962e-01,  7.77395617e-01, -2.77343559e-01,\n",
       "        -1.03865011e+00,  1.23065565e-01],\n",
       "       [-7.93851561e-01, -1.20261085e-01,  4.00741495e-01,\n",
       "        -7.24703290e-01, -2.24663043e-01],\n",
       "       [ 9.95867143e-01, -9.71888439e-01, -1.52832760e+00,\n",
       "        -6.20884792e-01,  9.32763127e-01],\n",
       "       [-8.82087639e-01,  4.57368180e-01, -5.84632949e-01,\n",
       "         4.06160810e-01,  3.06572683e-01],\n",
       "       [ 1.40781361e-01, -2.15107731e+00, -1.72635153e-01,\n",
       "        -1.66919647e-01,  2.98665209e-01],\n",
       "       [ 2.46008609e+00,  1.64540436e-02,  3.01984039e+00,\n",
       "         7.76840751e-01, -1.03180892e+00],\n",
       "       [ 9.06594515e-01,  3.02776054e-02, -4.71204036e-01,\n",
       "        -9.94661396e-01,  5.37652473e-03],\n",
       "       [-3.12205344e+00,  3.87749688e-02, -4.55750797e-01,\n",
       "         1.08091762e+00, -7.28128044e-01],\n",
       "       [-2.89897068e+00, -4.22663328e-01, -1.34741345e+00,\n",
       "         1.82147410e+00,  7.12116768e-01],\n",
       "       [-5.82411867e-01,  8.94820332e-01, -4.98704660e-01,\n",
       "        -8.05233622e-01, -1.36155279e-01],\n",
       "       [-2.80790857e+00,  7.86488969e-02, -3.42961116e-01,\n",
       "         5.43556844e-01, -1.31486797e+00],\n",
       "       [ 2.54363055e+00, -1.72709470e+00, -3.96281023e-01,\n",
       "         1.33685255e+00,  6.57229874e-02],\n",
       "       [-1.55801452e-01,  3.51235458e-01, -2.92086671e-01,\n",
       "        -1.34374110e+00, -5.30347805e-01],\n",
       "       [-3.96496402e+00,  3.86619319e-01, -3.23556922e-01,\n",
       "         9.18301019e-01, -1.82238905e+00],\n",
       "       [-3.55755520e+00,  1.28912809e+00, -1.03015433e-01,\n",
       "         1.20840642e+00, -1.22456225e+00],\n",
       "       [ 9.51656055e-01, -1.07642827e+00,  1.50820820e-01,\n",
       "        -4.36634193e-01,  4.20117943e-01],\n",
       "       [ 5.74819803e-02, -1.18999652e+00,  4.27315488e-01,\n",
       "        -1.27717888e+00, -2.28827803e-01],\n",
       "       [ 1.21146120e-01, -1.76890914e+00, -2.45605887e-01,\n",
       "        -7.15208871e-01, -9.59402348e-02],\n",
       "       [-2.09355643e+00,  3.43600988e-01, -3.28381272e-01,\n",
       "        -1.18947248e-01, -8.08030275e-01],\n",
       "       [-3.17337012e+00,  1.05038163e+00, -1.21915456e-03,\n",
       "         1.57421016e+00,  6.47908642e-01],\n",
       "       [-1.72567641e+00,  2.17634895e+00,  1.49271940e+00,\n",
       "        -1.38592628e-01,  7.11952369e-02],\n",
       "       [ 9.37826615e-01, -1.35047238e+00, -8.21129661e-01,\n",
       "        -2.59854592e-01,  9.78371129e-01],\n",
       "       [-2.58170623e+00,  1.20787342e+00, -2.33066157e-01,\n",
       "         6.65293359e-01, -8.52981081e-01],\n",
       "       [ 1.14886344e+00, -8.44812046e-01, -4.09712564e-01,\n",
       "        -6.22922553e-01, -1.04121420e-01],\n",
       "       [ 2.17445492e+00, -4.51044737e-03,  2.57319634e-01,\n",
       "        -3.11856544e-01, -4.14667674e-01],\n",
       "       [ 2.05326329e+00,  4.23198280e-01, -5.43335682e-01,\n",
       "        -4.11735959e-01, -5.23471812e-02],\n",
       "       [ 3.01049182e+00, -8.65548729e-01, -3.35752167e-01,\n",
       "         1.78722278e+00,  1.02687457e-01],\n",
       "       [-2.31102923e-01, -8.80641302e-01, -3.67363816e-02,\n",
       "        -6.53432853e-01, -2.05496963e-01],\n",
       "       [ 9.61833240e-03, -1.04522097e+00, -2.73292441e-01,\n",
       "        -4.88513719e-01,  3.71300020e-01],\n",
       "       [-8.48186699e-01, -8.19818902e-01,  5.83289752e-01,\n",
       "        -7.45230918e-01, -2.94916258e-01],\n",
       "       [ 8.18678445e-02, -5.67803943e-01, -5.75877586e-01,\n",
       "        -9.76520622e-01,  4.58044232e-02],\n",
       "       [-1.29342284e+00,  2.36369455e+00,  1.77933449e+00,\n",
       "         1.73724419e+00,  6.07610565e-02],\n",
       "       [-2.47469590e+00, -6.18025236e-01,  8.03496573e-01,\n",
       "        -4.88256238e-01, -8.56125100e-01],\n",
       "       [ 1.65908340e+00,  1.02156447e+00, -1.11116210e-01,\n",
       "        -8.63149640e-01, -2.51700263e-02],\n",
       "       [-1.88828409e-01,  1.07176458e+00, -1.90494207e-01,\n",
       "        -9.79835597e-01, -1.57591866e-01],\n",
       "       [ 2.45896019e+00, -1.07614294e+00, -1.00439032e-01,\n",
       "         8.99328358e-01, -4.64733079e-01],\n",
       "       [ 2.25427080e+00, -1.86663813e+00, -7.11988312e-01,\n",
       "         1.23000548e+00,  1.07391242e-01],\n",
       "       [-1.42171455e+00,  3.19723358e-01,  1.53753336e+00,\n",
       "         1.87759190e-01, -5.27955924e-01],\n",
       "       [-2.21366958e+00,  2.23495896e-01, -3.93111292e-01,\n",
       "         2.89914182e-01, -6.94392683e-01],\n",
       "       [ 3.21942207e-01, -5.18255225e-01, -9.73687319e-01,\n",
       "        -4.67061703e-01,  1.16653265e+00],\n",
       "       [ 2.67142195e+00, -1.27360990e+00, -6.56170834e-01,\n",
       "         1.12599297e+00,  1.43391383e-01],\n",
       "       [-2.05416693e+00,  3.80034393e-01,  4.19654109e-01,\n",
       "         9.09709651e-02,  1.83829086e-01],\n",
       "       [ 1.77949294e+00, -1.76539693e+00, -6.84197774e-01,\n",
       "         2.62701918e-01,  7.56432687e-02],\n",
       "       [ 1.45504799e-01, -4.31336366e-01, -4.70467998e-01,\n",
       "        -9.71167871e-01, -3.84509009e-01],\n",
       "       [-6.63503125e-01, -6.13910837e-01, -3.32673741e-01,\n",
       "        -4.45317091e-01, -1.00508318e-01],\n",
       "       [-2.96952947e+00,  7.28533786e-01,  3.91038978e-01,\n",
       "         6.66549494e-01, -1.92543457e-01],\n",
       "       [-2.83361647e+00, -9.11281950e-02, -1.20517398e+00,\n",
       "         1.13304489e+00, -5.50903668e-01],\n",
       "       [-3.22781465e-01,  1.36134136e+00, -4.70512158e-01,\n",
       "        -8.50455474e-01,  1.62771481e-01],\n",
       "       [-4.40971727e+00,  1.74223049e+00, -1.46280874e+00,\n",
       "         1.79359222e+00, -9.00723623e-01],\n",
       "       [ 1.83916013e+00,  1.27296493e+00, -4.62631365e-01,\n",
       "        -7.79275693e-01,  3.94834755e-01],\n",
       "       [ 2.48092396e+00, -6.34701926e-01,  1.03795226e-01,\n",
       "         9.19853150e-01,  1.12794548e-01],\n",
       "       [-1.34282579e+00, -5.35138946e-01,  4.69946406e-01,\n",
       "        -7.88293802e-01, -5.20250921e-01],\n",
       "       [-9.54750124e-01, -7.32361786e-01,  1.37601104e+00,\n",
       "        -1.14368788e+00, -3.16046114e-01],\n",
       "       [-1.06461193e-03, -1.33434959e+00,  1.02280513e+00,\n",
       "        -7.54546672e-01,  2.89115906e-01],\n",
       "       [-1.02922816e+00, -2.83269323e-01,  1.92226813e-01,\n",
       "         5.64140593e-01,  7.21712118e-01],\n",
       "       [ 3.66862804e+00,  1.72949317e+00, -5.23988781e-01,\n",
       "         9.89974650e-01, -1.23321179e-01],\n",
       "       [ 1.48531666e+00, -1.04922436e+00,  7.67905341e-02,\n",
       "         3.20989179e-01, -4.82196538e-01],\n",
       "       [ 2.16580995e+00, -1.77248548e+00, -2.84183535e-01,\n",
       "         5.16711898e-01, -2.91458033e-01],\n",
       "       [ 1.86093002e-02, -2.38961304e-01,  3.33749817e-01,\n",
       "        -1.22245645e+00,  1.70523605e-01],\n",
       "       [ 2.26588199e+00, -2.43559383e+00, -2.29698666e-01,\n",
       "         7.12566269e-01, -6.72506993e-01],\n",
       "       [ 1.60142643e-01,  5.41065172e-01, -5.57529759e-01,\n",
       "        -3.76534243e-01,  7.87204880e-01],\n",
       "       [-2.93346500e-01, -2.37525434e-01,  1.49242624e+00,\n",
       "        -4.53078232e-01,  2.19618165e-01],\n",
       "       [-1.87470247e+00, -1.71029967e-01, -2.49557050e-01,\n",
       "        -2.85554533e-01, -9.76253315e-01],\n",
       "       [-1.23921686e+00,  3.69138411e-01, -2.36827382e+00,\n",
       "         5.92231024e-01,  7.22521119e-01],\n",
       "       [ 2.46565870e+00,  8.80497785e-02,  2.65226801e+00,\n",
       "         7.08884420e-01, -1.40378815e+00],\n",
       "       [-3.39969880e-01,  1.29819641e+00, -4.27860991e-01,\n",
       "        -8.17320570e-01,  7.22080109e-01],\n",
       "       [-1.52776995e+00,  5.45786891e-01,  1.37158928e-01,\n",
       "        -4.15581903e-01, -3.19470753e-01],\n",
       "       [ 1.18883984e+00,  1.62040035e-01, -4.88255279e-01,\n",
       "        -9.30854536e-01, -1.92221361e-01],\n",
       "       [ 1.17199076e+00, -2.56295112e-01, -6.18992305e-01,\n",
       "        -1.05418607e+00,  6.00662549e-02],\n",
       "       [-1.80315140e+00,  2.03785098e+00, -2.49688460e+00,\n",
       "         1.07219875e+00,  8.55738689e-01],\n",
       "       [-1.77358023e+00,  1.05339867e+00, -2.39044031e+00,\n",
       "         1.17956908e+00,  1.04002156e+00],\n",
       "       [ 8.18943051e-01,  3.89841660e-01,  1.48989162e+00,\n",
       "        -6.19545661e-01, -6.36722949e-02],\n",
       "       [ 1.40978812e+00,  7.29833198e-01, -4.08006476e-01,\n",
       "        -7.64677732e-01,  1.97775770e-01],\n",
       "       [ 6.91775496e+00,  4.84984369e+00,  1.00183722e+00,\n",
       "         3.12964255e+00, -2.81030709e-01],\n",
       "       [ 7.33210319e-01, -9.48674314e-02, -6.57276693e-01,\n",
       "        -1.13823279e+00,  2.26795332e-01],\n",
       "       [-2.13600867e+00,  3.42733042e-01,  2.34842232e-01,\n",
       "        -3.17468942e-01, -6.24177148e-01],\n",
       "       [-2.97988525e+00,  2.16622419e-01, -2.04596211e-01,\n",
       "         8.39108028e-01, -2.28962081e-01],\n",
       "       [ 1.23082842e+00,  1.60174864e+00,  5.38719368e-01,\n",
       "        -1.08637235e+00,  9.29065968e-02],\n",
       "       [ 1.10860101e+00,  1.00931426e+00, -2.69979852e-01,\n",
       "        -1.08907107e+00,  2.51003216e-01],\n",
       "       [-3.41225513e+00,  5.61468514e-01, -2.48615098e-01,\n",
       "         1.07336391e+00, -1.29738557e+00],\n",
       "       [ 3.67954260e+00,  4.76548605e+00, -1.02131344e+00,\n",
       "        -5.01107355e-01,  1.61787440e+00],\n",
       "       [-1.95392747e+00,  1.38338452e+00,  7.31461600e-01,\n",
       "         1.95412788e-01,  3.05152270e-01],\n",
       "       [ 8.99775055e-01,  4.16479781e-01, -3.81759043e-01,\n",
       "        -1.07218433e+00, -1.01283465e-01],\n",
       "       [-3.80928795e-01,  1.01773629e-01, -2.71408481e+00,\n",
       "         7.71973760e-01,  1.61145061e+00],\n",
       "       [ 5.09539453e-01,  1.61658340e-01, -1.56585938e+00,\n",
       "        -4.18362236e-01,  1.98975362e+00],\n",
       "       [-9.44975538e-01,  5.29799562e-01,  1.85441886e+00,\n",
       "        -3.94165588e-01,  2.23507633e+00],\n",
       "       [ 1.02668389e+00, -2.57641566e-01, -1.10361044e+00,\n",
       "        -7.15644105e-01,  5.84799086e-01],\n",
       "       [-2.32870156e-01, -2.81027769e-01, -2.61356785e-01,\n",
       "        -1.07639425e+00, -5.00665963e-01],\n",
       "       [-2.92054051e+00,  8.93270294e-01, -2.58704356e-01,\n",
       "         6.33835111e-01, -7.02220537e-01],\n",
       "       [-1.83719774e+00, -1.61366899e+00,  1.00948944e+00,\n",
       "        -1.12321692e+00, -1.36545438e+00],\n",
       "       [-1.04337471e+00,  1.00284112e+00, -7.32535356e-01,\n",
       "         9.14828359e-02, -2.23448120e-01],\n",
       "       [-1.30708985e+00, -7.89048631e-01,  3.89811057e-01,\n",
       "        -7.53699430e-01,  3.05714307e-01],\n",
       "       [ 3.37915727e+00,  1.15702442e-01, -7.38130024e-01,\n",
       "         1.54303520e+00,  3.70061764e-01],\n",
       "       [ 1.81574666e+00, -1.58472369e+00, -2.61355002e-01,\n",
       "         7.35652166e-01,  5.51579052e-02],\n",
       "       [-3.45016774e+00,  9.69922452e-01, -5.81452133e-01,\n",
       "         1.12658091e+00, -1.25675551e+00],\n",
       "       [-4.91206615e+00, -9.44986846e-02,  6.11015827e+00,\n",
       "         2.41242140e+00,  5.34270040e+00],\n",
       "       [ 3.72119513e+00, -1.44725498e+00,  8.88029059e-01,\n",
       "         2.76433853e+00, -7.72031750e-01],\n",
       "       [ 1.12738665e+00,  4.91611136e-01,  2.13350091e+00,\n",
       "        -1.76492480e-01, -4.84166455e-01],\n",
       "       [-2.36034718e+00, -4.79399646e-01,  1.01355540e+00,\n",
       "        -4.21709938e-01, -1.09881160e+00],\n",
       "       [ 1.16378429e+00,  1.11527620e+00, -7.90119264e-01,\n",
       "        -5.45194408e-01,  5.49371896e-01],\n",
       "       [ 1.17846224e-01,  3.61031140e-01, -4.66723186e-02,\n",
       "        -9.46838629e-01,  1.30346711e-01],\n",
       "       [-2.06354519e-02, -1.08661741e+00,  4.04348774e-01,\n",
       "        -1.06962172e+00, -3.68764865e-01],\n",
       "       [-7.82745871e-01, -9.64980905e-02,  3.09094042e-01,\n",
       "        -1.08235769e+00, -7.26077206e-01],\n",
       "       [ 1.21782754e+00, -6.59168961e-01, -3.11232316e-01,\n",
       "        -6.95175223e-01, -5.89053204e-02],\n",
       "       [ 1.81406748e+00, -1.45088654e+00, -9.42487215e-01,\n",
       "         1.93791564e-01,  3.56755054e-01],\n",
       "       [ 4.24229634e+00, -1.95603674e-01,  3.64387511e+00,\n",
       "         2.38981058e+00, -2.84215778e+00],\n",
       "       [ 5.72792704e-01, -6.37384843e-01,  8.63507590e-02,\n",
       "        -1.02983930e+00, -3.14844117e-01],\n",
       "       [ 1.63761544e-01, -1.06667848e+00,  1.09051847e+00,\n",
       "        -6.44874077e-01, -1.94352913e-02],\n",
       "       [-1.67970356e+00, -1.00162862e+00, -1.46843591e+00,\n",
       "         6.73220742e-01,  1.12241919e-01],\n",
       "       [-5.62897632e-01, -2.21043960e-02, -6.38390549e-01,\n",
       "        -5.32651338e-01, -2.22970269e-01],\n",
       "       [ 8.55935813e-01, -1.83440759e-01,  1.90307225e+00,\n",
       "         2.02258954e-01, -2.44510451e-01],\n",
       "       [-1.91217031e+00,  9.15599347e-02, -5.06958976e-01,\n",
       "         2.76252708e-02, -8.03654997e-01],\n",
       "       [ 8.32420187e-01, -8.69325996e-01, -1.01769287e+00,\n",
       "        -5.03134235e-01,  9.92169199e-01],\n",
       "       [ 1.60259775e+00,  2.93912057e+00, -3.86691417e-01,\n",
       "        -1.40037119e+00, -5.17619362e-01],\n",
       "       [-3.38162479e+00, -2.36301516e-01, -1.36425356e+00,\n",
       "         2.58197644e+00,  1.07057672e+00],\n",
       "       [ 5.78337630e+00,  6.68209028e+00,  6.54420074e-01,\n",
       "         8.96376420e-02,  2.88432001e-02],\n",
       "       [ 2.02972370e+00,  1.05040745e+00, -8.54978429e-01,\n",
       "        -3.71447784e-01,  4.68075780e-01],\n",
       "       [ 2.27949171e+00,  1.95275226e-01, -8.01535444e-01,\n",
       "        -6.73604956e-02,  2.42751327e-01],\n",
       "       [-8.06209136e-01,  1.30349059e+00, -1.22922699e+00,\n",
       "        -4.23618753e-02,  7.73927495e-01],\n",
       "       [-1.19183736e+00, -5.56757164e-01, -7.17965953e-01,\n",
       "         5.50205983e-01, -3.68707366e-02],\n",
       "       [ 1.91806245e+00, -4.27468245e-01,  1.40741993e-01,\n",
       "        -4.72252955e-01, -1.28174893e-01],\n",
       "       [ 2.01919721e+00, -1.78438246e+00, -3.80316498e-01,\n",
       "         2.64389054e-01, -1.94743978e-01],\n",
       "       [-5.75572155e-01, -9.97551478e-01,  1.75224072e+00,\n",
       "        -1.37803039e+00,  4.65925156e-01],\n",
       "       [ 2.66234652e-02, -1.60640815e-02, -3.85463343e-02,\n",
       "        -1.22484232e+00, -2.67733822e-01],\n",
       "       [-2.31942387e+00, -7.69407328e-01,  7.32740073e-01,\n",
       "         4.92083043e-01,  2.52377553e-01],\n",
       "       [ 1.71674731e-01, -9.48076409e-02,  1.20264550e-02,\n",
       "        -3.76833834e-01,  1.10104124e-01],\n",
       "       [ 2.81832286e+00, -9.14480968e-01, -1.01807170e-01,\n",
       "         1.24227931e+00, -3.31556777e-01],\n",
       "       [ 4.08854413e+00, -4.29461909e-01, -2.61547109e-01,\n",
       "         2.30708671e+00, -1.93121999e-01],\n",
       "       [-1.24446436e+00, -2.89174316e-02, -1.48159392e-01,\n",
       "        -4.81045924e-01,  4.23064932e-01],\n",
       "       [-2.55404919e+00, -2.15027956e-01, -8.84904657e-02,\n",
       "         4.62226441e-01, -4.74936781e-01],\n",
       "       [ 9.26092707e-01,  8.28230655e-01,  3.42015609e-01,\n",
       "        -1.59519938e+00, -1.83813012e-01],\n",
       "       [-2.37197047e+00, -1.17751295e+00,  3.98922832e-01,\n",
       "         1.15804501e+00,  1.32078023e+00],\n",
       "       [-1.99764225e+00,  9.58361586e-01, -1.21803661e+00,\n",
       "         5.60916606e-01, -3.89474139e-01],\n",
       "       [-7.55008538e-01, -8.78938568e-02, -4.23287693e-01,\n",
       "        -8.54637175e-01, -2.84342350e-01],\n",
       "       [ 6.02231612e-01,  1.73435708e-01, -2.43158206e-01,\n",
       "        -1.11793721e+00,  1.36753775e-01],\n",
       "       [ 4.01437705e-01, -1.41198973e+00,  2.25685264e-01,\n",
       "        -5.63294782e-01, -7.99433645e-02],\n",
       "       [-4.63936165e-01,  1.29187347e+00,  5.99238344e-01,\n",
       "        -9.39834172e-01, -1.08344079e+00],\n",
       "       [-2.85483624e+00, -3.52082382e-01, -7.00859396e-01,\n",
       "         1.29627050e+00,  5.02614012e-02],\n",
       "       [ 3.02299800e-01, -9.75710669e-02, -9.06375587e-02,\n",
       "        -8.79675120e-01,  1.07264314e+00],\n",
       "       [ 2.42714125e+00,  1.15181307e+00,  1.82853811e+00,\n",
       "         2.76080223e-01, -4.66541544e-01],\n",
       "       [ 2.06798993e+00, -1.53531349e+00, -2.52772015e-01,\n",
       "         7.91524403e-01, -2.35300905e-01],\n",
       "       [ 2.64120583e+00, -2.99736446e+00, -1.72187786e+00,\n",
       "         2.82711027e+00,  8.18656083e-01],\n",
       "       [ 6.17312598e-01, -1.43047723e+00, -2.44436640e-01,\n",
       "        -3.58717593e-01,  1.13285645e-01],\n",
       "       [-8.53528944e-01, -6.54485112e-01,  6.19884667e-01,\n",
       "        -7.22182872e-01,  5.08212437e-01],\n",
       "       [-8.20631131e-01,  6.39570072e-01, -3.89923152e-01,\n",
       "        -7.06595241e-01, -3.95747681e-01],\n",
       "       [-5.51035564e-01, -1.23388618e+00,  3.10135006e+00,\n",
       "        -1.15311025e-01,  2.08258070e+00],\n",
       "       [ 4.98524385e-01,  1.39074432e+00, -2.38526113e-01,\n",
       "        -1.07409791e+00,  1.17608067e+00],\n",
       "       [-1.88745106e+00, -1.09453015e-01,  1.10975159e+00,\n",
       "         5.62567749e-02,  6.18365322e-01],\n",
       "       [-2.86406392e+00,  4.85997985e-01,  2.23166581e-01,\n",
       "         8.16364358e-01, -2.74067729e-01]])"
      ]
     },
     "execution_count": 28,
     "metadata": {},
     "output_type": "execute_result"
    }
   ],
   "source": [
    "principalComponents"
   ]
  },
  {
   "cell_type": "markdown",
   "id": "55befbd8",
   "metadata": {},
   "source": [
    "Какую долю дисперсии объясняет первая главная компонента среди полученных главных компонент"
   ]
  },
  {
   "cell_type": "code",
   "execution_count": 29,
   "id": "12155807",
   "metadata": {},
   "outputs": [
    {
     "data": {
      "text/plain": [
       "0.4595173978609596"
      ]
     },
     "execution_count": 29,
     "metadata": {},
     "output_type": "execute_result"
    }
   ],
   "source": [
    "pca.explained_variance_ratio_[0]"
   ]
  },
  {
   "cell_type": "markdown",
   "id": "77a1757c",
   "metadata": {},
   "source": [
    "При создании компонент с помощью PCA компоненты должны получиться независимыми, то есть мы не должны теперь наблюдать высоких коэффициентов корреляции. Проверим."
   ]
  },
  {
   "cell_type": "code",
   "execution_count": 5,
   "id": "c0eb38b3",
   "metadata": {},
   "outputs": [],
   "source": [
    "data_corr = pd.DataFrame(principalComponents)"
   ]
  },
  {
   "cell_type": "code",
   "execution_count": 6,
   "id": "2b20833a",
   "metadata": {},
   "outputs": [
    {
     "data": {
      "text/html": [
       "<div>\n",
       "<style scoped>\n",
       "    .dataframe tbody tr th:only-of-type {\n",
       "        vertical-align: middle;\n",
       "    }\n",
       "\n",
       "    .dataframe tbody tr th {\n",
       "        vertical-align: top;\n",
       "    }\n",
       "\n",
       "    .dataframe thead th {\n",
       "        text-align: right;\n",
       "    }\n",
       "</style>\n",
       "<table border=\"1\" class=\"dataframe\">\n",
       "  <thead>\n",
       "    <tr style=\"text-align: right;\">\n",
       "      <th></th>\n",
       "      <th>0</th>\n",
       "      <th>1</th>\n",
       "      <th>2</th>\n",
       "      <th>3</th>\n",
       "      <th>4</th>\n",
       "    </tr>\n",
       "  </thead>\n",
       "  <tbody>\n",
       "    <tr>\n",
       "      <th>0</th>\n",
       "      <td>-2.913025</td>\n",
       "      <td>0.095621</td>\n",
       "      <td>-0.718118</td>\n",
       "      <td>1.005255</td>\n",
       "      <td>-0.158310</td>\n",
       "    </tr>\n",
       "    <tr>\n",
       "      <th>1</th>\n",
       "      <td>0.429911</td>\n",
       "      <td>-0.588156</td>\n",
       "      <td>-0.333486</td>\n",
       "      <td>-1.161059</td>\n",
       "      <td>0.174677</td>\n",
       "    </tr>\n",
       "    <tr>\n",
       "      <th>2</th>\n",
       "      <td>-0.285225</td>\n",
       "      <td>-0.455174</td>\n",
       "      <td>1.221505</td>\n",
       "      <td>-0.868115</td>\n",
       "      <td>0.156475</td>\n",
       "    </tr>\n",
       "    <tr>\n",
       "      <th>3</th>\n",
       "      <td>-2.932423</td>\n",
       "      <td>1.695555</td>\n",
       "      <td>1.525044</td>\n",
       "      <td>0.839625</td>\n",
       "      <td>-0.273209</td>\n",
       "    </tr>\n",
       "    <tr>\n",
       "      <th>4</th>\n",
       "      <td>1.033576</td>\n",
       "      <td>0.136659</td>\n",
       "      <td>-0.225721</td>\n",
       "      <td>-0.847063</td>\n",
       "      <td>-0.193007</td>\n",
       "    </tr>\n",
       "    <tr>\n",
       "      <th>...</th>\n",
       "      <td>...</td>\n",
       "      <td>...</td>\n",
       "      <td>...</td>\n",
       "      <td>...</td>\n",
       "      <td>...</td>\n",
       "    </tr>\n",
       "    <tr>\n",
       "      <th>162</th>\n",
       "      <td>-0.820631</td>\n",
       "      <td>0.639570</td>\n",
       "      <td>-0.389923</td>\n",
       "      <td>-0.706595</td>\n",
       "      <td>-0.395748</td>\n",
       "    </tr>\n",
       "    <tr>\n",
       "      <th>163</th>\n",
       "      <td>-0.551036</td>\n",
       "      <td>-1.233886</td>\n",
       "      <td>3.101350</td>\n",
       "      <td>-0.115311</td>\n",
       "      <td>2.082581</td>\n",
       "    </tr>\n",
       "    <tr>\n",
       "      <th>164</th>\n",
       "      <td>0.498524</td>\n",
       "      <td>1.390744</td>\n",
       "      <td>-0.238526</td>\n",
       "      <td>-1.074098</td>\n",
       "      <td>1.176081</td>\n",
       "    </tr>\n",
       "    <tr>\n",
       "      <th>165</th>\n",
       "      <td>-1.887451</td>\n",
       "      <td>-0.109453</td>\n",
       "      <td>1.109752</td>\n",
       "      <td>0.056257</td>\n",
       "      <td>0.618365</td>\n",
       "    </tr>\n",
       "    <tr>\n",
       "      <th>166</th>\n",
       "      <td>-2.864064</td>\n",
       "      <td>0.485998</td>\n",
       "      <td>0.223167</td>\n",
       "      <td>0.816364</td>\n",
       "      <td>-0.274068</td>\n",
       "    </tr>\n",
       "  </tbody>\n",
       "</table>\n",
       "<p>167 rows × 5 columns</p>\n",
       "</div>"
      ],
      "text/plain": [
       "            0         1         2         3         4\n",
       "0   -2.913025  0.095621 -0.718118  1.005255 -0.158310\n",
       "1    0.429911 -0.588156 -0.333486 -1.161059  0.174677\n",
       "2   -0.285225 -0.455174  1.221505 -0.868115  0.156475\n",
       "3   -2.932423  1.695555  1.525044  0.839625 -0.273209\n",
       "4    1.033576  0.136659 -0.225721 -0.847063 -0.193007\n",
       "..        ...       ...       ...       ...       ...\n",
       "162 -0.820631  0.639570 -0.389923 -0.706595 -0.395748\n",
       "163 -0.551036 -1.233886  3.101350 -0.115311  2.082581\n",
       "164  0.498524  1.390744 -0.238526 -1.074098  1.176081\n",
       "165 -1.887451 -0.109453  1.109752  0.056257  0.618365\n",
       "166 -2.864064  0.485998  0.223167  0.816364 -0.274068\n",
       "\n",
       "[167 rows x 5 columns]"
      ]
     },
     "execution_count": 6,
     "metadata": {},
     "output_type": "execute_result"
    }
   ],
   "source": [
    "data_corr"
   ]
  },
  {
   "cell_type": "code",
   "execution_count": 8,
   "id": "85a83976",
   "metadata": {},
   "outputs": [
    {
     "data": {
      "image/png": "[encoded data removed]",
      "text/plain": [
       "<Figure size 640x480 with 3 Axes>"
      ]
     },
     "metadata": {},
     "output_type": "display_data"
    }
   ],
   "source": [
    "import matplotlib.pyplot as plt\n",
    "import seaborn as sns\n",
    "sns.heatmap(data_corr.corr(), annot=True, fmt='.2g', cmap='magma')\n",
    "plt.show()"
   ]
  },
  {
   "cell_type": "markdown",
   "id": "146cd2d6",
   "metadata": {},
   "source": [
    "Теперь у нас пять независимых признаков, объясняющих до 90% дисперсии."
   ]
  },
  {
   "cell_type": "code",
   "execution_count": 12,
   "id": "082a6a0b",
   "metadata": {},
   "outputs": [
    {
     "data": {
      "image/png": "[encoded data removed]",
      "text/plain": [
       "<Figure size 640x480 with 1 Axes>"
      ]
     },
     "metadata": {},
     "output_type": "display_data"
    }
   ],
   "source": [
    "from sklearn.cluster import KMeans\n",
    "from sklearn.metrics import silhouette_score\n",
    "\n",
    "def get_silhouette(cluster_num, X):\n",
    "    kmeans = KMeans(n_clusters=cluster_num, random_state=1)\n",
    "    kmeans.fit(X)\n",
    "    silhouette = silhouette_score(X, kmeans.labels_, metric='euclidean')\n",
    "    return silhouette\n",
    "\n",
    "silhouettes = []\n",
    "for i in range(2, 11):\n",
    "    silhouettes.append(get_silhouette(i, principalComponents))\n",
    "    \n",
    "plt.xlabel(\"cluster\", fontsize=12)\n",
    "plt.ylabel(\"silhouette\", fontsize=12)\n",
    "plt.plot([i for i in range(2, 11)], silhouettes, 'xb-')\n",
    "\n",
    "plt.show()"
   ]
  },
  {
   "cell_type": "code",
   "execution_count": 14,
   "id": "e0f26327",
   "metadata": {},
   "outputs": [],
   "source": [
    "# показатель детской смертности = CHILD_MORT\n",
    "# ВВП на душу населения = GDPP\n",
    "kmeans = KMeans(n_clusters=4, random_state=1)\n",
    "kmeans.fit(principalComponents)\n",
    "country_data['clust_num'] = kmeans.labels_"
   ]
  },
  {
   "cell_type": "code",
   "execution_count": 15,
   "id": "72c704c8",
   "metadata": {},
   "outputs": [
    {
     "data": {
      "text/html": [
       "<div>\n",
       "<style scoped>\n",
       "    .dataframe tbody tr th:only-of-type {\n",
       "        vertical-align: middle;\n",
       "    }\n",
       "\n",
       "    .dataframe tbody tr th {\n",
       "        vertical-align: top;\n",
       "    }\n",
       "\n",
       "    .dataframe thead th {\n",
       "        text-align: right;\n",
       "    }\n",
       "</style>\n",
       "<table border=\"1\" class=\"dataframe\">\n",
       "  <thead>\n",
       "    <tr style=\"text-align: right;\">\n",
       "      <th></th>\n",
       "      <th>child_mort</th>\n",
       "      <th>gdpp</th>\n",
       "      <th>clust_num</th>\n",
       "    </tr>\n",
       "  </thead>\n",
       "  <tbody>\n",
       "    <tr>\n",
       "      <th>0</th>\n",
       "      <td>90.2</td>\n",
       "      <td>553</td>\n",
       "      <td>1</td>\n",
       "    </tr>\n",
       "    <tr>\n",
       "      <th>1</th>\n",
       "      <td>16.6</td>\n",
       "      <td>4090</td>\n",
       "      <td>0</td>\n",
       "    </tr>\n",
       "    <tr>\n",
       "      <th>2</th>\n",
       "      <td>27.3</td>\n",
       "      <td>4460</td>\n",
       "      <td>0</td>\n",
       "    </tr>\n",
       "    <tr>\n",
       "      <th>3</th>\n",
       "      <td>119.0</td>\n",
       "      <td>3530</td>\n",
       "      <td>1</td>\n",
       "    </tr>\n",
       "    <tr>\n",
       "      <th>4</th>\n",
       "      <td>10.3</td>\n",
       "      <td>12200</td>\n",
       "      <td>0</td>\n",
       "    </tr>\n",
       "    <tr>\n",
       "      <th>...</th>\n",
       "      <td>...</td>\n",
       "      <td>...</td>\n",
       "      <td>...</td>\n",
       "    </tr>\n",
       "    <tr>\n",
       "      <th>162</th>\n",
       "      <td>29.2</td>\n",
       "      <td>2970</td>\n",
       "      <td>0</td>\n",
       "    </tr>\n",
       "    <tr>\n",
       "      <th>163</th>\n",
       "      <td>17.1</td>\n",
       "      <td>13500</td>\n",
       "      <td>0</td>\n",
       "    </tr>\n",
       "    <tr>\n",
       "      <th>164</th>\n",
       "      <td>23.3</td>\n",
       "      <td>1310</td>\n",
       "      <td>0</td>\n",
       "    </tr>\n",
       "    <tr>\n",
       "      <th>165</th>\n",
       "      <td>56.3</td>\n",
       "      <td>1310</td>\n",
       "      <td>1</td>\n",
       "    </tr>\n",
       "    <tr>\n",
       "      <th>166</th>\n",
       "      <td>83.1</td>\n",
       "      <td>1460</td>\n",
       "      <td>1</td>\n",
       "    </tr>\n",
       "  </tbody>\n",
       "</table>\n",
       "<p>167 rows × 3 columns</p>\n",
       "</div>"
      ],
      "text/plain": [
       "     child_mort   gdpp  clust_num\n",
       "0          90.2    553          1\n",
       "1          16.6   4090          0\n",
       "2          27.3   4460          0\n",
       "3         119.0   3530          1\n",
       "4          10.3  12200          0\n",
       "..          ...    ...        ...\n",
       "162        29.2   2970          0\n",
       "163        17.1  13500          0\n",
       "164        23.3   1310          0\n",
       "165        56.3   1310          1\n",
       "166        83.1   1460          1\n",
       "\n",
       "[167 rows x 3 columns]"
      ]
     },
     "execution_count": 15,
     "metadata": {},
     "output_type": "execute_result"
    }
   ],
   "source": [
    "data_to_anal = country_data[['child_mort', 'gdpp', 'clust_num']]\n",
    "data_to_anal"
   ]
  },
  {
   "cell_type": "code",
   "execution_count": 16,
   "id": "cf084145",
   "metadata": {},
   "outputs": [
    {
     "data": {
      "text/html": [
       "<div>\n",
       "<style scoped>\n",
       "    .dataframe tbody tr th:only-of-type {\n",
       "        vertical-align: middle;\n",
       "    }\n",
       "\n",
       "    .dataframe tbody tr th {\n",
       "        vertical-align: top;\n",
       "    }\n",
       "\n",
       "    .dataframe thead th {\n",
       "        text-align: right;\n",
       "    }\n",
       "</style>\n",
       "<table border=\"1\" class=\"dataframe\">\n",
       "  <thead>\n",
       "    <tr style=\"text-align: right;\">\n",
       "      <th></th>\n",
       "      <th>child_mort</th>\n",
       "      <th>gdpp</th>\n",
       "    </tr>\n",
       "    <tr>\n",
       "      <th>clust_num</th>\n",
       "      <th></th>\n",
       "      <th></th>\n",
       "    </tr>\n",
       "  </thead>\n",
       "  <tbody>\n",
       "    <tr>\n",
       "      <th>0</th>\n",
       "      <td>21.690588</td>\n",
       "      <td>6519.552941</td>\n",
       "    </tr>\n",
       "    <tr>\n",
       "      <th>1</th>\n",
       "      <td>92.961702</td>\n",
       "      <td>1922.382979</td>\n",
       "    </tr>\n",
       "    <tr>\n",
       "      <th>2</th>\n",
       "      <td>4.133333</td>\n",
       "      <td>57566.666667</td>\n",
       "    </tr>\n",
       "    <tr>\n",
       "      <th>3</th>\n",
       "      <td>5.181250</td>\n",
       "      <td>42118.750000</td>\n",
       "    </tr>\n",
       "  </tbody>\n",
       "</table>\n",
       "</div>"
      ],
      "text/plain": [
       "           child_mort          gdpp\n",
       "clust_num                          \n",
       "0           21.690588   6519.552941\n",
       "1           92.961702   1922.382979\n",
       "2            4.133333  57566.666667\n",
       "3            5.181250  42118.750000"
      ]
     },
     "execution_count": 16,
     "metadata": {},
     "output_type": "execute_result"
    }
   ],
   "source": [
    "data_to_anal.groupby(by = ['clust_num']).mean()"
   ]
  },
  {
   "cell_type": "code",
   "execution_count": 22,
   "id": "4b99da2e",
   "metadata": {},
   "outputs": [
    {
     "data": {
      "text/html": [
       "<div>\n",
       "<style scoped>\n",
       "    .dataframe tbody tr th:only-of-type {\n",
       "        vertical-align: middle;\n",
       "    }\n",
       "\n",
       "    .dataframe tbody tr th {\n",
       "        vertical-align: top;\n",
       "    }\n",
       "\n",
       "    .dataframe thead th {\n",
       "        text-align: right;\n",
       "    }\n",
       "</style>\n",
       "<table border=\"1\" class=\"dataframe\">\n",
       "  <thead>\n",
       "    <tr style=\"text-align: right;\">\n",
       "      <th></th>\n",
       "      <th>country</th>\n",
       "      <th>life_expec</th>\n",
       "    </tr>\n",
       "  </thead>\n",
       "  <tbody>\n",
       "    <tr>\n",
       "      <th>66</th>\n",
       "      <td>Haiti</td>\n",
       "      <td>32.1</td>\n",
       "    </tr>\n",
       "    <tr>\n",
       "      <th>87</th>\n",
       "      <td>Lesotho</td>\n",
       "      <td>46.5</td>\n",
       "    </tr>\n",
       "    <tr>\n",
       "      <th>31</th>\n",
       "      <td>Central African Republic</td>\n",
       "      <td>47.5</td>\n",
       "    </tr>\n",
       "    <tr>\n",
       "      <th>166</th>\n",
       "      <td>Zambia</td>\n",
       "      <td>52.0</td>\n",
       "    </tr>\n",
       "    <tr>\n",
       "      <th>94</th>\n",
       "      <td>Malawi</td>\n",
       "      <td>53.1</td>\n",
       "    </tr>\n",
       "    <tr>\n",
       "      <th>137</th>\n",
       "      <td>South Africa</td>\n",
       "      <td>54.3</td>\n",
       "    </tr>\n",
       "    <tr>\n",
       "      <th>106</th>\n",
       "      <td>Mozambique</td>\n",
       "      <td>54.5</td>\n",
       "    </tr>\n",
       "    <tr>\n",
       "      <th>132</th>\n",
       "      <td>Sierra Leone</td>\n",
       "      <td>55.0</td>\n",
       "    </tr>\n",
       "    <tr>\n",
       "      <th>64</th>\n",
       "      <td>Guinea-Bissau</td>\n",
       "      <td>55.6</td>\n",
       "    </tr>\n",
       "    <tr>\n",
       "      <th>0</th>\n",
       "      <td>Afghanistan</td>\n",
       "      <td>56.2</td>\n",
       "    </tr>\n",
       "    <tr>\n",
       "      <th>40</th>\n",
       "      <td>Cote d'Ivoire</td>\n",
       "      <td>56.3</td>\n",
       "    </tr>\n",
       "    <tr>\n",
       "      <th>32</th>\n",
       "      <td>Chad</td>\n",
       "      <td>56.5</td>\n",
       "    </tr>\n",
       "    <tr>\n",
       "      <th>155</th>\n",
       "      <td>Uganda</td>\n",
       "      <td>56.8</td>\n",
       "    </tr>\n",
       "    <tr>\n",
       "      <th>21</th>\n",
       "      <td>Botswana</td>\n",
       "      <td>57.1</td>\n",
       "    </tr>\n",
       "    <tr>\n",
       "      <th>28</th>\n",
       "      <td>Cameroon</td>\n",
       "      <td>57.3</td>\n",
       "    </tr>\n",
       "    <tr>\n",
       "      <th>37</th>\n",
       "      <td>Congo, Dem. Rep.</td>\n",
       "      <td>57.5</td>\n",
       "    </tr>\n",
       "    <tr>\n",
       "      <th>26</th>\n",
       "      <td>Burundi</td>\n",
       "      <td>57.7</td>\n",
       "    </tr>\n",
       "    <tr>\n",
       "      <th>25</th>\n",
       "      <td>Burkina Faso</td>\n",
       "      <td>57.9</td>\n",
       "    </tr>\n",
       "    <tr>\n",
       "      <th>63</th>\n",
       "      <td>Guinea</td>\n",
       "      <td>58.0</td>\n",
       "    </tr>\n",
       "    <tr>\n",
       "      <th>108</th>\n",
       "      <td>Namibia</td>\n",
       "      <td>58.6</td>\n",
       "    </tr>\n",
       "    <tr>\n",
       "      <th>150</th>\n",
       "      <td>Togo</td>\n",
       "      <td>58.7</td>\n",
       "    </tr>\n",
       "    <tr>\n",
       "      <th>112</th>\n",
       "      <td>Niger</td>\n",
       "      <td>58.8</td>\n",
       "    </tr>\n",
       "    <tr>\n",
       "      <th>147</th>\n",
       "      <td>Tanzania</td>\n",
       "      <td>59.3</td>\n",
       "    </tr>\n",
       "    <tr>\n",
       "      <th>97</th>\n",
       "      <td>Mali</td>\n",
       "      <td>59.5</td>\n",
       "    </tr>\n",
       "    <tr>\n",
       "      <th>3</th>\n",
       "      <td>Angola</td>\n",
       "      <td>60.1</td>\n",
       "    </tr>\n",
       "    <tr>\n",
       "      <th>38</th>\n",
       "      <td>Congo, Rep.</td>\n",
       "      <td>60.4</td>\n",
       "    </tr>\n",
       "    <tr>\n",
       "      <th>113</th>\n",
       "      <td>Nigeria</td>\n",
       "      <td>60.5</td>\n",
       "    </tr>\n",
       "    <tr>\n",
       "      <th>81</th>\n",
       "      <td>Kiribati</td>\n",
       "      <td>60.7</td>\n",
       "    </tr>\n",
       "    <tr>\n",
       "      <th>88</th>\n",
       "      <td>Liberia</td>\n",
       "      <td>60.8</td>\n",
       "    </tr>\n",
       "    <tr>\n",
       "      <th>93</th>\n",
       "      <td>Madagascar</td>\n",
       "      <td>60.8</td>\n",
       "    </tr>\n",
       "    <tr>\n",
       "      <th>49</th>\n",
       "      <td>Equatorial Guinea</td>\n",
       "      <td>60.9</td>\n",
       "    </tr>\n",
       "    <tr>\n",
       "      <th>50</th>\n",
       "      <td>Eritrea</td>\n",
       "      <td>61.7</td>\n",
       "    </tr>\n",
       "    <tr>\n",
       "      <th>17</th>\n",
       "      <td>Benin</td>\n",
       "      <td>61.8</td>\n",
       "    </tr>\n",
       "    <tr>\n",
       "      <th>59</th>\n",
       "      <td>Ghana</td>\n",
       "      <td>62.2</td>\n",
       "    </tr>\n",
       "    <tr>\n",
       "      <th>80</th>\n",
       "      <td>Kenya</td>\n",
       "      <td>62.8</td>\n",
       "    </tr>\n",
       "    <tr>\n",
       "      <th>55</th>\n",
       "      <td>Gabon</td>\n",
       "      <td>62.9</td>\n",
       "    </tr>\n",
       "    <tr>\n",
       "      <th>84</th>\n",
       "      <td>Lao</td>\n",
       "      <td>63.8</td>\n",
       "    </tr>\n",
       "    <tr>\n",
       "      <th>129</th>\n",
       "      <td>Senegal</td>\n",
       "      <td>64.0</td>\n",
       "    </tr>\n",
       "    <tr>\n",
       "      <th>126</th>\n",
       "      <td>Rwanda</td>\n",
       "      <td>64.6</td>\n",
       "    </tr>\n",
       "    <tr>\n",
       "      <th>116</th>\n",
       "      <td>Pakistan</td>\n",
       "      <td>65.3</td>\n",
       "    </tr>\n",
       "    <tr>\n",
       "      <th>56</th>\n",
       "      <td>Gambia</td>\n",
       "      <td>65.5</td>\n",
       "    </tr>\n",
       "    <tr>\n",
       "      <th>36</th>\n",
       "      <td>Comoros</td>\n",
       "      <td>65.9</td>\n",
       "    </tr>\n",
       "    <tr>\n",
       "      <th>142</th>\n",
       "      <td>Sudan</td>\n",
       "      <td>66.3</td>\n",
       "    </tr>\n",
       "    <tr>\n",
       "      <th>72</th>\n",
       "      <td>Iraq</td>\n",
       "      <td>67.2</td>\n",
       "    </tr>\n",
       "    <tr>\n",
       "      <th>165</th>\n",
       "      <td>Yemen</td>\n",
       "      <td>67.5</td>\n",
       "    </tr>\n",
       "    <tr>\n",
       "      <th>99</th>\n",
       "      <td>Mauritania</td>\n",
       "      <td>68.2</td>\n",
       "    </tr>\n",
       "    <tr>\n",
       "      <th>149</th>\n",
       "      <td>Timor-Leste</td>\n",
       "      <td>71.1</td>\n",
       "    </tr>\n",
       "  </tbody>\n",
       "</table>\n",
       "</div>"
      ],
      "text/plain": [
       "                      country  life_expec\n",
       "66                      Haiti        32.1\n",
       "87                    Lesotho        46.5\n",
       "31   Central African Republic        47.5\n",
       "166                    Zambia        52.0\n",
       "94                     Malawi        53.1\n",
       "137              South Africa        54.3\n",
       "106                Mozambique        54.5\n",
       "132              Sierra Leone        55.0\n",
       "64              Guinea-Bissau        55.6\n",
       "0                 Afghanistan        56.2\n",
       "40              Cote d'Ivoire        56.3\n",
       "32                       Chad        56.5\n",
       "155                    Uganda        56.8\n",
       "21                   Botswana        57.1\n",
       "28                   Cameroon        57.3\n",
       "37           Congo, Dem. Rep.        57.5\n",
       "26                    Burundi        57.7\n",
       "25               Burkina Faso        57.9\n",
       "63                     Guinea        58.0\n",
       "108                   Namibia        58.6\n",
       "150                      Togo        58.7\n",
       "112                     Niger        58.8\n",
       "147                  Tanzania        59.3\n",
       "97                       Mali        59.5\n",
       "3                      Angola        60.1\n",
       "38                Congo, Rep.        60.4\n",
       "113                   Nigeria        60.5\n",
       "81                   Kiribati        60.7\n",
       "88                    Liberia        60.8\n",
       "93                 Madagascar        60.8\n",
       "49          Equatorial Guinea        60.9\n",
       "50                    Eritrea        61.7\n",
       "17                      Benin        61.8\n",
       "59                      Ghana        62.2\n",
       "80                      Kenya        62.8\n",
       "55                      Gabon        62.9\n",
       "84                        Lao        63.8\n",
       "129                   Senegal        64.0\n",
       "126                    Rwanda        64.6\n",
       "116                  Pakistan        65.3\n",
       "56                     Gambia        65.5\n",
       "36                    Comoros        65.9\n",
       "142                     Sudan        66.3\n",
       "72                       Iraq        67.2\n",
       "165                     Yemen        67.5\n",
       "99                 Mauritania        68.2\n",
       "149               Timor-Leste        71.1"
      ]
     },
     "execution_count": 22,
     "metadata": {},
     "output_type": "execute_result"
    }
   ],
   "source": [
    "# продолжительность жизни = LIFE_EXPEC\n",
    "country_data[country_data['clust_num'] == 1][['country', 'life_expec']].sort_values(by = ['life_expec'])"
   ]
  }
 ],
 "metadata": {
  "kernelspec": {
   "display_name": "Python 3",
   "language": "python",
   "name": "python3"
  },
  "language_info": {
   "codemirror_mode": {
    "name": "ipython",
    "version": 3
   },
   "file_extension": ".py",
   "mimetype": "text/x-python",
   "name": "python",
   "nbconvert_exporter": "python",
   "pygments_lexer": "ipython3",
   "version": "3.7.3"
  }
 },
 "nbformat": 4,
 "nbformat_minor": 5
}
